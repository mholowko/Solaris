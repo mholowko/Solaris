{
 "cells": [
  {
   "cell_type": "markdown",
   "metadata": {},
   "source": [
    "# Batch UCB\n",
    "- use your favorite kernel to generate distance matrix\n",
    "- clustering (k-metriod)\n",
    "- large clustering numbers: reject clustering for which the max UCB is smaller other clustering's LCB; then choose sequences in the remaining clusterings by UCB.\n",
    "- small clustering numbers, e.g. 90, choose one sequence from each clustering by UCB."
   ]
  },
  {
   "cell_type": "code",
   "execution_count": 1,
   "metadata": {
    "ExecuteTime": {
     "end_time": "2020-07-23T12:41:16.998079Z",
     "start_time": "2020-07-23T12:41:16.204304Z"
    }
   },
   "outputs": [
    {
     "name": "stderr",
     "output_type": "stream",
     "text": [
      "/home/admin-u6015325/anaconda3/lib/python3.7/site-packages/statsmodels/tools/_testing.py:19: FutureWarning: pandas.util.testing is deprecated. Use the functions in the public API at pandas.testing instead.\n",
      "  import pandas.util.testing as tm\n"
     ]
    }
   ],
   "source": [
    "# direct to proper path\n",
    "import os\n",
    "import sys\n",
    "module_path = os.path.abspath(os.path.join('../..'))\n",
    "if module_path not in sys.path:\n",
    "    sys.path.append(module_path)\n",
    "    \n",
    "import numpy as np\n",
    "import pandas as pd\n",
    "import matplotlib.pyplot as plt\n",
    "import seaborn as sns\n",
    "import itertools\n",
    "from collections import defaultdict\n",
    "import math\n",
    "import json\n",
    "\n",
    "from sklearn.gaussian_process import GaussianProcessRegressor\n",
    "from sklearn.gaussian_process.kernels import PairwiseKernel, DotProduct, RBF \n",
    "from sklearn.kernel_ridge import KernelRidge\n",
    "from sklearn.metrics import r2_score, mean_squared_error, make_scorer\n",
    "from sklearn.model_selection import KFold\n",
    "from sklearn_extra.cluster import KMedoids\n",
    "\n",
    "from codes.embedding import Embedding\n",
    "from codes.environment import Rewards_env\n",
    "from codes.ucb import GPUCB, Random\n",
    "from codes.evaluations import evaluate, plot_eva\n",
    "from codes.regression import *\n",
    "from codes.kernels_for_GPK import Spectrum_Kernel, Sum_Spectrum_Kernel, WeightedDegree_Kernel\n",
    "from codes.batch_ucb import *\n",
    "\n",
    "from ipywidgets import IntProgress\n",
    "from IPython.display import display\n",
    "import warnings\n",
    "%matplotlib inline"
   ]
  },
  {
   "cell_type": "code",
   "execution_count": 2,
   "metadata": {
    "ExecuteTime": {
     "end_time": "2020-07-23T12:41:17.179887Z",
     "start_time": "2020-07-23T12:41:17.069786Z"
    }
   },
   "outputs": [
    {
     "data": {
      "text/html": [
       "<div>\n",
       "<style scoped>\n",
       "    .dataframe tbody tr th:only-of-type {\n",
       "        vertical-align: middle;\n",
       "    }\n",
       "\n",
       "    .dataframe tbody tr th {\n",
       "        vertical-align: top;\n",
       "    }\n",
       "\n",
       "    .dataframe thead th {\n",
       "        text-align: right;\n",
       "    }\n",
       "</style>\n",
       "<table border=\"1\" class=\"dataframe\">\n",
       "  <thead>\n",
       "    <tr style=\"text-align: right;\">\n",
       "      <th></th>\n",
       "      <th>Unnamed: 0</th>\n",
       "      <th>Name</th>\n",
       "      <th>Group</th>\n",
       "      <th>RBS</th>\n",
       "      <th>RBS6</th>\n",
       "      <th>Rep1</th>\n",
       "      <th>Rep2</th>\n",
       "      <th>Rep3</th>\n",
       "      <th>Rep4</th>\n",
       "      <th>Rep5</th>\n",
       "      <th>AVERAGE</th>\n",
       "      <th>STD</th>\n",
       "    </tr>\n",
       "  </thead>\n",
       "  <tbody>\n",
       "    <tr>\n",
       "      <th>0</th>\n",
       "      <td>0</td>\n",
       "      <td>RBS_1by1_0</td>\n",
       "      <td>reference</td>\n",
       "      <td>TTTAAGAAGGAGATATACAT</td>\n",
       "      <td>AGGAGA</td>\n",
       "      <td>1.616261</td>\n",
       "      <td>1.814182</td>\n",
       "      <td>1.760954</td>\n",
       "      <td>2.186207</td>\n",
       "      <td>2.028863</td>\n",
       "      <td>1.881293</td>\n",
       "      <td>0.225819</td>\n",
       "    </tr>\n",
       "    <tr>\n",
       "      <th>1</th>\n",
       "      <td>1</td>\n",
       "      <td>RBS_1by1_1</td>\n",
       "      <td>bps_noncore</td>\n",
       "      <td>CTTAAGAAGGAGATATACAT</td>\n",
       "      <td>AGGAGA</td>\n",
       "      <td>1.166174</td>\n",
       "      <td>1.337018</td>\n",
       "      <td>1.417248</td>\n",
       "      <td>1.493800</td>\n",
       "      <td>1.713526</td>\n",
       "      <td>1.425553</td>\n",
       "      <td>0.201725</td>\n",
       "    </tr>\n",
       "    <tr>\n",
       "      <th>2</th>\n",
       "      <td>2</td>\n",
       "      <td>RBS_1by1_2</td>\n",
       "      <td>bps_noncore</td>\n",
       "      <td>GTTAAGAAGGAGATATACAT</td>\n",
       "      <td>AGGAGA</td>\n",
       "      <td>0.604551</td>\n",
       "      <td>0.751384</td>\n",
       "      <td>0.851987</td>\n",
       "      <td>0.514929</td>\n",
       "      <td>0.577299</td>\n",
       "      <td>0.660030</td>\n",
       "      <td>0.137994</td>\n",
       "    </tr>\n",
       "    <tr>\n",
       "      <th>3</th>\n",
       "      <td>3</td>\n",
       "      <td>RBS_1by1_3</td>\n",
       "      <td>bps_noncore</td>\n",
       "      <td>ATTAAGAAGGAGATATACAT</td>\n",
       "      <td>AGGAGA</td>\n",
       "      <td>1.221264</td>\n",
       "      <td>1.466278</td>\n",
       "      <td>1.270212</td>\n",
       "      <td>1.341040</td>\n",
       "      <td>1.395030</td>\n",
       "      <td>1.338765</td>\n",
       "      <td>0.097386</td>\n",
       "    </tr>\n",
       "    <tr>\n",
       "      <th>4</th>\n",
       "      <td>4</td>\n",
       "      <td>RBS_1by1_4</td>\n",
       "      <td>bps_noncore</td>\n",
       "      <td>TCTAAGAAGGAGATATACAT</td>\n",
       "      <td>AGGAGA</td>\n",
       "      <td>1.160566</td>\n",
       "      <td>1.579025</td>\n",
       "      <td>1.171829</td>\n",
       "      <td>1.590670</td>\n",
       "      <td>1.411255</td>\n",
       "      <td>1.382669</td>\n",
       "      <td>0.210012</td>\n",
       "    </tr>\n",
       "  </tbody>\n",
       "</table>\n",
       "</div>"
      ],
      "text/plain": [
       "   Unnamed: 0        Name        Group                   RBS    RBS6  \\\n",
       "0           0  RBS_1by1_0    reference  TTTAAGAAGGAGATATACAT  AGGAGA   \n",
       "1           1  RBS_1by1_1  bps_noncore  CTTAAGAAGGAGATATACAT  AGGAGA   \n",
       "2           2  RBS_1by1_2  bps_noncore  GTTAAGAAGGAGATATACAT  AGGAGA   \n",
       "3           3  RBS_1by1_3  bps_noncore  ATTAAGAAGGAGATATACAT  AGGAGA   \n",
       "4           4  RBS_1by1_4  bps_noncore  TCTAAGAAGGAGATATACAT  AGGAGA   \n",
       "\n",
       "       Rep1      Rep2      Rep3      Rep4      Rep5   AVERAGE       STD  \n",
       "0  1.616261  1.814182  1.760954  2.186207  2.028863  1.881293  0.225819  \n",
       "1  1.166174  1.337018  1.417248  1.493800  1.713526  1.425553  0.201725  \n",
       "2  0.604551  0.751384  0.851987  0.514929  0.577299  0.660030  0.137994  \n",
       "3  1.221264  1.466278  1.270212  1.341040  1.395030  1.338765  0.097386  \n",
       "4  1.160566  1.579025  1.171829  1.590670  1.411255  1.382669  0.210012  "
      ]
     },
     "execution_count": 2,
     "metadata": {},
     "output_type": "execute_result"
    }
   ],
   "source": [
    "Path = '../../data/firstRound_Microplate_normTrue_formatSeq_logTrue.csv'\n",
    "\n",
    "known_df = pd.read_csv(Path)\n",
    "known_df.head()"
   ]
  },
  {
   "cell_type": "code",
   "execution_count": 3,
   "metadata": {},
   "outputs": [],
   "source": [
    "top_n = Top_n_ucb(known_df, kernel_name='WD_Kernel_Shift', \n",
    "                normalise_kernel_flag='True', embedding='label', alpha=0.1,\n",
    "                eva_metric=mean_squared_error, l_list=[6], s=1,\n",
    "                rec_size=90, beta=1)"
   ]
  },
  {
   "cell_type": "code",
   "execution_count": null,
   "metadata": {},
   "outputs": [
    {
     "name": "stderr",
     "output_type": "stream",
     "text": [
      "/home/admin-u6015325/git/SynbioML/codes/regression.py:116: SettingWithCopyWarning: \n",
      "A value is trying to be set on a copy of a slice from a DataFrame.\n",
      "Try using .loc[row_indexer,col_indexer] = value instead\n",
      "\n",
      "See the caveats in the documentation: https://pandas.pydata.org/pandas-docs/stable/user_guide/indexing.html#returning-a-view-versus-a-copy\n",
      "  self.train_df['label'] = self.train_df['AVERAGE']\n"
     ]
    },
    {
     "name": "stdout",
     "output_type": "stream",
     "text": [
      "X train shape:  (176, 20)\n",
      "X test shape:  (3961, 20)\n",
      "create kernel instance\n"
     ]
    }
   ],
   "source": [
    "top_n_rec_df = top_n.run_experiment()"
   ]
  },
  {
   "cell_type": "code",
   "execution_count": null,
   "metadata": {},
   "outputs": [],
   "source": [
    "gpbucb = GP_BUCB(known_df, kernel_name='WD_Kernel_Shift', \n",
    "                normalise_kernel_flag='True', embedding='label', alpha=0.1,\n",
    "                eva_metric=mean_squared_error, l_list=[6], s=1,\n",
    "                rec_size=90, beta=1)"
   ]
  },
  {
   "cell_type": "code",
   "execution_count": null,
   "metadata": {},
   "outputs": [],
   "source": [
    "gpbucb_rec_df = gpbucb.run_experiment()"
   ]
  },
  {
   "cell_type": "markdown",
   "metadata": {},
   "source": [
    "## Create test dataset"
   ]
  },
  {
   "cell_type": "code",
   "execution_count": null,
   "metadata": {},
   "outputs": [],
   "source": [
    "# create all combos\n",
    "\n",
    "combos = [] # 20-base\n",
    "combos_6 = [] # 6-base\n",
    "labels = []\n",
    "char_sets = ['A', 'G', 'C', 'T']\n",
    "design_len = 6\n",
    "\n",
    "# to be changed\n",
    "pre_design = 'TTTAAGA'\n",
    "pos_design = 'TATACAT'\n",
    "\n",
    "for combo in itertools.product(char_sets, repeat= design_len):\n",
    "    \n",
    "    combo = pre_design + ''.join(combo) + pos_design\n",
    "    combos_6.append(''.join(combo))\n",
    "    combos.append(combo)\n",
    "    labels.append(math.inf)\n",
    "    \n",
    "assert len(combos) == len(char_sets) ** design_len\n",
    "# len(combos)"
   ]
  },
  {
   "cell_type": "code",
   "execution_count": null,
   "metadata": {},
   "outputs": [],
   "source": [
    "df_design = pd.DataFrame()\n",
    "df_design['RBS'] = list(set(combos) - frr_rbs_set)\n",
    "#df['AVERAGE'] = NaN"
   ]
  },
  {
   "cell_type": "code",
   "execution_count": null,
   "metadata": {},
   "outputs": [],
   "source": [
    "df_design"
   ]
  },
  {
   "cell_type": "code",
   "execution_count": null,
   "metadata": {},
   "outputs": [],
   "source": [
    "df_design['train_test'] = 'Test'"
   ]
  },
  {
   "cell_type": "code",
   "execution_count": null,
   "metadata": {},
   "outputs": [],
   "source": [
    "# put first round result (frr) and design space (design) together\n",
    "# [:150] frr; [150:] design\n",
    "\n",
    "df_train_test = pd.concat([df_frr, df_design], sort = True).reset_index()"
   ]
  },
  {
   "cell_type": "code",
   "execution_count": null,
   "metadata": {},
   "outputs": [],
   "source": [
    "df_train_test.loc[(df_train_test['train_test'] == 'Train')]"
   ]
  },
  {
   "cell_type": "code",
   "execution_count": null,
   "metadata": {},
   "outputs": [],
   "source": [
    "df_train_test.to_csv('../../data/known_design.csv')"
   ]
  },
  {
   "cell_type": "code",
   "execution_count": null,
   "metadata": {},
   "outputs": [],
   "source": [
    "# confirm test part\n",
    "\n",
    "df_train_test.loc[range(150,len(df_train_test))]"
   ]
  },
  {
   "cell_type": "markdown",
   "metadata": {},
   "source": [
    "## K medoids "
   ]
  },
  {
   "cell_type": "code",
   "execution_count": null,
   "metadata": {
    "ExecuteTime": {
     "end_time": "2020-07-23T12:41:17.001210Z",
     "start_time": "2020-07-23T12:41:16.999355Z"
    }
   },
   "outputs": [],
   "source": [
    "kernel_dict = {\n",
    "    'Spectrum_Kernel': Spectrum_Kernel,\n",
    "    'WD_Kernel': WeightedDegree_Kernel,\n",
    "    'Sum_Spectrum_Kernel': Sum_Spectrum_Kernel,\n",
    "    'Mixed_Spectrum_Kernel': Mixed_Spectrum_Kernel,\n",
    "    'WD_Kernel_Shift': WD_Shift_Kernel\n",
    "    \n",
    "}\n",
    "\n",
    "log_flag = True"
   ]
  },
  {
   "cell_type": "code",
   "execution_count": null,
   "metadata": {
    "ExecuteTime": {
     "end_time": "2020-07-23T12:41:17.068616Z",
     "start_time": "2020-07-23T12:41:17.002379Z"
    }
   },
   "outputs": [],
   "source": [
    "# setting\n",
    "\n",
    "embedding = 'label'\n",
    "eva_on_ave_flag = True # true label is the sample mean instead of individual samples, since the prediction is the posterior mean\n",
    "eva_metric = mean_squared_error # mean square error returns a more stable optimal hyparameter choice than r2 score\n",
    "\n",
    "kernel = 'WD_Kernel_Shift'\n",
    "alpha = 0.5\n",
    "l = [6]\n",
    "\n",
    "weight_flag = False\n",
    "padding_flag = False\n",
    "gap_flag = False\n",
    "plot_format = 'plt'"
   ]
  },
  {
   "cell_type": "code",
   "execution_count": null,
   "metadata": {},
   "outputs": [],
   "source": [
    "distance = kernel_dict[kernel](l_list=l).distance(np.asarray(df_train_test['RBS']))"
   ]
  },
  {
   "cell_type": "code",
   "execution_count": null,
   "metadata": {},
   "outputs": [],
   "source": [
    "distance.shape"
   ]
  },
  {
   "cell_type": "code",
   "execution_count": null,
   "metadata": {},
   "outputs": [],
   "source": [
    "kmedoids = KMedoids(n_clusters=90, metric = 'precomputed', init='k-medoids++').fit(distance)\n",
    "y_km_spec = kmedoids.labels_"
   ]
  },
  {
   "cell_type": "code",
   "execution_count": null,
   "metadata": {},
   "outputs": [],
   "source": [
    "df_train_test['cluster'] = y_km_spec"
   ]
  },
  {
   "cell_type": "code",
   "execution_count": null,
   "metadata": {},
   "outputs": [],
   "source": [
    "df_train_test"
   ]
  },
  {
   "cell_type": "markdown",
   "metadata": {},
   "source": [
    "## Prediction"
   ]
  },
  {
   "cell_type": "code",
   "execution_count": null,
   "metadata": {},
   "outputs": [],
   "source": [
    "gpr = GPR_Predictor(df_train_test, train_idx = range(0,150), test_idx = range(150,len(df_train_test)), kernel_name=kernel, normalise_kernel = False, alpha=alpha, embedding='label',\n",
    "                   eva_metric=eva_metric, l_list=l, s = 0)"
   ]
  },
  {
   "cell_type": "code",
   "execution_count": null,
   "metadata": {},
   "outputs": [],
   "source": [
    "gpr.regression()"
   ]
  },
  {
   "cell_type": "code",
   "execution_count": null,
   "metadata": {},
   "outputs": [],
   "source": [
    "gpr.train_df"
   ]
  },
  {
   "cell_type": "code",
   "execution_count": null,
   "metadata": {},
   "outputs": [],
   "source": [
    "gpr.test_df"
   ]
  },
  {
   "cell_type": "code",
   "execution_count": null,
   "metadata": {},
   "outputs": [],
   "source": [
    "plt.hist(gpr.test_df['pred mean'])"
   ]
  },
  {
   "cell_type": "code",
   "execution_count": null,
   "metadata": {},
   "outputs": [],
   "source": [
    "sorted_mean_test_df = gpr.test_df.sort_values(['pred mean'], ascending=False)\n",
    "sorted_mean_test_df"
   ]
  },
  {
   "cell_type": "code",
   "execution_count": null,
   "metadata": {},
   "outputs": [],
   "source": [
    "plt.plot(range(len(sorted_mean_test_df)), sorted_mean_test_df['pred mean'], label = 'pred mean')\n",
    "plt.plot(range(len(sorted_mean_test_df)), sorted_mean_test_df['pred mean'] + sorted_mean_test_df['pred std'], label ='ucb')\n",
    "plt.plot(range(len(sorted_mean_test_df)), sorted_mean_test_df['pred mean'] - sorted_mean_test_df['pred std'], label ='lcb')\n",
    "plt.legend()\n",
    "plt.title('Prediction, sorted by pred mean')"
   ]
  },
  {
   "cell_type": "code",
   "execution_count": null,
   "metadata": {},
   "outputs": [],
   "source": [
    "kernel_matrix = kernel_dict[kernel](l_list = l).__call__(np.asarray(sorted_mean_test_df['RBS'])[:90], np.asarray(sorted_mean_test_df['RBS'])[:90])\n",
    "plt.imshow(kernel_matrix)\n",
    "plt.colorbar()\n",
    "plt.title('Top sequences kernel matrix, sorted by pred mean')"
   ]
  },
  {
   "cell_type": "markdown",
   "metadata": {},
   "source": [
    "## UCB & LCB"
   ]
  },
  {
   "cell_type": "code",
   "execution_count": null,
   "metadata": {},
   "outputs": [],
   "source": [
    "test_df = gpr.test_df\n",
    "test_df['ucb'] = test_df['pred mean'] + test_df['pred std']\n",
    "test_df['lcb'] = test_df['pred mean'] - test_df['pred std']\n",
    "test_df"
   ]
  },
  {
   "cell_type": "code",
   "execution_count": null,
   "metadata": {},
   "outputs": [],
   "source": [
    "sorted_ucb = test_df.sort_values(['ucb'], ascending=False)\n",
    "sorted_ucb"
   ]
  },
  {
   "cell_type": "code",
   "execution_count": null,
   "metadata": {},
   "outputs": [],
   "source": [
    "\n",
    "plt.plot(range(len(sorted_ucb)), sorted_ucb['pred mean'], label = 'pred mean')\n",
    "plt.plot(range(len(sorted_ucb)), sorted_ucb['ucb'], label = 'ucb')\n",
    "plt.legend()\n",
    "plt.title('Prediction, sorted by ucb')"
   ]
  },
  {
   "cell_type": "code",
   "execution_count": null,
   "metadata": {},
   "outputs": [],
   "source": [
    "plt.hist(sorted_ucb[:90]['ucb'])"
   ]
  },
  {
   "cell_type": "code",
   "execution_count": null,
   "metadata": {},
   "outputs": [],
   "source": [
    "sorted_ucb_kernel_matrix = kernel_dict[kernel](l_list = l).__call__(np.asarray(sorted_ucb['RBS'])[:90], np.asarray(sorted_ucb['RBS'])[:90])\n",
    "plt.imshow(sorted_ucb_kernel_matrix)\n",
    "plt.colorbar()\n",
    "plt.title('Top sequences kernel matrix, sorted by ucb')"
   ]
  },
  {
   "cell_type": "code",
   "execution_count": null,
   "metadata": {},
   "outputs": [],
   "source": [
    "sorted_ucb.groupby('cluster').max()['ucb'].min()"
   ]
  },
  {
   "cell_type": "code",
   "execution_count": null,
   "metadata": {},
   "outputs": [],
   "source": [
    "sorted_ucb.groupby('cluster').min()['lcb'].max()"
   ]
  },
  {
   "cell_type": "markdown",
   "metadata": {},
   "source": [
    "## Clustering idea"
   ]
  },
  {
   "cell_type": "markdown",
   "metadata": {},
   "source": [
    "### Discussion: Reject clusters with max ucb smaller min lcb in another cluster?\n",
    "For 256 clusters, the minimum max ucb among all clusters is 1.35, which is still bigger than maximum min lcb among all clusters (- 1.05)\n",
    "When we look at single sequences, there are sequence's ucb is smaller than other's lcb."
   ]
  },
  {
   "cell_type": "markdown",
   "metadata": {},
   "source": [
    "### Discussion: Select max ucb in each clusters"
   ]
  },
  {
   "cell_type": "code",
   "execution_count": null,
   "metadata": {},
   "outputs": [],
   "source": [
    "max_ucb_in_clusters = pd.DataFrame(columns=['RBS', 'ucb', 'pred mean', 'pred std', 'lcb'])\n",
    "\n",
    "for group, value in sorted_ucb.groupby('cluster'):\n",
    "    max_ucb_in_clusters.loc[group] = value.sort_values('ucb', ascending = False)[['RBS', 'ucb', 'pred mean', 'pred std', 'lcb']].iloc[0]\n",
    "    "
   ]
  },
  {
   "cell_type": "code",
   "execution_count": null,
   "metadata": {},
   "outputs": [],
   "source": [
    "max_ucb_in_clusters"
   ]
  },
  {
   "cell_type": "code",
   "execution_count": null,
   "metadata": {},
   "outputs": [],
   "source": [
    "plt.hist(max_ucb_in_clusters['ucb'])\n",
    "plt.title('max_ucb_in_clusters')"
   ]
  },
  {
   "cell_type": "code",
   "execution_count": null,
   "metadata": {},
   "outputs": [],
   "source": [
    "sorted_max_ucb_in_clusters = max_ucb_in_clusters.sort_values('ucb', ascending=False)\n",
    "sorted_max_ucb_in_clusters"
   ]
  },
  {
   "cell_type": "code",
   "execution_count": null,
   "metadata": {},
   "outputs": [],
   "source": [
    "sorted_max_ucb_clusters_kernel_matrix = kernel_dict[kernel](l_list = l).__call__(np.asarray(sorted_max_ucb_in_clusters['RBS']), np.asarray(sorted_max_ucb_in_clusters['RBS']))\n",
    "plt.imshow(sorted_max_ucb_clusters_kernel_matrix)\n",
    "plt.colorbar()\n",
    "plt.title('sorted_max_ucb_clusters_kernel_matrix')"
   ]
  },
  {
   "cell_type": "markdown",
   "metadata": {},
   "source": [
    "we can see compared with selecting top 100 sequences directly, selecting max ucb in each cluster results in a distrubiton with lower ucbs, but lower similarities as well."
   ]
  },
  {
   "cell_type": "markdown",
   "metadata": {},
   "source": [
    "## GP-BUCB"
   ]
  },
  {
   "cell_type": "code",
   "execution_count": null,
   "metadata": {},
   "outputs": [],
   "source": [
    "from copy import deepcopy\n",
    "gpr_copy = deepcopy(gpr)"
   ]
  },
  {
   "cell_type": "code",
   "execution_count": null,
   "metadata": {},
   "outputs": [],
   "source": [
    "# Fix beta = 1 for now\n",
    "# Desautels et al. 2014 Algorithm 2\n",
    "# http://jmlr.org/papers/volume15/desautels14a/desautels14a.pdf\n",
    "\n",
    "batch_size = 90\n",
    "rec_df = pd.DataFrame()\n",
    "\n",
    "gpr = deepcopy(gpr_copy)\n",
    "\n",
    "gpr.train_idx = range(0,150)\n",
    "gpr.test_idx = range(150,len(df_train_test))\n",
    "\n",
    "sorted_ucb_batch = sorted_ucb\n",
    "\n",
    "for i in range(batch_size):\n",
    "    print(i)\n",
    "    rec = pd.DataFrame(sorted_ucb_batch.head(1))\n",
    "    rec_df = rec_df.append(rec, ignore_index = True)\n",
    "    \n",
    "    rec_idx = sorted_ucb_batch.index[0]\n",
    "    \n",
    "    train_idx = list(gpr.train_idx)\n",
    "    train_idx.append(rec_idx)\n",
    "    gpr.train_idx = train_idx\n",
    "    \n",
    "    # add replicates label to avoid being droped\n",
    "    gpr.df.loc[rec_idx,'Rep2'] = gpr.test_df.loc[rec_idx,'pred mean']\n",
    "    gpr.df.loc[rec_idx,'AVERAGE'] = gpr.test_df.loc[rec_idx,'pred mean']\n",
    "    \n",
    "    test_idx = list(gpr.test_idx)\n",
    "    test_idx.remove(rec_idx)\n",
    "    gpr.test_idx = test_idx\n",
    "    \n",
    "    gpr.regression()\n",
    "    \n",
    "    test_batch_df = gpr.test_df\n",
    "    test_batch_df['ucb'] = test_df['pred mean'] + test_batch_df['pred std']\n",
    "    test_batch_df['lcb'] = test_df['pred mean'] - test_batch_df['pred std']\n",
    "    sorted_ucb_batch = test_batch_df.sort_values(['ucb'], ascending=False)"
   ]
  },
  {
   "cell_type": "code",
   "execution_count": null,
   "metadata": {},
   "outputs": [],
   "source": [
    "sorted_ucb.head(90)"
   ]
  },
  {
   "cell_type": "code",
   "execution_count": null,
   "metadata": {},
   "outputs": [],
   "source": [
    "rec_df"
   ]
  },
  {
   "cell_type": "code",
   "execution_count": null,
   "metadata": {},
   "outputs": [],
   "source": [
    "sorted_gpbucb_kernel_matrix = kernel_dict[kernel](l_list = l).__call__(np.asarray(rec_df['RBS']), np.asarray(rec_df['RBS']))\n",
    "plt.imshow(sorted_gpbucb_kernel_matrix)\n",
    "plt.colorbar()\n",
    "plt.title('GP-BUCB sequences kernel matrix, sorted by ucb')"
   ]
  },
  {
   "cell_type": "markdown",
   "metadata": {},
   "source": [
    "## plot together"
   ]
  },
  {
   "cell_type": "code",
   "execution_count": null,
   "metadata": {},
   "outputs": [],
   "source": [
    "num_rows = 2\n",
    "num_cols = 3\n",
    "\n",
    "\n",
    "fig,a = plt.subplots(num_rows, num_cols, figsize = (15,10))\n",
    "\n",
    "im = a[0][0].imshow(sorted_max_ucb_clusters_kernel_matrix, cmap = 'viridis')\n",
    "fig.colorbar(im, ax =a[0][0])\n",
    "a[0][0].set_title('sorted_max_ucb_clusters_kernel_matrix')\n",
    "\n",
    "\n",
    "im = a[0][1].imshow(sorted_gpbucb_kernel_matrix, cmap = 'viridis')\n",
    "fig.colorbar(im, ax =a[0][1])\n",
    "a[0][1].set_title('GP-BUCB sequences kernel matrix, sorted by ucb')\n",
    "\n",
    "im = a[0][2].imshow(sorted_ucb_kernel_matrix, cmap = 'viridis')\n",
    "fig.colorbar(im, ax =a[0][2])\n",
    "a[0][2].set_title('sorted_ucb_kernel_matrix')\n",
    "\n",
    "im = a[1][0].hist(max_ucb_in_clusters['ucb'])\n",
    "a[1][0].set_title('max_ucb_in_clusters')\n",
    "\n",
    "im = a[1][1].hist(rec_df['ucb'])\n",
    "a[1][1].set_title('GP_BUCB_in_clusters')\n",
    "\n",
    "im = a[1][2].hist(sorted_ucb[:90]['ucb'])\n",
    "a[1][2].set_title('sorted ucb')"
   ]
  },
  {
   "cell_type": "code",
   "execution_count": null,
   "metadata": {},
   "outputs": [],
   "source": [
    "# save file  \n",
    "\n",
    "with pd.ExcelWriter('batch_ucb.xlsx') as writer:\n",
    "    rec_df.to_excel(writer, sheet_name = 'gpbucb')\n",
    "    max_ucb_in_clusters.to_excel(writer, sheet_name = 'clusterucb')\n",
    "    sorted_ucb.to_excel(writer, sheet_name = 'sorteducb')"
   ]
  },
  {
   "cell_type": "code",
   "execution_count": null,
   "metadata": {},
   "outputs": [],
   "source": [
    "# pd.read_excel('batch_ucb.xlsx', sheet_name='sorteducb')"
   ]
  },
  {
   "cell_type": "code",
   "execution_count": null,
   "metadata": {},
   "outputs": [],
   "source": []
  }
 ],
 "metadata": {
  "kernelspec": {
   "display_name": "Python 3",
   "language": "python",
   "name": "python3"
  },
  "language_info": {
   "codemirror_mode": {
    "name": "ipython",
    "version": 3
   },
   "file_extension": ".py",
   "mimetype": "text/x-python",
   "name": "python",
   "nbconvert_exporter": "python",
   "pygments_lexer": "ipython3",
   "version": "3.7.3"
  },
  "toc": {
   "base_numbering": 1,
   "nav_menu": {},
   "number_sections": true,
   "sideBar": true,
   "skip_h1_title": false,
   "title_cell": "Table of Contents",
   "title_sidebar": "Contents",
   "toc_cell": false,
   "toc_position": {
    "height": "calc(100% - 180px)",
    "left": "10px",
    "top": "150px",
    "width": "307.2px"
   },
   "toc_section_display": true,
   "toc_window_display": true
  },
  "varInspector": {
   "cols": {
    "lenName": 16,
    "lenType": 16,
    "lenVar": 40
   },
   "kernels_config": {
    "python": {
     "delete_cmd_postfix": "",
     "delete_cmd_prefix": "del ",
     "library": "var_list.py",
     "varRefreshCmd": "print(var_dic_list())"
    },
    "r": {
     "delete_cmd_postfix": ") ",
     "delete_cmd_prefix": "rm(",
     "library": "var_list.r",
     "varRefreshCmd": "cat(var_dic_list()) "
    }
   },
   "types_to_exclude": [
    "module",
    "function",
    "builtin_function_or_method",
    "instance",
    "_Feature"
   ],
   "window_display": false
  }
 },
 "nbformat": 4,
 "nbformat_minor": 2
}

{
 "cells": [
  {
   "cell_type": "code",
   "execution_count": 1,
   "metadata": {},
   "outputs": [
    {
     "name": "stderr",
     "output_type": "stream",
     "text": [
      "/home/admin-u6015325/anaconda3/lib/python3.7/site-packages/statsmodels/tools/_testing.py:19: FutureWarning: pandas.util.testing is deprecated. Use the functions in the public API at pandas.testing instead.\n",
      "  import pandas.util.testing as tm\n"
     ]
    }
   ],
   "source": [
    "# direct to proper path\n",
    "import os\n",
    "import sys\n",
    "module_path = os.path.abspath(os.path.join('../..'))\n",
    "if module_path not in sys.path:\n",
    "    sys.path.append(module_path)\n",
    "    \n",
    "import numpy as np\n",
    "import pandas as pd\n",
    "import matplotlib.pyplot as plt\n",
    "import seaborn as sns\n",
    "import itertools\n",
    "from collections import defaultdict\n",
    "import math\n",
    "import json\n",
    "\n",
    "from sklearn.gaussian_process import GaussianProcessRegressor\n",
    "from sklearn.gaussian_process.kernels import PairwiseKernel, DotProduct, RBF \n",
    "from sklearn.kernel_ridge import KernelRidge\n",
    "from sklearn.metrics import r2_score, mean_squared_error, make_scorer\n",
    "from sklearn.model_selection import KFold\n",
    "from sklearn_extra.cluster import KMedoids\n",
    "\n",
    "from codes.embedding import Embedding\n",
    "from codes.environment import Rewards_env\n",
    "from codes.ucb import GPUCB, Random\n",
    "from codes.evaluations import evaluate, plot_eva\n",
    "from codes.regression import *\n",
    "from codes.kernels_for_GPK import *\n",
    "from codes.batch_ucb import *\n",
    "\n",
    "from ipywidgets import IntProgress\n",
    "from IPython.display import display\n",
    "import warnings\n",
    "%matplotlib inline"
   ]
  },
  {
   "cell_type": "code",
   "execution_count": 2,
   "metadata": {},
   "outputs": [
    {
     "data": {
      "text/html": [
       "<div>\n",
       "<style scoped>\n",
       "    .dataframe tbody tr th:only-of-type {\n",
       "        vertical-align: middle;\n",
       "    }\n",
       "\n",
       "    .dataframe tbody tr th {\n",
       "        vertical-align: top;\n",
       "    }\n",
       "\n",
       "    .dataframe thead th {\n",
       "        text-align: right;\n",
       "    }\n",
       "</style>\n",
       "<table border=\"1\" class=\"dataframe\">\n",
       "  <thead>\n",
       "    <tr style=\"text-align: right;\">\n",
       "      <th></th>\n",
       "      <th>Unnamed: 0</th>\n",
       "      <th>Name</th>\n",
       "      <th>Group</th>\n",
       "      <th>RBS</th>\n",
       "      <th>RBS6</th>\n",
       "      <th>Rep1</th>\n",
       "      <th>Rep2</th>\n",
       "      <th>Rep3</th>\n",
       "      <th>Rep4</th>\n",
       "      <th>Rep5</th>\n",
       "      <th>Rep6</th>\n",
       "      <th>AVERAGE</th>\n",
       "      <th>STD</th>\n",
       "    </tr>\n",
       "  </thead>\n",
       "  <tbody>\n",
       "    <tr>\n",
       "      <th>0</th>\n",
       "      <td>0</td>\n",
       "      <td>RBS_1by1_0</td>\n",
       "      <td>reference</td>\n",
       "      <td>TTTAAGAAGGAGATATACAT</td>\n",
       "      <td>AGGAGA</td>\n",
       "      <td>1.616261</td>\n",
       "      <td>1.814182</td>\n",
       "      <td>1.760954</td>\n",
       "      <td>2.186207</td>\n",
       "      <td>2.028863</td>\n",
       "      <td>1.831982</td>\n",
       "      <td>1.881293</td>\n",
       "      <td>0.225819</td>\n",
       "    </tr>\n",
       "    <tr>\n",
       "      <th>1</th>\n",
       "      <td>1</td>\n",
       "      <td>RBS_1by1_1</td>\n",
       "      <td>bps_noncore</td>\n",
       "      <td>CTTAAGAAGGAGATATACAT</td>\n",
       "      <td>AGGAGA</td>\n",
       "      <td>1.166174</td>\n",
       "      <td>1.337018</td>\n",
       "      <td>1.417248</td>\n",
       "      <td>1.493800</td>\n",
       "      <td>1.713526</td>\n",
       "      <td>1.644568</td>\n",
       "      <td>1.425553</td>\n",
       "      <td>0.201725</td>\n",
       "    </tr>\n",
       "    <tr>\n",
       "      <th>2</th>\n",
       "      <td>2</td>\n",
       "      <td>RBS_1by1_2</td>\n",
       "      <td>bps_noncore</td>\n",
       "      <td>GTTAAGAAGGAGATATACAT</td>\n",
       "      <td>AGGAGA</td>\n",
       "      <td>0.604551</td>\n",
       "      <td>0.751384</td>\n",
       "      <td>0.851987</td>\n",
       "      <td>0.514929</td>\n",
       "      <td>0.577299</td>\n",
       "      <td>0.795227</td>\n",
       "      <td>0.660030</td>\n",
       "      <td>0.137994</td>\n",
       "    </tr>\n",
       "    <tr>\n",
       "      <th>3</th>\n",
       "      <td>3</td>\n",
       "      <td>RBS_1by1_3</td>\n",
       "      <td>bps_noncore</td>\n",
       "      <td>ATTAAGAAGGAGATATACAT</td>\n",
       "      <td>AGGAGA</td>\n",
       "      <td>1.221264</td>\n",
       "      <td>1.466278</td>\n",
       "      <td>1.270212</td>\n",
       "      <td>1.341040</td>\n",
       "      <td>1.395030</td>\n",
       "      <td>1.175433</td>\n",
       "      <td>1.338765</td>\n",
       "      <td>0.097386</td>\n",
       "    </tr>\n",
       "    <tr>\n",
       "      <th>4</th>\n",
       "      <td>4</td>\n",
       "      <td>RBS_1by1_4</td>\n",
       "      <td>bps_noncore</td>\n",
       "      <td>TCTAAGAAGGAGATATACAT</td>\n",
       "      <td>AGGAGA</td>\n",
       "      <td>1.160566</td>\n",
       "      <td>1.579025</td>\n",
       "      <td>1.171829</td>\n",
       "      <td>1.590670</td>\n",
       "      <td>1.411255</td>\n",
       "      <td>1.756862</td>\n",
       "      <td>1.382669</td>\n",
       "      <td>0.210012</td>\n",
       "    </tr>\n",
       "  </tbody>\n",
       "</table>\n",
       "</div>"
      ],
      "text/plain": [
       "   Unnamed: 0        Name        Group                   RBS    RBS6  \\\n",
       "0           0  RBS_1by1_0    reference  TTTAAGAAGGAGATATACAT  AGGAGA   \n",
       "1           1  RBS_1by1_1  bps_noncore  CTTAAGAAGGAGATATACAT  AGGAGA   \n",
       "2           2  RBS_1by1_2  bps_noncore  GTTAAGAAGGAGATATACAT  AGGAGA   \n",
       "3           3  RBS_1by1_3  bps_noncore  ATTAAGAAGGAGATATACAT  AGGAGA   \n",
       "4           4  RBS_1by1_4  bps_noncore  TCTAAGAAGGAGATATACAT  AGGAGA   \n",
       "\n",
       "       Rep1      Rep2      Rep3      Rep4      Rep5      Rep6   AVERAGE  \\\n",
       "0  1.616261  1.814182  1.760954  2.186207  2.028863  1.831982  1.881293   \n",
       "1  1.166174  1.337018  1.417248  1.493800  1.713526  1.644568  1.425553   \n",
       "2  0.604551  0.751384  0.851987  0.514929  0.577299  0.795227  0.660030   \n",
       "3  1.221264  1.466278  1.270212  1.341040  1.395030  1.175433  1.338765   \n",
       "4  1.160566  1.579025  1.171829  1.590670  1.411255  1.756862  1.382669   \n",
       "\n",
       "        STD  \n",
       "0  0.225819  \n",
       "1  0.201725  \n",
       "2  0.137994  \n",
       "3  0.097386  \n",
       "4  0.210012  "
      ]
     },
     "execution_count": 2,
     "metadata": {},
     "output_type": "execute_result"
    }
   ],
   "source": [
    "Path = '../../data/firstRound_Microplate_normTrue_formatSeq_logTrue.csv'\n",
    "\n",
    "known_df = pd.read_csv(Path)\n",
    "known_df.head()"
   ]
  },
  {
   "cell_type": "code",
   "execution_count": 3,
   "metadata": {
    "code_folding": []
   },
   "outputs": [],
   "source": [
    "run_new_experiment = False\n",
    "\n",
    "if run_new_experiment:\n",
    "    top_n = Top_n_ucb(known_df, kernel_name='WD_Kernel_Shift', l=6, s=1,\n",
    "                     embedding='label', alpha=1, rec_size=None, beta=1)\n",
    "\n",
    "    top_n_rec_df = top_n.run_experiment()\n",
    "\n",
    "    top_n_rec_df\n",
    "\n",
    "    with pd.ExcelWriter('top_n_rec.xlsx', engine=\"openpyxl\", mode='a') as writer:  \n",
    "        top_n_rec_df.to_excel(writer, sheet_name='train_samples_alpha1')"
   ]
  },
  {
   "cell_type": "markdown",
   "metadata": {},
   "source": [
    "## Read prediction data; Plot ucb scores\n",
    "\n",
    "Take two prediction list from different pipelines, take the union set of top n ucb scores, and scatter plot the ucb scores for both pipeline predictions. \n",
    "x and y axis represents the predicted ucb scores from each pipeline, the same point represents the same sequence. "
   ]
  },
  {
   "cell_type": "code",
   "execution_count": 21,
   "metadata": {},
   "outputs": [],
   "source": [
    "ucb_train_samples = pd.read_excel('all_ucb_pred.xlsx', sheet_name='train_samples_alpha0.1')\n",
    "ucb_train_seqs = pd.read_excel('all_ucb_pred.xlsx', sheet_name='train_seq_alpha0.1')\n",
    "ucb_train_samples_alpha1 = pd.read_excel('all_ucb_pred.xlsx', sheet_name='train_samples_alpha1')"
   ]
  },
  {
   "cell_type": "code",
   "execution_count": 19,
   "metadata": {},
   "outputs": [],
   "source": [
    "def scatterplot_union_ucb_scores(df1, df2, df1_name, df2_name, rec_size = 90):\n",
    "    \"\"\"For two rec df from different pipelines,\n",
    "    take the union set and scatter plot ucb scores.\n",
    "    \n",
    "    Input dataframe has at least two columns: index, ucb\n",
    "    \"\"\"\n",
    "    union_rec_index = list(set(df1[:rec_size]['index']).union(set(df2[:rec_size]['index'])))\n",
    "    print('union set size: ', len(union_rec_index))\n",
    "    new_df1 = df1.loc[df1['index'].isin(union_rec_index)][['index', 'ucb']]\n",
    "    new_df2 = df2.loc[df2['index'].isin(union_rec_index)][['index', 'ucb']]\n",
    "    \n",
    "    merge_df = new_df1.merge(new_df2, on = 'index')\n",
    "    merge_df = merge_df.rename(columns = {'ucb_x': str(df1_name), 'ucb_y': str(df2_name)})\n",
    "    sns.scatterplot(x = str(df1_name), y = str(df2_name), data = merge_df)"
   ]
  },
  {
   "cell_type": "markdown",
   "metadata": {},
   "source": [
    "### Train samples vs Train seqs\n",
    "\n",
    "with same parameters (kernel_name='WD_Kernel_Shift', l=6, s=1, embedding='label', alpha=1, rec_size=None, beta=1)\n",
    "\n",
    "We can see the top scores are similar for both approach, while the lower scores are differs in a smaller scale (~ 0.5). This means training with samples (multiples scores) and training with sequences (average score) give similar recommendations. "
   ]
  },
  {
   "cell_type": "code",
   "execution_count": 20,
   "metadata": {},
   "outputs": [
    {
     "name": "stdout",
     "output_type": "stream",
     "text": [
      "union set size:  126\n"
     ]
    },
    {
     "data": {
      "image/png": "[encoded data removed]",
      "text/plain": [
       "<Figure size 432x288 with 1 Axes>"
      ]
     },
     "metadata": {
      "needs_background": "light"
     },
     "output_type": "display_data"
    }
   ],
   "source": [
    "scatterplot_union_ucb_scores(ucb_train_samples, ucb_train_seqs, 'train_samples', 'train_seqs')"
   ]
  },
  {
   "cell_type": "markdown",
   "metadata": {},
   "source": [
    "### Train samples with alpha 0.1 vs alpha 1\n",
    "\n",
    "with same other parameters (kernel_name='WD_Kernel_Shift', l=6, s=1, embedding='label', rec_size=None, beta=1)\n",
    "\n",
    "we can see changing the alpha value changes the predicted ucb significantly. "
   ]
  },
  {
   "cell_type": "code",
   "execution_count": 22,
   "metadata": {},
   "outputs": [
    {
     "name": "stdout",
     "output_type": "stream",
     "text": [
      "union set size:  176\n"
     ]
    },
    {
     "data": {
      "image/png": "[encoded data removed]",
      "text/plain": [
       "<Figure size 432x288 with 1 Axes>"
      ]
     },
     "metadata": {
      "needs_background": "light"
     },
     "output_type": "display_data"
    }
   ],
   "source": [
    "scatterplot_union_ucb_scores(ucb_train_samples, ucb_train_samples_alpha1, 'train_samples_alpha0.1', 'train_samples_alpha1')"
   ]
  },
  {
   "cell_type": "code",
   "execution_count": null,
   "metadata": {},
   "outputs": [],
   "source": []
  }
 ],
 "metadata": {
  "kernelspec": {
   "display_name": "Python 3",
   "language": "python",
   "name": "python3"
  },
  "language_info": {
   "codemirror_mode": {
    "name": "ipython",
    "version": 3
   },
   "file_extension": ".py",
   "mimetype": "text/x-python",
   "name": "python",
   "nbconvert_exporter": "python",
   "pygments_lexer": "ipython3",
   "version": "3.7.3"
  },
  "toc": {
   "base_numbering": 1,
   "nav_menu": {},
   "number_sections": true,
   "sideBar": true,
   "skip_h1_title": false,
   "title_cell": "Table of Contents",
   "title_sidebar": "Contents",
   "toc_cell": false,
   "toc_position": {},
   "toc_section_display": true,
   "toc_window_display": false
  },
  "varInspector": {
   "cols": {
    "lenName": 16,
    "lenType": 16,
    "lenVar": 40
   },
   "kernels_config": {
    "python": {
     "delete_cmd_postfix": "",
     "delete_cmd_prefix": "del ",
     "library": "var_list.py",
     "varRefreshCmd": "print(var_dic_list())"
    },
    "r": {
     "delete_cmd_postfix": ") ",
     "delete_cmd_prefix": "rm(",
     "library": "var_list.r",
     "varRefreshCmd": "cat(var_dic_list()) "
    }
   },
   "types_to_exclude": [
    "module",
    "function",
    "builtin_function_or_method",
    "instance",
    "_Feature"
   ],
   "window_display": false
  }
 },
 "nbformat": 4,
 "nbformat_minor": 2
}

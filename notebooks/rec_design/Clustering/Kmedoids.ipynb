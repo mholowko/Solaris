{
 "cells": [
  {
   "cell_type": "markdown",
   "metadata": {},
   "source": [
    "# K-medoids\n",
    "\n",
    "**Update 30/Oct/2020**  \n",
    "Visualise the sequences in round 0 and round 1, to see whether sequences in round 1 is similar to round 0 or not.\n",
    "The similarity should be measured exactly the same as how we generate round 1's recommnedations.\n",
    "Two ways to show that:  \n",
    "- clustering (k-medoids) on round 0 and round 1 sequences, then show the clusterings using TSNE (2d). \n",
    "- sort sequences by similarity (hierichycial clustering). Show two plots: one is heatmap with dendrograms (for feature similarity), see some examples [here](https://datavizpyr.com/hierarchically-clustered-heatmap-with-seaborn-in-python/) and [here](https://stackoverflow.com/questions/2455761/reordering-matrix-elements-to-reflect-column-and-row-clustering-in-naiive-python);\n",
    "the other one is a 3D heatmap for labels, see [here]().  \n",
    "\n",
    "**End Update**\n",
    "\n",
    "For exploration, we should spread the choices as much as possible. Since we do not want to waste the engergy for searching the same region which may give bad results. The UCB algorithm balance the exploration and exploitation by balancing weights on predicted mean and predicted variance. To check whether UCB algorithm gives a reasonable coverage of the unknown spacing and known spacing, we run a clustering algorithm on the whole exploration space. We expect to cover several sequences in each clustering at the first a few rounds, then focusing more on sequences on the clustering gives a relatively high performance. \n",
    "\n",
    "\n",
    "## Pipeline\n",
    "\n",
    "- Embedding\n",
    "    - kmers ([3], [2,3,4,5,6])\n",
    "    - onehot\n",
    "- PCA\n",
    "    - number of component (select by singular_values_)\n",
    "- Clustering (Kmeans++)\n",
    "    - number of clustering (Elbow method to select good number of clusterings)\n",
    "- TSNE (to 2 dims) for visualisation\n",
    "   \n",
    "## Evaluation\n",
    "\n",
    "- We show the average value and variance of label for the sequences in each clustering\n",
    "\n",
    "Ideas:\n",
    "\n",
    "A possible idea is to combine the clustering and successive rejects, where rejects happens in terms of clusters rather than single data points. This solves the problem that the searching space (number of arms) are too large. "
   ]
  },
  {
   "cell_type": "code",
   "execution_count": 1,
   "metadata": {
    "ExecuteTime": {
     "end_time": "2020-07-16T05:10:34.564130Z",
     "start_time": "2020-07-16T05:10:33.947539Z"
    },
    "tags": []
   },
   "outputs": [
    {
     "output_type": "stream",
     "name": "stdout",
     "text": "No default features for kernel instance. Please specify features.\n"
    }
   ],
   "source": [
    "# direct to proper path\n",
    "import os\n",
    "import sys\n",
    "module_path = os.path.abspath(os.path.join('../../..'))\n",
    "if module_path not in sys.path:\n",
    "    sys.path.append(module_path)\n",
    "\n",
    "from sklearn.cluster import KMeans\n",
    "from nltk.metrics import distance \n",
    "# import Pycluster as PC\n",
    "import numpy as np\n",
    "import matplotlib.pyplot as plt\n",
    "%matplotlib inline\n",
    "import itertools\n",
    "import math\n",
    "\n",
    "from codes.kernels_for_GPK import *\n",
    "from codes.embedding import Embedding\n",
    "\n",
    "from sklearn.manifold import TSNE\n",
    "from sklearn.decomposition import PCA\n",
    "from sklearn_extra.cluster import KMedoids"
   ]
  },
  {
   "cell_type": "markdown",
   "metadata": {},
   "source": [
    "## Known seq"
   ]
  },
  {
   "cell_type": "code",
   "execution_count": 2,
   "metadata": {
    "ExecuteTime": {
     "end_time": "2020-07-16T05:10:34.721468Z",
     "start_time": "2020-07-16T05:10:34.565489Z"
    }
   },
   "outputs": [],
   "source": [
    "import pandas as pd \n",
    "\n",
    "# Path = '../../../data/Results_Microplate_partialFalse_normFalse_formatSeq_logTrue.csv'\n",
    "Path = '../../../data/Results_Microplate_partialFalse_normTrue_roundRep_formatSeq_logTrue.csv'\n",
    "\n",
    "df = pd.read_csv(Path)\n",
    "# df['Group Code'] = df.Group.astype('category').cat.codes\n",
    "known_data = np.asarray(df[['RBS', 'RBS6', 'Group', 'Pred Mean', 'AVERAGE']])\n",
    "known_seq = np.asarray(df['RBS'])"
   ]
  },
  {
   "cell_type": "code",
   "execution_count": 3,
   "metadata": {
    "ExecuteTime": {
     "end_time": "2020-07-16T05:10:34.738316Z",
     "start_time": "2020-07-16T05:10:34.723472Z"
    }
   },
   "outputs": [
    {
     "output_type": "execute_result",
     "data": {
      "text/plain": "   Unnamed: 0        Name        Group        Plate  Round  \\\n0           0  RBS_1by1_0    reference  First_Plate      0   \n1           1  RBS_1by1_1  bps_noncore  First_Plate      0   \n2           2  RBS_1by1_2  bps_noncore  First_Plate      0   \n3           3  RBS_1by1_3  bps_noncore  First_Plate      0   \n4           4  RBS_1by1_4  bps_noncore  First_Plate      0   \n\n                    RBS    RBS6      Rep1      Rep2      Rep3      Rep4  \\\n0  TTTAAGAAGGAGATATACAT  AGGAGA  2.433056  2.502155  2.315237  3.012905   \n1  CTTAAGAAGGAGATATACAT  AGGAGA  1.556251  1.654243  1.762146  1.790123   \n2  GTTAAGAAGGAGATATACAT  AGGAGA  0.603551  0.748674  0.921939  0.391285   \n3  ATTAAGAAGGAGATATACAT  AGGAGA  1.658359  1.874275  1.534988  1.546110   \n4  TCTAAGAAGGAGATATACAT  AGGAGA  1.545942  2.072095  1.386300  1.949759   \n\n       Rep5      Rep6   AVERAGE       STD  Pred Mean  Pred Std  Pred UCB  \\\n0  2.917124  2.275329  2.575968  0.313540        NaN       NaN       NaN   \n1  2.312790  1.959275  1.839138  0.268820        NaN       NaN       NaN   \n2  0.503846  0.711231  0.646754  0.188587        NaN       NaN       NaN   \n3  1.747116  1.232548  1.598899  0.220191        NaN       NaN       NaN   \n4  1.774833  2.146898  1.812638  0.300722        NaN       NaN       NaN   \n\n   Group Code  \n0           5  \n1           3  \n2           3  \n3           3  \n4           3  ",
      "text/html": "<div>\n<style scoped>\n    .dataframe tbody tr th:only-of-type {\n        vertical-align: middle;\n    }\n\n    .dataframe tbody tr th {\n        vertical-align: top;\n    }\n\n    .dataframe thead th {\n        text-align: right;\n    }\n</style>\n<table border=\"1\" class=\"dataframe\">\n  <thead>\n    <tr style=\"text-align: right;\">\n      <th></th>\n      <th>Unnamed: 0</th>\n      <th>Name</th>\n      <th>Group</th>\n      <th>Plate</th>\n      <th>Round</th>\n      <th>RBS</th>\n      <th>RBS6</th>\n      <th>Rep1</th>\n      <th>Rep2</th>\n      <th>Rep3</th>\n      <th>Rep4</th>\n      <th>Rep5</th>\n      <th>Rep6</th>\n      <th>AVERAGE</th>\n      <th>STD</th>\n      <th>Pred Mean</th>\n      <th>Pred Std</th>\n      <th>Pred UCB</th>\n      <th>Group Code</th>\n    </tr>\n  </thead>\n  <tbody>\n    <tr>\n      <th>0</th>\n      <td>0</td>\n      <td>RBS_1by1_0</td>\n      <td>reference</td>\n      <td>First_Plate</td>\n      <td>0</td>\n      <td>TTTAAGAAGGAGATATACAT</td>\n      <td>AGGAGA</td>\n      <td>2.433056</td>\n      <td>2.502155</td>\n      <td>2.315237</td>\n      <td>3.012905</td>\n      <td>2.917124</td>\n      <td>2.275329</td>\n      <td>2.575968</td>\n      <td>0.313540</td>\n      <td>NaN</td>\n      <td>NaN</td>\n      <td>NaN</td>\n      <td>5</td>\n    </tr>\n    <tr>\n      <th>1</th>\n      <td>1</td>\n      <td>RBS_1by1_1</td>\n      <td>bps_noncore</td>\n      <td>First_Plate</td>\n      <td>0</td>\n      <td>CTTAAGAAGGAGATATACAT</td>\n      <td>AGGAGA</td>\n      <td>1.556251</td>\n      <td>1.654243</td>\n      <td>1.762146</td>\n      <td>1.790123</td>\n      <td>2.312790</td>\n      <td>1.959275</td>\n      <td>1.839138</td>\n      <td>0.268820</td>\n      <td>NaN</td>\n      <td>NaN</td>\n      <td>NaN</td>\n      <td>3</td>\n    </tr>\n    <tr>\n      <th>2</th>\n      <td>2</td>\n      <td>RBS_1by1_2</td>\n      <td>bps_noncore</td>\n      <td>First_Plate</td>\n      <td>0</td>\n      <td>GTTAAGAAGGAGATATACAT</td>\n      <td>AGGAGA</td>\n      <td>0.603551</td>\n      <td>0.748674</td>\n      <td>0.921939</td>\n      <td>0.391285</td>\n      <td>0.503846</td>\n      <td>0.711231</td>\n      <td>0.646754</td>\n      <td>0.188587</td>\n      <td>NaN</td>\n      <td>NaN</td>\n      <td>NaN</td>\n      <td>3</td>\n    </tr>\n    <tr>\n      <th>3</th>\n      <td>3</td>\n      <td>RBS_1by1_3</td>\n      <td>bps_noncore</td>\n      <td>First_Plate</td>\n      <td>0</td>\n      <td>ATTAAGAAGGAGATATACAT</td>\n      <td>AGGAGA</td>\n      <td>1.658359</td>\n      <td>1.874275</td>\n      <td>1.534988</td>\n      <td>1.546110</td>\n      <td>1.747116</td>\n      <td>1.232548</td>\n      <td>1.598899</td>\n      <td>0.220191</td>\n      <td>NaN</td>\n      <td>NaN</td>\n      <td>NaN</td>\n      <td>3</td>\n    </tr>\n    <tr>\n      <th>4</th>\n      <td>4</td>\n      <td>RBS_1by1_4</td>\n      <td>bps_noncore</td>\n      <td>First_Plate</td>\n      <td>0</td>\n      <td>TCTAAGAAGGAGATATACAT</td>\n      <td>AGGAGA</td>\n      <td>1.545942</td>\n      <td>2.072095</td>\n      <td>1.386300</td>\n      <td>1.949759</td>\n      <td>1.774833</td>\n      <td>2.146898</td>\n      <td>1.812638</td>\n      <td>0.300722</td>\n      <td>NaN</td>\n      <td>NaN</td>\n      <td>NaN</td>\n      <td>3</td>\n    </tr>\n  </tbody>\n</table>\n</div>"
     },
     "metadata": {},
     "execution_count": 3
    }
   ],
   "source": [
    "df.head()"
   ]
  },
  {
   "cell_type": "code",
   "execution_count": 4,
   "metadata": {
    "ExecuteTime": {
     "end_time": "2020-07-16T05:10:34.799588Z",
     "start_time": "2020-07-16T05:10:34.740323Z"
    }
   },
   "outputs": [
    {
     "output_type": "execute_result",
     "data": {
      "text/plain": "(266,)"
     },
     "metadata": {},
     "execution_count": 4
    }
   ],
   "source": [
    "known_seq.shape"
   ]
  },
  {
   "cell_type": "markdown",
   "metadata": {},
   "source": [
    "## Setting"
   ]
  },
  {
   "cell_type": "code",
   "execution_count": 5,
   "metadata": {
    "ExecuteTime": {
     "end_time": "2020-07-16T05:10:34.858441Z",
     "start_time": "2020-07-16T05:10:34.801209Z"
    },
    "tags": []
   },
   "outputs": [
    {
     "output_type": "stream",
     "name": "stdout",
     "text": "init kernel\n"
    }
   ],
   "source": [
    "random_state = 0\n",
    "n_dim = 2 # dimension reduction \n",
    "scores = {}\n",
    "\n",
    "wd_shift_distance = WD_Shift_Kernel(features = known_seq, l = 6, s=1).distance_all\n",
    "distance_matrix = [wd_shift_distance]\n",
    "distance_matrix_name = ['wd_shift_distance']\n",
    "\n",
    "n_clusters = 6 # to be changed\n",
    "\n",
    "# spec_distance = Spectrum_Kernel(l_list = [1,2,3,4,5,6]).distance(known_seq)\n",
    "# wd_distance = WeightedDegree_Kernel(l_list = [6]).distance(known_seq)\n",
    "# mismatch_distance = Mismatch_Kernel(l_list= [6]).distance(known_seq)\n",
    "\n",
    "# distance_matrix = [spec_distance, wd_distance, wd_shift_distance, mismatch_distance]\n",
    "# distance_matrix_name = ['spec_distance', 'wd_distance', 'wd_shift_distance', 'mismatch_distance']"
   ]
  },
  {
   "cell_type": "code",
   "execution_count": 6,
   "metadata": {
    "ExecuteTime": {
     "end_time": "2020-07-16T05:10:34.918763Z",
     "start_time": "2020-07-16T05:10:34.863444Z"
    }
   },
   "outputs": [],
   "source": [
    "def show_tsne_with_clustering(tsne_X, n_clusters, y_km):\n",
    "    plt.figure(figsize = (15,15))\n",
    "    for i in range(n_clusters):\n",
    "        plt.scatter(\n",
    "            tsne_X[y_km == i, 0], tsne_X[y_km == i, 1],\n",
    "            s=50, \n",
    "            label=str(i)\n",
    "            )\n",
    "    plt.legend()\n",
    "    plt.show()"
   ]
  },
  {
   "cell_type": "markdown",
   "metadata": {
    "ExecuteTime": {
     "end_time": "2020-07-16T05:02:00.454198Z",
     "start_time": "2020-07-16T05:02:00.451646Z"
    }
   },
   "source": [
    "## K-medoids and TSNE"
   ]
  },
  {
   "cell_type": "code",
   "execution_count": 7,
   "metadata": {
    "ExecuteTime": {
     "end_time": "2020-07-16T05:12:18.541226Z",
     "start_time": "2020-07-16T05:12:16.732334Z"
    },
    "scrolled": true,
    "tags": []
   },
   "outputs": [
    {
     "output_type": "stream",
     "name": "stdout",
     "text": "results/round01_tsne_kmedoid_wd_shift_distance_6_clusters.npz\nresult saved\n"
    }
   ],
   "source": [
    "\n",
    "for i in range(len(distance_matrix)):\n",
    "    distance = distance_matrix[i]\n",
    "\n",
    "    # clustering\n",
    "    kmedoids = KMedoids(n_clusters=n_clusters, metric = 'precomputed', init='k-medoids++', random_state=random_state).fit(distance)\n",
    "    y_km_spec = kmedoids.labels_\n",
    "    \n",
    "    # dim reduction\n",
    "    tsne = TSNE(n_components = n_dim, metric = 'precomputed')\n",
    "    tsne_X_spec = tsne.fit_transform(distance)\n",
    "    # show_tsne_with_clustering(tsne_X_spec, n_clusters, y_km_spec)\n",
    "    \n",
    "    # save file\n",
    "    file_name = 'results/round01_tsne_kmedoid_' + distance_matrix_name[i] +  '_' + str(n_clusters) + '_clusters.npz'\n",
    "    print(file_name)\n",
    "    np.savez(file_name, coord = tsne_X_spec, text = known_data, ykm = y_km_spec, known_seq = [], ucb_rec = [])\n",
    "    print('result saved')"
   ]
  },
  {
   "cell_type": "code",
   "execution_count": 9,
   "metadata": {},
   "outputs": [],
   "source": [
    "# read saved data and plot\n",
    "\n",
    "data = np.load(file_name, allow_pickle=True)\n",
    "\n",
    "embed = data['coord']\n",
    "# y = data['label']\n",
    "text = data['text']\n",
    "y_km = data['ykm']\n",
    "known_seq = data['known_seq']\n",
    "ucb_rec = data['ucb_rec']\n",
    "\n",
    "tir_labels = []\n",
    "text_labels = []\n",
    "for i in text:\n",
    "    tir_labels.append(float(i[-1]))\n",
    "    text_labels.append(str(i))"
   ]
  },
  {
   "cell_type": "code",
   "execution_count": 10,
   "metadata": {},
   "outputs": [],
   "source": [
    "def sigmoid(z_list):\n",
    "    func_z_list = []\n",
    "    for z in z_list:\n",
    "        func_z_list.append(10.0/(1 + np.exp(-z)))\n",
    "    return func_z_list\n",
    "\n",
    "def normalise_minmax(z_list):\n",
    "    min_value = np.min(z_list)\n",
    "    max_value = np.max(z_list)\n",
    "    func_z_list = []\n",
    "    for z in z_list:\n",
    "        func_z_list.append(5 * (z-min_value)/(max_value - min_value))\n",
    "    return func_z_list\n",
    "\n",
    "# marker_size = sigmoid(tir_labels) \n",
    "marker_size = normalise_minmax(tir_labels)"
   ]
  },
  {
   "cell_type": "code",
   "execution_count": 11,
   "metadata": {},
   "outputs": [],
   "source": [
    "import plotly.express as px\n",
    "\n",
    "fig = px.scatter(x = embed[:,0], y = embed[:,1], color=df['Group'], symbol = y_km[:], size = marker_size,  hover_name = text_labels[:], title = file_name.split('/')[-1].split('.')[0].replace('_', ' '))\n",
    "fig.write_html(file_name[:-4] + \"plot.html\")"
   ]
  },
  {
   "cell_type": "code",
   "execution_count": null,
   "metadata": {},
   "outputs": [],
   "source": []
  }
 ],
 "metadata": {
  "kernelspec": {
   "display_name": "Python 3",
   "language": "python",
   "name": "python3"
  },
  "language_info": {
   "codemirror_mode": {
    "name": "ipython",
    "version": 3
   },
   "file_extension": ".py",
   "mimetype": "text/x-python",
   "name": "python",
   "nbconvert_exporter": "python",
   "pygments_lexer": "ipython3",
   "version": "3.7.3-final"
  },
  "toc": {
   "base_numbering": 1,
   "nav_menu": {},
   "number_sections": true,
   "sideBar": true,
   "skip_h1_title": false,
   "title_cell": "Table of Contents",
   "title_sidebar": "Contents",
   "toc_cell": false,
   "toc_position": {},
   "toc_section_display": true,
   "toc_window_display": false
  },
  "varInspector": {
   "cols": {
    "lenName": 16,
    "lenType": 16,
    "lenVar": 40
   },
   "kernels_config": {
    "python": {
     "delete_cmd_postfix": "",
     "delete_cmd_prefix": "del ",
     "library": "var_list.py",
     "varRefreshCmd": "print(var_dic_list())"
    },
    "r": {
     "delete_cmd_postfix": ") ",
     "delete_cmd_prefix": "rm(",
     "library": "var_list.r",
     "varRefreshCmd": "cat(var_dic_list()) "
    }
   },
   "types_to_exclude": [
    "module",
    "function",
    "builtin_function_or_method",
    "instance",
    "_Feature"
   ],
   "window_display": false
  }
 },
 "nbformat": 4,
 "nbformat_minor": 2
}
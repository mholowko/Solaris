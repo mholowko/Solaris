{
 "cells": [
  {
   "cell_type": "markdown",
   "metadata": {},
   "source": [
    "For exploration, we should spread the choices as much as possible. Since we do not want to waste the engergy for searching the same region which may give bad results. The UCB algorithm balance the exploration and exploitation by balancing weights on predicted mean and predicted variance. To check whether UCB algorithm gives a reasonable coverage of the unknown spacing and known spacing, we run a clustering algorithm on the whole exploration space. We expect to cover several sequences in each clustering at the first a few rounds, then focusing more on sequences on the clustering gives a relatively high performance. \n",
    "\n",
    "\n",
    "## Pipeline\n",
    "\n",
    "- Embedding\n",
    "    - kmers ([3], [2,3,4,5,6])\n",
    "    - onehot\n",
    "- PCA\n",
    "    - number of component (select by singular_values_)\n",
    "- Clustering (Kmeans++)\n",
    "    - number of clustering (Elbow method to select good number of clusterings)\n",
    "- TSNE (to 2 dims) for visualisation\n",
    "   \n",
    "## Evaluation\n",
    "\n",
    "- We show the average value and variance of label for the sequences in each clustering\n",
    "\n",
    "Ideas:\n",
    "\n",
    "A possible idea is to combine the clustering and successive rejects, where rejects happens in terms of clusters rather than single data points. This solves the problem that the searching space (number of arms) are too large. "
   ]
  },
  {
   "cell_type": "code",
   "execution_count": 1,
   "metadata": {},
   "outputs": [],
   "source": [
    "# direct to proper path\n",
    "import os\n",
    "import sys\n",
    "module_path = os.path.abspath(os.path.join('../../..'))\n",
    "if module_path not in sys.path:\n",
    "    sys.path.append(module_path)\n",
    "\n",
    "from sklearn.cluster import KMeans\n",
    "from nltk.metrics import distance \n",
    "# import Pycluster as PC\n",
    "import numpy as np\n",
    "import matplotlib.pyplot as plt\n",
    "%matplotlib inline\n",
    "import itertools\n",
    "import math\n",
    "\n",
    "from codes.kernels_for_GPK import Phi, Spectrum_Kernel, Sum_Spectrum_Kernel, WeightedDegree_Kernel\n",
    "from codes.embedding import Embedding\n",
    "\n",
    "from sklearn.manifold import TSNE\n",
    "from sklearn.decomposition import PCA"
   ]
  },
  {
   "cell_type": "code",
   "execution_count": 2,
   "metadata": {},
   "outputs": [],
   "source": [
    "# create all combos\n",
    "\n",
    "combos = [] # 20-base\n",
    "combos_6 = [] # 6-base\n",
    "combo6_to_idx = {}\n",
    "labels = []\n",
    "char_sets = ['A', 'G', 'C', 'T']\n",
    "design_len = 6\n",
    "\n",
    "# to be changed\n",
    "pre_design = 'TTTAAGA'\n",
    "pos_design = 'TATACAT'\n",
    "\n",
    "for i, combo in enumerate(itertools.product(char_sets, repeat= design_len)):\n",
    "    combos_6.append(''.join(combo))\n",
    "    combo6_to_idx[''.join(combo)] = i\n",
    "    combo = pre_design + ''.join(combo) + pos_design\n",
    "    combos.append(combo)\n",
    "    labels.append(math.inf)\n",
    "    \n",
    "assert len(combos) == len(char_sets) ** design_len\n",
    "# len(combos)\n",
    "\n",
    "todesign6_seqs = np.asarray(combos_6) # 6-base\n",
    "todesign6_data = np.asarray(list(zip(combos_6, labels))) # 6-base\n",
    "\n",
    "shown_text = todesign6_seqs"
   ]
  },
  {
   "cell_type": "code",
   "execution_count": 3,
   "metadata": {},
   "outputs": [
    {
     "data": {
      "text/plain": [
       "array(['AAAAAA', 'AAAAAG', 'AAAAAC', ..., 'TTTTTG', 'TTTTTC', 'TTTTTT'],\n",
       "      dtype='<U6')"
      ]
     },
     "execution_count": 3,
     "metadata": {},
     "output_type": "execute_result"
    }
   ],
   "source": [
    "todesign6_seqs"
   ]
  },
  {
   "cell_type": "markdown",
   "metadata": {},
   "source": [
    "## Known seq"
   ]
  },
  {
   "cell_type": "code",
   "execution_count": 4,
   "metadata": {},
   "outputs": [],
   "source": [
    "import pandas as pd \n",
    "\n",
    "Path = '../../../data/firstRound_4h.csv'\n",
    "\n",
    "df = pd.read_csv(Path)\n",
    "known_seq = np.asarray(df[['RBS6', 'AVERAGE']].drop_duplicates('RBS6'))"
   ]
  },
  {
   "cell_type": "code",
   "execution_count": 5,
   "metadata": {},
   "outputs": [
    {
     "data": {
      "text/html": [
       "<div>\n",
       "<style scoped>\n",
       "    .dataframe tbody tr th:only-of-type {\n",
       "        vertical-align: middle;\n",
       "    }\n",
       "\n",
       "    .dataframe tbody tr th {\n",
       "        vertical-align: top;\n",
       "    }\n",
       "\n",
       "    .dataframe thead th {\n",
       "        text-align: right;\n",
       "    }\n",
       "</style>\n",
       "<table border=\"1\" class=\"dataframe\">\n",
       "  <thead>\n",
       "    <tr style=\"text-align: right;\">\n",
       "      <th></th>\n",
       "      <th>Unnamed: 0</th>\n",
       "      <th>RBS</th>\n",
       "      <th>Name</th>\n",
       "      <th>Rep1</th>\n",
       "      <th>Rep2</th>\n",
       "      <th>Rep3</th>\n",
       "      <th>AVERAGE</th>\n",
       "      <th>STD</th>\n",
       "      <th>PERC</th>\n",
       "      <th>Group</th>\n",
       "      <th>RBS6</th>\n",
       "    </tr>\n",
       "  </thead>\n",
       "  <tbody>\n",
       "    <tr>\n",
       "      <td>0</td>\n",
       "      <td>0</td>\n",
       "      <td>TTTAAGAAGGAGATATACAT</td>\n",
       "      <td>RBS_1by1_0</td>\n",
       "      <td>3.194925</td>\n",
       "      <td>2.783529</td>\n",
       "      <td>1.798618</td>\n",
       "      <td>2.592357</td>\n",
       "      <td>0.717515</td>\n",
       "      <td>0.246643</td>\n",
       "      <td>reference</td>\n",
       "      <td>AGGAGA</td>\n",
       "    </tr>\n",
       "    <tr>\n",
       "      <td>1</td>\n",
       "      <td>21</td>\n",
       "      <td>TTTAAGACGGAGATATACAT</td>\n",
       "      <td>RBS_1by1_22</td>\n",
       "      <td>0.636342</td>\n",
       "      <td>0.785468</td>\n",
       "      <td>0.153062</td>\n",
       "      <td>0.524957</td>\n",
       "      <td>0.330589</td>\n",
       "      <td>0.117560</td>\n",
       "      <td>bps_core</td>\n",
       "      <td>CGGAGA</td>\n",
       "    </tr>\n",
       "    <tr>\n",
       "      <td>2</td>\n",
       "      <td>22</td>\n",
       "      <td>TTTAAGAGGGAGATATACAT</td>\n",
       "      <td>RBS_1by1_23</td>\n",
       "      <td>-0.616473</td>\n",
       "      <td>-0.502488</td>\n",
       "      <td>0.414480</td>\n",
       "      <td>-0.234827</td>\n",
       "      <td>0.565197</td>\n",
       "      <td>0.043805</td>\n",
       "      <td>bps_core</td>\n",
       "      <td>GGGAGA</td>\n",
       "    </tr>\n",
       "    <tr>\n",
       "      <td>3</td>\n",
       "      <td>23</td>\n",
       "      <td>TTTAAGATGGAGATATACAT</td>\n",
       "      <td>RBS_1by1_24</td>\n",
       "      <td>1.249077</td>\n",
       "      <td>0.811791</td>\n",
       "      <td>-0.085595</td>\n",
       "      <td>0.658424</td>\n",
       "      <td>0.680425</td>\n",
       "      <td>0.228128</td>\n",
       "      <td>bps_core</td>\n",
       "      <td>TGGAGA</td>\n",
       "    </tr>\n",
       "    <tr>\n",
       "      <td>4</td>\n",
       "      <td>24</td>\n",
       "      <td>TTTAAGAACGAGATATACAT</td>\n",
       "      <td>RBS_1by1_25</td>\n",
       "      <td>1.280146</td>\n",
       "      <td>1.046771</td>\n",
       "      <td>0.953997</td>\n",
       "      <td>1.093638</td>\n",
       "      <td>0.168050</td>\n",
       "      <td>0.193737</td>\n",
       "      <td>bps_core</td>\n",
       "      <td>ACGAGA</td>\n",
       "    </tr>\n",
       "  </tbody>\n",
       "</table>\n",
       "</div>"
      ],
      "text/plain": [
       "   Unnamed: 0                   RBS         Name      Rep1      Rep2  \\\n",
       "0           0  TTTAAGAAGGAGATATACAT   RBS_1by1_0  3.194925  2.783529   \n",
       "1          21  TTTAAGACGGAGATATACAT  RBS_1by1_22  0.636342  0.785468   \n",
       "2          22  TTTAAGAGGGAGATATACAT  RBS_1by1_23 -0.616473 -0.502488   \n",
       "3          23  TTTAAGATGGAGATATACAT  RBS_1by1_24  1.249077  0.811791   \n",
       "4          24  TTTAAGAACGAGATATACAT  RBS_1by1_25  1.280146  1.046771   \n",
       "\n",
       "       Rep3   AVERAGE       STD      PERC      Group    RBS6  \n",
       "0  1.798618  2.592357  0.717515  0.246643  reference  AGGAGA  \n",
       "1  0.153062  0.524957  0.330589  0.117560   bps_core  CGGAGA  \n",
       "2  0.414480 -0.234827  0.565197  0.043805   bps_core  GGGAGA  \n",
       "3 -0.085595  0.658424  0.680425  0.228128   bps_core  TGGAGA  \n",
       "4  0.953997  1.093638  0.168050  0.193737   bps_core  ACGAGA  "
      ]
     },
     "execution_count": 5,
     "metadata": {},
     "output_type": "execute_result"
    }
   ],
   "source": [
    "df.head()"
   ]
  },
  {
   "cell_type": "code",
   "execution_count": 6,
   "metadata": {},
   "outputs": [
    {
     "data": {
      "text/plain": [
       "(109, 2)"
      ]
     },
     "execution_count": 6,
     "metadata": {},
     "output_type": "execute_result"
    }
   ],
   "source": [
    "known_seq.shape"
   ]
  },
  {
   "cell_type": "code",
   "execution_count": 7,
   "metadata": {},
   "outputs": [],
   "source": [
    "shown_text = list(shown_text)"
   ]
  },
  {
   "cell_type": "code",
   "execution_count": 8,
   "metadata": {},
   "outputs": [],
   "source": [
    "known_seq_idx = []\n",
    "\n",
    "for i in known_seq:\n",
    "    idx = combo6_to_idx[i[0]]\n",
    "    known_seq_idx.append(idx)\n",
    "    shown_text[idx] = str(i)\n",
    "    \n",
    "known_seq_idx = np.asarray(known_seq_idx)"
   ]
  },
  {
   "cell_type": "code",
   "execution_count": 9,
   "metadata": {
    "scrolled": true
   },
   "outputs": [
    {
     "data": {
      "text/plain": [
       "array([ 324, 2372, 1348, 3396,  580,   68,  836,  388,  260,  452,  356,\n",
       "        340,  372,  328,  320,  332,  326,  325,  327, 2002, 3245, 1049,\n",
       "       1846, 3631, 1050,  784, 3794, 3100, 1216, 1504, 2362,  530, 1996,\n",
       "       1288, 2704,  222, 2506,  669, 1314,  936, 1124,  822, 2083, 1736,\n",
       "       1042, 2983, 3884, 2322, 1028, 2389, 3349,   87, 2929, 2888, 2525,\n",
       "       1109, 2836,  981, 3252,  281,  343, 2109, 3734,   29, 2385, 3089,\n",
       "       3093, 3195,  113, 2598, 1805, 2292, 2383, 2964,  660,  916, 2643,\n",
       "       2352,  546, 3276, 3003,  819, 3549, 3822, 2184, 2820,  772, 3091,\n",
       "       3844, 1284, 1356, 1337, 1332, 1336, 2724, 4093, 4092, 2047, 3071,\n",
       "       2729, 2728, 4094, 1706, 1023,  682, 3754, 1328, 2730, 4095])"
      ]
     },
     "execution_count": 9,
     "metadata": {},
     "output_type": "execute_result"
    }
   ],
   "source": [
    "known_seq_idx"
   ]
  },
  {
   "cell_type": "markdown",
   "metadata": {},
   "source": [
    "### Second round UCB recommendations"
   ]
  },
  {
   "cell_type": "code",
   "execution_count": 10,
   "metadata": {},
   "outputs": [],
   "source": [
    "Path = '../../../data/bandit_recs_second_round.csv'\n",
    "\n",
    "df = pd.read_csv(Path)\n",
    "ucb_rec = list(df['bandit'].drop_duplicates())"
   ]
  },
  {
   "cell_type": "code",
   "execution_count": 11,
   "metadata": {},
   "outputs": [],
   "source": [
    "ucb_rec_idx = []\n",
    "\n",
    "for i in ucb_rec:\n",
    "    if len(i) == 20:\n",
    "        string = i[7:13]\n",
    "        idx = combo6_to_idx[string]\n",
    "        ucb_rec_idx.append(idx)\n",
    "     \n",
    "ucb_rec_idx = np.asarray(ucb_rec_idx)"
   ]
  },
  {
   "cell_type": "code",
   "execution_count": 12,
   "metadata": {},
   "outputs": [
    {
     "data": {
      "text/plain": [
       "array([1867, 2011, 1883, 1947, 1915, 2004, 2027, 2006,  587, 3035, 1955,\n",
       "       2331, 1547, 1922, 1858, 1874, 1899,  331, 1938, 1755,  635, 2000,\n",
       "       1787, 1771, 2038, 3028, 3025, 1739, 2523, 2022, 1903, 1862,  603,\n",
       "       3190, 1958, 2315, 2043, 1875, 1891,  155, 1967, 1860, 2003, 2034,\n",
       "       1611, 1995, 2008, 3051, 1931, 1963, 1179, 2019, 1872, 3163, 3147,\n",
       "       3355, 3014, 1778, 1859, 1974, 1243, 3403, 1227, 1971, 1983, 1781,\n",
       "       3030, 1942, 3019, 1763, 2539, 1936, 1499, 1980, 1951, 1222, 1748,\n",
       "       2171, 3062, 1939, 2843, 1223, 1147,  731, 1659, 2427, 1887, 2459,\n",
       "       1910, 2335])"
      ]
     },
     "execution_count": 12,
     "metadata": {},
     "output_type": "execute_result"
    }
   ],
   "source": [
    "ucb_rec_idx"
   ]
  },
  {
   "cell_type": "markdown",
   "metadata": {},
   "source": [
    "## Setting"
   ]
  },
  {
   "cell_type": "code",
   "execution_count": 13,
   "metadata": {},
   "outputs": [],
   "source": [
    "random_state = 0\n",
    "n_dim = 2 # dimension reduction \n",
    "scores = {}"
   ]
  },
  {
   "cell_type": "code",
   "execution_count": 14,
   "metadata": {},
   "outputs": [],
   "source": [
    "def show_tsne_with_clustering(tsne_X, n_clusters, y_km):\n",
    "    plt.figure(figsize = (15,15))\n",
    "    for i in range(n_clusters):\n",
    "        plt.scatter(\n",
    "            tsne_X[y_km == i, 0], tsne_X[y_km == i, 1],\n",
    "            s=50, \n",
    "            label=str(i)\n",
    "            )\n",
    "    plt.legend()\n",
    "    plt.show()"
   ]
  },
  {
   "cell_type": "markdown",
   "metadata": {},
   "source": [
    "# Comparision for Kmers embedding"
   ]
  },
  {
   "cell_type": "code",
   "execution_count": 15,
   "metadata": {},
   "outputs": [],
   "source": [
    "l_list = [3]\n",
    "\n",
    "#kernel = Spectrum_Kernel(l_list = l_list, weight_flag = False, padding_flag = False, gap_flag = False)\n",
    "#X_spec, Y_spec = kernel.distance(todesign6_seqs)\n",
    "\n",
    "wd_kernel = WeightedDegree_Kernel(l_list = [6])\n",
    "distance = wd_kernel.distance(todesign6_seqs)\n",
    "\n",
    "#X_spec_pca = PCA(n_components= 15).fit_transform(X_spec)\n"
   ]
  },
  {
   "cell_type": "code",
   "execution_count": 16,
   "metadata": {},
   "outputs": [],
   "source": [
    "tsne = TSNE(n_components = n_dim, metric = 'precomputed')\n",
    "tsne_X_spec = tsne.fit_transform(distance)"
   ]
  },
  {
   "cell_type": "markdown",
   "metadata": {},
   "source": [
    "### Select number of clusterings for Kmeans"
   ]
  },
  {
   "cell_type": "code",
   "execution_count": 29,
   "metadata": {
    "scrolled": true
   },
   "outputs": [
    {
     "name": "stdout",
     "output_type": "stream",
     "text": [
      "tsne_kmeans++_wd_6_15_clusters_kmedoids_20bases\n",
      "result saved\n"
     ]
    }
   ],
   "source": [
    "n_clusters = 15\n",
    "file_name = 'tsne_kmeans++_wd_6_' +  str(n_clusters) + '_clusters_kmedoids_20bases'\n",
    "print(file_name)\n",
    "\n",
    "# choose X_spec or tsne_X_spec\n",
    "from sklearn_extra.cluster import KMedoids\n",
    "kmedoids = KMedoids(n_clusters=n_clusters, metric = 'precomputed', init='k-medoids++', random_state=random_state).fit(distance)\n",
    "y_km_spec = kmedoids.labels_\n",
    "\n",
    "# show_tsne_with_clustering(tsne_X_spec, n_clusters, y_km_spec)\n",
    "np.savez(file_name, coord = tsne_X_spec, text = shown_text, ykm = y_km_spec, known_seq = known_seq_idx, ucb_rec = ucb_rec_idx)\n",
    "print('result saved')"
   ]
  },
  {
   "cell_type": "markdown",
   "metadata": {},
   "source": [
    "## Evaluation \n",
    "\n",
    "### Known sequence performance on clustering"
   ]
  },
  {
   "cell_type": "code",
   "execution_count": 18,
   "metadata": {},
   "outputs": [],
   "source": [
    "from collections import defaultdict\n",
    "\n",
    "idxes = np.asarray(range(len(y_km_spec)))\n",
    "known_seq_clustering = defaultdict(list)\n",
    "label = defaultdict(list)\n",
    "mean = {}\n",
    "std = {}\n",
    "known_seq_clustering_count = []\n",
    "clustering_count = []\n",
    "\n",
    "for i in range(len(set(y_km_spec))):\n",
    "    clustering_count.append(len(idxes[y_km_spec == i]))\n",
    "    for k in idxes[y_km_spec==i]:\n",
    "        if k in known_seq_idx:\n",
    "            known_seq_clustering[i].append(shown_text[k])\n",
    "            label[i].append(float(shown_text[k].split(' ')[-1].split(']')[0]))\n",
    "    known_seq_clustering_count.append(len(label[i]))\n",
    "    if len(label[i]) > 0:\n",
    "        mean[i] = np.mean(label[i])\n",
    "        std[i] = np.std(label[i])\n",
    "# print(np.asarray(shown_text)[y_km_spec == i])"
   ]
  },
  {
   "cell_type": "code",
   "execution_count": 19,
   "metadata": {},
   "outputs": [
    {
     "data": {
      "text/plain": [
       "<matplotlib.legend.Legend at 0x1a22c64dd0>"
      ]
     },
     "execution_count": 19,
     "metadata": {},
     "output_type": "execute_result"
    },
    {
     "data": {
      "image/png": "[encoded data removed]",
      "text/plain": [
       "<Figure size 432x288 with 1 Axes>"
      ]
     },
     "metadata": {
      "needs_background": "light"
     },
     "output_type": "display_data"
    }
   ],
   "source": [
    "plt.plot(list(mean.keys()), list(mean.values()), label = 'mean')\n",
    "plt.fill_between(list(mean.keys()), np.asarray(list(mean.values())) + np.asarray(list(std.values())), \n",
    "                np.asarray(list(mean.values())) - np.asarray(list(std.values())), alpha = 0.2)\n",
    "plt.xlabel('clustering index')\n",
    "plt.legend()"
   ]
  },
  {
   "cell_type": "code",
   "execution_count": 20,
   "metadata": {},
   "outputs": [],
   "source": [
    "key_vec = []\n",
    "label_vec = []\n",
    "for key, value in label.items():\n",
    "    if len(value) > 0:\n",
    "        key_vec.append(key)\n",
    "        label_vec.append(value)"
   ]
  },
  {
   "cell_type": "code",
   "execution_count": 21,
   "metadata": {},
   "outputs": [
    {
     "data": {
      "text/plain": [
       "Text(0.5, 1.0, 'Violin plot for labels in clustering')"
      ]
     },
     "execution_count": 21,
     "metadata": {},
     "output_type": "execute_result"
    },
    {
     "data": {
      "image/png": "[encoded data removed]",
      "text/plain": [
       "<Figure size 432x288 with 1 Axes>"
      ]
     },
     "metadata": {
      "needs_background": "light"
     },
     "output_type": "display_data"
    }
   ],
   "source": [
    "plt.violinplot(label_vec, key_vec)\n",
    "plt.title('Violin plot for labels in clustering')"
   ]
  },
  {
   "cell_type": "code",
   "execution_count": 22,
   "metadata": {},
   "outputs": [
    {
     "data": {
      "text/plain": [
       "Text(0.5, 0, 'clustering index')"
      ]
     },
     "execution_count": 22,
     "metadata": {},
     "output_type": "execute_result"
    },
    {
     "data": {
      "image/png": "[encoded data removed]",
      "text/plain": [
       "<Figure size 432x288 with 1 Axes>"
      ]
     },
     "metadata": {
      "needs_background": "light"
     },
     "output_type": "display_data"
    }
   ],
   "source": [
    "plt.bar(list(range(15)), clustering_count)\n",
    "plt.title('clustering_count')\n",
    "plt.xlabel('clustering index')"
   ]
  },
  {
   "cell_type": "code",
   "execution_count": 23,
   "metadata": {},
   "outputs": [
    {
     "data": {
      "text/plain": [
       "Text(0.5, 0, 'clustering index')"
      ]
     },
     "execution_count": 23,
     "metadata": {},
     "output_type": "execute_result"
    },
    {
     "data": {
      "image/png": "[encoded data removed]",
      "text/plain": [
       "<Figure size 432x288 with 1 Axes>"
      ]
     },
     "metadata": {
      "needs_background": "light"
     },
     "output_type": "display_data"
    }
   ],
   "source": [
    "plt.bar(list(range(15)), np.asarray(known_seq_clustering_count)/np.asarray(clustering_count))\n",
    "plt.title('known_seq_clustering_count')\n",
    "plt.xlabel('clustering index')"
   ]
  },
  {
   "cell_type": "markdown",
   "metadata": {},
   "source": [
    "### UCB design converage"
   ]
  },
  {
   "cell_type": "code",
   "execution_count": 24,
   "metadata": {},
   "outputs": [],
   "source": [
    "idxes = np.asarray(range(len(y_km_spec)))\n",
    "ucb_rec_clustering = defaultdict(list)\n",
    "ucb_rec_clustering_count = []\n",
    "\n",
    "for i in range(len(set(y_km_spec))):\n",
    "    for k in idxes[y_km_spec==i]:\n",
    "        if k in ucb_rec_idx:\n",
    "            ucb_rec_clustering[i].append(shown_text[k])\n",
    "    ucb_rec_clustering_count.append(len(ucb_rec_clustering[i]))"
   ]
  },
  {
   "cell_type": "code",
   "execution_count": 25,
   "metadata": {},
   "outputs": [
    {
     "data": {
      "text/plain": [
       "Text(0.5, 0, 'clustering index')"
      ]
     },
     "execution_count": 25,
     "metadata": {},
     "output_type": "execute_result"
    },
    {
     "data": {
      "image/png": "[encoded data removed]",
      "text/plain": [
       "<Figure size 432x288 with 1 Axes>"
      ]
     },
     "metadata": {
      "needs_background": "light"
     },
     "output_type": "display_data"
    }
   ],
   "source": [
    "plt.bar(list(ucb_rec_clustering.keys()), ucb_rec_clustering_count)\n",
    "plt.title('ucb rec clustering count')\n",
    "plt.xlabel('clustering index')"
   ]
  }
 ],
 "metadata": {
  "kernelspec": {
   "display_name": "Python 3",
   "language": "python",
   "name": "python3"
  },
  "language_info": {
   "codemirror_mode": {
    "name": "ipython",
    "version": 3
   },
   "file_extension": ".py",
   "mimetype": "text/x-python",
   "name": "python",
   "nbconvert_exporter": "python",
   "pygments_lexer": "ipython3",
   "version": "3.7.4"
  }
 },
 "nbformat": 4,
 "nbformat_minor": 2
}

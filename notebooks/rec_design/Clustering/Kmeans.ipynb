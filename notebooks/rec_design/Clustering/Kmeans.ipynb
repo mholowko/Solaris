{
 "cells": [
  {
   "cell_type": "markdown",
   "metadata": {},
   "source": [
    "For exploration, we should spread the choices as much as possible. Since we do not want to waste the engergy for searching the same region which may give bad results. The UCB algorithm balance the exploration and exploitation by balancing weights on predicted mean and predicted variance. To check whether UCB algorithm gives a reasonable coverage of the unknown spacing and known spacing, we run a clustering algorithm on the whole exploration space. We expect to cover several sequences in each clustering at the first a few rounds, then focusing more on sequences on the clustering gives a relatively high performance. \n",
    "\n",
    "\n",
    "## Pipeline\n",
    "\n",
    "- Embedding\n",
    "    - kmers ([3], [2,3,4,5,6])\n",
    "    - onehot\n",
    "- PCA\n",
    "    - number of component (select by singular_values_)\n",
    "- Clustering (Kmeans++)\n",
    "    - number of clustering (Elbow method to select good number of clusterings)\n",
    "- TSNE (to 2 dims) for visualisation\n",
    "   \n",
    "## Evaluation\n",
    "\n",
    "- We show the average value and variance of label for the sequences in each clustering\n",
    "\n",
    "Ideas:\n",
    "\n",
    "A possible idea is to combine the clustering and successive rejects, where rejects happens in terms of clusters rather than single data points. This solves the problem that the searching space (number of arms) are too large. "
   ]
  },
  {
   "cell_type": "code",
   "execution_count": 1,
   "metadata": {},
   "outputs": [],
   "source": [
    "# direct to proper path\n",
    "import os\n",
    "import sys\n",
    "module_path = os.path.abspath(os.path.join('../..'))\n",
    "if module_path not in sys.path:\n",
    "    sys.path.append(module_path)\n",
    "\n",
    "from sklearn.cluster import KMeans\n",
    "from nltk.metrics import distance \n",
    "# import Pycluster as PC\n",
    "import numpy as np\n",
    "import matplotlib.pyplot as plt\n",
    "%matplotlib inline\n",
    "import itertools\n",
    "import math\n",
    "\n",
    "from codes.kernels_for_GPK import Phi, Spectrum_Kernel, Sum_Spectrum_Kernel\n",
    "from codes.embedding import Embedding\n",
    "\n",
    "from sklearn.manifold import TSNE\n",
    "from sklearn.decomposition import PCA"
   ]
  },
  {
   "cell_type": "code",
   "execution_count": 2,
   "metadata": {},
   "outputs": [],
   "source": [
    "# create all combos\n",
    "\n",
    "combos = [] # 20-base\n",
    "combos_6 = [] # 6-base\n",
    "combo6_to_idx = {}\n",
    "labels = []\n",
    "char_sets = ['A', 'G', 'C', 'T']\n",
    "design_len = 6\n",
    "\n",
    "# to be changed\n",
    "pre_design = 'TTTAAGA'\n",
    "pos_design = 'TATACAT'\n",
    "\n",
    "for i, combo in enumerate(itertools.product(char_sets, repeat= design_len)):\n",
    "    combos_6.append(''.join(combo))\n",
    "    combo6_to_idx[''.join(combo)] = i\n",
    "    combo = pre_design + ''.join(combo) + pos_design\n",
    "    combos.append(combo)\n",
    "    labels.append(math.inf)\n",
    "    \n",
    "assert len(combos) == len(char_sets) ** design_len\n",
    "# len(combos)\n",
    "\n",
    "todesign6_seqs = np.asarray(combos_6) # 6-base\n",
    "todesign6_data = np.asarray(list(zip(combos_6, labels))) # 6-base\n",
    "\n",
    "shown_text = todesign6_seqs"
   ]
  },
  {
   "cell_type": "code",
   "execution_count": 3,
   "metadata": {},
   "outputs": [
    {
     "data": {
      "text/plain": [
       "array(['AAAAAA', 'AAAAAG', 'AAAAAC', ..., 'TTTTTG', 'TTTTTC', 'TTTTTT'],\n",
       "      dtype='<U6')"
      ]
     },
     "execution_count": 3,
     "metadata": {},
     "output_type": "execute_result"
    }
   ],
   "source": [
    "todesign6_seqs"
   ]
  },
  {
   "cell_type": "markdown",
   "metadata": {},
   "source": [
    "## Known seq"
   ]
  },
  {
   "cell_type": "code",
   "execution_count": 4,
   "metadata": {},
   "outputs": [],
   "source": [
    "import pandas as pd \n",
    "\n",
    "Path = '../../data/firstRound_4h.csv'\n",
    "\n",
    "df = pd.read_csv(Path)\n",
    "known_seq = np.asarray(df[['RBS6', 'AVERAGE']].drop_duplicates('RBS6'))"
   ]
  },
  {
   "cell_type": "code",
   "execution_count": 5,
   "metadata": {},
   "outputs": [
    {
     "data": {
      "text/html": [
       "<div>\n",
       "<style scoped>\n",
       "    .dataframe tbody tr th:only-of-type {\n",
       "        vertical-align: middle;\n",
       "    }\n",
       "\n",
       "    .dataframe tbody tr th {\n",
       "        vertical-align: top;\n",
       "    }\n",
       "\n",
       "    .dataframe thead th {\n",
       "        text-align: right;\n",
       "    }\n",
       "</style>\n",
       "<table border=\"1\" class=\"dataframe\">\n",
       "  <thead>\n",
       "    <tr style=\"text-align: right;\">\n",
       "      <th></th>\n",
       "      <th>Unnamed: 0</th>\n",
       "      <th>RBS</th>\n",
       "      <th>Name</th>\n",
       "      <th>Rep1</th>\n",
       "      <th>Rep2</th>\n",
       "      <th>Rep3</th>\n",
       "      <th>AVERAGE</th>\n",
       "      <th>STD</th>\n",
       "      <th>PERC</th>\n",
       "      <th>Group</th>\n",
       "      <th>RBS6</th>\n",
       "    </tr>\n",
       "  </thead>\n",
       "  <tbody>\n",
       "    <tr>\n",
       "      <th>0</th>\n",
       "      <td>0</td>\n",
       "      <td>TTTAAGAAGGAGATATACAT</td>\n",
       "      <td>RBS_1by1_0</td>\n",
       "      <td>3.194925</td>\n",
       "      <td>2.783529</td>\n",
       "      <td>1.798618</td>\n",
       "      <td>2.592357</td>\n",
       "      <td>0.717515</td>\n",
       "      <td>0.246643</td>\n",
       "      <td>bps</td>\n",
       "      <td>AGGAGA</td>\n",
       "    </tr>\n",
       "    <tr>\n",
       "      <th>1</th>\n",
       "      <td>1</td>\n",
       "      <td>CTTAAGAAGGAGATATACAT</td>\n",
       "      <td>RBS_1by1_1</td>\n",
       "      <td>1.844257</td>\n",
       "      <td>1.678119</td>\n",
       "      <td>1.290106</td>\n",
       "      <td>1.604161</td>\n",
       "      <td>0.284382</td>\n",
       "      <td>0.185590</td>\n",
       "      <td>bps</td>\n",
       "      <td>AGGAGA</td>\n",
       "    </tr>\n",
       "    <tr>\n",
       "      <th>2</th>\n",
       "      <td>2</td>\n",
       "      <td>GTTAAGAAGGAGATATACAT</td>\n",
       "      <td>RBS_1by1_2</td>\n",
       "      <td>0.674610</td>\n",
       "      <td>0.670263</td>\n",
       "      <td>0.643113</td>\n",
       "      <td>0.662662</td>\n",
       "      <td>0.017069</td>\n",
       "      <td>0.147150</td>\n",
       "      <td>bps</td>\n",
       "      <td>AGGAGA</td>\n",
       "    </tr>\n",
       "    <tr>\n",
       "      <th>3</th>\n",
       "      <td>3</td>\n",
       "      <td>ATTAAGAAGGAGATATACAT</td>\n",
       "      <td>RBS_1by1_3</td>\n",
       "      <td>1.986839</td>\n",
       "      <td>1.948917</td>\n",
       "      <td>1.101241</td>\n",
       "      <td>1.678999</td>\n",
       "      <td>0.500712</td>\n",
       "      <td>0.169798</td>\n",
       "      <td>bps</td>\n",
       "      <td>AGGAGA</td>\n",
       "    </tr>\n",
       "    <tr>\n",
       "      <th>4</th>\n",
       "      <td>4</td>\n",
       "      <td>TCTAAGAAGGAGATATACAT</td>\n",
       "      <td>RBS_1by1_4</td>\n",
       "      <td>1.830061</td>\n",
       "      <td>2.201733</td>\n",
       "      <td>0.983436</td>\n",
       "      <td>1.671743</td>\n",
       "      <td>0.624388</td>\n",
       "      <td>0.117162</td>\n",
       "      <td>bps</td>\n",
       "      <td>AGGAGA</td>\n",
       "    </tr>\n",
       "  </tbody>\n",
       "</table>\n",
       "</div>"
      ],
      "text/plain": [
       "   Unnamed: 0                   RBS        Name      Rep1      Rep2      Rep3  \\\n",
       "0           0  TTTAAGAAGGAGATATACAT  RBS_1by1_0  3.194925  2.783529  1.798618   \n",
       "1           1  CTTAAGAAGGAGATATACAT  RBS_1by1_1  1.844257  1.678119  1.290106   \n",
       "2           2  GTTAAGAAGGAGATATACAT  RBS_1by1_2  0.674610  0.670263  0.643113   \n",
       "3           3  ATTAAGAAGGAGATATACAT  RBS_1by1_3  1.986839  1.948917  1.101241   \n",
       "4           4  TCTAAGAAGGAGATATACAT  RBS_1by1_4  1.830061  2.201733  0.983436   \n",
       "\n",
       "    AVERAGE       STD      PERC Group    RBS6  \n",
       "0  2.592357  0.717515  0.246643   bps  AGGAGA  \n",
       "1  1.604161  0.284382  0.185590   bps  AGGAGA  \n",
       "2  0.662662  0.017069  0.147150   bps  AGGAGA  \n",
       "3  1.678999  0.500712  0.169798   bps  AGGAGA  \n",
       "4  1.671743  0.624388  0.117162   bps  AGGAGA  "
      ]
     },
     "execution_count": 5,
     "metadata": {},
     "output_type": "execute_result"
    }
   ],
   "source": [
    "df.head()"
   ]
  },
  {
   "cell_type": "code",
   "execution_count": 6,
   "metadata": {},
   "outputs": [
    {
     "data": {
      "text/plain": [
       "(109, 2)"
      ]
     },
     "execution_count": 6,
     "metadata": {},
     "output_type": "execute_result"
    }
   ],
   "source": [
    "known_seq.shape"
   ]
  },
  {
   "cell_type": "code",
   "execution_count": 7,
   "metadata": {},
   "outputs": [],
   "source": [
    "shown_text = list(shown_text)"
   ]
  },
  {
   "cell_type": "code",
   "execution_count": 8,
   "metadata": {},
   "outputs": [],
   "source": [
    "known_seq_idx = []\n",
    "\n",
    "for i in known_seq:\n",
    "    idx = combo6_to_idx[i[0]]\n",
    "    known_seq_idx.append(idx)\n",
    "    shown_text[idx] = str(i)\n",
    "    \n",
    "known_seq_idx = np.asarray(known_seq_idx)"
   ]
  },
  {
   "cell_type": "code",
   "execution_count": 9,
   "metadata": {
    "scrolled": true
   },
   "outputs": [
    {
     "data": {
      "text/plain": [
       "array([ 324, 2372, 1348, 3396,  580,   68,  836,  388,  260,  452,  356,\n",
       "        340,  372,  328,  320,  332,  326,  325,  327, 2002, 3245, 1049,\n",
       "       1846, 3631, 1050,  784, 3794, 3100, 1216, 1504, 2362,  530, 1996,\n",
       "       1288, 2704,  222, 2506,  669, 1314,  936, 1124,  822, 2083, 1736,\n",
       "       1042, 2983, 3884, 2322, 2383, 2964,  660,  916, 2643, 2352,  546,\n",
       "       3276, 3003,  819, 3549, 3822, 2184, 2820,  772, 3091, 3844, 1284,\n",
       "       1356, 1337, 1332, 1336, 2724, 4093, 4092, 2047, 3071, 2729, 2728,\n",
       "       4094, 1706, 1023,  682, 3754, 1328, 2730, 4095, 1028, 2389, 3349,\n",
       "         87, 2929, 2888, 2525, 1109, 2836,  981, 3252,  281,  343, 2109,\n",
       "       3734,   29, 2385, 3089, 3093, 3195,  113, 2598, 1805, 2292])"
      ]
     },
     "execution_count": 9,
     "metadata": {},
     "output_type": "execute_result"
    }
   ],
   "source": [
    "known_seq_idx"
   ]
  },
  {
   "cell_type": "markdown",
   "metadata": {},
   "source": [
    "## Setting"
   ]
  },
  {
   "cell_type": "code",
   "execution_count": 10,
   "metadata": {},
   "outputs": [],
   "source": [
    "random_state = 0\n",
    "n_dim = 2 # dimension reduction \n",
    "scores = {}"
   ]
  },
  {
   "cell_type": "code",
   "execution_count": 11,
   "metadata": {},
   "outputs": [],
   "source": [
    "def show_tsne_with_clustering(tsne_X, n_clusters, y_km):\n",
    "    plt.figure(figsize = (15,15))\n",
    "    for i in range(n_clusters):\n",
    "        plt.scatter(\n",
    "            tsne_X[y_km == i, 0], tsne_X[y_km == i, 1],\n",
    "            s=50, \n",
    "            label=str(i)\n",
    "            )\n",
    "    plt.legend()\n",
    "    plt.show()"
   ]
  },
  {
   "cell_type": "markdown",
   "metadata": {},
   "source": [
    "# Comparision for Kmers embedding"
   ]
  },
  {
   "cell_type": "code",
   "execution_count": 12,
   "metadata": {},
   "outputs": [
    {
     "name": "stdout",
     "output_type": "stream",
     "text": [
      "(4096, 5456)\n",
      "(4096, 5456)\n"
     ]
    }
   ],
   "source": [
    "l_list = [2,3,4,5,6]\n",
    "\n",
    "kernel = Spectrum_Kernel(l_list = l_list, weight_flag = False, padding_flag = False, gap_flag = False)\n",
    "X_spec, Y_spec = kernel.distance(todesign6_seqs)\n",
    "\n",
    "#X_spec_pca = PCA(n_components= 15).fit_transform(X_spec)\n"
   ]
  },
  {
   "cell_type": "markdown",
   "metadata": {},
   "source": [
    "### select n_components for PCA"
   ]
  },
  {
   "cell_type": "code",
   "execution_count": 13,
   "metadata": {},
   "outputs": [
    {
     "data": {
      "text/plain": [
       "PCA(copy=True, iterated_power='auto', n_components=4000, random_state=None,\n",
       "    svd_solver='auto', tol=0.0, whiten=False)"
      ]
     },
     "execution_count": 13,
     "metadata": {},
     "output_type": "execute_result"
    }
   ],
   "source": [
    "pca = PCA(n_components= 4000)\n",
    "pca.fit(X_spec)"
   ]
  },
  {
   "cell_type": "code",
   "execution_count": 14,
   "metadata": {},
   "outputs": [
    {
     "data": {
      "text/plain": [
       "Text(0.5, 1.0, 'PCA for Kmers [2,3,4,5,6]')"
      ]
     },
     "execution_count": 14,
     "metadata": {},
     "output_type": "execute_result"
    },
    {
     "data": {
      "image/png": "[encoded data removed]",
      "text/plain": [
       "<Figure size 432x288 with 1 Axes>"
      ]
     },
     "metadata": {
      "needs_background": "light"
     },
     "output_type": "display_data"
    }
   ],
   "source": [
    "plt.plot(pca.singular_values_)\n",
    "plt.ylabel('singular_values')\n",
    "plt.xlabel('n_components')\n",
    "plt.title('PCA for Kmers [2,3,4,5,6]')"
   ]
  },
  {
   "cell_type": "markdown",
   "metadata": {},
   "source": [
    "Let's have a closer look. "
   ]
  },
  {
   "cell_type": "code",
   "execution_count": 15,
   "metadata": {},
   "outputs": [
    {
     "data": {
      "text/plain": [
       "Text(0.5, 1.0, 'PCA for Kmers [2,3,4,5,6]')"
      ]
     },
     "execution_count": 15,
     "metadata": {},
     "output_type": "execute_result"
    },
    {
     "data": {
      "image/png": "[encoded data removed]",
      "text/plain": [
       "<Figure size 432x288 with 1 Axes>"
      ]
     },
     "metadata": {
      "needs_background": "light"
     },
     "output_type": "display_data"
    }
   ],
   "source": [
    "plt.plot(pca.singular_values_[:50])\n",
    "plt.ylabel('singular_values')\n",
    "plt.xlabel('n_components')\n",
    "plt.title('PCA for Kmers [2,3,4,5,6]')"
   ]
  },
  {
   "cell_type": "markdown",
   "metadata": {},
   "source": [
    "We decide to select 15 components. "
   ]
  },
  {
   "cell_type": "code",
   "execution_count": 16,
   "metadata": {},
   "outputs": [],
   "source": [
    "X_spec_pca = PCA(n_components= 15).fit_transform(X_spec)"
   ]
  },
  {
   "cell_type": "code",
   "execution_count": 17,
   "metadata": {},
   "outputs": [],
   "source": [
    "tsne = TSNE(n_components = n_dim)\n",
    "tsne_X_spec = tsne.fit_transform(X_spec_pca)"
   ]
  },
  {
   "cell_type": "markdown",
   "metadata": {},
   "source": [
    "### Select number of clusterings for Kmeans"
   ]
  },
  {
   "cell_type": "code",
   "execution_count": 18,
   "metadata": {},
   "outputs": [],
   "source": [
    "sse_spec = []\n",
    "n_clusters_list = list(range(1,30))\n",
    "\n",
    "for n_clusters in n_clusters_list:\n",
    "    kmeans_spec = KMeans(n_clusters=n_clusters, init = 'k-means++', random_state= random_state)\n",
    "    kmeans_spec.fit(X_spec_pca)\n",
    "    y_km_spec = kmeans_spec.predict(X_spec_pca)\n",
    "    sse_spec.append(kmeans_spec.inertia_)"
   ]
  },
  {
   "cell_type": "code",
   "execution_count": 19,
   "metadata": {},
   "outputs": [
    {
     "data": {
      "text/plain": [
       "Text(0.5, 1.0, 'Kmers Embedding')"
      ]
     },
     "execution_count": 19,
     "metadata": {},
     "output_type": "execute_result"
    },
    {
     "data": {
      "image/png": "[encoded data removed]",
      "text/plain": [
       "<Figure size 432x432 with 1 Axes>"
      ]
     },
     "metadata": {
      "needs_background": "light"
     },
     "output_type": "display_data"
    }
   ],
   "source": [
    "# Plot sse against k\n",
    "plt.figure(figsize=(6, 6))\n",
    "plt.plot(n_clusters_list, sse_spec, '-o')\n",
    "plt.xlabel(r'Number of clusters *k*')\n",
    "plt.ylabel('Sum of squared distance')\n",
    "plt.title('Kmers Embedding')"
   ]
  },
  {
   "cell_type": "code",
   "execution_count": 20,
   "metadata": {
    "scrolled": true
   },
   "outputs": [
    {
     "name": "stdout",
     "output_type": "stream",
     "text": [
      "tsne_kmeans++_kmers_23456_15_clusters\n",
      "result saved\n"
     ]
    }
   ],
   "source": [
    "n_clusters = 15\n",
    "file_name = 'tsne_kmeans++_kmers_23456_' +  str(n_clusters) + '_clusters'\n",
    "print(file_name)\n",
    "\n",
    "# choose X_spec or tsne_X_spec\n",
    "kmeans_spec = KMeans(n_clusters=n_clusters, init = 'k-means++', random_state= random_state)\n",
    "kmeans_spec.fit(X_spec_pca)\n",
    "y_km_spec = kmeans_spec.predict(X_spec_pca)\n",
    "\n",
    "# show_tsne_with_clustering(tsne_X_spec, n_clusters, y_km_spec)\n",
    "np.savez(file_name, coord = tsne_X_spec, text = shown_text, ykm = y_km_spec)\n",
    "print('result saved')"
   ]
  },
  {
   "cell_type": "markdown",
   "metadata": {},
   "source": [
    "# Comparision for onehot embedding"
   ]
  },
  {
   "cell_type": "code",
   "execution_count": 21,
   "metadata": {},
   "outputs": [],
   "source": [
    "# embedding with onehot\n",
    "\n",
    "embed = Embedding(todesign6_seqs)\n",
    "X_onehot = embed.onehot()"
   ]
  },
  {
   "cell_type": "code",
   "execution_count": 22,
   "metadata": {},
   "outputs": [],
   "source": [
    "X_onehot_pca = PCA(n_components= 15).fit_transform(X_onehot)\n",
    "\n",
    "tsne = TSNE(n_components = n_dim)\n",
    "tsne_X_onehot = tsne.fit_transform(X_onehot_pca)"
   ]
  },
  {
   "cell_type": "markdown",
   "metadata": {},
   "source": [
    "### Select n_components for PCA"
   ]
  },
  {
   "cell_type": "code",
   "execution_count": 23,
   "metadata": {},
   "outputs": [
    {
     "data": {
      "text/plain": [
       "PCA(copy=True, iterated_power='auto', n_components=24, random_state=None,\n",
       "    svd_solver='auto', tol=0.0, whiten=False)"
      ]
     },
     "execution_count": 23,
     "metadata": {},
     "output_type": "execute_result"
    }
   ],
   "source": [
    "pca = PCA(n_components= 24)\n",
    "pca.fit(X_onehot)"
   ]
  },
  {
   "cell_type": "code",
   "execution_count": 24,
   "metadata": {},
   "outputs": [
    {
     "data": {
      "text/plain": [
       "[<matplotlib.lines.Line2D at 0x7f9ca11ae080>]"
      ]
     },
     "execution_count": 24,
     "metadata": {},
     "output_type": "execute_result"
    },
    {
     "data": {
      "image/png": "[encoded data removed]",
      "text/plain": [
       "<Figure size 432x288 with 1 Axes>"
      ]
     },
     "metadata": {
      "needs_background": "light"
     },
     "output_type": "display_data"
    }
   ],
   "source": [
    "plt.plot(pca.explained_variance_ratio_)"
   ]
  },
  {
   "cell_type": "markdown",
   "metadata": {},
   "source": [
    "We decide to use 20."
   ]
  },
  {
   "cell_type": "code",
   "execution_count": 25,
   "metadata": {},
   "outputs": [],
   "source": [
    "X_onehot_pca = PCA(n_components= 18).fit_transform(X_onehot)"
   ]
  },
  {
   "cell_type": "code",
   "execution_count": 26,
   "metadata": {},
   "outputs": [],
   "source": [
    "sse_onehot = []\n",
    "n_clusters_list = list(range(1,30))\n",
    "\n",
    "for n_clusters in n_clusters_list:\n",
    "    kmeans_onehot = KMeans(n_clusters=n_clusters, init = 'k-means++', random_state= random_state)\n",
    "    kmeans_onehot.fit(X_onehot_pca)\n",
    "    y_km_onehot =  kmeans_onehot.predict(X_onehot_pca)\n",
    "    sse_onehot.append(kmeans_onehot.inertia_)"
   ]
  },
  {
   "cell_type": "code",
   "execution_count": 27,
   "metadata": {},
   "outputs": [
    {
     "data": {
      "text/plain": [
       "Text(0.5, 1.0, 'onehot embedding')"
      ]
     },
     "execution_count": 27,
     "metadata": {},
     "output_type": "execute_result"
    },
    {
     "data": {
      "image/png": "[encoded data removed]",
      "text/plain": [
       "<Figure size 432x432 with 1 Axes>"
      ]
     },
     "metadata": {
      "needs_background": "light"
     },
     "output_type": "display_data"
    }
   ],
   "source": [
    "# Plot sse against k\n",
    "plt.figure(figsize=(6, 6))\n",
    "plt.plot(n_clusters_list, sse_onehot, '-o')\n",
    "plt.xlabel(r'Number of clusters *k*')\n",
    "plt.ylabel('Sum of squared distance')\n",
    "plt.title('onehot embedding')"
   ]
  },
  {
   "cell_type": "code",
   "execution_count": 28,
   "metadata": {},
   "outputs": [
    {
     "name": "stdout",
     "output_type": "stream",
     "text": [
      "tsne_kmeans++_normalised_onehot_30_clusters\n",
      "result saved\n"
     ]
    }
   ],
   "source": [
    "n_clusters = 30\n",
    "\n",
    "file_name = 'tsne_kmeans++_normalised_onehot_' + str(n_clusters) + '_clusters'\n",
    "print(file_name)\n",
    "\n",
    "# choose X_onehot or tsne_X_onehot\n",
    "kmeans_onehot = KMeans(n_clusters=n_clusters, init = 'k-means++', random_state= random_state)\n",
    "kmeans_onehot.fit(X_onehot_pca)\n",
    "y_km_onehot =  kmeans_onehot.predict(X_onehot_pca)\n",
    "\n",
    "# show_tsne_with_clustering(tsne_X_spec, n_clusters, y_km_spec)\n",
    "np.savez(file_name, coord = tsne_X_onehot, text = shown_text, ykm = y_km_onehot)\n",
    "print('result saved')"
   ]
  },
  {
   "cell_type": "code",
   "execution_count": null,
   "metadata": {},
   "outputs": [],
   "source": []
  }
 ],
 "metadata": {
  "kernelspec": {
   "display_name": "Python 3",
   "language": "python",
   "name": "python3"
  },
  "language_info": {
   "codemirror_mode": {
    "name": "ipython",
    "version": 3
   },
   "file_extension": ".py",
   "mimetype": "text/x-python",
   "name": "python",
   "nbconvert_exporter": "python",
   "pygments_lexer": "ipython3",
   "version": "3.7.3"
  }
 },
 "nbformat": 4,
 "nbformat_minor": 2
}

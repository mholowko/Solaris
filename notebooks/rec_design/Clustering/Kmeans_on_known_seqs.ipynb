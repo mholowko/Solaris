{
 "cells": [
  {
   "cell_type": "markdown",
   "metadata": {},
   "source": [
    "For exploration, we should spread the choices as much as possible. Since we do not want to waste the engergy for searching the same region which may give bad results. The UCB algorithm balance the exploration and exploitation by balancing weights on predicted mean and predicted variance. To check whether UCB algorithm gives a reasonable coverage of the unknown spacing and known spacing, we run a clustering algorithm on the whole exploration space. We expect to cover several sequences in each clustering at the first a few rounds, then focusing more on sequences on the clustering gives a relatively high performance. \n",
    "\n",
    "\n",
    "## Pipeline\n",
    "\n",
    "- Embedding\n",
    "    - kmers ([3], [2,3,4,5,6])\n",
    "    - onehot\n",
    "- PCA\n",
    "    - number of component (select by singular_values_)\n",
    "- Clustering (Kmeans++)\n",
    "    - number of clustering (Elbow method to select good number of clusterings)\n",
    "- TSNE (to 2 dims) for visualisation\n",
    "   \n",
    "## Evaluation\n",
    "\n",
    "- We show the average value and variance of label for the sequences in each clustering\n",
    "\n",
    "Ideas:\n",
    "\n",
    "A possible idea is to combine the clustering and successive rejects, where rejects happens in terms of clusters rather than single data points. This solves the problem that the searching space (number of arms) are too large. "
   ]
  },
  {
   "cell_type": "code",
   "execution_count": 1,
   "metadata": {
    "ExecuteTime": {
     "end_time": "2020-07-07T01:48:33.306089Z",
     "start_time": "2020-07-07T01:48:32.677512Z"
    }
   },
   "outputs": [],
   "source": [
    "# direct to proper path\n",
    "import os\n",
    "import sys\n",
    "module_path = os.path.abspath(os.path.join('../../..'))\n",
    "if module_path not in sys.path:\n",
    "    sys.path.append(module_path)\n",
    "\n",
    "from sklearn.cluster import KMeans\n",
    "from nltk.metrics import distance \n",
    "# import Pycluster as PC\n",
    "import numpy as np\n",
    "import matplotlib.pyplot as plt\n",
    "%matplotlib inline\n",
    "import itertools\n",
    "import math\n",
    "\n",
    "from codes.kernels_for_GPK import Phi, Spectrum_Kernel, Sum_Spectrum_Kernel\n",
    "from codes.embedding import Embedding\n",
    "\n",
    "from sklearn.manifold import TSNE\n",
    "from sklearn.decomposition import PCA"
   ]
  },
  {
   "cell_type": "markdown",
   "metadata": {},
   "source": [
    "## Known seq"
   ]
  },
  {
   "cell_type": "code",
   "execution_count": 2,
   "metadata": {
    "ExecuteTime": {
     "end_time": "2020-07-07T01:48:33.461700Z",
     "start_time": "2020-07-07T01:48:33.308039Z"
    }
   },
   "outputs": [],
   "source": [
    "import pandas as pd \n",
    "\n",
    "Path = '../../../data/firstRound_4h.csv'\n",
    "\n",
    "df = pd.read_csv(Path)\n",
    "known_data = np.asarray(df[['RBS', 'AVERAGE']])\n",
    "known_seq = np.asarray(df['RBS'])"
   ]
  },
  {
   "cell_type": "code",
   "execution_count": 3,
   "metadata": {
    "ExecuteTime": {
     "end_time": "2020-07-07T01:48:33.477209Z",
     "start_time": "2020-07-07T01:48:33.463422Z"
    }
   },
   "outputs": [
    {
     "data": {
      "text/html": [
       "<div>\n",
       "<style scoped>\n",
       "    .dataframe tbody tr th:only-of-type {\n",
       "        vertical-align: middle;\n",
       "    }\n",
       "\n",
       "    .dataframe tbody tr th {\n",
       "        vertical-align: top;\n",
       "    }\n",
       "\n",
       "    .dataframe thead th {\n",
       "        text-align: right;\n",
       "    }\n",
       "</style>\n",
       "<table border=\"1\" class=\"dataframe\">\n",
       "  <thead>\n",
       "    <tr style=\"text-align: right;\">\n",
       "      <th></th>\n",
       "      <th>Unnamed: 0</th>\n",
       "      <th>RBS</th>\n",
       "      <th>Name</th>\n",
       "      <th>Rep1</th>\n",
       "      <th>Rep2</th>\n",
       "      <th>Rep3</th>\n",
       "      <th>AVERAGE</th>\n",
       "      <th>STD</th>\n",
       "      <th>PERC</th>\n",
       "      <th>Group</th>\n",
       "      <th>RBS6</th>\n",
       "    </tr>\n",
       "  </thead>\n",
       "  <tbody>\n",
       "    <tr>\n",
       "      <th>0</th>\n",
       "      <td>0</td>\n",
       "      <td>TTTAAGAAGGAGATATACAT</td>\n",
       "      <td>RBS_1by1_0</td>\n",
       "      <td>3.194925</td>\n",
       "      <td>2.783529</td>\n",
       "      <td>1.798618</td>\n",
       "      <td>2.592357</td>\n",
       "      <td>0.717515</td>\n",
       "      <td>0.246643</td>\n",
       "      <td>reference</td>\n",
       "      <td>AGGAGA</td>\n",
       "    </tr>\n",
       "    <tr>\n",
       "      <th>1</th>\n",
       "      <td>21</td>\n",
       "      <td>TTTAAGACGGAGATATACAT</td>\n",
       "      <td>RBS_1by1_22</td>\n",
       "      <td>0.636342</td>\n",
       "      <td>0.785468</td>\n",
       "      <td>0.153062</td>\n",
       "      <td>0.524957</td>\n",
       "      <td>0.330589</td>\n",
       "      <td>0.117560</td>\n",
       "      <td>bps_core</td>\n",
       "      <td>CGGAGA</td>\n",
       "    </tr>\n",
       "    <tr>\n",
       "      <th>2</th>\n",
       "      <td>22</td>\n",
       "      <td>TTTAAGAGGGAGATATACAT</td>\n",
       "      <td>RBS_1by1_23</td>\n",
       "      <td>-0.616473</td>\n",
       "      <td>-0.502488</td>\n",
       "      <td>0.414480</td>\n",
       "      <td>-0.234827</td>\n",
       "      <td>0.565197</td>\n",
       "      <td>0.043805</td>\n",
       "      <td>bps_core</td>\n",
       "      <td>GGGAGA</td>\n",
       "    </tr>\n",
       "    <tr>\n",
       "      <th>3</th>\n",
       "      <td>23</td>\n",
       "      <td>TTTAAGATGGAGATATACAT</td>\n",
       "      <td>RBS_1by1_24</td>\n",
       "      <td>1.249077</td>\n",
       "      <td>0.811791</td>\n",
       "      <td>-0.085595</td>\n",
       "      <td>0.658424</td>\n",
       "      <td>0.680425</td>\n",
       "      <td>0.228128</td>\n",
       "      <td>bps_core</td>\n",
       "      <td>TGGAGA</td>\n",
       "    </tr>\n",
       "    <tr>\n",
       "      <th>4</th>\n",
       "      <td>24</td>\n",
       "      <td>TTTAAGAACGAGATATACAT</td>\n",
       "      <td>RBS_1by1_25</td>\n",
       "      <td>1.280146</td>\n",
       "      <td>1.046771</td>\n",
       "      <td>0.953997</td>\n",
       "      <td>1.093638</td>\n",
       "      <td>0.168050</td>\n",
       "      <td>0.193737</td>\n",
       "      <td>bps_core</td>\n",
       "      <td>ACGAGA</td>\n",
       "    </tr>\n",
       "  </tbody>\n",
       "</table>\n",
       "</div>"
      ],
      "text/plain": [
       "   Unnamed: 0                   RBS         Name      Rep1      Rep2  \\\n",
       "0           0  TTTAAGAAGGAGATATACAT   RBS_1by1_0  3.194925  2.783529   \n",
       "1          21  TTTAAGACGGAGATATACAT  RBS_1by1_22  0.636342  0.785468   \n",
       "2          22  TTTAAGAGGGAGATATACAT  RBS_1by1_23 -0.616473 -0.502488   \n",
       "3          23  TTTAAGATGGAGATATACAT  RBS_1by1_24  1.249077  0.811791   \n",
       "4          24  TTTAAGAACGAGATATACAT  RBS_1by1_25  1.280146  1.046771   \n",
       "\n",
       "       Rep3   AVERAGE       STD      PERC      Group    RBS6  \n",
       "0  1.798618  2.592357  0.717515  0.246643  reference  AGGAGA  \n",
       "1  0.153062  0.524957  0.330589  0.117560   bps_core  CGGAGA  \n",
       "2  0.414480 -0.234827  0.565197  0.043805   bps_core  GGGAGA  \n",
       "3 -0.085595  0.658424  0.680425  0.228128   bps_core  TGGAGA  \n",
       "4  0.953997  1.093638  0.168050  0.193737   bps_core  ACGAGA  "
      ]
     },
     "execution_count": 3,
     "metadata": {},
     "output_type": "execute_result"
    }
   ],
   "source": [
    "df.head()"
   ]
  },
  {
   "cell_type": "code",
   "execution_count": 4,
   "metadata": {
    "ExecuteTime": {
     "end_time": "2020-07-07T01:48:33.533250Z",
     "start_time": "2020-07-07T01:48:33.478559Z"
    }
   },
   "outputs": [
    {
     "data": {
      "text/plain": [
       "(150,)"
      ]
     },
     "execution_count": 4,
     "metadata": {},
     "output_type": "execute_result"
    }
   ],
   "source": [
    "known_seq.shape"
   ]
  },
  {
   "cell_type": "markdown",
   "metadata": {},
   "source": [
    "## Setting"
   ]
  },
  {
   "cell_type": "code",
   "execution_count": 5,
   "metadata": {
    "ExecuteTime": {
     "end_time": "2020-07-07T01:48:33.599555Z",
     "start_time": "2020-07-07T01:48:33.534998Z"
    }
   },
   "outputs": [],
   "source": [
    "random_state = 0\n",
    "n_dim = 2 # dimension reduction \n",
    "scores = {}"
   ]
  },
  {
   "cell_type": "code",
   "execution_count": 6,
   "metadata": {
    "ExecuteTime": {
     "end_time": "2020-07-07T01:48:33.666973Z",
     "start_time": "2020-07-07T01:48:33.602134Z"
    }
   },
   "outputs": [],
   "source": [
    "def show_tsne_with_clustering(tsne_X, n_clusters, y_km):\n",
    "    plt.figure(figsize = (15,15))\n",
    "    for i in range(n_clusters):\n",
    "        plt.scatter(\n",
    "            tsne_X[y_km == i, 0], tsne_X[y_km == i, 1],\n",
    "            s=50, \n",
    "            label=str(i)\n",
    "            )\n",
    "    plt.legend()\n",
    "    plt.show()"
   ]
  },
  {
   "cell_type": "markdown",
   "metadata": {},
   "source": [
    "# Comparision for Kmers embedding"
   ]
  },
  {
   "cell_type": "code",
   "execution_count": 7,
   "metadata": {
    "ExecuteTime": {
     "end_time": "2020-07-07T01:48:33.849880Z",
     "start_time": "2020-07-07T01:48:33.673075Z"
    }
   },
   "outputs": [],
   "source": [
    "l_list = [3]\n",
    "\n",
    "kernel = Spectrum_Kernel(l_list = l_list, weight_flag = False, padding_flag = False, gap_flag = False)\n",
    "distance, X_spec, Y_spec = kernel.distance(known_seq)\n",
    "\n",
    "#X_spec_pca = PCA(n_components= 15).fit_transform(X_spec)\n"
   ]
  },
  {
   "cell_type": "markdown",
   "metadata": {},
   "source": [
    "### select n_components for PCA"
   ]
  },
  {
   "cell_type": "code",
   "execution_count": 8,
   "metadata": {
    "ExecuteTime": {
     "end_time": "2020-07-07T01:48:33.856261Z",
     "start_time": "2020-07-07T01:48:33.851148Z"
    }
   },
   "outputs": [
    {
     "data": {
      "text/plain": [
       "PCA(copy=True, iterated_power='auto', n_components=64, random_state=None,\n",
       "    svd_solver='auto', tol=0.0, whiten=False)"
      ]
     },
     "execution_count": 8,
     "metadata": {},
     "output_type": "execute_result"
    }
   ],
   "source": [
    "pca = PCA(n_components= 64)\n",
    "pca.fit(X_spec)"
   ]
  },
  {
   "cell_type": "code",
   "execution_count": 9,
   "metadata": {
    "ExecuteTime": {
     "end_time": "2020-07-07T01:48:34.043800Z",
     "start_time": "2020-07-07T01:48:33.857410Z"
    }
   },
   "outputs": [
    {
     "data": {
      "text/plain": [
       "Text(0.5, 0, 'n_components')"
      ]
     },
     "execution_count": 9,
     "metadata": {},
     "output_type": "execute_result"
    },
    {
     "data": {
      "image/png": "[encoded data removed]",
      "text/plain": [
       "<Figure size 432x288 with 1 Axes>"
      ]
     },
     "metadata": {
      "needs_background": "light"
     },
     "output_type": "display_data"
    }
   ],
   "source": [
    "plt.plot(pca.singular_values_)\n",
    "plt.ylabel('singular_values')\n",
    "plt.xlabel('n_components')"
   ]
  },
  {
   "cell_type": "markdown",
   "metadata": {},
   "source": [
    "We decide to select 15 components. "
   ]
  },
  {
   "cell_type": "code",
   "execution_count": 10,
   "metadata": {
    "ExecuteTime": {
     "end_time": "2020-07-07T01:48:34.049005Z",
     "start_time": "2020-07-07T01:48:34.045291Z"
    }
   },
   "outputs": [],
   "source": [
    "X_spec_pca = PCA(n_components= 15).fit_transform(X_spec)"
   ]
  },
  {
   "cell_type": "code",
   "execution_count": 11,
   "metadata": {
    "ExecuteTime": {
     "end_time": "2020-07-07T01:48:34.595405Z",
     "start_time": "2020-07-07T01:48:34.050629Z"
    }
   },
   "outputs": [],
   "source": [
    "tsne = TSNE(n_components = n_dim)\n",
    "tsne_X_spec = tsne.fit_transform(X_spec_pca)"
   ]
  },
  {
   "cell_type": "markdown",
   "metadata": {},
   "source": [
    "### Select number of clusterings for Kmeans"
   ]
  },
  {
   "cell_type": "code",
   "execution_count": 12,
   "metadata": {
    "ExecuteTime": {
     "end_time": "2020-07-07T01:48:35.653521Z",
     "start_time": "2020-07-07T01:48:34.596583Z"
    }
   },
   "outputs": [],
   "source": [
    "sse_spec = []\n",
    "n_clusters_list = list(range(1,30))\n",
    "\n",
    "for n_clusters in n_clusters_list:\n",
    "    kmeans_spec = KMeans(n_clusters=n_clusters, init = 'k-means++', random_state= random_state)\n",
    "    kmeans_spec.fit(X_spec_pca)\n",
    "    y_km_spec = kmeans_spec.predict(X_spec_pca)\n",
    "    sse_spec.append(kmeans_spec.inertia_)"
   ]
  },
  {
   "cell_type": "code",
   "execution_count": 13,
   "metadata": {
    "ExecuteTime": {
     "end_time": "2020-07-07T01:48:35.786656Z",
     "start_time": "2020-07-07T01:48:35.654752Z"
    }
   },
   "outputs": [
    {
     "data": {
      "text/plain": [
       "Text(0.5, 1.0, 'Kmers Embedding')"
      ]
     },
     "execution_count": 13,
     "metadata": {},
     "output_type": "execute_result"
    },
    {
     "data": {
      "image/png": "[encoded data removed]",
      "text/plain": [
       "<Figure size 432x432 with 1 Axes>"
      ]
     },
     "metadata": {
      "needs_background": "light"
     },
     "output_type": "display_data"
    }
   ],
   "source": [
    "# Plot sse against k\n",
    "plt.figure(figsize=(6, 6))\n",
    "plt.plot(n_clusters_list, sse_spec, '-o')\n",
    "plt.xlabel(r'Number of clusters *k*')\n",
    "plt.ylabel('Sum of squared distance')\n",
    "plt.title('Kmers Embedding')"
   ]
  },
  {
   "cell_type": "code",
   "execution_count": 19,
   "metadata": {
    "ExecuteTime": {
     "end_time": "2020-07-07T02:03:31.731040Z",
     "start_time": "2020-07-07T02:03:31.701334Z"
    },
    "scrolled": true
   },
   "outputs": [
    {
     "name": "stdout",
     "output_type": "stream",
     "text": [
      "tsne_kmeans++_kmers_3_6_clusters\n",
      "result saved\n"
     ]
    }
   ],
   "source": [
    "n_clusters = 6\n",
    "file_name = 'tsne_kmeans++_kmers_3_' +  str(n_clusters) + '_clusters'\n",
    "print(file_name)\n",
    "\n",
    "# choose X_spec or tsne_X_spec\n",
    "kmeans_spec = KMeans(n_clusters=n_clusters, init = 'k-means++', random_state= random_state)\n",
    "kmeans_spec.fit(X_spec_pca)\n",
    "y_km_spec = kmeans_spec.predict(X_spec_pca)\n",
    "\n",
    "# show_tsne_with_clustering(tsne_X_spec, n_clusters, y_km_spec)\n",
    "np.savez(file_name, coord = tsne_X_spec, text = known_data, ykm = y_km_spec, known_seq = [], ucb_rec = [])\n",
    "print('result saved')"
   ]
  },
  {
   "cell_type": "code",
   "execution_count": null,
   "metadata": {},
   "outputs": [],
   "source": []
  }
 ],
 "metadata": {
  "kernelspec": {
   "display_name": "Python 3",
   "language": "python",
   "name": "python3"
  },
  "language_info": {
   "codemirror_mode": {
    "name": "ipython",
    "version": 3
   },
   "file_extension": ".py",
   "mimetype": "text/x-python",
   "name": "python",
   "nbconvert_exporter": "python",
   "pygments_lexer": "ipython3",
   "version": "3.7.3"
  },
  "toc": {
   "base_numbering": 1,
   "nav_menu": {},
   "number_sections": true,
   "sideBar": true,
   "skip_h1_title": false,
   "title_cell": "Table of Contents",
   "title_sidebar": "Contents",
   "toc_cell": false,
   "toc_position": {},
   "toc_section_display": true,
   "toc_window_display": false
  },
  "varInspector": {
   "cols": {
    "lenName": 16,
    "lenType": 16,
    "lenVar": 40
   },
   "kernels_config": {
    "python": {
     "delete_cmd_postfix": "",
     "delete_cmd_prefix": "del ",
     "library": "var_list.py",
     "varRefreshCmd": "print(var_dic_list())"
    },
    "r": {
     "delete_cmd_postfix": ") ",
     "delete_cmd_prefix": "rm(",
     "library": "var_list.r",
     "varRefreshCmd": "cat(var_dic_list()) "
    }
   },
   "types_to_exclude": [
    "module",
    "function",
    "builtin_function_or_method",
    "instance",
    "_Feature"
   ],
   "window_display": false
  }
 },
 "nbformat": 4,
 "nbformat_minor": 2
}

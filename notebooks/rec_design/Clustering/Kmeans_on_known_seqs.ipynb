{
 "cells": [
  {
   "cell_type": "markdown",
   "metadata": {},
   "source": [
    "For exploration, we should spread the choices as much as possible. Since we do not want to waste the engergy for searching the same region which may give bad results. The UCB algorithm balance the exploration and exploitation by balancing weights on predicted mean and predicted variance. To check whether UCB algorithm gives a reasonable coverage of the unknown spacing and known spacing, we run a clustering algorithm on the whole exploration space. We expect to cover several sequences in each clustering at the first a few rounds, then focusing more on sequences on the clustering gives a relatively high performance. \n",
    "\n",
    "\n",
    "## Pipeline\n",
    "\n",
    "- Embedding\n",
    "    - kmers ([3], [2,3,4,5,6])\n",
    "    - onehot\n",
    "- PCA\n",
    "    - number of component (select by singular_values_)\n",
    "- Clustering (Kmeans++)\n",
    "    - number of clustering (Elbow method to select good number of clusterings)\n",
    "- TSNE (to 2 dims) for visualisation\n",
    "   \n",
    "## Evaluation\n",
    "\n",
    "- We show the average value and variance of label for the sequences in each clustering\n",
    "\n",
    "Ideas:\n",
    "\n",
    "A possible idea is to combine the clustering and successive rejects, where rejects happens in terms of clusters rather than single data points. This solves the problem that the searching space (number of arms) are too large. "
   ]
  },
  {
   "cell_type": "code",
   "execution_count": 1,
   "metadata": {
    "ExecuteTime": {
     "end_time": "2020-07-16T05:10:34.564130Z",
     "start_time": "2020-07-16T05:10:33.947539Z"
    }
   },
   "outputs": [],
   "source": [
    "# direct to proper path\n",
    "import os\n",
    "import sys\n",
    "module_path = os.path.abspath(os.path.join('../../..'))\n",
    "if module_path not in sys.path:\n",
    "    sys.path.append(module_path)\n",
    "\n",
    "from sklearn.cluster import KMeans\n",
    "from nltk.metrics import distance \n",
    "# import Pycluster as PC\n",
    "import numpy as np\n",
    "import matplotlib.pyplot as plt\n",
    "%matplotlib inline\n",
    "import itertools\n",
    "import math\n",
    "\n",
    "from codes.kernels_for_GPK import *\n",
    "from codes.embedding import Embedding\n",
    "\n",
    "from sklearn.manifold import TSNE\n",
    "from sklearn.decomposition import PCA"
   ]
  },
  {
   "cell_type": "markdown",
   "metadata": {},
   "source": [
    "## Known seq"
   ]
  },
  {
   "cell_type": "code",
   "execution_count": 2,
   "metadata": {
    "ExecuteTime": {
     "end_time": "2020-07-16T05:10:34.721468Z",
     "start_time": "2020-07-16T05:10:34.565489Z"
    }
   },
   "outputs": [],
   "source": [
    "import pandas as pd \n",
    "\n",
    "Path = '../../../data/firstRound_4h_normFalse_formatSeq.csv'\n",
    "\n",
    "df = pd.read_csv(Path)\n",
    "known_data = np.asarray(df[['RBS', 'AVERAGE']])\n",
    "known_seq = np.asarray(df['RBS'])"
   ]
  },
  {
   "cell_type": "code",
   "execution_count": 3,
   "metadata": {
    "ExecuteTime": {
     "end_time": "2020-07-16T05:10:34.738316Z",
     "start_time": "2020-07-16T05:10:34.723472Z"
    }
   },
   "outputs": [
    {
     "data": {
      "text/html": [
       "<div>\n",
       "<style scoped>\n",
       "    .dataframe tbody tr th:only-of-type {\n",
       "        vertical-align: middle;\n",
       "    }\n",
       "\n",
       "    .dataframe tbody tr th {\n",
       "        vertical-align: top;\n",
       "    }\n",
       "\n",
       "    .dataframe thead th {\n",
       "        text-align: right;\n",
       "    }\n",
       "</style>\n",
       "<table border=\"1\" class=\"dataframe\">\n",
       "  <thead>\n",
       "    <tr style=\"text-align: right;\">\n",
       "      <th></th>\n",
       "      <th>Unnamed: 0</th>\n",
       "      <th>Name</th>\n",
       "      <th>Group</th>\n",
       "      <th>RBS</th>\n",
       "      <th>RBS6</th>\n",
       "      <th>Rep1</th>\n",
       "      <th>Rep2</th>\n",
       "      <th>Rep3</th>\n",
       "      <th>Rep4</th>\n",
       "      <th>Rep5</th>\n",
       "      <th>AVERAGE</th>\n",
       "      <th>STD</th>\n",
       "    </tr>\n",
       "  </thead>\n",
       "  <tbody>\n",
       "    <tr>\n",
       "      <th>0</th>\n",
       "      <td>0</td>\n",
       "      <td>RBS_1by1_0</td>\n",
       "      <td>reference</td>\n",
       "      <td>TTTAAGAAGGAGATATACAT</td>\n",
       "      <td>AGGAGA</td>\n",
       "      <td>NaN</td>\n",
       "      <td>52.402431</td>\n",
       "      <td>NaN</td>\n",
       "      <td>61.622165</td>\n",
       "      <td>54.151485</td>\n",
       "      <td>56.058694</td>\n",
       "      <td>3.998246</td>\n",
       "    </tr>\n",
       "    <tr>\n",
       "      <th>1</th>\n",
       "      <td>1</td>\n",
       "      <td>RBS_1by1_1</td>\n",
       "      <td>bps_noncore</td>\n",
       "      <td>CTTAAGAAGGAGATATACAT</td>\n",
       "      <td>AGGAGA</td>\n",
       "      <td>NaN</td>\n",
       "      <td>40.072951</td>\n",
       "      <td>NaN</td>\n",
       "      <td>42.042854</td>\n",
       "      <td>45.432032</td>\n",
       "      <td>42.515946</td>\n",
       "      <td>2.213263</td>\n",
       "    </tr>\n",
       "    <tr>\n",
       "      <th>2</th>\n",
       "      <td>2</td>\n",
       "      <td>RBS_1by1_2</td>\n",
       "      <td>bps_noncore</td>\n",
       "      <td>GTTAAGAAGGAGATATACAT</td>\n",
       "      <td>AGGAGA</td>\n",
       "      <td>NaN</td>\n",
       "      <td>28.831559</td>\n",
       "      <td>NaN</td>\n",
       "      <td>24.487870</td>\n",
       "      <td>24.133637</td>\n",
       "      <td>25.817689</td>\n",
       "      <td>2.136029</td>\n",
       "    </tr>\n",
       "    <tr>\n",
       "      <th>3</th>\n",
       "      <td>3</td>\n",
       "      <td>RBS_1by1_3</td>\n",
       "      <td>bps_noncore</td>\n",
       "      <td>ATTAAGAAGGAGATATACAT</td>\n",
       "      <td>AGGAGA</td>\n",
       "      <td>NaN</td>\n",
       "      <td>43.093359</td>\n",
       "      <td>NaN</td>\n",
       "      <td>38.641958</td>\n",
       "      <td>38.049577</td>\n",
       "      <td>39.928298</td>\n",
       "      <td>2.251065</td>\n",
       "    </tr>\n",
       "    <tr>\n",
       "      <th>4</th>\n",
       "      <td>4</td>\n",
       "      <td>RBS_1by1_4</td>\n",
       "      <td>bps_noncore</td>\n",
       "      <td>TCTAAGAAGGAGATATACAT</td>\n",
       "      <td>AGGAGA</td>\n",
       "      <td>NaN</td>\n",
       "      <td>45.913214</td>\n",
       "      <td>NaN</td>\n",
       "      <td>44.352931</td>\n",
       "      <td>38.394865</td>\n",
       "      <td>42.887003</td>\n",
       "      <td>3.239660</td>\n",
       "    </tr>\n",
       "  </tbody>\n",
       "</table>\n",
       "</div>"
      ],
      "text/plain": [
       "   Unnamed: 0        Name        Group                   RBS    RBS6  Rep1  \\\n",
       "0           0  RBS_1by1_0    reference  TTTAAGAAGGAGATATACAT  AGGAGA   NaN   \n",
       "1           1  RBS_1by1_1  bps_noncore  CTTAAGAAGGAGATATACAT  AGGAGA   NaN   \n",
       "2           2  RBS_1by1_2  bps_noncore  GTTAAGAAGGAGATATACAT  AGGAGA   NaN   \n",
       "3           3  RBS_1by1_3  bps_noncore  ATTAAGAAGGAGATATACAT  AGGAGA   NaN   \n",
       "4           4  RBS_1by1_4  bps_noncore  TCTAAGAAGGAGATATACAT  AGGAGA   NaN   \n",
       "\n",
       "        Rep2  Rep3       Rep4       Rep5    AVERAGE       STD  \n",
       "0  52.402431   NaN  61.622165  54.151485  56.058694  3.998246  \n",
       "1  40.072951   NaN  42.042854  45.432032  42.515946  2.213263  \n",
       "2  28.831559   NaN  24.487870  24.133637  25.817689  2.136029  \n",
       "3  43.093359   NaN  38.641958  38.049577  39.928298  2.251065  \n",
       "4  45.913214   NaN  44.352931  38.394865  42.887003  3.239660  "
      ]
     },
     "execution_count": 3,
     "metadata": {},
     "output_type": "execute_result"
    }
   ],
   "source": [
    "df.head()"
   ]
  },
  {
   "cell_type": "code",
   "execution_count": 4,
   "metadata": {
    "ExecuteTime": {
     "end_time": "2020-07-16T05:10:34.799588Z",
     "start_time": "2020-07-16T05:10:34.740323Z"
    }
   },
   "outputs": [
    {
     "data": {
      "text/plain": [
       "(150,)"
      ]
     },
     "execution_count": 4,
     "metadata": {},
     "output_type": "execute_result"
    }
   ],
   "source": [
    "known_seq.shape"
   ]
  },
  {
   "cell_type": "markdown",
   "metadata": {},
   "source": [
    "## Setting"
   ]
  },
  {
   "cell_type": "code",
   "execution_count": 5,
   "metadata": {
    "ExecuteTime": {
     "end_time": "2020-07-16T05:10:34.858441Z",
     "start_time": "2020-07-16T05:10:34.801209Z"
    }
   },
   "outputs": [],
   "source": [
    "random_state = 0\n",
    "n_dim = 2 # dimension reduction \n",
    "scores = {}"
   ]
  },
  {
   "cell_type": "code",
   "execution_count": 6,
   "metadata": {
    "ExecuteTime": {
     "end_time": "2020-07-16T05:10:34.918763Z",
     "start_time": "2020-07-16T05:10:34.863444Z"
    }
   },
   "outputs": [],
   "source": [
    "def show_tsne_with_clustering(tsne_X, n_clusters, y_km):\n",
    "    plt.figure(figsize = (15,15))\n",
    "    for i in range(n_clusters):\n",
    "        plt.scatter(\n",
    "            tsne_X[y_km == i, 0], tsne_X[y_km == i, 1],\n",
    "            s=50, \n",
    "            label=str(i)\n",
    "            )\n",
    "    plt.legend()\n",
    "    plt.show()"
   ]
  },
  {
   "cell_type": "code",
   "execution_count": 7,
   "metadata": {
    "ExecuteTime": {
     "end_time": "2020-07-16T05:11:40.117691Z",
     "start_time": "2020-07-16T05:10:34.924033Z"
    }
   },
   "outputs": [],
   "source": [
    "spec_distance = Spectrum_Kernel(l_list = [1,2,3,4,5,6]).distance(known_seq)\n",
    "wd_distance = WeightedDegree_Kernel(l_list = [6]).distance(known_seq)\n",
    "wd_shift_distance = WD_Shift_Kernel(l_list = [6]).distance(known_seq)\n",
    "mismatch_distance = Mismatch_Kernel(l_list= [6]).distance(known_seq)"
   ]
  },
  {
   "cell_type": "markdown",
   "metadata": {
    "ExecuteTime": {
     "end_time": "2020-07-16T05:02:00.454198Z",
     "start_time": "2020-07-16T05:02:00.451646Z"
    }
   },
   "source": [
    "## K-medoids and TSNE"
   ]
  },
  {
   "cell_type": "code",
   "execution_count": 10,
   "metadata": {
    "ExecuteTime": {
     "end_time": "2020-07-16T05:12:18.541226Z",
     "start_time": "2020-07-16T05:12:16.732334Z"
    },
    "scrolled": true
   },
   "outputs": [
    {
     "name": "stdout",
     "output_type": "stream",
     "text": [
      "results/tsne_kmedoid_spec_distance_6_6_clusters\n",
      "result saved\n",
      "results/tsne_kmedoid_wd_distance_6_6_clusters\n",
      "result saved\n",
      "results/tsne_kmedoid_wd_shift_distance_6_6_clusters\n",
      "result saved\n",
      "results/tsne_kmedoid_mismatch_distance_6_6_clusters\n",
      "result saved\n"
     ]
    }
   ],
   "source": [
    "from sklearn_extra.cluster import KMedoids\n",
    "n_clusters = 6\n",
    "\n",
    "distance_matrix = [spec_distance, wd_distance, wd_shift_distance, mismatch_distance]\n",
    "distance_matrix_name = ['spec_distance', 'wd_distance', 'wd_shift_distance', 'mismatch_distance']\n",
    "\n",
    "for i in range(len(distance_matrix)):\n",
    "    distance = distance_matrix[i]\n",
    "    \n",
    "    tsne = TSNE(n_components = n_dim, metric = 'precomputed')\n",
    "    tsne_X_spec = tsne.fit_transform(distance)\n",
    "    \n",
    "    file_name = 'results/tsne_kmedoid_' + distance_matrix_name[i] +  '_6_' + str(n_clusters) + '_clusters'\n",
    "    print(file_name)\n",
    "\n",
    "    # choose X_spec or tsne_X_spec\n",
    "    #kmeans_spec = KMeans(n_clusters=n_clusters, init = 'k-means++', random_state= random_state)\n",
    "    #kmeans_spec.fit(X_spec_pca)\n",
    "    #y_km_spec = kmeans_spec.predict(X_spec_pca)\n",
    "\n",
    "    \n",
    "    kmedoids = KMedoids(n_clusters=n_clusters, metric = 'precomputed', init='k-medoids++', random_state=random_state).fit(distance)\n",
    "    y_km_spec = kmedoids.labels_\n",
    "\n",
    "    # show_tsne_with_clustering(tsne_X_spec, n_clusters, y_km_spec)\n",
    "    np.savez(file_name, coord = tsne_X_spec, text = known_data, ykm = y_km_spec, known_seq = [], ucb_rec = [])\n",
    "    print('result saved')"
   ]
  },
  {
   "cell_type": "code",
   "execution_count": null,
   "metadata": {},
   "outputs": [],
   "source": []
  },
  {
   "cell_type": "code",
   "execution_count": null,
   "metadata": {},
   "outputs": [],
   "source": []
  }
 ],
 "metadata": {
  "kernelspec": {
   "display_name": "Python 3",
   "language": "python",
   "name": "python3"
  },
  "language_info": {
   "codemirror_mode": {
    "name": "ipython",
    "version": 3
   },
   "file_extension": ".py",
   "mimetype": "text/x-python",
   "name": "python",
   "nbconvert_exporter": "python",
   "pygments_lexer": "ipython3",
   "version": "3.7.7"
  },
  "toc": {
   "base_numbering": 1,
   "nav_menu": {},
   "number_sections": true,
   "sideBar": true,
   "skip_h1_title": false,
   "title_cell": "Table of Contents",
   "title_sidebar": "Contents",
   "toc_cell": false,
   "toc_position": {},
   "toc_section_display": true,
   "toc_window_display": false
  },
  "varInspector": {
   "cols": {
    "lenName": 16,
    "lenType": 16,
    "lenVar": 40
   },
   "kernels_config": {
    "python": {
     "delete_cmd_postfix": "",
     "delete_cmd_prefix": "del ",
     "library": "var_list.py",
     "varRefreshCmd": "print(var_dic_list())"
    },
    "r": {
     "delete_cmd_postfix": ") ",
     "delete_cmd_prefix": "rm(",
     "library": "var_list.r",
     "varRefreshCmd": "cat(var_dic_list()) "
    }
   },
   "types_to_exclude": [
    "module",
    "function",
    "builtin_function_or_method",
    "instance",
    "_Feature"
   ],
   "window_display": false
  }
 },
 "nbformat": 4,
 "nbformat_minor": 2
}

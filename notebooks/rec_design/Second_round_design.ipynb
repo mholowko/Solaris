{
 "cells": [
  {
   "cell_type": "markdown",
   "metadata": {},
   "source": [
    "# Bandit Sequence Design\n",
    "\n",
    "This notebook is for the second round design. The current design only makes use of the first round results. "
   ]
  },
  {
   "cell_type": "code",
   "execution_count": 1,
   "metadata": {},
   "outputs": [],
   "source": [
    "# direct to proper path\n",
    "import os\n",
    "import sys\n",
    "module_path = os.path.abspath(os.path.join('../..'))\n",
    "if module_path not in sys.path:\n",
    "    sys.path.append(module_path)\n",
    "    \n",
    "import numpy as np\n",
    "import pandas as pd\n",
    "import matplotlib.pyplot as plt\n",
    "import seaborn as sns\n",
    "import itertools\n",
    "from collections import defaultdict\n",
    "import math\n",
    "\n",
    "from sklearn.gaussian_process import GaussianProcessRegressor\n",
    "from sklearn.gaussian_process.kernels import PairwiseKernel, DotProduct, RBF \n",
    "from sklearn.kernel_ridge import KernelRidge\n",
    "from sklearn.metrics import r2_score, mean_squared_error\n",
    "\n",
    "from codes.embedding import Embedding\n",
    "from codes.environment import Rewards_env\n",
    "from codes.ucb import GPUCB, Random\n",
    "from codes.evaluations import evaluate, plot_eva\n",
    "from codes.kernels_for_GPK import Spectrum_Kernel, Sum_Spectrum_Kernel\n",
    "\n",
    "from ipywidgets import IntProgress\n",
    "from IPython.display import display\n",
    "import warnings\n",
    "%matplotlib inline"
   ]
  },
  {
   "cell_type": "markdown",
   "metadata": {},
   "source": [
    "## Reading First Round Results"
   ]
  },
  {
   "cell_type": "code",
   "execution_count": 2,
   "metadata": {},
   "outputs": [
    {
     "data": {
      "text/html": [
       "<div>\n",
       "<style scoped>\n",
       "    .dataframe tbody tr th:only-of-type {\n",
       "        vertical-align: middle;\n",
       "    }\n",
       "\n",
       "    .dataframe tbody tr th {\n",
       "        vertical-align: top;\n",
       "    }\n",
       "\n",
       "    .dataframe thead th {\n",
       "        text-align: right;\n",
       "    }\n",
       "</style>\n",
       "<table border=\"1\" class=\"dataframe\">\n",
       "  <thead>\n",
       "    <tr style=\"text-align: right;\">\n",
       "      <th></th>\n",
       "      <th>Unnamed: 0</th>\n",
       "      <th>RBS</th>\n",
       "      <th>Name</th>\n",
       "      <th>Rep1</th>\n",
       "      <th>Rep2</th>\n",
       "      <th>Rep3</th>\n",
       "      <th>AVERAGE</th>\n",
       "      <th>STD</th>\n",
       "      <th>PERC</th>\n",
       "      <th>Group</th>\n",
       "      <th>RBS6</th>\n",
       "      <th>Change_Pos</th>\n",
       "      <th>Base</th>\n",
       "    </tr>\n",
       "  </thead>\n",
       "  <tbody>\n",
       "    <tr>\n",
       "      <td>0</td>\n",
       "      <td>0</td>\n",
       "      <td>TTTAAGAAGGAGATATACAT</td>\n",
       "      <td>RBS_1by1_0</td>\n",
       "      <td>3.194925</td>\n",
       "      <td>2.783529</td>\n",
       "      <td>1.798618</td>\n",
       "      <td>2.592357</td>\n",
       "      <td>0.717515</td>\n",
       "      <td>0.246643</td>\n",
       "      <td>reference</td>\n",
       "      <td>AGGAGA</td>\n",
       "      <td>1.0</td>\n",
       "      <td>T</td>\n",
       "    </tr>\n",
       "    <tr>\n",
       "      <td>1</td>\n",
       "      <td>21</td>\n",
       "      <td>TTTAAGACGGAGATATACAT</td>\n",
       "      <td>RBS_1by1_22</td>\n",
       "      <td>0.636342</td>\n",
       "      <td>0.785468</td>\n",
       "      <td>0.153062</td>\n",
       "      <td>0.524957</td>\n",
       "      <td>0.330589</td>\n",
       "      <td>0.117560</td>\n",
       "      <td>bps_core</td>\n",
       "      <td>CGGAGA</td>\n",
       "      <td>8.0</td>\n",
       "      <td>C</td>\n",
       "    </tr>\n",
       "    <tr>\n",
       "      <td>2</td>\n",
       "      <td>22</td>\n",
       "      <td>TTTAAGAGGGAGATATACAT</td>\n",
       "      <td>RBS_1by1_23</td>\n",
       "      <td>-0.616473</td>\n",
       "      <td>-0.502488</td>\n",
       "      <td>0.414480</td>\n",
       "      <td>-0.234827</td>\n",
       "      <td>0.565197</td>\n",
       "      <td>0.043805</td>\n",
       "      <td>bps_core</td>\n",
       "      <td>GGGAGA</td>\n",
       "      <td>8.0</td>\n",
       "      <td>G</td>\n",
       "    </tr>\n",
       "    <tr>\n",
       "      <td>3</td>\n",
       "      <td>23</td>\n",
       "      <td>TTTAAGATGGAGATATACAT</td>\n",
       "      <td>RBS_1by1_24</td>\n",
       "      <td>1.249077</td>\n",
       "      <td>0.811791</td>\n",
       "      <td>-0.085595</td>\n",
       "      <td>0.658424</td>\n",
       "      <td>0.680425</td>\n",
       "      <td>0.228128</td>\n",
       "      <td>bps_core</td>\n",
       "      <td>TGGAGA</td>\n",
       "      <td>8.0</td>\n",
       "      <td>T</td>\n",
       "    </tr>\n",
       "    <tr>\n",
       "      <td>4</td>\n",
       "      <td>24</td>\n",
       "      <td>TTTAAGAACGAGATATACAT</td>\n",
       "      <td>RBS_1by1_25</td>\n",
       "      <td>1.280146</td>\n",
       "      <td>1.046771</td>\n",
       "      <td>0.953997</td>\n",
       "      <td>1.093638</td>\n",
       "      <td>0.168050</td>\n",
       "      <td>0.193737</td>\n",
       "      <td>bps_core</td>\n",
       "      <td>ACGAGA</td>\n",
       "      <td>9.0</td>\n",
       "      <td>C</td>\n",
       "    </tr>\n",
       "  </tbody>\n",
       "</table>\n",
       "</div>"
      ],
      "text/plain": [
       "   Unnamed: 0                   RBS         Name      Rep1      Rep2  \\\n",
       "0           0  TTTAAGAAGGAGATATACAT   RBS_1by1_0  3.194925  2.783529   \n",
       "1          21  TTTAAGACGGAGATATACAT  RBS_1by1_22  0.636342  0.785468   \n",
       "2          22  TTTAAGAGGGAGATATACAT  RBS_1by1_23 -0.616473 -0.502488   \n",
       "3          23  TTTAAGATGGAGATATACAT  RBS_1by1_24  1.249077  0.811791   \n",
       "4          24  TTTAAGAACGAGATATACAT  RBS_1by1_25  1.280146  1.046771   \n",
       "\n",
       "       Rep3   AVERAGE       STD      PERC      Group    RBS6  Change_Pos Base  \n",
       "0  1.798618  2.592357  0.717515  0.246643  reference  AGGAGA         1.0    T  \n",
       "1  0.153062  0.524957  0.330589  0.117560   bps_core  CGGAGA         8.0    C  \n",
       "2  0.414480 -0.234827  0.565197  0.043805   bps_core  GGGAGA         8.0    G  \n",
       "3 -0.085595  0.658424  0.680425  0.228128   bps_core  TGGAGA         8.0    T  \n",
       "4  0.953997  1.093638  0.168050  0.193737   bps_core  ACGAGA         9.0    C  "
      ]
     },
     "execution_count": 2,
     "metadata": {},
     "output_type": "execute_result"
    }
   ],
   "source": [
    "Path = '../../data/firstRound_4h.csv'\n",
    "\n",
    "df = pd.read_csv(Path)\n",
    "df.head()"
   ]
  },
  {
   "cell_type": "code",
   "execution_count": 3,
   "metadata": {},
   "outputs": [
    {
     "data": {
      "text/html": [
       "<div>\n",
       "<style scoped>\n",
       "    .dataframe tbody tr th:only-of-type {\n",
       "        vertical-align: middle;\n",
       "    }\n",
       "\n",
       "    .dataframe tbody tr th {\n",
       "        vertical-align: top;\n",
       "    }\n",
       "\n",
       "    .dataframe thead th {\n",
       "        text-align: right;\n",
       "    }\n",
       "</style>\n",
       "<table border=\"1\" class=\"dataframe\">\n",
       "  <thead>\n",
       "    <tr style=\"text-align: right;\">\n",
       "      <th></th>\n",
       "      <th>Unnamed: 0</th>\n",
       "      <th>AVERAGE</th>\n",
       "      <th>Group</th>\n",
       "      <th>RBS</th>\n",
       "      <th>RBS6</th>\n",
       "      <th>STD</th>\n",
       "      <th>label</th>\n",
       "      <th>variable</th>\n",
       "    </tr>\n",
       "  </thead>\n",
       "  <tbody>\n",
       "    <tr>\n",
       "      <td>0</td>\n",
       "      <td>0</td>\n",
       "      <td>2.592357</td>\n",
       "      <td>bps</td>\n",
       "      <td>TTTAAGAAGGAGATATACAT</td>\n",
       "      <td>AGGAGA</td>\n",
       "      <td>0.717515</td>\n",
       "      <td>3.194925</td>\n",
       "      <td>Rep1</td>\n",
       "    </tr>\n",
       "    <tr>\n",
       "      <td>1</td>\n",
       "      <td>1</td>\n",
       "      <td>1.604161</td>\n",
       "      <td>bps</td>\n",
       "      <td>CTTAAGAAGGAGATATACAT</td>\n",
       "      <td>AGGAGA</td>\n",
       "      <td>0.284382</td>\n",
       "      <td>1.844257</td>\n",
       "      <td>Rep1</td>\n",
       "    </tr>\n",
       "    <tr>\n",
       "      <td>2</td>\n",
       "      <td>2</td>\n",
       "      <td>0.662662</td>\n",
       "      <td>bps</td>\n",
       "      <td>GTTAAGAAGGAGATATACAT</td>\n",
       "      <td>AGGAGA</td>\n",
       "      <td>0.017069</td>\n",
       "      <td>0.674610</td>\n",
       "      <td>Rep1</td>\n",
       "    </tr>\n",
       "    <tr>\n",
       "      <td>3</td>\n",
       "      <td>3</td>\n",
       "      <td>1.678999</td>\n",
       "      <td>bps</td>\n",
       "      <td>ATTAAGAAGGAGATATACAT</td>\n",
       "      <td>AGGAGA</td>\n",
       "      <td>0.500712</td>\n",
       "      <td>1.986839</td>\n",
       "      <td>Rep1</td>\n",
       "    </tr>\n",
       "    <tr>\n",
       "      <td>4</td>\n",
       "      <td>4</td>\n",
       "      <td>1.671743</td>\n",
       "      <td>bps</td>\n",
       "      <td>TCTAAGAAGGAGATATACAT</td>\n",
       "      <td>AGGAGA</td>\n",
       "      <td>0.624388</td>\n",
       "      <td>1.830061</td>\n",
       "      <td>Rep1</td>\n",
       "    </tr>\n",
       "  </tbody>\n",
       "</table>\n",
       "</div>"
      ],
      "text/plain": [
       "   Unnamed: 0   AVERAGE Group                   RBS    RBS6       STD  \\\n",
       "0           0  2.592357   bps  TTTAAGAAGGAGATATACAT  AGGAGA  0.717515   \n",
       "1           1  1.604161   bps  CTTAAGAAGGAGATATACAT  AGGAGA  0.284382   \n",
       "2           2  0.662662   bps  GTTAAGAAGGAGATATACAT  AGGAGA  0.017069   \n",
       "3           3  1.678999   bps  ATTAAGAAGGAGATATACAT  AGGAGA  0.500712   \n",
       "4           4  1.671743   bps  TCTAAGAAGGAGATATACAT  AGGAGA  0.624388   \n",
       "\n",
       "      label variable  \n",
       "0  3.194925     Rep1  \n",
       "1  1.844257     Rep1  \n",
       "2  0.674610     Rep1  \n",
       "3  1.986839     Rep1  \n",
       "4  1.830061     Rep1  "
      ]
     },
     "execution_count": 3,
     "metadata": {},
     "output_type": "execute_result"
    }
   ],
   "source": [
    "# Data contains both the first round result and baseline data\n",
    "#\n",
    "# columns: \n",
    "# RBS: 20-length RBS seq\n",
    "# RBS6: 6-length RBS seq, which the [7:13] positions\n",
    "# variable: for first round results, denote which replication is the seq. \n",
    "# label: normalised label (zero mean and unit variance)\n",
    "\n",
    "Path = '../../data/firstRound_4h+Baseline.csv'\n",
    "\n",
    "df_samples = pd.read_csv(Path)\n",
    "df_samples.head()"
   ]
  },
  {
   "cell_type": "code",
   "execution_count": 4,
   "metadata": {},
   "outputs": [
    {
     "data": {
      "text/plain": [
       "(449, 8)"
      ]
     },
     "execution_count": 4,
     "metadata": {},
     "output_type": "execute_result"
    },
    {
     "data": {
      "image/png": "[encoded data removed]",
      "text/plain": [
       "<Figure size 432x288 with 1 Axes>"
      ]
     },
     "metadata": {
      "needs_background": "light"
     },
     "output_type": "display_data"
    }
   ],
   "source": [
    "# extract first round result\n",
    "df_FRR = df_samples[df_samples['Group'] != 'Baseline data']\n",
    "data = np.asarray(df_FRR[['RBS', 'label']])\n",
    "data6 = np.asarray(df_FRR[['RBS6', 'label']])\n",
    "plt.hist(df_FRR['label'])\n",
    "plt.title('Fisrt round label')\n",
    "df_FRR.shape"
   ]
  },
  {
   "cell_type": "markdown",
   "metadata": {},
   "source": [
    "## Construct feature spaces\n",
    "\n",
    "We fix the part other the designing 6-base RBS, the 20-based RBS would be: 'TTTAAGA' + 6-base design + 'TATACAT'. The 6-base design has totally 4^6 = 4096 combinations. "
   ]
  },
  {
   "cell_type": "code",
   "execution_count": 5,
   "metadata": {},
   "outputs": [],
   "source": [
    "# create all combos\n",
    "\n",
    "combos = [] # 20-base\n",
    "combos_6 = [] # 6-base\n",
    "labels = []\n",
    "char_sets = ['A', 'G', 'C', 'T']\n",
    "design_len = 6\n",
    "\n",
    "# to be changed\n",
    "pre_design = 'TTTAAGA'\n",
    "pos_design = 'TATACAT'\n",
    "\n",
    "for combo in itertools.product(char_sets, repeat= design_len):\n",
    "    \n",
    "    combo = pre_design + ''.join(combo) + pos_design\n",
    "    combos_6.append(''.join(combo))\n",
    "    combos.append(combo)\n",
    "    labels.append(math.inf)\n",
    "    \n",
    "assert len(combos) == len(char_sets) ** design_len\n",
    "# len(combos)"
   ]
  },
  {
   "cell_type": "code",
   "execution_count": 6,
   "metadata": {},
   "outputs": [],
   "source": [
    "todesign_data = np.asarray(list(zip(combos, labels))) # 20-base\n",
    "todesign6_data = np.asarray(list(zip(combos_6, labels))) # 6-base"
   ]
  },
  {
   "cell_type": "markdown",
   "metadata": {},
   "source": [
    "## Setting\n",
    "\n",
    "we use the setting getting from the cross validation of results_analysis/first_round_result_regression-Eva_on_ave."
   ]
  },
  {
   "cell_type": "code",
   "execution_count": 7,
   "metadata": {},
   "outputs": [],
   "source": [
    "embedding = 'label'\n",
    "# sum_spectrum_kernel_pw: spectrum kernels for [:7], [7:13], [13:] respectively\n",
    "\n",
    "kernel = Spectrum_Kernel(l_list = [2,3,4,5,6], weight_flag = False, padding_flag = False, gap_flag = False)\n",
    "alpha = 2 \n",
    "\n",
    "num_rounds = 1 \n",
    "num_exper = 1\n",
    "num_rec = 100"
   ]
  },
  {
   "cell_type": "markdown",
   "metadata": {},
   "source": [
    "## Recommendations with GPUCB"
   ]
  },
  {
   "cell_type": "code",
   "execution_count": 8,
   "metadata": {},
   "outputs": [
    {
     "name": "stdout",
     "output_type": "stream",
     "text": [
      "beta:  2.5\n",
      "[1923 1894 2024 1912 1935 1777  475 3024 1944 2335 1910 2459 1887 2427\n",
      " 1659  731 1147 1223 2002 2843 1939 3062 2171 1748 1222 1951 1980 1499\n",
      " 1936 2539 1763 3019 1942 3030 1781 1983 1971 1227 3403 1243 1974 1859\n",
      " 1778 3014 3355 3147 3163 1872 2019 1179 1963 1931 3051 2008 1995 1611\n",
      " 2034 2003 1860 1967  155 1891 1875 2043 2315 1958 3190  603 1862 1903\n",
      " 2022 2523 1739 3025 3028 2038 1771 1787 2000  635 1755 1938  331 1899\n",
      " 1874 1858 1922 1547 2331 1955 3035  587 2006 2027 2004 1915 1947 1883\n",
      " 2011 1867]\n",
      "[3776 3786 4032 ...  580 2002  324]\n"
     ]
    },
    {
     "data": {
      "image/png": "[encoded data removed]",
      "text/plain": [
       "<Figure size 432x288 with 1 Axes>"
      ]
     },
     "metadata": {
      "needs_background": "light"
     },
     "output_type": "display_data"
    }
   ],
   "source": [
    "my_env = Rewards_env(data, embedding)\n",
    "new_env = Rewards_env(todesign_data, embedding)\n",
    "\n",
    "agent = GPUCB(new_env, num_rounds, init_list = my_env.rewards_dict, num_rec = num_rec,\n",
    "          model = GaussianProcessRegressor(kernel = kernel, alpha = alpha, normalize_y =True))\n",
    "rec_arms = agent.play(label_avaiable = False)"
   ]
  },
  {
   "cell_type": "markdown",
   "metadata": {},
   "source": [
    "## Performance analysis\n",
    "\n",
    "### How to balance exploration vs exploitation? \n",
    "\n",
    "i.e. how to choose beta?"
   ]
  },
  {
   "cell_type": "code",
   "execution_count": 9,
   "metadata": {},
   "outputs": [
    {
     "data": {
      "text/plain": [
       "(array([1.000e+00, 1.000e+00, 1.000e+01, 4.900e+01, 9.500e+01, 1.890e+02,\n",
       "        4.520e+02, 1.191e+03, 1.669e+03, 4.390e+02]),\n",
       " array([0.27045908, 0.33232232, 0.39418557, 0.45604881, 0.51791206,\n",
       "        0.57977531, 0.64163855, 0.7035018 , 0.76536504, 0.82722829,\n",
       "        0.88909153]),\n",
       " <a list of 10 Patch objects>)"
      ]
     },
     "execution_count": 9,
     "metadata": {},
     "output_type": "execute_result"
    },
    {
     "data": {
      "image/png": "[encoded data removed]",
      "text/plain": [
       "<Figure size 432x288 with 1 Axes>"
      ]
     },
     "metadata": {
      "needs_background": "light"
     },
     "output_type": "display_data"
    }
   ],
   "source": [
    "plt.hist(agent.sigma)"
   ]
  },
  {
   "cell_type": "code",
   "execution_count": 10,
   "metadata": {},
   "outputs": [
    {
     "data": {
      "text/plain": [
       "(array([2.300e+01, 1.880e+02, 6.760e+02, 1.368e+03, 1.167e+03, 5.250e+02,\n",
       "        1.260e+02, 1.800e+01, 4.000e+00, 1.000e+00]),\n",
       " array([-0.79544316, -0.59604321, -0.39664327, -0.19724332,  0.00215662,\n",
       "         0.20155657,  0.40095651,  0.60035645,  0.7997564 ,  0.99915634,\n",
       "         1.19855629]),\n",
       " <a list of 10 Patch objects>)"
      ]
     },
     "execution_count": 10,
     "metadata": {},
     "output_type": "execute_result"
    },
    {
     "data": {
      "image/png": "[encoded data removed]",
      "text/plain": [
       "<Figure size 432x288 with 1 Axes>"
      ]
     },
     "metadata": {
      "needs_background": "light"
     },
     "output_type": "display_data"
    }
   ],
   "source": [
    "plt.hist(agent.mu)"
   ]
  },
  {
   "cell_type": "code",
   "execution_count": 11,
   "metadata": {},
   "outputs": [
    {
     "data": {
      "text/plain": [
       "(array([   9.,   22.,   80.,  249.,  650., 1191., 1145.,  579.,  158.,\n",
       "          13.]),\n",
       " array([0.58888776, 0.80735346, 1.02581916, 1.24428485, 1.46275055,\n",
       "        1.68121625, 1.89968194, 2.11814764, 2.33661334, 2.55507903,\n",
       "        2.77354473]),\n",
       " <a list of 10 Patch objects>)"
      ]
     },
     "execution_count": 11,
     "metadata": {},
     "output_type": "execute_result"
    },
    {
     "data": {
      "image/png": "[encoded data removed]",
      "text/plain": [
       "<Figure size 432x288 with 1 Axes>"
      ]
     },
     "metadata": {
      "needs_background": "light"
     },
     "output_type": "display_data"
    }
   ],
   "source": [
    "plt.hist(agent.mu + agent.beta * agent.sigma)"
   ]
  },
  {
   "cell_type": "code",
   "execution_count": 27,
   "metadata": {},
   "outputs": [
    {
     "data": {
      "text/plain": [
       "array([2.53092328, 2.534918  , 2.54509279, 2.54634106, 2.54994488,\n",
       "       2.55146223, 2.55496302, 2.55537876, 2.55910044, 2.56033296,\n",
       "       2.56261249, 2.57534778, 2.5827653 , 2.59742301, 2.64342582,\n",
       "       2.65202124, 2.68042044, 2.68263819, 2.73188493, 2.77354473])"
      ]
     },
     "execution_count": 27,
     "metadata": {},
     "output_type": "execute_result"
    }
   ],
   "source": [
    "np.sort(agent.mu + agent.beta * agent.sigma)[-20:]"
   ]
  },
  {
   "cell_type": "markdown",
   "metadata": {},
   "source": [
    "The predicted mean is ranging 0~1, and the predicted sigma is ranging -2 ~ 2. Since our experiment only has one round, we can select the value of beta based on the range of predicted mean and sigma, in terms of how we want to balance the exploration and exploitation. \n",
    "\n",
    "The goal is to design 60 sequences where \n",
    "- around 40 for exploitation and 20 for exploration. \n",
    "- For exploitation, we control the similar between sequences below a threshold $a$, \n",
    "- and for exploration, we control the similar between sequences below a threshold $b$ ($b < a$).\n",
    "- To control the similarities, we remove all sequences exceed the thresholds and put in new sequences in queue.\n",
    "- The similarties can be expressed by the kernel matrix. \n",
    "\n",
    "One another idea, instead of recommendation sequences with maximum ucbs, we sort predicted mean and std respectively, and recommends 40 from the maximum predicted means and 20 from the maximum predicted std, with the constraint that the recommended sequences do not have too low predicted mean or too low predicted std. \n",
    "\n",
    "Since in the current situation, find the appropriate value of beta is tricky. "
   ]
  },
  {
   "cell_type": "markdown",
   "metadata": {},
   "source": [
    "### Similarities of rec seqs (top ucbs)"
   ]
  },
  {
   "cell_type": "code",
   "execution_count": 12,
   "metadata": {},
   "outputs": [
    {
     "data": {
      "image/png": "[encoded data removed]",
      "text/plain": [
       "<Figure size 432x288 with 2 Axes>"
      ]
     },
     "metadata": {
      "needs_background": "light"
     },
     "output_type": "display_data"
    }
   ],
   "source": [
    "# similarities of rec seqs (top ucbs)\n",
    "\n",
    "sorted_idx = np.asarray(sorted(range(len(agent.mu + agent.beta * agent.sigma)), key = lambda k : (agent.mu + agent.beta * agent.sigma)[k]))\n",
    "\n",
    "kernel_matrix = kernel.__call__(np.asarray(combos)[sorted_idx][:num_rec], np.asarray(combos)[sorted_idx][:num_rec], plot_flag = True)"
   ]
  },
  {
   "cell_type": "markdown",
   "metadata": {},
   "source": [
    "### Prediction performance on frr results"
   ]
  },
  {
   "cell_type": "code",
   "execution_count": 13,
   "metadata": {},
   "outputs": [],
   "source": [
    "# prediction performance on frr results\n",
    "\n",
    "frr_env = Rewards_env(np.asarray(df[['RBS', 'AVERAGE']]), embedding)\n",
    "pred_mean, pred_std = agent.gp.predict(np.asarray(agent.to_list(frr_env.arm_features)), return_std = True)"
   ]
  },
  {
   "cell_type": "code",
   "execution_count": 14,
   "metadata": {},
   "outputs": [],
   "source": [
    "df['pred mean'] = pred_mean\n",
    "df['pred std'] = pred_std\n",
    "df['ucb'] = df['pred mean'] + agent.beta * df['pred std']"
   ]
  },
  {
   "cell_type": "code",
   "execution_count": 32,
   "metadata": {},
   "outputs": [
    {
     "data": {
      "text/plain": [
       "0.05981102235159028"
      ]
     },
     "execution_count": 32,
     "metadata": {},
     "output_type": "execute_result"
    }
   ],
   "source": [
    "df['ratio'] = df['pred mean']/df['pred std']\n",
    "np.mean(np.asarray(df['ratio']))"
   ]
  },
  {
   "cell_type": "code",
   "execution_count": 33,
   "metadata": {},
   "outputs": [
    {
     "data": {
      "text/html": [
       "<div>\n",
       "<style scoped>\n",
       "    .dataframe tbody tr th:only-of-type {\n",
       "        vertical-align: middle;\n",
       "    }\n",
       "\n",
       "    .dataframe tbody tr th {\n",
       "        vertical-align: top;\n",
       "    }\n",
       "\n",
       "    .dataframe thead th {\n",
       "        text-align: right;\n",
       "    }\n",
       "</style>\n",
       "<table border=\"1\" class=\"dataframe\">\n",
       "  <thead>\n",
       "    <tr style=\"text-align: right;\">\n",
       "      <th></th>\n",
       "      <th>Unnamed: 0</th>\n",
       "      <th>RBS</th>\n",
       "      <th>Name</th>\n",
       "      <th>Rep1</th>\n",
       "      <th>Rep2</th>\n",
       "      <th>Rep3</th>\n",
       "      <th>AVERAGE</th>\n",
       "      <th>STD</th>\n",
       "      <th>PERC</th>\n",
       "      <th>Group</th>\n",
       "      <th>RBS6</th>\n",
       "      <th>Change_Pos</th>\n",
       "      <th>Base</th>\n",
       "      <th>pred mean</th>\n",
       "      <th>pred std</th>\n",
       "      <th>ucb</th>\n",
       "      <th>ratio</th>\n",
       "    </tr>\n",
       "  </thead>\n",
       "  <tbody>\n",
       "    <tr>\n",
       "      <td>30</td>\n",
       "      <td>12</td>\n",
       "      <td>TTTACGAAGGAGATATACAT</td>\n",
       "      <td>RBS_1by1_13</td>\n",
       "      <td>1.828821</td>\n",
       "      <td>1.419337</td>\n",
       "      <td>1.144239</td>\n",
       "      <td>1.464132</td>\n",
       "      <td>0.344482</td>\n",
       "      <td>0.219306</td>\n",
       "      <td>bps_noncore</td>\n",
       "      <td>AGGAGA</td>\n",
       "      <td>5.0</td>\n",
       "      <td>C</td>\n",
       "      <td>1.311159</td>\n",
       "      <td>0.537875</td>\n",
       "      <td>2.655847</td>\n",
       "      <td>2.437666</td>\n",
       "    </tr>\n",
       "    <tr>\n",
       "      <td>29</td>\n",
       "      <td>11</td>\n",
       "      <td>TTTTAGAAGGAGATATACAT</td>\n",
       "      <td>RBS_1by1_12</td>\n",
       "      <td>2.249207</td>\n",
       "      <td>1.478876</td>\n",
       "      <td>1.148303</td>\n",
       "      <td>1.625462</td>\n",
       "      <td>0.564901</td>\n",
       "      <td>0.264738</td>\n",
       "      <td>bps_noncore</td>\n",
       "      <td>AGGAGA</td>\n",
       "      <td>4.0</td>\n",
       "      <td>T</td>\n",
       "      <td>1.350416</td>\n",
       "      <td>0.501833</td>\n",
       "      <td>2.604999</td>\n",
       "      <td>2.690964</td>\n",
       "    </tr>\n",
       "    <tr>\n",
       "      <td>28</td>\n",
       "      <td>10</td>\n",
       "      <td>TTTGAGAAGGAGATATACAT</td>\n",
       "      <td>RBS_1by1_11</td>\n",
       "      <td>2.156071</td>\n",
       "      <td>2.110693</td>\n",
       "      <td>0.956545</td>\n",
       "      <td>1.741103</td>\n",
       "      <td>0.679826</td>\n",
       "      <td>0.171995</td>\n",
       "      <td>bps_noncore</td>\n",
       "      <td>AGGAGA</td>\n",
       "      <td>4.0</td>\n",
       "      <td>G</td>\n",
       "      <td>1.362116</td>\n",
       "      <td>0.482459</td>\n",
       "      <td>2.568264</td>\n",
       "      <td>2.823277</td>\n",
       "    </tr>\n",
       "    <tr>\n",
       "      <td>31</td>\n",
       "      <td>13</td>\n",
       "      <td>TTTAGGAAGGAGATATACAT</td>\n",
       "      <td>RBS_1by1_14</td>\n",
       "      <td>1.502196</td>\n",
       "      <td>1.377429</td>\n",
       "      <td>1.166292</td>\n",
       "      <td>1.348639</td>\n",
       "      <td>0.169792</td>\n",
       "      <td>0.177962</td>\n",
       "      <td>bps_noncore</td>\n",
       "      <td>AGGAGA</td>\n",
       "      <td>5.0</td>\n",
       "      <td>G</td>\n",
       "      <td>1.328358</td>\n",
       "      <td>0.492551</td>\n",
       "      <td>2.559735</td>\n",
       "      <td>2.696898</td>\n",
       "    </tr>\n",
       "    <tr>\n",
       "      <td>25</td>\n",
       "      <td>7</td>\n",
       "      <td>TTGAAGAAGGAGATATACAT</td>\n",
       "      <td>RBS_1by1_8</td>\n",
       "      <td>1.775556</td>\n",
       "      <td>1.689308</td>\n",
       "      <td>NaN</td>\n",
       "      <td>1.732432</td>\n",
       "      <td>0.060987</td>\n",
       "      <td>0.174465</td>\n",
       "      <td>bps_noncore</td>\n",
       "      <td>AGGAGA</td>\n",
       "      <td>3.0</td>\n",
       "      <td>G</td>\n",
       "      <td>1.219231</td>\n",
       "      <td>0.473059</td>\n",
       "      <td>2.401878</td>\n",
       "      <td>2.577335</td>\n",
       "    </tr>\n",
       "    <tr>\n",
       "      <td>...</td>\n",
       "      <td>...</td>\n",
       "      <td>...</td>\n",
       "      <td>...</td>\n",
       "      <td>...</td>\n",
       "      <td>...</td>\n",
       "      <td>...</td>\n",
       "      <td>...</td>\n",
       "      <td>...</td>\n",
       "      <td>...</td>\n",
       "      <td>...</td>\n",
       "      <td>...</td>\n",
       "      <td>...</td>\n",
       "      <td>...</td>\n",
       "      <td>...</td>\n",
       "      <td>...</td>\n",
       "      <td>...</td>\n",
       "      <td>...</td>\n",
       "    </tr>\n",
       "    <tr>\n",
       "      <td>129</td>\n",
       "      <td>109</td>\n",
       "      <td>TTTAAGATTAAGATATACAT</td>\n",
       "      <td>RBS_BA_20</td>\n",
       "      <td>-1.058385</td>\n",
       "      <td>-1.449203</td>\n",
       "      <td>-0.737875</td>\n",
       "      <td>-1.081821</td>\n",
       "      <td>0.356242</td>\n",
       "      <td>0.289240</td>\n",
       "      <td>bandit</td>\n",
       "      <td>TTAAGA</td>\n",
       "      <td>NaN</td>\n",
       "      <td>NaN</td>\n",
       "      <td>-0.816286</td>\n",
       "      <td>0.478434</td>\n",
       "      <td>0.379798</td>\n",
       "      <td>-1.706163</td>\n",
       "    </tr>\n",
       "    <tr>\n",
       "      <td>137</td>\n",
       "      <td>135</td>\n",
       "      <td>TTTAAGATTTTTATATACAT</td>\n",
       "      <td>RBS_BA_46</td>\n",
       "      <td>-1.054966</td>\n",
       "      <td>-1.739954</td>\n",
       "      <td>-0.918570</td>\n",
       "      <td>-1.237830</td>\n",
       "      <td>0.440167</td>\n",
       "      <td>0.592993</td>\n",
       "      <td>bandit</td>\n",
       "      <td>TTTTTA</td>\n",
       "      <td>NaN</td>\n",
       "      <td>NaN</td>\n",
       "      <td>-0.651476</td>\n",
       "      <td>0.398936</td>\n",
       "      <td>0.345864</td>\n",
       "      <td>-1.633034</td>\n",
       "    </tr>\n",
       "    <tr>\n",
       "      <td>145</td>\n",
       "      <td>144</td>\n",
       "      <td>TTTAAGAACCCCCTATACAT</td>\n",
       "      <td>RBS_BA_55</td>\n",
       "      <td>-1.122334</td>\n",
       "      <td>-1.745505</td>\n",
       "      <td>-0.872519</td>\n",
       "      <td>-1.246786</td>\n",
       "      <td>0.449603</td>\n",
       "      <td>0.501730</td>\n",
       "      <td>bandit</td>\n",
       "      <td>ACCCCC</td>\n",
       "      <td>NaN</td>\n",
       "      <td>NaN</td>\n",
       "      <td>-0.820763</td>\n",
       "      <td>0.459337</td>\n",
       "      <td>0.327579</td>\n",
       "      <td>-1.786843</td>\n",
       "    </tr>\n",
       "    <tr>\n",
       "      <td>148</td>\n",
       "      <td>147</td>\n",
       "      <td>TTTAAGACCCCCCTATACAT</td>\n",
       "      <td>RBS_BA_58</td>\n",
       "      <td>-0.212817</td>\n",
       "      <td>0.517292</td>\n",
       "      <td>-0.333812</td>\n",
       "      <td>-0.009779</td>\n",
       "      <td>0.460449</td>\n",
       "      <td>0.052269</td>\n",
       "      <td>bandit</td>\n",
       "      <td>CCCCCC</td>\n",
       "      <td>NaN</td>\n",
       "      <td>NaN</td>\n",
       "      <td>-0.720372</td>\n",
       "      <td>0.398592</td>\n",
       "      <td>0.276109</td>\n",
       "      <td>-1.807290</td>\n",
       "    </tr>\n",
       "    <tr>\n",
       "      <td>146</td>\n",
       "      <td>145</td>\n",
       "      <td>TTTAAGATCCCCCTATACAT</td>\n",
       "      <td>RBS_BA_56</td>\n",
       "      <td>-1.201517</td>\n",
       "      <td>-1.351549</td>\n",
       "      <td>-0.894609</td>\n",
       "      <td>-1.149225</td>\n",
       "      <td>0.232915</td>\n",
       "      <td>0.116917</td>\n",
       "      <td>bandit</td>\n",
       "      <td>TCCCCC</td>\n",
       "      <td>NaN</td>\n",
       "      <td>NaN</td>\n",
       "      <td>-0.927198</td>\n",
       "      <td>0.476236</td>\n",
       "      <td>0.263392</td>\n",
       "      <td>-1.946930</td>\n",
       "    </tr>\n",
       "  </tbody>\n",
       "</table>\n",
       "<p>150 rows × 17 columns</p>\n",
       "</div>"
      ],
      "text/plain": [
       "     Unnamed: 0                   RBS         Name      Rep1      Rep2  \\\n",
       "30           12  TTTACGAAGGAGATATACAT  RBS_1by1_13  1.828821  1.419337   \n",
       "29           11  TTTTAGAAGGAGATATACAT  RBS_1by1_12  2.249207  1.478876   \n",
       "28           10  TTTGAGAAGGAGATATACAT  RBS_1by1_11  2.156071  2.110693   \n",
       "31           13  TTTAGGAAGGAGATATACAT  RBS_1by1_14  1.502196  1.377429   \n",
       "25            7  TTGAAGAAGGAGATATACAT   RBS_1by1_8  1.775556  1.689308   \n",
       "..          ...                   ...          ...       ...       ...   \n",
       "129         109  TTTAAGATTAAGATATACAT    RBS_BA_20 -1.058385 -1.449203   \n",
       "137         135  TTTAAGATTTTTATATACAT    RBS_BA_46 -1.054966 -1.739954   \n",
       "145         144  TTTAAGAACCCCCTATACAT    RBS_BA_55 -1.122334 -1.745505   \n",
       "148         147  TTTAAGACCCCCCTATACAT    RBS_BA_58 -0.212817  0.517292   \n",
       "146         145  TTTAAGATCCCCCTATACAT    RBS_BA_56 -1.201517 -1.351549   \n",
       "\n",
       "         Rep3   AVERAGE       STD      PERC        Group    RBS6  Change_Pos  \\\n",
       "30   1.144239  1.464132  0.344482  0.219306  bps_noncore  AGGAGA         5.0   \n",
       "29   1.148303  1.625462  0.564901  0.264738  bps_noncore  AGGAGA         4.0   \n",
       "28   0.956545  1.741103  0.679826  0.171995  bps_noncore  AGGAGA         4.0   \n",
       "31   1.166292  1.348639  0.169792  0.177962  bps_noncore  AGGAGA         5.0   \n",
       "25        NaN  1.732432  0.060987  0.174465  bps_noncore  AGGAGA         3.0   \n",
       "..        ...       ...       ...       ...          ...     ...         ...   \n",
       "129 -0.737875 -1.081821  0.356242  0.289240       bandit  TTAAGA         NaN   \n",
       "137 -0.918570 -1.237830  0.440167  0.592993       bandit  TTTTTA         NaN   \n",
       "145 -0.872519 -1.246786  0.449603  0.501730       bandit  ACCCCC         NaN   \n",
       "148 -0.333812 -0.009779  0.460449  0.052269       bandit  CCCCCC         NaN   \n",
       "146 -0.894609 -1.149225  0.232915  0.116917       bandit  TCCCCC         NaN   \n",
       "\n",
       "    Base  pred mean  pred std       ucb     ratio  \n",
       "30     C   1.311159  0.537875  2.655847  2.437666  \n",
       "29     T   1.350416  0.501833  2.604999  2.690964  \n",
       "28     G   1.362116  0.482459  2.568264  2.823277  \n",
       "31     G   1.328358  0.492551  2.559735  2.696898  \n",
       "25     G   1.219231  0.473059  2.401878  2.577335  \n",
       "..   ...        ...       ...       ...       ...  \n",
       "129  NaN  -0.816286  0.478434  0.379798 -1.706163  \n",
       "137  NaN  -0.651476  0.398936  0.345864 -1.633034  \n",
       "145  NaN  -0.820763  0.459337  0.327579 -1.786843  \n",
       "148  NaN  -0.720372  0.398592  0.276109 -1.807290  \n",
       "146  NaN  -0.927198  0.476236  0.263392 -1.946930  \n",
       "\n",
       "[150 rows x 17 columns]"
      ]
     },
     "execution_count": 33,
     "metadata": {},
     "output_type": "execute_result"
    }
   ],
   "source": [
    "df.sort_values(by = 'ucb', ascending=False).head(150)"
   ]
  },
  {
   "cell_type": "code",
   "execution_count": 16,
   "metadata": {},
   "outputs": [
    {
     "data": {
      "text/html": [
       "<div>\n",
       "<style scoped>\n",
       "    .dataframe tbody tr th:only-of-type {\n",
       "        vertical-align: middle;\n",
       "    }\n",
       "\n",
       "    .dataframe tbody tr th {\n",
       "        vertical-align: top;\n",
       "    }\n",
       "\n",
       "    .dataframe thead th {\n",
       "        text-align: right;\n",
       "    }\n",
       "</style>\n",
       "<table border=\"1\" class=\"dataframe\">\n",
       "  <thead>\n",
       "    <tr style=\"text-align: right;\">\n",
       "      <th></th>\n",
       "      <th>Unnamed: 0</th>\n",
       "      <th>RBS</th>\n",
       "      <th>Name</th>\n",
       "      <th>Rep1</th>\n",
       "      <th>Rep2</th>\n",
       "      <th>Rep3</th>\n",
       "      <th>AVERAGE</th>\n",
       "      <th>STD</th>\n",
       "      <th>PERC</th>\n",
       "      <th>Group</th>\n",
       "      <th>RBS6</th>\n",
       "      <th>Change_Pos</th>\n",
       "      <th>Base</th>\n",
       "      <th>pred mean</th>\n",
       "      <th>pred std</th>\n",
       "      <th>ucb</th>\n",
       "    </tr>\n",
       "  </thead>\n",
       "  <tbody>\n",
       "    <tr>\n",
       "      <td>70</td>\n",
       "      <td>70</td>\n",
       "      <td>TTTAAGAGGTCAATATACAT</td>\n",
       "      <td>RBS_RU_10</td>\n",
       "      <td>-0.228609</td>\n",
       "      <td>-0.342112</td>\n",
       "      <td>-0.104335</td>\n",
       "      <td>-0.225019</td>\n",
       "      <td>0.118929</td>\n",
       "      <td>0.148945</td>\n",
       "      <td>uni random</td>\n",
       "      <td>GGTCAA</td>\n",
       "      <td>NaN</td>\n",
       "      <td>NaN</td>\n",
       "      <td>-0.314170</td>\n",
       "      <td>0.588227</td>\n",
       "      <td>1.156396</td>\n",
       "    </tr>\n",
       "    <tr>\n",
       "      <td>12</td>\n",
       "      <td>32</td>\n",
       "      <td>TTTAAGAAGGTGATATACAT</td>\n",
       "      <td>RBS_1by1_33</td>\n",
       "      <td>-0.271466</td>\n",
       "      <td>-0.151800</td>\n",
       "      <td>-0.048227</td>\n",
       "      <td>-0.157164</td>\n",
       "      <td>0.111716</td>\n",
       "      <td>0.077421</td>\n",
       "      <td>bps_core</td>\n",
       "      <td>AGGTGA</td>\n",
       "      <td>11.0</td>\n",
       "      <td>T</td>\n",
       "      <td>-0.175238</td>\n",
       "      <td>0.584369</td>\n",
       "      <td>1.285683</td>\n",
       "    </tr>\n",
       "    <tr>\n",
       "      <td>10</td>\n",
       "      <td>30</td>\n",
       "      <td>TTTAAGAAGGCGATATACAT</td>\n",
       "      <td>RBS_1by1_31</td>\n",
       "      <td>-1.414243</td>\n",
       "      <td>-1.457957</td>\n",
       "      <td>-0.702884</td>\n",
       "      <td>-1.191695</td>\n",
       "      <td>0.423886</td>\n",
       "      <td>0.138362</td>\n",
       "      <td>bps_core</td>\n",
       "      <td>AGGCGA</td>\n",
       "      <td>11.0</td>\n",
       "      <td>C</td>\n",
       "      <td>-0.663989</td>\n",
       "      <td>0.583083</td>\n",
       "      <td>0.793718</td>\n",
       "    </tr>\n",
       "    <tr>\n",
       "      <td>108</td>\n",
       "      <td>172</td>\n",
       "      <td>TTTAAGATAGTCTTATACAT</td>\n",
       "      <td>RBS_RP_54</td>\n",
       "      <td>1.126117</td>\n",
       "      <td>1.970110</td>\n",
       "      <td>0.351180</td>\n",
       "      <td>1.149136</td>\n",
       "      <td>0.809711</td>\n",
       "      <td>0.047388</td>\n",
       "      <td>prob random</td>\n",
       "      <td>TAGTCT</td>\n",
       "      <td>NaN</td>\n",
       "      <td>NaN</td>\n",
       "      <td>0.402066</td>\n",
       "      <td>0.578759</td>\n",
       "      <td>1.848964</td>\n",
       "    </tr>\n",
       "    <tr>\n",
       "      <td>4</td>\n",
       "      <td>24</td>\n",
       "      <td>TTTAAGAACGAGATATACAT</td>\n",
       "      <td>RBS_1by1_25</td>\n",
       "      <td>1.280146</td>\n",
       "      <td>1.046771</td>\n",
       "      <td>0.953997</td>\n",
       "      <td>1.093638</td>\n",
       "      <td>0.168050</td>\n",
       "      <td>0.193737</td>\n",
       "      <td>bps_core</td>\n",
       "      <td>ACGAGA</td>\n",
       "      <td>9.0</td>\n",
       "      <td>C</td>\n",
       "      <td>0.540345</td>\n",
       "      <td>0.576116</td>\n",
       "      <td>1.980635</td>\n",
       "    </tr>\n",
       "    <tr>\n",
       "      <td>...</td>\n",
       "      <td>...</td>\n",
       "      <td>...</td>\n",
       "      <td>...</td>\n",
       "      <td>...</td>\n",
       "      <td>...</td>\n",
       "      <td>...</td>\n",
       "      <td>...</td>\n",
       "      <td>...</td>\n",
       "      <td>...</td>\n",
       "      <td>...</td>\n",
       "      <td>...</td>\n",
       "      <td>...</td>\n",
       "      <td>...</td>\n",
       "      <td>...</td>\n",
       "      <td>...</td>\n",
       "      <td>...</td>\n",
       "    </tr>\n",
       "    <tr>\n",
       "      <td>137</td>\n",
       "      <td>135</td>\n",
       "      <td>TTTAAGATTTTTATATACAT</td>\n",
       "      <td>RBS_BA_46</td>\n",
       "      <td>-1.054966</td>\n",
       "      <td>-1.739954</td>\n",
       "      <td>-0.918570</td>\n",
       "      <td>-1.237830</td>\n",
       "      <td>0.440167</td>\n",
       "      <td>0.592993</td>\n",
       "      <td>bandit</td>\n",
       "      <td>TTTTTA</td>\n",
       "      <td>NaN</td>\n",
       "      <td>NaN</td>\n",
       "      <td>-0.651476</td>\n",
       "      <td>0.398936</td>\n",
       "      <td>0.345864</td>\n",
       "    </tr>\n",
       "    <tr>\n",
       "      <td>148</td>\n",
       "      <td>147</td>\n",
       "      <td>TTTAAGACCCCCCTATACAT</td>\n",
       "      <td>RBS_BA_58</td>\n",
       "      <td>-0.212817</td>\n",
       "      <td>0.517292</td>\n",
       "      <td>-0.333812</td>\n",
       "      <td>-0.009779</td>\n",
       "      <td>0.460449</td>\n",
       "      <td>0.052269</td>\n",
       "      <td>bandit</td>\n",
       "      <td>CCCCCC</td>\n",
       "      <td>NaN</td>\n",
       "      <td>NaN</td>\n",
       "      <td>-0.720372</td>\n",
       "      <td>0.398592</td>\n",
       "      <td>0.276109</td>\n",
       "    </tr>\n",
       "    <tr>\n",
       "      <td>53</td>\n",
       "      <td>53</td>\n",
       "      <td>TTTAAGAAGGAGATATATAT</td>\n",
       "      <td>RBS_1by1_54</td>\n",
       "      <td>0.770642</td>\n",
       "      <td>0.434655</td>\n",
       "      <td>0.238933</td>\n",
       "      <td>0.481410</td>\n",
       "      <td>0.268920</td>\n",
       "      <td>0.212985</td>\n",
       "      <td>bps_noncore</td>\n",
       "      <td>AGGAGA</td>\n",
       "      <td>18.0</td>\n",
       "      <td>T</td>\n",
       "      <td>0.589192</td>\n",
       "      <td>0.398305</td>\n",
       "      <td>1.584953</td>\n",
       "    </tr>\n",
       "    <tr>\n",
       "      <td>149</td>\n",
       "      <td>148</td>\n",
       "      <td>TTTAAGATTTTTTTATACAT</td>\n",
       "      <td>RBS_BA_59</td>\n",
       "      <td>-0.435255</td>\n",
       "      <td>-0.415568</td>\n",
       "      <td>-0.550756</td>\n",
       "      <td>-0.467193</td>\n",
       "      <td>0.073034</td>\n",
       "      <td>0.082956</td>\n",
       "      <td>bandit</td>\n",
       "      <td>TTTTTT</td>\n",
       "      <td>NaN</td>\n",
       "      <td>NaN</td>\n",
       "      <td>-0.304587</td>\n",
       "      <td>0.365469</td>\n",
       "      <td>0.609085</td>\n",
       "    </tr>\n",
       "    <tr>\n",
       "      <td>0</td>\n",
       "      <td>0</td>\n",
       "      <td>TTTAAGAAGGAGATATACAT</td>\n",
       "      <td>RBS_1by1_0</td>\n",
       "      <td>3.194925</td>\n",
       "      <td>2.783529</td>\n",
       "      <td>1.798618</td>\n",
       "      <td>2.592357</td>\n",
       "      <td>0.717515</td>\n",
       "      <td>0.246643</td>\n",
       "      <td>reference</td>\n",
       "      <td>AGGAGA</td>\n",
       "      <td>1.0</td>\n",
       "      <td>T</td>\n",
       "      <td>1.255761</td>\n",
       "      <td>0.319734</td>\n",
       "      <td>2.055095</td>\n",
       "    </tr>\n",
       "  </tbody>\n",
       "</table>\n",
       "<p>150 rows × 16 columns</p>\n",
       "</div>"
      ],
      "text/plain": [
       "     Unnamed: 0                   RBS         Name      Rep1      Rep2  \\\n",
       "70           70  TTTAAGAGGTCAATATACAT    RBS_RU_10 -0.228609 -0.342112   \n",
       "12           32  TTTAAGAAGGTGATATACAT  RBS_1by1_33 -0.271466 -0.151800   \n",
       "10           30  TTTAAGAAGGCGATATACAT  RBS_1by1_31 -1.414243 -1.457957   \n",
       "108         172  TTTAAGATAGTCTTATACAT    RBS_RP_54  1.126117  1.970110   \n",
       "4            24  TTTAAGAACGAGATATACAT  RBS_1by1_25  1.280146  1.046771   \n",
       "..          ...                   ...          ...       ...       ...   \n",
       "137         135  TTTAAGATTTTTATATACAT    RBS_BA_46 -1.054966 -1.739954   \n",
       "148         147  TTTAAGACCCCCCTATACAT    RBS_BA_58 -0.212817  0.517292   \n",
       "53           53  TTTAAGAAGGAGATATATAT  RBS_1by1_54  0.770642  0.434655   \n",
       "149         148  TTTAAGATTTTTTTATACAT    RBS_BA_59 -0.435255 -0.415568   \n",
       "0             0  TTTAAGAAGGAGATATACAT   RBS_1by1_0  3.194925  2.783529   \n",
       "\n",
       "         Rep3   AVERAGE       STD      PERC        Group    RBS6  Change_Pos  \\\n",
       "70  -0.104335 -0.225019  0.118929  0.148945   uni random  GGTCAA         NaN   \n",
       "12  -0.048227 -0.157164  0.111716  0.077421     bps_core  AGGTGA        11.0   \n",
       "10  -0.702884 -1.191695  0.423886  0.138362     bps_core  AGGCGA        11.0   \n",
       "108  0.351180  1.149136  0.809711  0.047388  prob random  TAGTCT         NaN   \n",
       "4    0.953997  1.093638  0.168050  0.193737     bps_core  ACGAGA         9.0   \n",
       "..        ...       ...       ...       ...          ...     ...         ...   \n",
       "137 -0.918570 -1.237830  0.440167  0.592993       bandit  TTTTTA         NaN   \n",
       "148 -0.333812 -0.009779  0.460449  0.052269       bandit  CCCCCC         NaN   \n",
       "53   0.238933  0.481410  0.268920  0.212985  bps_noncore  AGGAGA        18.0   \n",
       "149 -0.550756 -0.467193  0.073034  0.082956       bandit  TTTTTT         NaN   \n",
       "0    1.798618  2.592357  0.717515  0.246643    reference  AGGAGA         1.0   \n",
       "\n",
       "    Base  pred mean  pred std       ucb  \n",
       "70   NaN  -0.314170  0.588227  1.156396  \n",
       "12     T  -0.175238  0.584369  1.285683  \n",
       "10     C  -0.663989  0.583083  0.793718  \n",
       "108  NaN   0.402066  0.578759  1.848964  \n",
       "4      C   0.540345  0.576116  1.980635  \n",
       "..   ...        ...       ...       ...  \n",
       "137  NaN  -0.651476  0.398936  0.345864  \n",
       "148  NaN  -0.720372  0.398592  0.276109  \n",
       "53     T   0.589192  0.398305  1.584953  \n",
       "149  NaN  -0.304587  0.365469  0.609085  \n",
       "0      T   1.255761  0.319734  2.055095  \n",
       "\n",
       "[150 rows x 16 columns]"
      ]
     },
     "execution_count": 16,
     "metadata": {},
     "output_type": "execute_result"
    }
   ],
   "source": [
    "df.sort_values(by = 'pred std', ascending=False)"
   ]
  },
  {
   "cell_type": "code",
   "execution_count": 17,
   "metadata": {},
   "outputs": [
    {
     "data": {
      "text/plain": [
       "<matplotlib.axes._subplots.AxesSubplot at 0x1a1d51be10>"
      ]
     },
     "execution_count": 17,
     "metadata": {},
     "output_type": "execute_result"
    },
    {
     "data": {
      "image/png": "[encoded data removed]",
      "text/plain": [
       "<Figure size 432x288 with 1 Axes>"
      ]
     },
     "metadata": {
      "needs_background": "light"
     },
     "output_type": "display_data"
    }
   ],
   "source": [
    "sns.scatterplot(df['pred mean'], df['AVERAGE'])"
   ]
  },
  {
   "cell_type": "markdown",
   "metadata": {},
   "source": [
    "Since we choose alpha = 2, the prediction is ok, but not that good (with alpha = 0.1, all points are fit to the diagonal, which also could be overfitting). \n",
    "\n",
    "We can see, with beta = 1, the ucb ordering is similar as the pred mean ordering, i.e. we do exploitation pretty much. "
   ]
  },
  {
   "cell_type": "markdown",
   "metadata": {},
   "source": [
    "### Sensitivity of the choice of beta\n",
    "\n",
    "We calculate the spearmanr rank-order correlation for ucbs with the different chocies of beta. We expect that the correlation is big when the difference of beta is small, vice versa."
   ]
  },
  {
   "cell_type": "code",
   "execution_count": 18,
   "metadata": {},
   "outputs": [
    {
     "name": "stdout",
     "output_type": "stream",
     "text": [
      "[2068 2324 2836 1044 1307 2331 2335 2043 1329  322 1860 2372 1604 2628\n",
      " 3396  327  582  331 1867 1862 3147  335  587 1874 1883  324  580  326\n",
      " 1147 1915  635 3195  379  123 1938 1947 1980 1983 1222 1223 1995 1739\n",
      " 1227 2000 3025 3026 2003 3028 2001 2006 2004 2002 3035 2011 2027 2034\n",
      " 2036 3062 2038 1787]\n",
      "[2315 2068 2324 2836 1044 1307 2331 2335 2043 1329  322 1858 1860 2372\n",
      " 1604 2628 3396  327  582  331 1867 1862 3147  335  587 1874 1883  324\n",
      "  580  326 3190 1147 1915  635 3195  379  123 1922 1938 1947 1955 1980\n",
      " 1983 1222 1223 1995 1739 1227 3019 2000 3025 3026 2003 3028 2001 2006\n",
      " 2004 2002 3035 2011 2027 2034 1778 2036 3062 2038 1787]\n",
      "[2315 1547 2068 2324 2836 1044 1307 2331 2335 2043 1329  322 1858 1860\n",
      " 2372 1604 2628 3396  327  582  331 1867 1862 3147  335  587 1874 1875\n",
      " 1883  324  580  326 1899 1903 3190 1147 1915  635 3195  379  123 1922\n",
      " 1938 1947 1955 1980 1983 1222 1223 3014 1995 1739 1227 3019 2000 3025\n",
      " 3026 2003 3028 2001 2006 2004 2002 2008 3035 2011 2523 1755 2019 2022\n",
      " 2027 1771 2034 1778 2036 3062 2038 1787]\n",
      "[2315 1547 2068 2324 2836 1044 1307 2331 2335 2043 1329  322 1858 1860\n",
      " 2372 1604 2628 3396  327  582  331 1867 1862 3147  335  587 1611 1874\n",
      " 1875 1883  603  324 1891  580  326 1899 1903 3190 1147 1915  635 3195\n",
      "  379  123 1922 1938 1947 1955 1958 1967 1980 1983 1222 1223 3014 1995\n",
      " 1739 1227 3019 2000 3025 3026 2003 3028 2001 2006 2004 2002 2008 3035\n",
      " 2011 2523 1755 2019 2022 2027 3051 1771 2034 1778 2036 3062 2038 1787]\n",
      "[2315 1547 2068 2324 2836 1044 1307 2331 3355 2335 2043 1329  322 1858\n",
      " 1860 2372 1604 2628 3396  327  582  331 1867 1862 3147  335  587 1611\n",
      " 1874 1872 1875 1883 3163  603  324 1891  580  326 1899 1903 3190 1147\n",
      " 1915  635 3195  379  123 1922 1859 1931 1938 1947 1179  155 1955 1958\n",
      " 1963 1967 1974 1980 1983 1222 1223 3014 1995 1739 1227 2000 3025 3026\n",
      " 2003 3028 2001 2006 2004 2002 2008 3035 2011 2523 1755 2019 2022 2027\n",
      " 3051 1771 2034 1778 2036 3062 2038 1787]\n",
      "[2315 2068 1044 2324 1307 2331 2335 2043 1329 1858 1860 2372  580  582\n",
      "  326 1862  324  331 1867 3147  587 1874 1883 3190 1147 1915  635 3195\n",
      "  123  379 1922 1938 1947 1955 1980 1983 1222 1223 3019 1995 1227 1739\n",
      " 2000 3025 3026 2003 3028 2001 2006 2004 2002 3035 2011 2027 1778 2034\n",
      " 2036 3062 2038 1787]\n",
      "[2315 1547 2068 1044 2324 1307 2331 2335 2043 1329 1858 1860 2372  580\n",
      "  582  326 1862  324  331 1867 3147  587 1874 1875 1883 1899 1903 3190\n",
      " 1147 1915  635 3195  123  379 1922 1938 1947 1955 1980 1983 1222 1223\n",
      " 3014 3019 1995 1227 1739 2000 3025 3026 2003 3028 2001 2006 2004 2002\n",
      " 2008 3035 2011 2523 1755 2019 2022 2027 1771 1778 2034 2036 3062 2038\n",
      " 1787]\n",
      "[2315 1547 2068 1044 2324 1307 2331 2335 2043 1329 1858 1860 2372  580\n",
      "  582  326 1862  324  331 1867 3147  587 1611 1874 1875 1883  603 1891\n",
      " 1899 1903 3190 1147 1915  635 3195  123  379 1922 1938 1947 1955 1958\n",
      " 1967 1980 1983 1222 1223 3014 3019 1995 1227 1739 2000 3025 3026 2003\n",
      " 3028 2001 2006 2004 2002 2008 3035 2011 2523 1755 2019 2022 2027 3051\n",
      " 1771 1778 2034 2036 3062 2038 1787]\n",
      "[2315 1547 2068 1044 2324 1307 2331 3355 2335 2043 1329 1858 1859 1860\n",
      " 2372  580  582  326 1862  324  331 1867 3147  587 1611 1872 1874 1875\n",
      " 1883 3163  603 1891 1899 1903 3190 1147 1915  635 3195  123  379 1922\n",
      " 1931 1938 1947 1179  155 1955 1958 1963 1967 1974 1980 1983 1222 1223\n",
      " 3014 3019 1995 1227 1739 2000 3025 3026 2003 3028 2001 2006 2004 2002\n",
      " 2008 3035 2011 2523 1755 2019 2022 2027 3051 1771 1778 2034 2036 3062\n",
      " 2038 1787]\n",
      "[2315 1547 1307 2331 2335 2043 1858 1860  582 1862  331  587 1867 3147\n",
      " 1874 1875 1883 1899 1903 3190 1147 1915 3195  635  379 1922 1938 1947\n",
      " 1955 1980 1983 3014 1222 1223 3019 1995 1227 1739 2000 2001 3025 2003\n",
      " 3028 2002 2006 2004 2008 2523 1755 3035 2011 2019 2022 1771 2027 1778\n",
      " 2034 3062 2038 1787]\n",
      "[2315 1547 1307 2331 2335 2043 1858 1860  582 1862  331  587 1867 3147\n",
      " 1611 1874 1875 1883  603 1891 1899 1903 3190 1147 1915 3195  635  379\n",
      " 1922 1938 1947 1955 1958 1967 1980 1983 3014 1222 1223 3019 1995 1227\n",
      " 1739 2000 2001 3025 2003 3028 2002 2006 2004 2008 2523 1755 3035 2011\n",
      " 2019 2022 1771 2027 3051 1778 2034 3062 2038 1787]\n",
      "[2315 1547 1307 2331 3355 2335 2043 1858 1859 1860  582 1862  331  587\n",
      " 1867 3147 1611 1872 1874 1875 1883 3163  603 1891 1899 1903 3190 1147\n",
      " 1915 3195  635  379 1922 1931 1938 1947 1179  155 1955 1958 1963 1967\n",
      " 1974 1980 1983 3014 1222 1223 3019 1995 1227 1739 2000 2001 3025 2003\n",
      " 3028 2002 2006 2004 2008 2523 1755 3035 2011 2019 2022 1771 2027 3051\n",
      " 1778 2034 3062 2038 1787]\n",
      "[2315 1547 2331 2043 1858 1860 1862  331  587 1867 1611 3147 1874 1875\n",
      "  603 1883 1891 1899 1903 3190 1147 1915  635 3195 1922 1938 1947 1955\n",
      " 1958 1967 1980 1983 3014 1223 1222 3019 1227 1995 1739 2000 3025 2002\n",
      " 2003 3028 2004 2006 2008 2523 1755 3035 2011 2019 2022 3051 1771 2027\n",
      " 1778 2034 2038 1787]\n",
      "[2315 1547 2331 3355 2043 1858 1859 1860 1862  331  587 1867 1611 3147\n",
      " 1872 1874 1875  603 1883 3163 1891 1899 1903 3190 1147 1915  635 3195\n",
      " 1922 1931 1938 1947 1179  155 1955 1958 1963 1967 1974 1980 1983 3014\n",
      " 1223 1222 3019 1227 1995 1739 2000 3025 2002 2003 3028 2004 2006 2008\n",
      " 2523 1755 3035 2011 2019 2022 3051 1771 2027 1778 2034 2038 1787]\n",
      "[2315 1547 3355 2331 2043 1858 1859 1860 1862  587 1867 3147 1611  331\n",
      " 1872 1874 1875 3163  603 1883 1891 1899 1903 3190 1915  635 1922 1931\n",
      " 1938 1179  155 1947 1955 1958 1963 1967 1974 3014 1995 1739 2000 3025\n",
      " 2003 3028 2004 2006 2008 2523 1755 3035 2011 2019 2022 3051 1771 2027\n",
      " 1778 2034 2038 1787]\n"
     ]
    },
    {
     "data": {
      "text/plain": [
       "array([[ 1.        ,  0.74694708,  0.33916716,  0.09245722, -0.1176117 ],\n",
       "       [ 0.74694708,  1.        ,  0.71512408,  0.46356275,  0.20137742],\n",
       "       [ 0.33916716,  0.71512408,  1.        ,  0.85487945,  0.56523471],\n",
       "       [ 0.09245722,  0.46356275,  0.85487945,  1.        ,  0.83492875],\n",
       "       [-0.1176117 ,  0.20137742,  0.56523471,  0.83492875,  1.        ]])"
      ]
     },
     "execution_count": 18,
     "metadata": {},
     "output_type": "execute_result"
    }
   ],
   "source": [
    "from scipy.stats import spearmanr\n",
    "\n",
    "beta_list = [0.5, 1, 1.5, 2, 2.5]\n",
    "spearmanr_score = np.zeros((len(beta_list), len(beta_list)))\n",
    "\n",
    "for i, beta_i in enumerate(beta_list):\n",
    "    for j, beta_j in enumerate(beta_list):\n",
    "        if j >= i:\n",
    "            ucb_i = agent.mu + beta_i * agent.sigma\n",
    "            ucb_j = agent.mu + beta_j * agent.sigma\n",
    "            idx = np.asarray(list(set(np.argsort(ucb_i)[-60:]).union(set(np.argsort(ucb_j)[-60:]))))\n",
    "            print(idx)\n",
    "            spearmanr_score[i,j] = spearmanr(ucb_i[idx], ucb_j[idx])[0]\n",
    "            \n",
    "spearmanr_score = spearmanr_score.T + spearmanr_score\n",
    "for i in range(len(beta_list)):\n",
    "    spearmanr_score[i,i] = 1\n",
    "    \n",
    "spearmanr_score"
   ]
  },
  {
   "cell_type": "markdown",
   "metadata": {},
   "source": [
    "From the above results, we can observe the correlation accrods with our speculation. When the beta difference is small, the correlation is high. "
   ]
  },
  {
   "cell_type": "markdown",
   "metadata": {},
   "source": [
    "## Generating recs"
   ]
  },
  {
   "cell_type": "code",
   "execution_count": 19,
   "metadata": {},
   "outputs": [
    {
     "data": {
      "text/plain": [
       "array(['TTTAAGAGTCAATTATACAT', 'TTTAAGAGTGCGCTATACAT',\n",
       "       'TTTAAGAGTTCCATATACAT', 'TTTAAGAGTGTCATATACAT',\n",
       "       'TTTAAGAGTCATTTATACAT', 'TTTAAGAGCTTAGTATACAT',\n",
       "       'TTTAAGAAGTGCTTATACAT', 'TTTAAGACTTGAATATACAT',\n",
       "       'TTTAAGAGTCGCATATACAT', 'TTTAAGACGAGTTTATACAT',\n",
       "       'TTTAAGAGTGTGCTATACAT', 'TTTAAGACGCGCTTATACAT',\n",
       "       'TTTAAGAGTGGTTTATACAT', 'TTTAAGACGGTCTTATACAT',\n",
       "       'TTTAAGAGCGTCTTATACAT', 'TTTAAGAACTGCTTATACAT',\n",
       "       'TTTAAGAGAGTCTTATACAT', 'TTTAAGAGATAGTTATACAT',\n",
       "       'TTTAAGAGTTGACTATACAT', 'TTTAAGACTAGCTTATACAT',\n",
       "       'TTTAAGAGTCGATTATACAT', 'TTTAAGACTTTGCTATACAT',\n",
       "       'TTTAAGACAGTCTTATACAT', 'TTTAAGAGCTGGATATACAT',\n",
       "       'TTTAAGAGATAGCTATACAT', 'TTTAAGAGTCGTTTATACAT',\n",
       "       'TTTAAGAGTCTTATATACAT', 'TTTAAGAGGTGCTTATACAT',\n",
       "       'TTTAAGAGTCGAATATACAT', 'TTTAAGACGTCCTTATACAT',\n",
       "       'TTTAAGAGCTCATTATACAT', 'TTTAAGACTTACTTATACAT',\n",
       "       'TTTAAGAGTCGGCTATACAT', 'TTTAAGACTTGGCTATACAT',\n",
       "       'TTTAAGAGCTTGGTATACAT', 'TTTAAGAGTCTTTTATACAT',\n",
       "       'TTTAAGAGTCTATTATACAT', 'TTTAAGAGATACTTATACAT',\n",
       "       'TTTAAGATGGACTTATACAT', 'TTTAAGAGATGCTTATACAT',\n",
       "       'TTTAAGAGTCTGCTATACAT', 'TTTAAGAGTGAATTATACAT',\n",
       "       'TTTAAGAGCTTACTATACAT', 'TTTAAGACTTAGCTATACAT',\n",
       "       'TTTAAGATGAGCTTATACAT', 'TTTAAGATAGACTTATACAT',\n",
       "       'TTTAAGATAGGCTTATACAT', 'TTTAAGAGTGGAATATACAT',\n",
       "       'TTTAAGAGTTCATTATACAT', 'TTTAAGAGACGCTTATACAT',\n",
       "       'TTTAAGAGTCCCTTATACAT', 'TTTAAGAGTCACTTATACAT',\n",
       "       'TTTAAGACTTCCTTATACAT', 'TTTAAGAGTTGCATATACAT',\n",
       "       'TTTAAGAGTTACTTATACAT', 'TTTAAGAGCGACTTATACAT',\n",
       "       'TTTAAGAGTTTACTATACAT', 'TTTAAGAGTTGATTATACAT',\n",
       "       'TTTAAGAGTGAGATATACAT', 'TTTAAGAGTCCTTTATACAT',\n",
       "       'TTTAAGAAACGCTTATACAT', 'TTTAAGAGTGCATTATACAT',\n",
       "       'TTTAAGAGTGGATTATACAT', 'TTTAAGAGTTTCTTATACAT',\n",
       "       'TTTAAGACGAACTTATACAT', 'TTTAAGAGTCCGCTATACAT',\n",
       "       'TTTAAGATAGTGCTATACAT', 'TTTAAGAACGGCTTATACAT',\n",
       "       'TTTAAGAGTGAGCTATACAT', 'TTTAAGAGTGCTTTATACAT',\n",
       "       'TTTAAGAGTTCGCTATACAT', 'TTTAAGACGTGCTTATACAT',\n",
       "       'TTTAAGAGCTACTTATACAT', 'TTTAAGACTTGAGTATACAT',\n",
       "       'TTTAAGACTTGGATATACAT', 'TTTAAGAGTTTGCTATACAT',\n",
       "       'TTTAAGAGCTCCTTATACAT', 'TTTAAGAGCTTCTTATACAT',\n",
       "       'TTTAAGAGTTGAATATACAT', 'TTTAAGAACGTCTTATACAT',\n",
       "       'TTTAAGAGCTGCTTATACAT', 'TTTAAGAGTCGACTATACAT',\n",
       "       'TTTAAGAAGGACTTATACAT', 'TTTAAGAGTGCCTTATACAT',\n",
       "       'TTTAAGAGTGGACTATACAT', 'TTTAAGAGTGAACTATACAT',\n",
       "       'TTTAAGAGTCAACTATACAT', 'TTTAAGAGCAACTTATACAT',\n",
       "       'TTTAAGACGAGCTTATACAT', 'TTTAAGAGTCCATTATACAT',\n",
       "       'TTTAAGACTTGCTTATACAT', 'TTTAAGAACGACTTATACAT',\n",
       "       'TTTAAGAGTTGGCTATACAT', 'TTTAAGAGTTCCTTATACAT',\n",
       "       'TTTAAGAGTTGGATATACAT', 'TTTAAGAGTGTCTTATACAT',\n",
       "       'TTTAAGAGTCGCTTATACAT', 'TTTAAGAGTGGCTTATACAT',\n",
       "       'TTTAAGAGTTGCTTATACAT', 'TTTAAGAGTGACTTATACAT'], dtype='<U20')"
      ]
     },
     "execution_count": 19,
     "metadata": {},
     "output_type": "execute_result"
    }
   ],
   "source": [
    "bandit20_recs = todesign_data[np.asarray(rec_arms),0]\n",
    "bandit20_recs"
   ]
  },
  {
   "cell_type": "code",
   "execution_count": 20,
   "metadata": {},
   "outputs": [],
   "source": [
    "def gen_non_repeated_rec(frr, recs, num_rec = 60):\n",
    "    frr_set = set(frr)\n",
    "    repeated_rec = []\n",
    "    non_repeated_rec = []\n",
    "    \n",
    "    for rec in reversed(recs):\n",
    "        if rec not in frr_set:\n",
    "            non_repeated_rec.append(rec)\n",
    "            if len(non_repeated_rec) == num_rec:\n",
    "                return non_repeated_rec, repeated_rec\n",
    "        else:\n",
    "            repeated_rec.append(rec)\n",
    "    print('Rec len: ', len(non_repeated_rec))\n",
    "    return non_repeated_rec, repeated_rec"
   ]
  },
  {
   "cell_type": "code",
   "execution_count": 21,
   "metadata": {},
   "outputs": [
    {
     "name": "stdout",
     "output_type": "stream",
     "text": [
      "['TTTAAGAGTGACTTATACAT', 'TTTAAGAGTTGCTTATACAT', 'TTTAAGAGTGGCTTATACAT', 'TTTAAGAGTCGCTTATACAT', 'TTTAAGAGTGTCTTATACAT', 'TTTAAGAGTTGGATATACAT', 'TTTAAGAGTTCCTTATACAT', 'TTTAAGAGTTGGCTATACAT', 'TTTAAGAACGACTTATACAT', 'TTTAAGACTTGCTTATACAT', 'TTTAAGAGTCCATTATACAT', 'TTTAAGACGAGCTTATACAT', 'TTTAAGAGCAACTTATACAT', 'TTTAAGAGTCAACTATACAT', 'TTTAAGAGTGAACTATACAT', 'TTTAAGAGTGGACTATACAT', 'TTTAAGAGTGCCTTATACAT', 'TTTAAGAAGGACTTATACAT', 'TTTAAGAGTCGACTATACAT', 'TTTAAGAGCTGCTTATACAT', 'TTTAAGAACGTCTTATACAT', 'TTTAAGAGTTGAATATACAT', 'TTTAAGAGCTTCTTATACAT', 'TTTAAGAGCTCCTTATACAT', 'TTTAAGAGTTTGCTATACAT', 'TTTAAGACTTGGATATACAT', 'TTTAAGACTTGAGTATACAT', 'TTTAAGAGCTACTTATACAT', 'TTTAAGACGTGCTTATACAT', 'TTTAAGAGTTCGCTATACAT', 'TTTAAGAGTGCTTTATACAT', 'TTTAAGAGTGAGCTATACAT', 'TTTAAGAACGGCTTATACAT', 'TTTAAGATAGTGCTATACAT', 'TTTAAGAGTCCGCTATACAT', 'TTTAAGACGAACTTATACAT', 'TTTAAGAGTTTCTTATACAT', 'TTTAAGAGTGGATTATACAT', 'TTTAAGAGTGCATTATACAT', 'TTTAAGAAACGCTTATACAT', 'TTTAAGAGTCCTTTATACAT', 'TTTAAGAGTGAGATATACAT', 'TTTAAGAGTTGATTATACAT', 'TTTAAGAGTTTACTATACAT', 'TTTAAGAGCGACTTATACAT', 'TTTAAGAGTTACTTATACAT', 'TTTAAGAGTTGCATATACAT', 'TTTAAGACTTCCTTATACAT', 'TTTAAGAGTCACTTATACAT', 'TTTAAGAGTCCCTTATACAT', 'TTTAAGAGACGCTTATACAT', 'TTTAAGAGTTCATTATACAT', 'TTTAAGAGTGGAATATACAT', 'TTTAAGATAGGCTTATACAT', 'TTTAAGATAGACTTATACAT', 'TTTAAGATGAGCTTATACAT', 'TTTAAGACTTAGCTATACAT', 'TTTAAGAGCTTACTATACAT', 'TTTAAGAGTGAATTATACAT', 'TTTAAGAGTCTGCTATACAT', 'TTTAAGAGATGCTTATACAT', 'TTTAAGATGGACTTATACAT', 'TTTAAGAGATACTTATACAT', 'TTTAAGAGTCTATTATACAT', 'TTTAAGAGTCTTTTATACAT', 'TTTAAGAGCTTGGTATACAT', 'TTTAAGACTTGGCTATACAT', 'TTTAAGAGTCGGCTATACAT', 'TTTAAGACTTACTTATACAT', 'TTTAAGAGCTCATTATACAT', 'TTTAAGACGTCCTTATACAT', 'TTTAAGAGTCGAATATACAT', 'TTTAAGAGGTGCTTATACAT', 'TTTAAGAGTCTTATATACAT', 'TTTAAGAGTCGTTTATACAT', 'TTTAAGAGATAGCTATACAT', 'TTTAAGAGCTGGATATACAT', 'TTTAAGACAGTCTTATACAT', 'TTTAAGACTTTGCTATACAT', 'TTTAAGAGTCGATTATACAT', 'TTTAAGACTAGCTTATACAT', 'TTTAAGAGATAGTTATACAT', 'TTTAAGAGAGTCTTATACAT', 'TTTAAGAACTGCTTATACAT', 'TTTAAGAGCGTCTTATACAT', 'TTTAAGACGGTCTTATACAT', 'TTTAAGAGTGGTTTATACAT', 'TTTAAGACGCGCTTATACAT', 'TTTAAGAGTGTGCTATACAT', 'TTTAAGACGAGTTTATACAT']\n"
     ]
    }
   ],
   "source": [
    "non_repeated_rec, repeated_rec = gen_non_repeated_rec(np.asarray(df['RBS']), bandit20_recs, num_rec = 90)\n",
    "print(non_repeated_rec)"
   ]
  },
  {
   "cell_type": "code",
   "execution_count": 22,
   "metadata": {},
   "outputs": [
    {
     "data": {
      "text/html": [
       "<div>\n",
       "<style scoped>\n",
       "    .dataframe tbody tr th:only-of-type {\n",
       "        vertical-align: middle;\n",
       "    }\n",
       "\n",
       "    .dataframe tbody tr th {\n",
       "        vertical-align: top;\n",
       "    }\n",
       "\n",
       "    .dataframe thead th {\n",
       "        text-align: right;\n",
       "    }\n",
       "</style>\n",
       "<table border=\"1\" class=\"dataframe\">\n",
       "  <thead>\n",
       "    <tr style=\"text-align: right;\">\n",
       "      <th></th>\n",
       "      <th>Unnamed: 0</th>\n",
       "      <th>RBS</th>\n",
       "      <th>Name</th>\n",
       "      <th>Rep1</th>\n",
       "      <th>Rep2</th>\n",
       "      <th>Rep3</th>\n",
       "      <th>AVERAGE</th>\n",
       "      <th>STD</th>\n",
       "      <th>PERC</th>\n",
       "      <th>Group</th>\n",
       "      <th>RBS6</th>\n",
       "      <th>Change_Pos</th>\n",
       "      <th>Base</th>\n",
       "      <th>pred mean</th>\n",
       "      <th>pred std</th>\n",
       "      <th>ucb</th>\n",
       "    </tr>\n",
       "  </thead>\n",
       "  <tbody>\n",
       "    <tr>\n",
       "      <td>60</td>\n",
       "      <td>60</td>\n",
       "      <td>TTTAAGAGTTGACTATACAT</td>\n",
       "      <td>RBS_RU_0</td>\n",
       "      <td>1.196469</td>\n",
       "      <td>1.111763</td>\n",
       "      <td>1.542289</td>\n",
       "      <td>1.283507</td>\n",
       "      <td>0.228079</td>\n",
       "      <td>0.169207</td>\n",
       "      <td>uni random</td>\n",
       "      <td>GTTGAC</td>\n",
       "      <td>NaN</td>\n",
       "      <td>NaN</td>\n",
       "      <td>0.491975</td>\n",
       "      <td>0.54841</td>\n",
       "      <td>1.863</td>\n",
       "    </tr>\n",
       "  </tbody>\n",
       "</table>\n",
       "</div>"
      ],
      "text/plain": [
       "    Unnamed: 0                   RBS      Name      Rep1      Rep2      Rep3  \\\n",
       "60          60  TTTAAGAGTTGACTATACAT  RBS_RU_0  1.196469  1.111763  1.542289   \n",
       "\n",
       "     AVERAGE       STD      PERC       Group    RBS6  Change_Pos Base  \\\n",
       "60  1.283507  0.228079  0.169207  uni random  GTTGAC         NaN  NaN   \n",
       "\n",
       "    pred mean  pred std    ucb  \n",
       "60   0.491975   0.54841  1.863  "
      ]
     },
     "execution_count": 22,
     "metadata": {},
     "output_type": "execute_result"
    }
   ],
   "source": [
    "df[df['RBS'].isin(repeated_rec)]"
   ]
  },
  {
   "cell_type": "markdown",
   "metadata": {},
   "source": [
    "### Write into csv file"
   ]
  },
  {
   "cell_type": "code",
   "execution_count": 23,
   "metadata": {},
   "outputs": [],
   "source": [
    "recs = pd.DataFrame(non_repeated_rec, columns = ['bandit'])\n",
    "recs.index += 1\n",
    "recs.to_csv('../../data/bandit_recs_second_round.csv')"
   ]
  },
  {
   "cell_type": "markdown",
   "metadata": {},
   "source": [
    "#### Sanity test of idx consistency"
   ]
  },
  {
   "cell_type": "code",
   "execution_count": 24,
   "metadata": {},
   "outputs": [
    {
     "name": "stdout",
     "output_type": "stream",
     "text": [
      "Recommned index is consistent of the todesign_data index.\n"
     ]
    }
   ],
   "source": [
    "label_seqs = np.asarray(new_env.arm_features)[np.asarray(rec_arms)]\n",
    "label_dict = {'0': 'A',\n",
    "              '1': 'C',\n",
    "              '2': 'G',\n",
    "              '3': 'T'}\n",
    "\n",
    "rbs_seqs = []\n",
    "\n",
    "for seq in label_seqs:\n",
    "    rbs_seq = []\n",
    "    for i in range(int(len(seq))):\n",
    "        start = i \n",
    "        end = start + 1\n",
    "        s = seq[start:end]\n",
    "        rbs_seq.append(label_dict[s])\n",
    "    rbs_seq = ''.join(rbs_seq)\n",
    "    rbs_seqs.append(rbs_seq)\n",
    "\n",
    "for i in range(len(rec_arms)):\n",
    "    assert rbs_seqs[i] == todesign_data[rec_arms[i], 0] \n",
    "    \n",
    "print('Recommned index is consistent of the todesign_data index.')"
   ]
  },
  {
   "cell_type": "code",
   "execution_count": null,
   "metadata": {},
   "outputs": [],
   "source": []
  }
 ],
 "metadata": {
  "kernelspec": {
   "display_name": "Python 3",
   "language": "python",
   "name": "python3"
  },
  "language_info": {
   "codemirror_mode": {
    "name": "ipython",
    "version": 3
   },
   "file_extension": ".py",
   "mimetype": "text/x-python",
   "name": "python",
   "nbconvert_exporter": "python",
   "pygments_lexer": "ipython3",
   "version": "3.7.4"
  }
 },
 "nbformat": 4,
 "nbformat_minor": 2
}

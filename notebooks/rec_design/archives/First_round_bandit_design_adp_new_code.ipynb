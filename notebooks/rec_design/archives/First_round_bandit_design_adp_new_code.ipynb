{
 "cells": [
  {
   "cell_type": "markdown",
   "metadata": {},
   "source": [
    "# Bandit Sequence Design\n",
    "\n",
    "This notebook design the RBS sequences based on bandit algorithms, with the goal to optimize the protein expression level (expressed by translation initiation rate, TIR). The RBS sequence is 20 bps, we focus on -8 ~ -13 bps and fix others as the same as the consensus sequence (i.e. TTTAAGA+NNNNNN+TATACAT). For each base, there are 4 possibilities: A, C, G, T. So totally the feature space is 4^6 = 4096. \n",
    "\n",
    "We use [Gaussian Process Upper Confidence Bound (GPUCB)](https://arxiv.org/pdf/0912.3995.pdf) algrithm, with sum of dot product kernel and spectrum kernel of sequences. The algorithm basically includes two parts:\n",
    "\n",
    "a) First: the Gaussian Process regression model, which predicts the label (GFP/TIR level) and how uncertain we are about our prediction (confidence width); Since the sequences in provided data have the pattern that the core area is different from each other, and other areas are similar. So the kernel for Gaussain Process we are using is the sum of kernels, for core areas we use spectrum kernel with string as input directly, and for other areas we use onehot encoding and dot product kernel for simplicity. \n",
    "\n",
    "b) Second: bandit algorithms (Upper Confidence Bound), which recommends sequences to test for next round."
   ]
  },
  {
   "cell_type": "code",
   "execution_count": 1,
   "metadata": {
    "ExecuteTime": {
     "end_time": "2020-07-21T04:46:04.169270Z",
     "start_time": "2020-07-21T04:46:03.501959Z"
    }
   },
   "outputs": [],
   "source": [
    "# direct to proper path\n",
    "import os\n",
    "import sys\n",
    "module_path = os.path.abspath(os.path.join('../..'))\n",
    "if module_path not in sys.path:\n",
    "    sys.path.append(module_path)\n",
    "    \n",
    "import numpy as np\n",
    "\n",
    "import pandas as pd\n",
    "import matplotlib.pyplot as plt\n",
    "import itertools\n",
    "from collections import defaultdict\n",
    "#import seaborn as sns\n",
    "from itertools import product\n",
    "import math\n",
    "from sklearn.gaussian_process import GaussianProcessRegressor\n",
    "from sklearn.gaussian_process.kernels import PairwiseKernel, DotProduct, RBF \n",
    "from sklearn.kernel_ridge import KernelRidge\n",
    "\n",
    "from codes.embedding import Embedding\n",
    "from codes.environment import Rewards_env\n",
    "from codes.ucb import GPUCB, Random\n",
    "from codes.evaluations import evaluate, plot_eva\n",
    "from codes.regression import *\n",
    "#from codes.kernels import spectrum_kernel\n",
    "#from codes.kernels_pairwise import spectrum_kernel_pw, sum_onehot_spectrum_kernel_pw, mixed_spectrum_kernel_pw, WD_kernel_pw, WD_shift_kernel_pw\n",
    "from codes.kernels_for_GPK import *\n",
    "\n",
    "from ipywidgets import IntProgress\n",
    "from IPython.display import display\n",
    "import warnings\n",
    "%matplotlib inline"
   ]
  },
  {
   "cell_type": "markdown",
   "metadata": {},
   "source": [
    "## Reading Dataset\n",
    "\n",
    "The paper [Machine Learning of Designed Translational Control Allows Predictive Pathway Optimization in Escherichia coli](https://pubs.acs.org/doi/abs/10.1021/acssynbio.8b00398) did similar experiment and based on their data, we recommendation sequences to sample using bandit algorithms. The data contains 113 unrepeated records for 56 unique RBS sequences with TIR label. The label is between 0 ~ 100,000 and skewed (See TIR histogram below). We normalise the label to 0~1 (min-max normalisation). "
   ]
  },
  {
   "cell_type": "code",
   "execution_count": 2,
   "metadata": {
    "ExecuteTime": {
     "end_time": "2020-07-21T04:46:04.188298Z",
     "start_time": "2020-07-21T04:46:04.171694Z"
    }
   },
   "outputs": [
    {
     "data": {
      "text/html": [
       "<div>\n",
       "<style scoped>\n",
       "    .dataframe tbody tr th:only-of-type {\n",
       "        vertical-align: middle;\n",
       "    }\n",
       "\n",
       "    .dataframe tbody tr th {\n",
       "        vertical-align: top;\n",
       "    }\n",
       "\n",
       "    .dataframe thead th {\n",
       "        text-align: right;\n",
       "    }\n",
       "</style>\n",
       "<table border=\"1\" class=\"dataframe\">\n",
       "  <thead>\n",
       "    <tr style=\"text-align: right;\">\n",
       "      <th></th>\n",
       "      <th>A</th>\n",
       "      <th>B</th>\n",
       "      <th>C</th>\n",
       "      <th>D</th>\n",
       "    </tr>\n",
       "  </thead>\n",
       "  <tbody>\n",
       "    <tr>\n",
       "      <th>0</th>\n",
       "      <td>ACGATCTTAAGTAAGCGGGGAAAATAATG</td>\n",
       "      <td>TTAAGTAAGCGGGGAAAATA</td>\n",
       "      <td>57706</td>\n",
       "      <td>AGCGGG</td>\n",
       "    </tr>\n",
       "    <tr>\n",
       "      <th>1</th>\n",
       "      <td>ACGATCTTAAGTAGACGCGGAAAATAATG</td>\n",
       "      <td>TTAAGTAGACGCGGAAAATA</td>\n",
       "      <td>613</td>\n",
       "      <td>GACGCG</td>\n",
       "    </tr>\n",
       "    <tr>\n",
       "      <th>2</th>\n",
       "      <td>ACGATCTTAAGTAAGCGCGGAAAATAATG</td>\n",
       "      <td>TTAAGTAAGCGCGGAAAATA</td>\n",
       "      <td>5313</td>\n",
       "      <td>AGCGCG</td>\n",
       "    </tr>\n",
       "    <tr>\n",
       "      <th>3</th>\n",
       "      <td>ACGATCTTAAGTAAACGAGGAAAATAATG</td>\n",
       "      <td>TTAAGTAAACGAGGAAAATA</td>\n",
       "      <td>19594</td>\n",
       "      <td>AACGAG</td>\n",
       "    </tr>\n",
       "    <tr>\n",
       "      <th>4</th>\n",
       "      <td>ACGATCTTAAGTAGGCGAGGAAAATAATG</td>\n",
       "      <td>TTAAGTAGGCGAGGAAAATA</td>\n",
       "      <td>33626</td>\n",
       "      <td>GGCGAG</td>\n",
       "    </tr>\n",
       "  </tbody>\n",
       "</table>\n",
       "</div>"
      ],
      "text/plain": [
       "                               A                     B      C       D\n",
       "0  ACGATCTTAAGTAAGCGGGGAAAATAATG  TTAAGTAAGCGGGGAAAATA  57706  AGCGGG\n",
       "1  ACGATCTTAAGTAGACGCGGAAAATAATG  TTAAGTAGACGCGGAAAATA    613  GACGCG\n",
       "2  ACGATCTTAAGTAAGCGCGGAAAATAATG  TTAAGTAAGCGCGGAAAATA   5313  AGCGCG\n",
       "3  ACGATCTTAAGTAAACGAGGAAAATAATG  TTAAGTAAACGAGGAAAATA  19594  AACGAG\n",
       "4  ACGATCTTAAGTAGGCGAGGAAAATAATG  TTAAGTAGGCGAGGAAAATA  33626  GGCGAG"
      ]
     },
     "execution_count": 2,
     "metadata": {},
     "output_type": "execute_result"
    }
   ],
   "source": [
    "# Data downloaded from https://github.com/synbiochem/opt-mva\n",
    "# Paper https://pubs.acs.org/doi/abs/10.1021/acssynbio.8b00398\n",
    "\n",
    "# A: whole RBS sequence (len: 29)\n",
    "# B: extracted 20-base RBS seqeunce (A[7:27], len: 20), training features\n",
    "# C: TIR labels\n",
    "# D: the design part RBS (B[7:13], len: 6) \n",
    "\n",
    "Path = '../../data/Baseline_data/RBS_seqs.csv'\n",
    "\n",
    "df = pd.read_csv(Path)\n",
    "df.columns = ['A', 'B', 'C']\n",
    "df['D'] = df['B'].str[7:13]\n",
    "df.head()"
   ]
  },
  {
   "cell_type": "code",
   "execution_count": 3,
   "metadata": {
    "ExecuteTime": {
     "end_time": "2020-07-21T04:46:04.279702Z",
     "start_time": "2020-07-21T04:46:04.189992Z"
    }
   },
   "outputs": [
    {
     "data": {
      "text/plain": [
       "(113, 4)"
      ]
     },
     "execution_count": 3,
     "metadata": {},
     "output_type": "execute_result"
    }
   ],
   "source": [
    "# drop the exact same record (same B and C)\n",
    "\n",
    "df = df.drop_duplicates(subset = ['B', 'C'])\n",
    "df.shape"
   ]
  },
  {
   "cell_type": "code",
   "execution_count": 4,
   "metadata": {
    "ExecuteTime": {
     "end_time": "2020-07-21T04:46:04.370937Z",
     "start_time": "2020-07-21T04:46:04.282063Z"
    }
   },
   "outputs": [
    {
     "name": "stdout",
     "output_type": "stream",
     "text": [
      "56 unique sequences in total.\n"
     ]
    }
   ],
   "source": [
    "print(df.drop_duplicates(subset = ['B']).shape[0],'unique sequences in total.')"
   ]
  },
  {
   "cell_type": "code",
   "execution_count": 5,
   "metadata": {
    "ExecuteTime": {
     "end_time": "2020-07-21T04:46:04.655597Z",
     "start_time": "2020-07-21T04:46:04.373123Z"
    }
   },
   "outputs": [
    {
     "data": {
      "text/plain": [
       "Text(0, 0.5, 'Count')"
      ]
     },
     "execution_count": 5,
     "metadata": {},
     "output_type": "execute_result"
    },
    {
     "data": {
      "image/png": "[encoded data removed]",
      "text/plain": [
       "<Figure size 432x288 with 1 Axes>"
      ]
     },
     "metadata": {
      "needs_background": "light"
     },
     "output_type": "display_data"
    }
   ],
   "source": [
    "plt.hist(df['C'])\n",
    "plt.title('TIR Histogram')\n",
    "plt.xlabel('TIR')\n",
    "plt.ylabel('Count')\n",
    "#plt.savefig('../../plots/TIR_histogram.pdf')"
   ]
  },
  {
   "cell_type": "code",
   "execution_count": 6,
   "metadata": {
    "ExecuteTime": {
     "end_time": "2020-07-21T04:46:04.661161Z",
     "start_time": "2020-07-21T04:46:04.657444Z"
    }
   },
   "outputs": [],
   "source": [
    "Log_flag = False # indicates whether take log label\n",
    "Norm_method = 'minmax' # indicates how to normalize label (one of 'mean', 'minmax', None)\n",
    "\n",
    "def normalize(df):\n",
    "    # take log FC -- possiblely provide Gaussain distribution?\n",
    "    if Log_flag:\n",
    "        df['C'] = np.log(df['C'])\n",
    "    if Norm_method == 'mean':\n",
    "        # mean normalization\n",
    "        df['C'] = (df['C'] - df['C'].mean())/df['C'].std()\n",
    "    elif Norm_method == 'minmax':\n",
    "        # min-max normalization \n",
    "        df['C'] = (df['C'] - df['C'].min())/(df['C'].max() - df['C'].min())\n",
    "    else:\n",
    "        assert Norm_method == None\n",
    "        \n",
    "    return df"
   ]
  },
  {
   "cell_type": "code",
   "execution_count": 7,
   "metadata": {
    "ExecuteTime": {
     "end_time": "2020-07-21T04:46:04.800063Z",
     "start_time": "2020-07-21T04:46:04.662505Z"
    }
   },
   "outputs": [
    {
     "data": {
      "text/plain": [
       "(113, 2)"
      ]
     },
     "execution_count": 7,
     "metadata": {},
     "output_type": "execute_result"
    }
   ],
   "source": [
    "# data6: num_data * 2, columns: [6-base RBS seq (D), TIR labels (C)]\n",
    "data6 = np.asarray(normalize(df)[['D', 'C']])\n",
    "data6.shape"
   ]
  },
  {
   "cell_type": "code",
   "execution_count": 8,
   "metadata": {
    "ExecuteTime": {
     "end_time": "2020-07-21T04:46:04.823902Z",
     "start_time": "2020-07-21T04:46:04.801923Z"
    }
   },
   "outputs": [
    {
     "data": {
      "text/plain": [
       "(113, 2)"
      ]
     },
     "execution_count": 8,
     "metadata": {},
     "output_type": "execute_result"
    }
   ],
   "source": [
    "# data: num_data * 2, columns: [20-base RBS seq (B), TIR labels (C)]\n",
    "data = np.asarray(normalize(df)[['B', 'C']])\n",
    "data.shape"
   ]
  },
  {
   "cell_type": "code",
   "execution_count": 9,
   "metadata": {
    "ExecuteTime": {
     "end_time": "2020-07-21T04:46:05.025111Z",
     "start_time": "2020-07-21T04:46:04.825461Z"
    }
   },
   "outputs": [
    {
     "data": {
      "text/plain": [
       "Text(0.5, 1.0, 'Normalised TIR Histogram')"
      ]
     },
     "execution_count": 9,
     "metadata": {},
     "output_type": "execute_result"
    },
    {
     "data": {
      "image/png": "[encoded data removed]",
      "text/plain": [
       "<Figure size 432x288 with 1 Axes>"
      ]
     },
     "metadata": {
      "needs_background": "light"
     },
     "output_type": "display_data"
    }
   ],
   "source": [
    "plt.hist(data[:,1])\n",
    "plt.title('Normalised TIR Histogram')"
   ]
  },
  {
   "cell_type": "markdown",
   "metadata": {},
   "source": [
    "## Construct feature spaces\n",
    "\n",
    "We fix the part other the designing 6-base RBS, the 20-based RBS would be: 'TTTAAGA' + 6-base design + 'TATACAT'. The 6-base design has totally 4^6 = 4096 combinations. "
   ]
  },
  {
   "cell_type": "code",
   "execution_count": 10,
   "metadata": {
    "ExecuteTime": {
     "end_time": "2020-07-21T04:46:05.032071Z",
     "start_time": "2020-07-21T04:46:05.026312Z"
    }
   },
   "outputs": [],
   "source": [
    "# create all combos\n",
    "\n",
    "combos = [] # 20-base\n",
    "combos_6 = [] # 6-base\n",
    "labels = []\n",
    "char_sets = ['A', 'G', 'C', 'T']\n",
    "design_len = 6\n",
    "\n",
    "# to be changed\n",
    "pre_design = 'TTTAAGA'\n",
    "pos_design = 'TATACAT'\n",
    "\n",
    "for combo in product(char_sets, repeat= design_len):\n",
    "    combos_6.append(''.join(combo))\n",
    "    combo = pre_design + ''.join(combo) + pos_design\n",
    "    combos.append(combo)\n",
    "    labels.append(math.inf)\n",
    "    \n",
    "assert len(combos) == len(char_sets) ** design_len"
   ]
  },
  {
   "cell_type": "code",
   "execution_count": 11,
   "metadata": {
    "ExecuteTime": {
     "end_time": "2020-07-21T04:46:05.142955Z",
     "start_time": "2020-07-21T04:46:05.033183Z"
    }
   },
   "outputs": [],
   "source": [
    "todesign_data = np.asarray(list(zip(combos, labels))) # 20-base\n",
    "todesign6_data = np.asarray(list(zip(combos_6, labels))) # 6-base"
   ]
  },
  {
   "cell_type": "markdown",
   "metadata": {},
   "source": [
    "## Setting\n",
    "\n",
    "Since the sequences in provided data have the pattern that the core area is different from each other, and other areas are similar. So the kernel for Gaussain Process we are using is the sum of kernels, for core areas we use spectrum kernel with string as input directly, and for other areas we use onehot encoding and dot product kernel for simplicity. "
   ]
  },
  {
   "cell_type": "code",
   "execution_count": 12,
   "metadata": {
    "ExecuteTime": {
     "end_time": "2020-07-21T04:46:05.221928Z",
     "start_time": "2020-07-21T04:46:05.145418Z"
    }
   },
   "outputs": [],
   "source": [
    "embedding = 'label'\n",
    "# sum_spectrum_kernel_pw: spectrum kernels for [:7], [7:13], [13:] respectively\n",
    "kernel = [Spectrum_Kernel(), Sum_Spectrum_Kernel()]\n",
    "string_kernel_flag = True"
   ]
  },
  {
   "cell_type": "markdown",
   "metadata": {},
   "source": [
    "## Recommendations with GPUCB"
   ]
  },
  {
   "cell_type": "code",
   "execution_count": 13,
   "metadata": {
    "ExecuteTime": {
     "end_time": "2020-07-21T04:46:06.648184Z",
     "start_time": "2020-07-21T04:46:05.224385Z"
    }
   },
   "outputs": [
    {
     "name": "stdout",
     "output_type": "stream",
     "text": [
      "beta:  1\n",
      "[1639 1191 2514 1181 1182 1183 3367  151  167   39 3431 2087  158  157\n",
      "  159 1319 1431  359 2407 1439 1438 1437 1607  473 1383  407 1653 2151\n",
      "  413  414  415 3175 1631 1629 3479 1630 1497 1658 3943 3485 3486 3487\n",
      " 1652 1654 1655 2919 1656 1895  871 1659 1660 1661 1662 1663 1657 2521\n",
      " 1127 1623  103 1495 2535  471  487 2519 1511]\n"
     ]
    },
    {
     "data": {
      "image/png": "[encoded data removed]",
      "text/plain": [
       "<Figure size 432x288 with 1 Axes>"
      ]
     },
     "metadata": {
      "needs_background": "light"
     },
     "output_type": "display_data"
    }
   ],
   "source": [
    "num_rounds = 1 \n",
    "num_exper = 1\n",
    "num_rec = 65\n",
    "\n",
    "my_env = Rewards_env(data, embedding)\n",
    "new_env = Rewards_env(todesign_data, embedding)\n",
    "\n",
    "agent = GPUCB(new_env, num_rounds, init_list = my_env.rewards_dict, num_rec = num_rec,\n",
    "          model = GaussianProcessRegressor(kernel = kernel[-1]))\n",
    "rec_arms = agent.play(label_avaiable = False)"
   ]
  },
  {
   "cell_type": "markdown",
   "metadata": {},
   "source": [
    "### Convert to RBS seq"
   ]
  },
  {
   "cell_type": "code",
   "execution_count": 14,
   "metadata": {
    "ExecuteTime": {
     "end_time": "2020-07-21T04:46:06.651895Z",
     "start_time": "2020-07-21T04:46:06.649570Z"
    }
   },
   "outputs": [],
   "source": [
    "bandit20_recs = todesign_data[np.asarray(rec_arms[-60:]),0]"
   ]
  },
  {
   "cell_type": "code",
   "execution_count": 15,
   "metadata": {
    "ExecuteTime": {
     "end_time": "2020-07-21T04:46:06.755798Z",
     "start_time": "2020-07-21T04:46:06.653178Z"
    }
   },
   "outputs": [
    {
     "data": {
      "text/plain": [
       "array(['TTTAAGAGACGTTTATACAT', 'TTTAAGATGACGTTATACAT',\n",
       "       'TTTAAGAAACGGTTATACAT', 'TTTAAGAAACCGTTATACAT',\n",
       "       'TTTAAGAAAACGTTATACAT', 'TTTAAGATGGCGTTATACAT',\n",
       "       'TTTAAGACAACGTTATACAT', 'TTTAAGAAACGTCTATACAT',\n",
       "       'TTTAAGAAACGTGTATACAT', 'TTTAAGAAACGTTTATACAT',\n",
       "       'TTTAAGAGGACGTTATACAT', 'TTTAAGAGGCGGTTATACAT',\n",
       "       'TTTAAGAAGGCGTTATACAT', 'TTTAAGACGGCGTTATACAT',\n",
       "       'TTTAAGAGGCGTTTATACAT', 'TTTAAGAGGCGTCTATACAT',\n",
       "       'TTTAAGAGGCGTGTATACAT', 'TTTAAGAGCGAGTTATACAT',\n",
       "       'TTTAAGAAGTGCGTATACAT', 'TTTAAGAGGGCGTTATACAT',\n",
       "       'TTTAAGAAGCGGTTATACAT', 'TTTAAGAGCGTGGTATACAT',\n",
       "       'TTTAAGACAGCGTTATACAT', 'TTTAAGAAGCGTGTATACAT',\n",
       "       'TTTAAGAAGCGTCTATACAT', 'TTTAAGAAGCGTTTATACAT',\n",
       "       'TTTAAGATAGCGTTATACAT', 'TTTAAGAGCGGTTTATACAT',\n",
       "       'TTTAAGAGCGGTGTATACAT', 'TTTAAGATGCGGTTATACAT',\n",
       "       'TTTAAGAGCGGTCTATACAT', 'TTTAAGAGGTGCGTATACAT',\n",
       "       'TTTAAGAGCGTCCTATACAT', 'TTTAAGATTGCGTTATACAT',\n",
       "       'TTTAAGATGCGTGTATACAT', 'TTTAAGATGCGTCTATACAT',\n",
       "       'TTTAAGATGCGTTTATACAT', 'TTTAAGAGCGTGATATACAT',\n",
       "       'TTTAAGAGCGTGCTATACAT', 'TTTAAGAGCGTGTTATACAT',\n",
       "       'TTTAAGACTGCGTTATACAT', 'TTTAAGAGCGTCATATACAT',\n",
       "       'TTTAAGAGTGCGTTATACAT', 'TTTAAGAATGCGTTATACAT',\n",
       "       'TTTAAGAGCGTCTTATACAT', 'TTTAAGAGCGTTATATACAT',\n",
       "       'TTTAAGAGCGTTGTATACAT', 'TTTAAGAGCGTTCTATACAT',\n",
       "       'TTTAAGAGCGTTTTATACAT', 'TTTAAGAGCGTCGTATACAT',\n",
       "       'TTTAAGACGTGCGTATACAT', 'TTTAAGAGAGCGTTATACAT',\n",
       "       'TTTAAGAGCGGGTTATACAT', 'TTTAAGAAAGCGTTATACAT',\n",
       "       'TTTAAGAGGTGGTTATACAT', 'TTTAAGACGTCGTTATACAT',\n",
       "       'TTTAAGAAGTGGTTATACAT', 'TTTAAGAAGTCGTTATACAT',\n",
       "       'TTTAAGACGTGGTTATACAT', 'TTTAAGAGGTCGTTATACAT'], dtype='<U20')"
      ]
     },
     "execution_count": 15,
     "metadata": {},
     "output_type": "execute_result"
    }
   ],
   "source": [
    "bandit20_recs"
   ]
  },
  {
   "cell_type": "markdown",
   "metadata": {},
   "source": [
    "### Detect Repeated Recs"
   ]
  },
  {
   "cell_type": "code",
   "execution_count": 16,
   "metadata": {
    "ExecuteTime": {
     "end_time": "2020-07-21T04:46:06.984768Z",
     "start_time": "2020-07-21T04:46:06.757042Z"
    }
   },
   "outputs": [
    {
     "ename": "FileNotFoundError",
     "evalue": "[Errno 2] File b'../../data/1by1_recs.csv' does not exist: b'../../data/1by1_recs.csv'",
     "output_type": "error",
     "traceback": [
      "\u001b[0;31m---------------------------------------------------------------------------\u001b[0m",
      "\u001b[0;31mFileNotFoundError\u001b[0m                         Traceback (most recent call last)",
      "\u001b[0;32m<ipython-input-16-1c65078063b0>\u001b[0m in \u001b[0;36m<module>\u001b[0;34m\u001b[0m\n\u001b[0;32m----> 1\u001b[0;31m \u001b[0mrbs1by1seq\u001b[0m \u001b[0;34m=\u001b[0m \u001b[0mpd\u001b[0m\u001b[0;34m.\u001b[0m\u001b[0mread_csv\u001b[0m\u001b[0;34m(\u001b[0m\u001b[0;34m'../../data/1by1_recs.csv'\u001b[0m\u001b[0;34m)\u001b[0m\u001b[0;34m\u001b[0m\u001b[0;34m\u001b[0m\u001b[0m\n\u001b[0m\u001b[1;32m      2\u001b[0m \u001b[0mrbs1by1\u001b[0m \u001b[0;34m=\u001b[0m \u001b[0mnp\u001b[0m\u001b[0;34m.\u001b[0m\u001b[0masarray\u001b[0m\u001b[0;34m(\u001b[0m\u001b[0mrbs1by1seq\u001b[0m\u001b[0;34m[\u001b[0m\u001b[0;34m'1by1'\u001b[0m\u001b[0;34m]\u001b[0m\u001b[0;34m.\u001b[0m\u001b[0mstr\u001b[0m\u001b[0;34m.\u001b[0m\u001b[0mupper\u001b[0m\u001b[0;34m(\u001b[0m\u001b[0;34m)\u001b[0m\u001b[0;34m)\u001b[0m\u001b[0;34m\u001b[0m\u001b[0;34m\u001b[0m\u001b[0m\n",
      "\u001b[0;32m~/anaconda3/lib/python3.7/site-packages/pandas/io/parsers.py\u001b[0m in \u001b[0;36mparser_f\u001b[0;34m(filepath_or_buffer, sep, delimiter, header, names, index_col, usecols, squeeze, prefix, mangle_dupe_cols, dtype, engine, converters, true_values, false_values, skipinitialspace, skiprows, skipfooter, nrows, na_values, keep_default_na, na_filter, verbose, skip_blank_lines, parse_dates, infer_datetime_format, keep_date_col, date_parser, dayfirst, iterator, chunksize, compression, thousands, decimal, lineterminator, quotechar, quoting, doublequote, escapechar, comment, encoding, dialect, tupleize_cols, error_bad_lines, warn_bad_lines, delim_whitespace, low_memory, memory_map, float_precision)\u001b[0m\n\u001b[1;32m    700\u001b[0m                     skip_blank_lines=skip_blank_lines)\n\u001b[1;32m    701\u001b[0m \u001b[0;34m\u001b[0m\u001b[0m\n\u001b[0;32m--> 702\u001b[0;31m         \u001b[0;32mreturn\u001b[0m \u001b[0m_read\u001b[0m\u001b[0;34m(\u001b[0m\u001b[0mfilepath_or_buffer\u001b[0m\u001b[0;34m,\u001b[0m \u001b[0mkwds\u001b[0m\u001b[0;34m)\u001b[0m\u001b[0;34m\u001b[0m\u001b[0;34m\u001b[0m\u001b[0m\n\u001b[0m\u001b[1;32m    703\u001b[0m \u001b[0;34m\u001b[0m\u001b[0m\n\u001b[1;32m    704\u001b[0m     \u001b[0mparser_f\u001b[0m\u001b[0;34m.\u001b[0m\u001b[0m__name__\u001b[0m \u001b[0;34m=\u001b[0m \u001b[0mname\u001b[0m\u001b[0;34m\u001b[0m\u001b[0;34m\u001b[0m\u001b[0m\n",
      "\u001b[0;32m~/anaconda3/lib/python3.7/site-packages/pandas/io/parsers.py\u001b[0m in \u001b[0;36m_read\u001b[0;34m(filepath_or_buffer, kwds)\u001b[0m\n\u001b[1;32m    427\u001b[0m \u001b[0;34m\u001b[0m\u001b[0m\n\u001b[1;32m    428\u001b[0m     \u001b[0;31m# Create the parser.\u001b[0m\u001b[0;34m\u001b[0m\u001b[0;34m\u001b[0m\u001b[0;34m\u001b[0m\u001b[0m\n\u001b[0;32m--> 429\u001b[0;31m     \u001b[0mparser\u001b[0m \u001b[0;34m=\u001b[0m \u001b[0mTextFileReader\u001b[0m\u001b[0;34m(\u001b[0m\u001b[0mfilepath_or_buffer\u001b[0m\u001b[0;34m,\u001b[0m \u001b[0;34m**\u001b[0m\u001b[0mkwds\u001b[0m\u001b[0;34m)\u001b[0m\u001b[0;34m\u001b[0m\u001b[0;34m\u001b[0m\u001b[0m\n\u001b[0m\u001b[1;32m    430\u001b[0m \u001b[0;34m\u001b[0m\u001b[0m\n\u001b[1;32m    431\u001b[0m     \u001b[0;32mif\u001b[0m \u001b[0mchunksize\u001b[0m \u001b[0;32mor\u001b[0m \u001b[0miterator\u001b[0m\u001b[0;34m:\u001b[0m\u001b[0;34m\u001b[0m\u001b[0;34m\u001b[0m\u001b[0m\n",
      "\u001b[0;32m~/anaconda3/lib/python3.7/site-packages/pandas/io/parsers.py\u001b[0m in \u001b[0;36m__init__\u001b[0;34m(self, f, engine, **kwds)\u001b[0m\n\u001b[1;32m    893\u001b[0m             \u001b[0mself\u001b[0m\u001b[0;34m.\u001b[0m\u001b[0moptions\u001b[0m\u001b[0;34m[\u001b[0m\u001b[0;34m'has_index_names'\u001b[0m\u001b[0;34m]\u001b[0m \u001b[0;34m=\u001b[0m \u001b[0mkwds\u001b[0m\u001b[0;34m[\u001b[0m\u001b[0;34m'has_index_names'\u001b[0m\u001b[0;34m]\u001b[0m\u001b[0;34m\u001b[0m\u001b[0;34m\u001b[0m\u001b[0m\n\u001b[1;32m    894\u001b[0m \u001b[0;34m\u001b[0m\u001b[0m\n\u001b[0;32m--> 895\u001b[0;31m         \u001b[0mself\u001b[0m\u001b[0;34m.\u001b[0m\u001b[0m_make_engine\u001b[0m\u001b[0;34m(\u001b[0m\u001b[0mself\u001b[0m\u001b[0;34m.\u001b[0m\u001b[0mengine\u001b[0m\u001b[0;34m)\u001b[0m\u001b[0;34m\u001b[0m\u001b[0;34m\u001b[0m\u001b[0m\n\u001b[0m\u001b[1;32m    896\u001b[0m \u001b[0;34m\u001b[0m\u001b[0m\n\u001b[1;32m    897\u001b[0m     \u001b[0;32mdef\u001b[0m \u001b[0mclose\u001b[0m\u001b[0;34m(\u001b[0m\u001b[0mself\u001b[0m\u001b[0;34m)\u001b[0m\u001b[0;34m:\u001b[0m\u001b[0;34m\u001b[0m\u001b[0;34m\u001b[0m\u001b[0m\n",
      "\u001b[0;32m~/anaconda3/lib/python3.7/site-packages/pandas/io/parsers.py\u001b[0m in \u001b[0;36m_make_engine\u001b[0;34m(self, engine)\u001b[0m\n\u001b[1;32m   1120\u001b[0m     \u001b[0;32mdef\u001b[0m \u001b[0m_make_engine\u001b[0m\u001b[0;34m(\u001b[0m\u001b[0mself\u001b[0m\u001b[0;34m,\u001b[0m \u001b[0mengine\u001b[0m\u001b[0;34m=\u001b[0m\u001b[0;34m'c'\u001b[0m\u001b[0;34m)\u001b[0m\u001b[0;34m:\u001b[0m\u001b[0;34m\u001b[0m\u001b[0;34m\u001b[0m\u001b[0m\n\u001b[1;32m   1121\u001b[0m         \u001b[0;32mif\u001b[0m \u001b[0mengine\u001b[0m \u001b[0;34m==\u001b[0m \u001b[0;34m'c'\u001b[0m\u001b[0;34m:\u001b[0m\u001b[0;34m\u001b[0m\u001b[0;34m\u001b[0m\u001b[0m\n\u001b[0;32m-> 1122\u001b[0;31m             \u001b[0mself\u001b[0m\u001b[0;34m.\u001b[0m\u001b[0m_engine\u001b[0m \u001b[0;34m=\u001b[0m \u001b[0mCParserWrapper\u001b[0m\u001b[0;34m(\u001b[0m\u001b[0mself\u001b[0m\u001b[0;34m.\u001b[0m\u001b[0mf\u001b[0m\u001b[0;34m,\u001b[0m \u001b[0;34m**\u001b[0m\u001b[0mself\u001b[0m\u001b[0;34m.\u001b[0m\u001b[0moptions\u001b[0m\u001b[0;34m)\u001b[0m\u001b[0;34m\u001b[0m\u001b[0;34m\u001b[0m\u001b[0m\n\u001b[0m\u001b[1;32m   1123\u001b[0m         \u001b[0;32melse\u001b[0m\u001b[0;34m:\u001b[0m\u001b[0;34m\u001b[0m\u001b[0;34m\u001b[0m\u001b[0m\n\u001b[1;32m   1124\u001b[0m             \u001b[0;32mif\u001b[0m \u001b[0mengine\u001b[0m \u001b[0;34m==\u001b[0m \u001b[0;34m'python'\u001b[0m\u001b[0;34m:\u001b[0m\u001b[0;34m\u001b[0m\u001b[0;34m\u001b[0m\u001b[0m\n",
      "\u001b[0;32m~/anaconda3/lib/python3.7/site-packages/pandas/io/parsers.py\u001b[0m in \u001b[0;36m__init__\u001b[0;34m(self, src, **kwds)\u001b[0m\n\u001b[1;32m   1851\u001b[0m         \u001b[0mkwds\u001b[0m\u001b[0;34m[\u001b[0m\u001b[0;34m'usecols'\u001b[0m\u001b[0;34m]\u001b[0m \u001b[0;34m=\u001b[0m \u001b[0mself\u001b[0m\u001b[0;34m.\u001b[0m\u001b[0musecols\u001b[0m\u001b[0;34m\u001b[0m\u001b[0;34m\u001b[0m\u001b[0m\n\u001b[1;32m   1852\u001b[0m \u001b[0;34m\u001b[0m\u001b[0m\n\u001b[0;32m-> 1853\u001b[0;31m         \u001b[0mself\u001b[0m\u001b[0;34m.\u001b[0m\u001b[0m_reader\u001b[0m \u001b[0;34m=\u001b[0m \u001b[0mparsers\u001b[0m\u001b[0;34m.\u001b[0m\u001b[0mTextReader\u001b[0m\u001b[0;34m(\u001b[0m\u001b[0msrc\u001b[0m\u001b[0;34m,\u001b[0m \u001b[0;34m**\u001b[0m\u001b[0mkwds\u001b[0m\u001b[0;34m)\u001b[0m\u001b[0;34m\u001b[0m\u001b[0;34m\u001b[0m\u001b[0m\n\u001b[0m\u001b[1;32m   1854\u001b[0m         \u001b[0mself\u001b[0m\u001b[0;34m.\u001b[0m\u001b[0munnamed_cols\u001b[0m \u001b[0;34m=\u001b[0m \u001b[0mself\u001b[0m\u001b[0;34m.\u001b[0m\u001b[0m_reader\u001b[0m\u001b[0;34m.\u001b[0m\u001b[0munnamed_cols\u001b[0m\u001b[0;34m\u001b[0m\u001b[0;34m\u001b[0m\u001b[0m\n\u001b[1;32m   1855\u001b[0m \u001b[0;34m\u001b[0m\u001b[0m\n",
      "\u001b[0;32mpandas/_libs/parsers.pyx\u001b[0m in \u001b[0;36mpandas._libs.parsers.TextReader.__cinit__\u001b[0;34m()\u001b[0m\n",
      "\u001b[0;32mpandas/_libs/parsers.pyx\u001b[0m in \u001b[0;36mpandas._libs.parsers.TextReader._setup_parser_source\u001b[0;34m()\u001b[0m\n",
      "\u001b[0;31mFileNotFoundError\u001b[0m: [Errno 2] File b'../../data/1by1_recs.csv' does not exist: b'../../data/1by1_recs.csv'"
     ]
    }
   ],
   "source": [
    "rbs1by1seq = pd.read_csv('../../data/1by1_recs.csv')\n",
    "rbs1by1 = np.asarray(rbs1by1seq['1by1'].str.upper())"
   ]
  },
  {
   "cell_type": "code",
   "execution_count": null,
   "metadata": {
    "ExecuteTime": {
     "end_time": "2020-07-21T04:46:06.993517Z",
     "start_time": "2020-07-21T04:46:03.530Z"
    }
   },
   "outputs": [],
   "source": [
    "random_recs = pd.read_csv('../../data/random_recs.csv')\n",
    "random = np.asarray(random_recs['uniform'].append(random_recs['ppm']))\n",
    "random_recs = []\n",
    "for i in random:\n",
    "    random_recs.append(pre_design + i + pos_design)"
   ]
  },
  {
   "cell_type": "code",
   "execution_count": null,
   "metadata": {
    "ExecuteTime": {
     "end_time": "2020-07-21T04:46:06.994236Z",
     "start_time": "2020-07-21T04:46:03.531Z"
    }
   },
   "outputs": [],
   "source": [
    "def common_member(a, b): \n",
    "    assert len(a[0]) == len(b[0]) \n",
    "      \n",
    "    a_set = set(a) \n",
    "    b_set = set(b) \n",
    "      \n",
    "    # check length  \n",
    "    if len(a_set.intersection(b_set)) > 0: \n",
    "        return(a_set.intersection(b_set))   \n",
    "    else: \n",
    "        return(\"no common elements\") "
   ]
  },
  {
   "cell_type": "code",
   "execution_count": null,
   "metadata": {
    "ExecuteTime": {
     "end_time": "2020-07-21T04:46:06.994830Z",
     "start_time": "2020-07-21T04:46:03.533Z"
    }
   },
   "outputs": [],
   "source": [
    "common_member(rbs1by1, bandit20_recs)"
   ]
  },
  {
   "cell_type": "code",
   "execution_count": null,
   "metadata": {
    "ExecuteTime": {
     "end_time": "2020-07-21T04:46:06.995586Z",
     "start_time": "2020-07-21T04:46:03.534Z"
    }
   },
   "outputs": [],
   "source": [
    "bandit_drop = common_member(random_recs, bandit20_recs)\n",
    "bandit_drop"
   ]
  },
  {
   "cell_type": "code",
   "execution_count": null,
   "metadata": {
    "ExecuteTime": {
     "end_time": "2020-07-21T04:46:06.996495Z",
     "start_time": "2020-07-21T04:46:03.536Z"
    }
   },
   "outputs": [],
   "source": [
    "if type(bandit_drop) is set:\n",
    "    bandit20_recs = list(bandit20_recs)\n",
    "    for i in bandit_drop:\n",
    "        print(i)\n",
    "        bandit20_recs.remove(i)\n",
    "        \n",
    "    bandit20_recs.extend(todesign_data[np.asarray(rec_arms[60: 60 + len(bandit_drop)]),0])\n",
    "    assert common_member(random_recs, bandit20_recs) == 'no common elements'\n",
    "    assert len(bandit20_recs) == 60"
   ]
  },
  {
   "cell_type": "markdown",
   "metadata": {},
   "source": [
    "### Write into csv file"
   ]
  },
  {
   "cell_type": "code",
   "execution_count": null,
   "metadata": {
    "ExecuteTime": {
     "end_time": "2020-07-21T04:46:06.997188Z",
     "start_time": "2020-07-21T04:46:03.538Z"
    }
   },
   "outputs": [],
   "source": [
    "recs = pd.DataFrame(bandit20_recs, columns = ['bandit'])\n",
    "recs.index += 1\n",
    "recs.to_csv('../../data/bandit_recs_0109.csv')"
   ]
  },
  {
   "cell_type": "markdown",
   "metadata": {},
   "source": [
    "#### Sanity test of idx consistency"
   ]
  },
  {
   "cell_type": "code",
   "execution_count": null,
   "metadata": {
    "ExecuteTime": {
     "end_time": "2020-07-21T04:46:06.998214Z",
     "start_time": "2020-07-21T04:46:03.540Z"
    }
   },
   "outputs": [],
   "source": [
    "label_seqs = np.asarray(new_env.arm_features)[np.asarray(rec_arms)]\n",
    "label_dict = {'0': 'A',\n",
    "              '1': 'C',\n",
    "              '2': 'G',\n",
    "              '3': 'T'}\n",
    "\n",
    "rbs_seqs = []\n",
    "\n",
    "for seq in label_seqs:\n",
    "    rbs_seq = []\n",
    "    for i in range(int(len(seq))):\n",
    "        start = i \n",
    "        end = start + 1\n",
    "        s = seq[start:end]\n",
    "        rbs_seq.append(label_dict[s])\n",
    "    rbs_seq = ''.join(rbs_seq)\n",
    "    rbs_seqs.append(rbs_seq)\n",
    "\n",
    "for i in range(len(rec_arms)):\n",
    "    assert rbs_seqs[i] == todesign_data[rec_arms[i], 0] \n",
    "    \n",
    "print('Recommned index is consistent of the todesign_data index.')"
   ]
  },
  {
   "cell_type": "markdown",
   "metadata": {},
   "source": [
    "### Plot kernel matrix "
   ]
  },
  {
   "cell_type": "code",
   "execution_count": null,
   "metadata": {
    "ExecuteTime": {
     "end_time": "2020-07-21T04:46:06.999413Z",
     "start_time": "2020-07-21T04:46:03.542Z"
    }
   },
   "outputs": [],
   "source": [
    "# use 6-base seuqence for kernel matrix\n",
    "all_data = np.concatenate((data6, todesign6_data)) # both the observed and todeisign data\n",
    "all_env = Rewards_env(all_data, embedding)\n",
    "if len(kernel) == 1:\n",
    "    kernel_matrix = kernel[0].__call__(all_env.embedded)\n",
    "else: # string kernels\n",
    "    kernel_matrix = kernel[0](all_data[:,0])"
   ]
  },
  {
   "cell_type": "code",
   "execution_count": null,
   "metadata": {
    "ExecuteTime": {
     "end_time": "2020-07-21T04:46:07.000303Z",
     "start_time": "2020-07-21T04:46:03.544Z"
    }
   },
   "outputs": [],
   "source": [
    "kernel_matrix"
   ]
  },
  {
   "cell_type": "code",
   "execution_count": null,
   "metadata": {
    "ExecuteTime": {
     "end_time": "2020-07-21T04:46:07.001110Z",
     "start_time": "2020-07-21T04:46:03.546Z"
    }
   },
   "outputs": [],
   "source": [
    "plt.imshow(kernel_matrix, cmap = 'hot', interpolation='nearest')\n",
    "#plt.imshow(sorted_new_kernel_matrix, cmap = 'hot')\n",
    "plt.colorbar()\n",
    "plt.title('spectrum kernel')\n",
    "#plt.savefig('../plots/dotproduct_sorted_kernel.png')"
   ]
  },
  {
   "cell_type": "code",
   "execution_count": null,
   "metadata": {
    "ExecuteTime": {
     "end_time": "2020-07-21T04:46:07.002005Z",
     "start_time": "2020-07-21T04:46:03.548Z"
    }
   },
   "outputs": [],
   "source": [
    "new_kernel_matrix = kernel_matrix[113:, 113:] # only the todesign feature spaces"
   ]
  },
  {
   "cell_type": "markdown",
   "metadata": {},
   "source": [
    "## Similarity Test\n",
    "\n",
    "We expect that for similar arms, the predictor gives similar predictions. The above plot cannot show the similarity relationship between arm. So we design several experiments to show the similarity between arms and corresponding predictions. \n",
    "\n",
    "#### The goals are two folds: \n",
    "1. Understand how well the predictor works by showing the predictions for arms with similarity information. A good predictor should be able to predict similar labels for similar arms.\n",
    "2. Explore the similarities of the recommended arms. If the top arms are similar to each other, then they are all from the same cluster, which is not a good way to suggest 60 arms. If they form 5-6 clusters, then this means you will see blocks in the kernel matrix, which is good.\n",
    "\n",
    "#### The ways to explore similarities:  \n",
    "\n",
    "A. sort the arm indexes in terms of the \n",
    "- A1) predictions (mu) \n",
    "- A2) the UCB (mu + sigma)\n",
    "- A3) the confidence width (sigma)  respectively, then sort the kernel matrix in the same order.\n",
    "\n",
    "Then we can analyze for similar scores (A1), whether the arms have high similarities. Furthermore, we can analyze the similarities for recommended arms (A2 with top 60). \n",
    "\n",
    "B. Using the distance (l2 norm) between every single point to the average one as x-axis, the difference between labels of every point to the averaged label as the y-axis. Then sorted the arm based on the distance of arms, then we expect the higher than the distance of arms, the higher the difference between labels.\n",
    "\n",
    "C. Using PCA to project the similarity matrix into one/two dimensions. Then use the weight as the x-axis and the corresponding label as the y-axis. Sorted based on the x-axis. Similarly, we expected the neighboring arms have similar labels.\n",
    "\n",
    "D. Calculate the determinant for the kernel matrix, which reflects the volume of arms. The lower the volume, the higher the similarities. "
   ]
  },
  {
   "cell_type": "markdown",
   "metadata": {},
   "source": [
    "### A. sorting by labels\n",
    "\n",
    "#### A1. sorting by mu"
   ]
  },
  {
   "cell_type": "code",
   "execution_count": null,
   "metadata": {
    "ExecuteTime": {
     "end_time": "2020-07-21T04:46:07.002781Z",
     "start_time": "2020-07-21T04:46:03.550Z"
    }
   },
   "outputs": [],
   "source": [
    "sorted_idx = np.asarray(sorted(range(len(agent.mu)), key=lambda k: (agent.mu)[k]))\n",
    "plt.plot(range(len(agent.mu))[::100], agent.mu[sorted_idx][::100], label = 'mu')\n",
    "plt.plot(range(len(agent.mu))[::100], (agent.mu + agent.sigma)[sorted_idx][::100], label = 'mu + sigma')\n",
    "plt.ylabel('label')\n",
    "#plt.xlim([3800,4096])\n",
    "plt.legend()"
   ]
  },
  {
   "cell_type": "code",
   "execution_count": null,
   "metadata": {
    "ExecuteTime": {
     "end_time": "2020-07-21T04:46:07.003596Z",
     "start_time": "2020-07-21T04:46:03.552Z"
    }
   },
   "outputs": [],
   "source": [
    "sorted_new_kernel_matrix = new_kernel_matrix[sorted_idx, :][:, sorted_idx]\n",
    "plt.imshow(sorted_new_kernel_matrix, cmap = 'hot')\n",
    "plt.colorbar()\n",
    "plt.title('spectrum sorted kernel')\n",
    "#plt.savefig('../plots/dotproduct_sorted_kernel.png')"
   ]
  },
  {
   "cell_type": "code",
   "execution_count": null,
   "metadata": {
    "ExecuteTime": {
     "end_time": "2020-07-21T04:46:07.004424Z",
     "start_time": "2020-07-21T04:46:03.554Z"
    }
   },
   "outputs": [],
   "source": [
    "plt.imshow(sorted_new_kernel_matrix[-60:, -60:], cmap = 'hot')\n",
    "plt.colorbar()\n",
    "plt.title('spectrum sorted kernel Top 60')\n",
    "#plt.savefig('../plots/dotproduct_sorted_kernel.png')"
   ]
  },
  {
   "cell_type": "markdown",
   "metadata": {},
   "source": [
    "#### A2. sorting by ucb (mu + sigma)"
   ]
  },
  {
   "cell_type": "code",
   "execution_count": null,
   "metadata": {
    "ExecuteTime": {
     "end_time": "2020-07-21T04:46:07.005230Z",
     "start_time": "2020-07-21T04:46:03.555Z"
    }
   },
   "outputs": [],
   "source": [
    "sorted_idx = np.asarray(sorted(range(len(agent.mu + agent.sigma)), key=lambda k: (agent.mu + agent.sigma)[k]))\n",
    "sorted_new_kernel_matrix = new_kernel_matrix[sorted_idx, :][:, sorted_idx]"
   ]
  },
  {
   "cell_type": "code",
   "execution_count": null,
   "metadata": {
    "ExecuteTime": {
     "end_time": "2020-07-21T04:46:07.006058Z",
     "start_time": "2020-07-21T04:46:03.557Z"
    }
   },
   "outputs": [],
   "source": [
    "plt.plot(range(len(agent.mu))[::100], agent.mu[sorted_idx][::100], label = 'mu')\n",
    "plt.plot(range(len(agent.mu))[::100], (agent.mu + agent.sigma)[sorted_idx][::100], label = 'mu + sigma')\n",
    "plt.ylabel('label')\n",
    "#plt.xlim([3800,4096])\n",
    "plt.legend()"
   ]
  },
  {
   "cell_type": "code",
   "execution_count": null,
   "metadata": {
    "ExecuteTime": {
     "end_time": "2020-07-21T04:46:07.006893Z",
     "start_time": "2020-07-21T04:46:03.559Z"
    }
   },
   "outputs": [],
   "source": [
    "#plt.imshow(kernel_matrix, cmap = 'hot', interpolation='nearest')\n",
    "plt.imshow(sorted_new_kernel_matrix[-60:,-60:], cmap = 'hot')\n",
    "plt.colorbar()\n",
    "plt.title('Similarity of Bandit Recommendations')\n",
    "plt.savefig('../../plots/similarity_first_round_recommendation.pdf')"
   ]
  },
  {
   "cell_type": "markdown",
   "metadata": {},
   "source": [
    "### B. Soring by distance to center one"
   ]
  },
  {
   "cell_type": "code",
   "execution_count": null,
   "metadata": {
    "ExecuteTime": {
     "end_time": "2020-07-21T04:46:07.007597Z",
     "start_time": "2020-07-21T04:46:03.560Z"
    }
   },
   "outputs": [],
   "source": [
    "distances = []\n",
    "center = np.mean(kernel_matrix, axis = 0)\n",
    "for i, row in enumerate(kernel_matrix):\n",
    "    distance = np.linalg.norm(row - center) ** 2/ len(row)\n",
    "    distances.append(distance)"
   ]
  },
  {
   "cell_type": "code",
   "execution_count": null,
   "metadata": {
    "ExecuteTime": {
     "end_time": "2020-07-21T04:46:07.008278Z",
     "start_time": "2020-07-21T04:46:03.562Z"
    }
   },
   "outputs": [],
   "source": [
    "sorted_idx = np.asarray(sorted(range(len(distances)), key=lambda k: (distances)[k]))\n",
    "\n",
    "sorted_distances = np.asarray(distances)[np.asarray(sorted_idx)]\n",
    "\n",
    "labels = list(data[:, 1])+ list(agent.mu)\n",
    "sorted_labels = np.asarray(labels)[np.asarray(sorted_idx)]"
   ]
  },
  {
   "cell_type": "code",
   "execution_count": null,
   "metadata": {
    "ExecuteTime": {
     "end_time": "2020-07-21T04:46:07.008985Z",
     "start_time": "2020-07-21T04:46:03.564Z"
    }
   },
   "outputs": [],
   "source": [
    "plt.scatter(sorted_distances, abs(sorted_labels - np.mean(labels)), alpha = 0.5)\n",
    "plt.xlabel('sorted distances')\n",
    "plt.ylabel('|labels - mean|')"
   ]
  },
  {
   "cell_type": "markdown",
   "metadata": {},
   "source": [
    "#### A3. sorting by PCA weights"
   ]
  },
  {
   "cell_type": "code",
   "execution_count": null,
   "metadata": {
    "ExecuteTime": {
     "end_time": "2020-07-21T04:46:07.009651Z",
     "start_time": "2020-07-21T04:46:03.566Z"
    }
   },
   "outputs": [],
   "source": [
    "from sklearn.decomposition import PCA\n",
    "\n",
    "pca = PCA(n_components = 1)\n",
    "embedded = pca.fit_transform(kernel_matrix)\n",
    "embedded.shape"
   ]
  },
  {
   "cell_type": "code",
   "execution_count": null,
   "metadata": {
    "ExecuteTime": {
     "end_time": "2020-07-21T04:46:07.010367Z",
     "start_time": "2020-07-21T04:46:03.568Z"
    }
   },
   "outputs": [],
   "source": [
    "plt.scatter(embedded, labels, alpha = 0.5)\n",
    "plt.xlabel('embedded idx')\n",
    "plt.ylabel('labels')\n",
    "plt.title('Sort by PCA')"
   ]
  },
  {
   "cell_type": "markdown",
   "metadata": {},
   "source": [
    "#### A.4 Determinant"
   ]
  },
  {
   "cell_type": "code",
   "execution_count": null,
   "metadata": {
    "ExecuteTime": {
     "end_time": "2020-07-21T04:46:07.011045Z",
     "start_time": "2020-07-21T04:46:03.570Z"
    }
   },
   "outputs": [],
   "source": [
    "np.linalg.det(kernel_matrix[-60:, -60:])"
   ]
  },
  {
   "cell_type": "markdown",
   "metadata": {},
   "source": [
    "### Save into file"
   ]
  },
  {
   "cell_type": "code",
   "execution_count": null,
   "metadata": {
    "ExecuteTime": {
     "end_time": "2020-07-21T04:46:07.011733Z",
     "start_time": "2020-07-21T04:46:03.573Z"
    }
   },
   "outputs": [],
   "source": [
    "import pickle\n",
    "\n",
    "with open('sum_spectrum.pickle', 'wb') as handle:\n",
    "    pickle.dump((agent, kernel_matrix, embedded, all_data), handle, protocol=pickle.HIGHEST_PROTOCOL)"
   ]
  },
  {
   "cell_type": "code",
   "execution_count": null,
   "metadata": {},
   "outputs": [],
   "source": []
  }
 ],
 "metadata": {
  "kernelspec": {
   "display_name": "Python 3",
   "language": "python",
   "name": "python3"
  },
  "language_info": {
   "codemirror_mode": {
    "name": "ipython",
    "version": 3
   },
   "file_extension": ".py",
   "mimetype": "text/x-python",
   "name": "python",
   "nbconvert_exporter": "python",
   "pygments_lexer": "ipython3",
   "version": "3.7.3"
  },
  "toc": {
   "base_numbering": 1,
   "nav_menu": {},
   "number_sections": true,
   "sideBar": true,
   "skip_h1_title": false,
   "title_cell": "Table of Contents",
   "title_sidebar": "Contents",
   "toc_cell": false,
   "toc_position": {},
   "toc_section_display": true,
   "toc_window_display": false
  },
  "varInspector": {
   "cols": {
    "lenName": 16,
    "lenType": 16,
    "lenVar": 40
   },
   "kernels_config": {
    "python": {
     "delete_cmd_postfix": "",
     "delete_cmd_prefix": "del ",
     "library": "var_list.py",
     "varRefreshCmd": "print(var_dic_list())"
    },
    "r": {
     "delete_cmd_postfix": ") ",
     "delete_cmd_prefix": "rm(",
     "library": "var_list.r",
     "varRefreshCmd": "cat(var_dic_list()) "
    }
   },
   "types_to_exclude": [
    "module",
    "function",
    "builtin_function_or_method",
    "instance",
    "_Feature"
   ],
   "window_display": false
  }
 },
 "nbformat": 4,
 "nbformat_minor": 2
}

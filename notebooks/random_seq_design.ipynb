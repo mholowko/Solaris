{
 "cells": [
  {
   "cell_type": "markdown",
   "metadata": {},
   "source": [
    "# Random Sequence Design\n",
    "\n",
    "Design 60 6-base RBS sequences randomly:\n",
    "\n",
    "A) Uniformly random.  \n",
    "B) Make use of PWM frequency. \n",
    "\n",
    "Considering there would be some repeated sequences with the 61 Baseline designs and 60 bandit recommendations, we may need to design more than 60 RBS sequences (filter out)."
   ]
  },
  {
   "cell_type": "code",
   "execution_count": 1,
   "metadata": {},
   "outputs": [],
   "source": [
    "import numpy as np\n",
    "from itertools import product"
   ]
  },
  {
   "cell_type": "code",
   "execution_count": 2,
   "metadata": {},
   "outputs": [],
   "source": [
    "# create all combos\n",
    "\n",
    "combos = []\n",
    "char_sets = ['A', 'G', 'C', 'T']\n",
    "design_len = 6\n",
    "\n",
    "for combo in product(char_sets, repeat= design_len):\n",
    "    combo = ''.join(combo) \n",
    "    combos.append(combo)\n",
    "    \n",
    "assert len(combos) == len(char_sets) ** design_len"
   ]
  },
  {
   "cell_type": "markdown",
   "metadata": {},
   "source": [
    "## Uniformly random"
   ]
  },
  {
   "cell_type": "code",
   "execution_count": 3,
   "metadata": {},
   "outputs": [
    {
     "data": {
      "text/plain": [
       "array(['TCACGC', 'GAGGAC', 'TTCAAA', 'GAAGCG', 'TACAGA', 'TGTATC',\n",
       "       'GACATA', 'GAACCA', 'TCATAT', 'CCTGAT', 'TGTACC', 'ACTCCG',\n",
       "       'TCTCAA', 'ACTCCC', 'ATATTT', 'TGTCTT', 'TTTCCT', 'TTGGAT',\n",
       "       'GTAGTA', 'TATCGA', 'ACTGGA', 'TTCATA', 'GCGCCA', 'GAATGA',\n",
       "       'GGAATT', 'TGATGT', 'AGGATA', 'TTGAGC', 'GTCGAA', 'TTAGAT',\n",
       "       'GATCGT', 'CTCCAA', 'CGAAGT', 'TTCTTG', 'GTTTGT', 'GCCTGC',\n",
       "       'GCGTTT', 'CAGTAT', 'CAGATT', 'GATGTA', 'GGTTAA', 'GCCTCG',\n",
       "       'AACTCC', 'TCATAA', 'CTGGCG', 'CTTAGA', 'TACCCA', 'ACTGTA',\n",
       "       'GTGACA', 'CACTCC', 'GCATGA', 'CATGTG', 'TTCGTC', 'GCGCCT',\n",
       "       'AGGGGG', 'TGGAAA', 'CTCAGC', 'GATTTC', 'ACCCGT', 'GGAATC'],\n",
       "      dtype='<U6')"
      ]
     },
     "execution_count": 3,
     "metadata": {},
     "output_type": "execute_result"
    }
   ],
   "source": [
    "num_design_seq = 60 \n",
    "\n",
    "randomA = np.random.choice(np.asarray(combos), num_design_seq, replace = False)\n",
    "randomA"
   ]
  },
  {
   "cell_type": "markdown",
   "metadata": {},
   "source": [
    "## Random with PWM\n",
    "\n",
    "wait for data."
   ]
  },
  {
   "cell_type": "code",
   "execution_count": null,
   "metadata": {},
   "outputs": [],
   "source": []
  }
 ],
 "metadata": {
  "kernelspec": {
   "display_name": "Python 3",
   "language": "python",
   "name": "python3"
  },
  "language_info": {
   "codemirror_mode": {
    "name": "ipython",
    "version": 3
   },
   "file_extension": ".py",
   "mimetype": "text/x-python",
   "name": "python",
   "nbconvert_exporter": "python",
   "pygments_lexer": "ipython3",
   "version": "3.7.3"
  }
 },
 "nbformat": 4,
 "nbformat_minor": 2
}

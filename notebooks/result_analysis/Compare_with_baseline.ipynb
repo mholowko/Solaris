{
 "cells": [
  {
   "cell_type": "markdown",
   "metadata": {},
   "source": [
    "# Compare with baseline\n",
    "\n",
    "Our choice of GPR with wd kernel with shift\n",
    "Baseline: GPR with RBF, onehot."
   ]
  },
  {
   "cell_type": "code",
   "execution_count": 1,
   "metadata": {},
   "outputs": [
    {
     "name": "stderr",
     "output_type": "stream",
     "text": [
      "/home/admin-u6015325/anaconda3/lib/python3.7/site-packages/statsmodels/tools/_testing.py:19: FutureWarning: pandas.util.testing is deprecated. Use the functions in the public API at pandas.testing instead.\n",
      "  import pandas.util.testing as tm\n"
     ]
    }
   ],
   "source": [
    "# direct to proper path\n",
    "import os\n",
    "import sys\n",
    "module_path = os.path.abspath(os.path.join('../..'))\n",
    "if module_path not in sys.path:\n",
    "    sys.path.append(module_path)\n",
    "    \n",
    "import numpy as np\n",
    "import pandas as pd\n",
    "import matplotlib.pyplot as plt\n",
    "import seaborn as sns\n",
    "import itertools\n",
    "from collections import defaultdict\n",
    "import math\n",
    "import json\n",
    "import xarray as xr\n",
    "\n",
    "from sklearn.gaussian_process import GaussianProcessRegressor\n",
    "from sklearn.gaussian_process.kernels import PairwiseKernel, DotProduct, RBF \n",
    "from sklearn.kernel_ridge import KernelRidge\n",
    "from sklearn.metrics import r2_score, mean_squared_error, make_scorer\n",
    "from sklearn.model_selection import KFold\n",
    "\n",
    "from codes.embedding import Embedding\n",
    "from codes.environment import Rewards_env\n",
    "from codes.ucb import GPUCB, Random\n",
    "from codes.evaluations import evaluate, plot_eva\n",
    "from codes.regression import *\n",
    "from codes.kernels_for_GPK import *\n",
    "\n",
    "import pickle\n",
    "import xarray\n",
    "\n",
    "from ipywidgets import IntProgress\n",
    "from IPython.display import display\n",
    "import warnings\n",
    "%matplotlib inline"
   ]
  },
  {
   "cell_type": "code",
   "execution_count": 2,
   "metadata": {},
   "outputs": [
    {
     "data": {
      "text/html": [
       "<div>\n",
       "<style scoped>\n",
       "    .dataframe tbody tr th:only-of-type {\n",
       "        vertical-align: middle;\n",
       "    }\n",
       "\n",
       "    .dataframe tbody tr th {\n",
       "        vertical-align: top;\n",
       "    }\n",
       "\n",
       "    .dataframe thead th {\n",
       "        text-align: right;\n",
       "    }\n",
       "</style>\n",
       "<table border=\"1\" class=\"dataframe\">\n",
       "  <thead>\n",
       "    <tr style=\"text-align: right;\">\n",
       "      <th></th>\n",
       "      <th>Unnamed: 0</th>\n",
       "      <th>Name</th>\n",
       "      <th>Group</th>\n",
       "      <th>RBS</th>\n",
       "      <th>RBS6</th>\n",
       "      <th>Rep1</th>\n",
       "      <th>Rep2</th>\n",
       "      <th>Rep3</th>\n",
       "      <th>Rep4</th>\n",
       "      <th>Rep5</th>\n",
       "      <th>Rep6</th>\n",
       "      <th>AVERAGE</th>\n",
       "      <th>STD</th>\n",
       "    </tr>\n",
       "  </thead>\n",
       "  <tbody>\n",
       "    <tr>\n",
       "      <th>0</th>\n",
       "      <td>0</td>\n",
       "      <td>RBS_1by1_0</td>\n",
       "      <td>reference</td>\n",
       "      <td>TTTAAGAAGGAGATATACAT</td>\n",
       "      <td>AGGAGA</td>\n",
       "      <td>1.616261</td>\n",
       "      <td>1.814182</td>\n",
       "      <td>1.760954</td>\n",
       "      <td>2.186207</td>\n",
       "      <td>2.028863</td>\n",
       "      <td>1.831982</td>\n",
       "      <td>1.881293</td>\n",
       "      <td>0.225819</td>\n",
       "    </tr>\n",
       "    <tr>\n",
       "      <th>1</th>\n",
       "      <td>1</td>\n",
       "      <td>RBS_1by1_1</td>\n",
       "      <td>bps_noncore</td>\n",
       "      <td>CTTAAGAAGGAGATATACAT</td>\n",
       "      <td>AGGAGA</td>\n",
       "      <td>1.166174</td>\n",
       "      <td>1.337018</td>\n",
       "      <td>1.417248</td>\n",
       "      <td>1.493800</td>\n",
       "      <td>1.713526</td>\n",
       "      <td>1.644568</td>\n",
       "      <td>1.425553</td>\n",
       "      <td>0.201725</td>\n",
       "    </tr>\n",
       "    <tr>\n",
       "      <th>2</th>\n",
       "      <td>2</td>\n",
       "      <td>RBS_1by1_2</td>\n",
       "      <td>bps_noncore</td>\n",
       "      <td>GTTAAGAAGGAGATATACAT</td>\n",
       "      <td>AGGAGA</td>\n",
       "      <td>0.604551</td>\n",
       "      <td>0.751384</td>\n",
       "      <td>0.851987</td>\n",
       "      <td>0.514929</td>\n",
       "      <td>0.577299</td>\n",
       "      <td>0.795227</td>\n",
       "      <td>0.660030</td>\n",
       "      <td>0.137994</td>\n",
       "    </tr>\n",
       "    <tr>\n",
       "      <th>3</th>\n",
       "      <td>3</td>\n",
       "      <td>RBS_1by1_3</td>\n",
       "      <td>bps_noncore</td>\n",
       "      <td>ATTAAGAAGGAGATATACAT</td>\n",
       "      <td>AGGAGA</td>\n",
       "      <td>1.221264</td>\n",
       "      <td>1.466278</td>\n",
       "      <td>1.270212</td>\n",
       "      <td>1.341040</td>\n",
       "      <td>1.395030</td>\n",
       "      <td>1.175433</td>\n",
       "      <td>1.338765</td>\n",
       "      <td>0.097386</td>\n",
       "    </tr>\n",
       "    <tr>\n",
       "      <th>4</th>\n",
       "      <td>4</td>\n",
       "      <td>RBS_1by1_4</td>\n",
       "      <td>bps_noncore</td>\n",
       "      <td>TCTAAGAAGGAGATATACAT</td>\n",
       "      <td>AGGAGA</td>\n",
       "      <td>1.160566</td>\n",
       "      <td>1.579025</td>\n",
       "      <td>1.171829</td>\n",
       "      <td>1.590670</td>\n",
       "      <td>1.411255</td>\n",
       "      <td>1.756862</td>\n",
       "      <td>1.382669</td>\n",
       "      <td>0.210012</td>\n",
       "    </tr>\n",
       "  </tbody>\n",
       "</table>\n",
       "</div>"
      ],
      "text/plain": [
       "   Unnamed: 0        Name        Group                   RBS    RBS6  \\\n",
       "0           0  RBS_1by1_0    reference  TTTAAGAAGGAGATATACAT  AGGAGA   \n",
       "1           1  RBS_1by1_1  bps_noncore  CTTAAGAAGGAGATATACAT  AGGAGA   \n",
       "2           2  RBS_1by1_2  bps_noncore  GTTAAGAAGGAGATATACAT  AGGAGA   \n",
       "3           3  RBS_1by1_3  bps_noncore  ATTAAGAAGGAGATATACAT  AGGAGA   \n",
       "4           4  RBS_1by1_4  bps_noncore  TCTAAGAAGGAGATATACAT  AGGAGA   \n",
       "\n",
       "       Rep1      Rep2      Rep3      Rep4      Rep5      Rep6   AVERAGE  \\\n",
       "0  1.616261  1.814182  1.760954  2.186207  2.028863  1.831982  1.881293   \n",
       "1  1.166174  1.337018  1.417248  1.493800  1.713526  1.644568  1.425553   \n",
       "2  0.604551  0.751384  0.851987  0.514929  0.577299  0.795227  0.660030   \n",
       "3  1.221264  1.466278  1.270212  1.341040  1.395030  1.175433  1.338765   \n",
       "4  1.160566  1.579025  1.171829  1.590670  1.411255  1.756862  1.382669   \n",
       "\n",
       "        STD  \n",
       "0  0.225819  \n",
       "1  0.201725  \n",
       "2  0.137994  \n",
       "3  0.097386  \n",
       "4  0.210012  "
      ]
     },
     "execution_count": 2,
     "metadata": {},
     "output_type": "execute_result"
    }
   ],
   "source": [
    "Path = '../../data/firstRound_Microplate_normTrue_formatSeq_logTrue.csv'\n",
    "\n",
    "df = pd.read_csv(Path)\n",
    "df.head()"
   ]
  },
  {
   "cell_type": "code",
   "execution_count": 3,
   "metadata": {},
   "outputs": [],
   "source": [
    "run_kfold = False\n",
    "\n",
    "if run_kfold:\n",
    "\n",
    "    kernel = 'WD_Kernel_Shift'\n",
    "    eva_metric = [mean_squared_error, r2_score]\n",
    "\n",
    "    gpr = GPR_Predictor(df, kernel_name = kernel)\n",
    "\n",
    "    num_split = 5\n",
    "    num_repeat = 10\n",
    "    s_list = [1]\n",
    "    # alpha_list = [0.5]\n",
    "    alpha_list= [2] \n",
    "    # alpha_list= [0.01, 0.05, 0.1, 0.5].append(list(range(1,15)))\n",
    "    l_list = [6]\n",
    "\n",
    "    result_DataArray_wd = gpr.Repeated_kfold(num_split=num_split, num_repeat=num_repeat, alpha_list= alpha_list,\n",
    "                                          l_list = l_list, s_list = s_list)\n",
    "    \n",
    "    print(result_DataArray_wd[1].mean(axis = -1).mean(axis=-1))"
   ]
  },
  {
   "cell_type": "code",
   "execution_count": 4,
   "metadata": {},
   "outputs": [],
   "source": [
    "if run_kfold:\n",
    "\n",
    "    kernel = 'RBF'\n",
    "    eva_metric = [mean_squared_error, r2_score]\n",
    "\n",
    "    gpr = GPR_Predictor(df, embedding = 'onehot', kernel_name = kernel)\n",
    "\n",
    "    num_split = 5\n",
    "    num_repeat = 10\n",
    "    s_list = [1]\n",
    "    # alpha_list = [0.5]\n",
    "    alpha_list= [2] \n",
    "    # alpha_list= [0.01, 0.05, 0.1, 0.5].append(list(range(1,15)))\n",
    "    l_list = [6]\n",
    "\n",
    "    result_DataArray_rbf = gpr.Repeated_kfold(num_split=num_split, num_repeat=num_repeat, alpha_list= alpha_list,\n",
    "                                          l_list = l_list, s_list = s_list)\n",
    "    \n",
    "    print(result_DataArray_rbf[0].mean(axis = -1).mean(axis=-1))"
   ]
  },
  {
   "cell_type": "code",
   "execution_count": 10,
   "metadata": {},
   "outputs": [
    {
     "name": "stdout",
     "output_type": "stream",
     "text": [
      "X train shape:  (845, 20)\n",
      "X test shape:  (35, 20)\n",
      "create kernel instance\n",
      "wd kernel instance\n",
      "init kernel\n",
      "finish creating kernel instance\n",
      "gp_reg fit\n",
      "gp_reg pred\n",
      "finish reg\n",
      "<function mean_squared_error at 0x7f8ffe2c5c80>\n",
      "Train:  0.1515965432196432\n",
      "Test:  0.4600505621942163\n",
      "<function r2_score at 0x7f8ffe2c5ea0>\n",
      "Train:  0.8176384150118531\n",
      "Test:  0.1886063744786154\n"
     ]
    },
    {
     "data": {
      "image/png": "[encoded data removed]",
      "text/plain": [
       "<Figure size 432x288 with 1 Axes>"
      ]
     },
     "metadata": {
      "needs_background": "light"
     },
     "output_type": "display_data"
    }
   ],
   "source": [
    "kernel = 'WD_Kernel_Shift'\n",
    "embedding = 'label'\n",
    "eva_metric = [mean_squared_error, r2_score]\n",
    "\n",
    "gpr_train_samples = GPR_Predictor(df, kernel_name = kernel, embedding = embedding, eva_metric = eva_metric,\n",
    "                   l = 6, s = 1, alpha = 2, eva_on='seqs')\n",
    "gpr_train_samples.regression()\n",
    "gpr_train_samples.scatter_plot()"
   ]
  },
  {
   "cell_type": "markdown",
   "metadata": {},
   "source": [
    "### Projection to first eigenvector"
   ]
  },
  {
   "cell_type": "code",
   "execution_count": 32,
   "metadata": {},
   "outputs": [],
   "source": [
    "kernel_all = gpr_train_samples.wd_kernel_instance.kernel_all_normalised\n",
    "first_eign_vector = np.linalg.eigh(kernel_all)[1][-1]\n",
    "proj = kernel_all.T.dot(first_eign_vector)\n",
    "\n",
    "pred_all = list(gpr_train_samples.train_df['pred mean'])+  list(gpr_train_samples.test_df['pred mean'])\n",
    "label_all = list(gpr_train_samples.train_df['AVERAGE'])+  list(gpr_train_samples.test_df['AVERAGE'])"
   ]
  },
  {
   "cell_type": "code",
   "execution_count": 33,
   "metadata": {},
   "outputs": [
    {
     "data": {
      "text/plain": [
       "Text(0, 0.5, 'average label')"
      ]
     },
     "execution_count": 33,
     "metadata": {},
     "output_type": "execute_result"
    },
    {
     "data": {
      "image/png": "[encoded data removed]",
      "text/plain": [
       "<Figure size 432x288 with 1 Axes>"
      ]
     },
     "metadata": {
      "needs_background": "light"
     },
     "output_type": "display_data"
    }
   ],
   "source": [
    "plt.scatter(proj, label_all)\n",
    "plt.xlabel('proj on first eign')\n",
    "plt.ylabel('average label')"
   ]
  },
  {
   "cell_type": "code",
   "execution_count": 7,
   "metadata": {},
   "outputs": [
    {
     "name": "stdout",
     "output_type": "stream",
     "text": [
      "X train shape:  (845, 80)\n",
      "X test shape:  (35, 80)\n",
      "gp_reg fit\n",
      "gp_reg pred\n",
      "finish reg\n",
      "<function mean_squared_error at 0x7f8ffe2c5c80>\n",
      "Train:  0.17118898180824585\n",
      "Test:  0.5034507254677599\n",
      "<function r2_score at 0x7f8ffe2c5ea0>\n",
      "Train:  0.7940698818585354\n",
      "Test:  0.11206127548170486\n"
     ]
    },
    {
     "data": {
      "image/png": "[encoded data removed]",
      "text/plain": [
       "<Figure size 432x288 with 1 Axes>"
      ]
     },
     "metadata": {
      "needs_background": "light"
     },
     "output_type": "display_data"
    }
   ],
   "source": [
    "kernel = 'RBF'\n",
    "embedding = 'onehot'\n",
    "eva_metric = [mean_squared_error, r2_score]\n",
    "\n",
    "gpr_train_samples = GPR_Predictor(df, kernel_name = kernel, embedding = embedding, eva_metric = eva_metric,\n",
    "                   alpha = 2, eva_on='seqs')\n",
    "gpr_train_samples.regression()\n",
    "gpr_train_samples.scatter_plot()"
   ]
  },
  {
   "cell_type": "code",
   "execution_count": 8,
   "metadata": {},
   "outputs": [
    {
     "data": {
      "text/plain": [
       "RBF(length_scale=0.838)"
      ]
     },
     "execution_count": 8,
     "metadata": {},
     "output_type": "execute_result"
    }
   ],
   "source": [
    "gpr_train_samples.gp_reg.kernel_"
   ]
  },
  {
   "cell_type": "code",
   "execution_count": null,
   "metadata": {},
   "outputs": [],
   "source": []
  }
 ],
 "metadata": {
  "kernelspec": {
   "display_name": "Python 3",
   "language": "python",
   "name": "python3"
  },
  "language_info": {
   "codemirror_mode": {
    "name": "ipython",
    "version": 3
   },
   "file_extension": ".py",
   "mimetype": "text/x-python",
   "name": "python",
   "nbconvert_exporter": "python",
   "pygments_lexer": "ipython3",
   "version": "3.7.3"
  },
  "toc": {
   "base_numbering": 1,
   "nav_menu": {},
   "number_sections": true,
   "sideBar": true,
   "skip_h1_title": false,
   "title_cell": "Table of Contents",
   "title_sidebar": "Contents",
   "toc_cell": false,
   "toc_position": {},
   "toc_section_display": true,
   "toc_window_display": false
  },
  "varInspector": {
   "cols": {
    "lenName": 16,
    "lenType": 16,
    "lenVar": 40
   },
   "kernels_config": {
    "python": {
     "delete_cmd_postfix": "",
     "delete_cmd_prefix": "del ",
     "library": "var_list.py",
     "varRefreshCmd": "print(var_dic_list())"
    },
    "r": {
     "delete_cmd_postfix": ") ",
     "delete_cmd_prefix": "rm(",
     "library": "var_list.r",
     "varRefreshCmd": "cat(var_dic_list()) "
    }
   },
   "types_to_exclude": [
    "module",
    "function",
    "builtin_function_or_method",
    "instance",
    "_Feature"
   ],
   "window_display": false
  }
 },
 "nbformat": 4,
 "nbformat_minor": 2
}

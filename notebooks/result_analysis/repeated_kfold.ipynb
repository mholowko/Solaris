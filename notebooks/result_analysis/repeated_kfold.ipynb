{
 "cells": [
  {
   "cell_type": "markdown",
   "metadata": {},
   "source": [
    "[Update Aug 2020 Mengyan Zhang]\n",
    "\n",
    "This notebook implements regression on the first round results with repeated kfold.\n",
    "\n",
    "# Pipeline\n",
    "\n",
    "- Data pre-processing: run codes/data_generating.py\n",
    "    - log transform \n",
    "    - z-score normalisation for each replicate (zero mean and unit variance)\n",
    "- Repeated Kfold: (n_repeated: 10; n_split/kfold: 5)\n",
    "    - Kernel: weighted degree kernel with shift\n",
    "        - kernel normalisation: centering and unit norm\n",
    "        - lmer: number of substring [3,4,5,6]\n",
    "    - Gaussian process regression \n",
    "        - alpha: scalar value add to diagonal \n",
    "- Evaluation\n",
    "   - metric: e.g. Mean square error; R2\n",
    "   - true label: either sample or mean of sample. "
   ]
  },
  {
   "cell_type": "markdown",
   "metadata": {},
   "source": [
    "# Key Notes\n",
    "\n",
    "## Splitting over sequences\n",
    "\n",
    "The training and testing data should be split in terms of sequences rather than samples, since we hope to have good predictions on unseen data. Similar idea as shown in [GroupKFold](https://scikit-learn.org/stable/modules/generated/sklearn.model_selection.GroupKFold.html).\n",
    "\n",
    "## Training with multiple labels vs. sample mean?\n",
    "\n",
    "We now training with multiple labels, i.e. repeated sequences inputs with different labels (replicates).\n",
    "It worth thinking whether it is equivalent to use the sample mean directly.\n",
    "\n",
    "\n",
    "## Evaluate on samples vs sample mean?\n",
    "\n",
    "For evaluation (on both training and testing predictions), we evaluate using \"samples\" or \"averages\", indicating by \"eva_on\" parameter. \n",
    "\n",
    "## What matters\n",
    "\n",
    "The recommendations at the end it what matters, so once we choose certain parameters, we should focus on how it changes our recommendations."
   ]
  },
  {
   "cell_type": "code",
   "execution_count": null,
   "metadata": {
    "ExecuteTime": {
     "end_time": "2020-08-19T08:00:34.720638Z",
     "start_time": "2020-08-19T08:00:23.074701Z"
    }
   },
   "outputs": [],
   "source": [
    "# direct to proper path\n",
    "import os\n",
    "import sys\n",
    "module_path = os.path.abspath(os.path.join('../..'))\n",
    "if module_path not in sys.path:\n",
    "    sys.path.append(module_path)\n",
    "    \n",
    "import numpy as np\n",
    "import pandas as pd\n",
    "import matplotlib.pyplot as plt\n",
    "import seaborn as sns\n",
    "import itertools\n",
    "from collections import defaultdict\n",
    "import math\n",
    "import json\n",
    "import xarray as xr\n",
    "\n",
    "from sklearn.gaussian_process import GaussianProcessRegressor\n",
    "from sklearn.gaussian_process.kernels import PairwiseKernel, DotProduct, RBF \n",
    "from sklearn.kernel_ridge import KernelRidge\n",
    "from sklearn.metrics import r2_score, mean_squared_error, make_scorer\n",
    "from sklearn.model_selection import KFold\n",
    "\n",
    "from codes.embedding import Embedding\n",
    "from codes.environment import Rewards_env\n",
    "from codes.ucb import GPUCB, Random\n",
    "from codes.evaluations import evaluate, plot_eva\n",
    "from codes.regression import *\n",
    "from codes.kernels_for_GPK import *\n",
    "\n",
    "from ipywidgets import IntProgress\n",
    "from IPython.display import display\n",
    "import warnings\n",
    "%matplotlib inline"
   ]
  },
  {
   "cell_type": "code",
   "execution_count": null,
   "metadata": {
    "ExecuteTime": {
     "end_time": "2020-08-19T08:00:34.732201Z",
     "start_time": "2020-08-19T08:00:34.726610Z"
    }
   },
   "outputs": [],
   "source": [
    "kernel_dict = {\n",
    "#     'Spectrum_Kernel': Spectrum_Kernel,\n",
    "#     'Mixed_Spectrum_Kernel': Mixed_Spectrum_Kernel,\n",
    "#     'WD_Kernel': WeightedDegree_Kernel,\n",
    "#     'Sum_Spectrum_Kernel': Sum_Spectrum_Kernel,\n",
    "    'WD_Kernel_Shift': WD_Shift_Kernel,\n",
    "    'RBF': RBF\n",
    "    \n",
    "}"
   ]
  },
  {
   "cell_type": "code",
   "execution_count": null,
   "metadata": {
    "ExecuteTime": {
     "end_time": "2020-08-19T08:00:35.002679Z",
     "start_time": "2020-08-19T08:00:34.733619Z"
    }
   },
   "outputs": [],
   "source": [
    "Path = '../../data/Results_Microplate_partialTrue_normTrue_roundRep_formatSeq_logTrue.csv'\n",
    "\n",
    "df = pd.read_csv(Path)\n",
    "df.head(20)"
   ]
  },
  {
   "cell_type": "code",
   "execution_count": null,
   "metadata": {
    "ExecuteTime": {
     "end_time": "2020-08-19T08:00:35.032898Z",
     "start_time": "2020-08-19T08:00:35.005442Z"
    }
   },
   "outputs": [],
   "source": [
    "#df = df[df['Group'] != 'bps'].reset_index()\n",
    "df.shape"
   ]
  },
  {
   "cell_type": "code",
   "execution_count": null,
   "metadata": {
    "ExecuteTime": {
     "end_time": "2020-08-19T08:00:35.660774Z",
     "start_time": "2020-08-19T08:00:35.034724Z"
    }
   },
   "outputs": [],
   "source": [
    "plt.hist(df['AVERAGE'])"
   ]
  },
  {
   "cell_type": "markdown",
   "metadata": {},
   "source": [
    "# Repeated KFold "
   ]
  },
  {
   "cell_type": "code",
   "execution_count": null,
   "metadata": {
    "ExecuteTime": {
     "end_time": "2020-08-19T08:00:35.664108Z",
     "start_time": "2020-08-19T08:00:35.662005Z"
    },
    "tags": []
   },
   "outputs": [],
   "source": [
    "kernel = 'WD_Kernel_Shift'\n",
    "eva_metric = [mean_squared_error, r2_score, 'coverage rate']\n",
    "\n",
    "gpr = GPR_Predictor(df, kernel_name = kernel)\n",
    "# gpr = GPR_Predictor(df, train_idx=df['Round'] == 0, test_idx=df['Round'] == 1, kernel_name = kernel)\n",
    "\n",
    "# num_split = 5\n",
    "# num_repeat = 5\n",
    "# s_list = [0,1]\n",
    "# # alpha_list = [0.5]\n",
    "# alpha_list= [1e-5, 1e-1, 0.5, 1, 2, 5] \n",
    "# # alpha_list= [0.01, 0.05, 0.1, 0.5].append(list(range(1,15)))\n",
    "# l_list =[3,6]\n",
    "# # sigma_0_list = [0.5, 1, 1.5, 2, 2.5]\n",
    "# sigma_0_list = [0.5, 1, 2]"
   ]
  },
  {
   "cell_type": "code",
   "execution_count": null,
   "metadata": {
    "ExecuteTime": {
     "start_time": "2020-08-19T08:00:23.087Z"
    },
    "tags": []
   },
   "outputs": [],
   "source": [
    "num_split = 5\n",
    "num_repeat = 10\n",
    "s_list = [1]\n",
    "# alpha_list = [0.5]\n",
    "alpha_list= [2] \n",
    "# alpha_list= [0.01, 0.05, 0.1, 0.5].append(list(range(1,15)))\n",
    "l_list =[6]\n",
    "# sigma_0_list = [0.5, 1, 1.5, 2, 2.5]\n",
    "sigma_0_list = [1]\n",
    "                                                                                                         \n",
    "result_DataArray = gpr.Repeated_kfold(num_split=num_split, num_repeat=num_repeat,\n",
    "                                      kernel_norm_flag=[True], centering_flag=[True, False], unit_norm_flag=[True, False],\n",
    "                                      alpha_list= alpha_list, l_list = l_list, s_list = s_list, sigma_0_list = sigma_0_list)"
   ]
  },
  {
   "cell_type": "code",
   "execution_count": null,
   "metadata": {
    "ExecuteTime": {
     "start_time": "2020-08-19T08:00:23.088Z"
    }
   },
   "outputs": [],
   "source": [
    "import pickle\n",
    "\n",
    "# with open('repeated_kfold_wd_shift_round01.pickle', 'wb') as handle:\n",
    "with open('repeated_kfold_RBF_round01_kenrelNormAdjust.pickle', 'wb') as handle:\n",
    "    pickle.dump(result_DataArray, handle, protocol=pickle.HIGHEST_PROTOCOL)\n",
    "\n",
    "# with open('repeated_kfold_wd_shift_round01.pickle', 'rb') as handle:\n",
    "with open('repeated_kfold_RBF_round01_kenrelNormAdjust.pickle', 'rb') as handle:\n",
    "    result_pkl = pickle.load(handle)"
   ]
  },
  {
   "cell_type": "code",
   "execution_count": null,
   "metadata": {
    "ExecuteTime": {
     "start_time": "2020-08-19T08:00:23.089Z"
    }
   },
   "outputs": [],
   "source": [
    "result_pkl.loc[dict(train_test = 'Test')].loc[dict(eva_metric='coverage rate')]"
   ]
  },
  {
   "cell_type": "code",
   "execution_count": null,
   "metadata": {
    "ExecuteTime": {
     "start_time": "2020-08-19T08:00:23.091Z"
    }
   },
   "outputs": [],
   "source": [
    "result_pkl[1][1][2].loc[dict(centering_flag = False)].loc[dict(unit_norm_flag = True)].mean(axis = -1).mean(axis = -1)\n",
    "# result_pkl[1][1][2].mean(axis = -1).std(axis = -1)"
   ]
  },
  {
   "cell_type": "code",
   "execution_count": null,
   "metadata": {
    "ExecuteTime": {
     "start_time": "2020-08-19T08:00:23.092Z"
    },
    "tags": []
   },
   "outputs": [],
   "source": [
    "# result_pkl[1][1][2].loc[dict(s = 1)].loc[dict(l=6)].mean(axis = -1).mean(axis = -1).plot()\n",
    "result_pkl[1].mean(axis = -1).mean(axis = -1).plot()"
   ]
  },
  {
   "cell_type": "code",
   "execution_count": null,
   "metadata": {},
   "outputs": [],
   "source": []
  },
  {
   "cell_type": "code",
   "execution_count": null,
   "metadata": {},
   "outputs": [],
   "source": []
  }
 ],
 "metadata": {
  "kernelspec": {
   "display_name": "Python 3",
   "language": "python",
   "name": "python3"
  },
  "language_info": {
   "codemirror_mode": {
    "name": "ipython",
    "version": 3
   },
   "file_extension": ".py",
   "mimetype": "text/x-python",
   "name": "python",
   "nbconvert_exporter": "python",
   "pygments_lexer": "ipython3",
   "version": "3.7.3-final"
  },
  "toc": {
   "base_numbering": 1,
   "nav_menu": {},
   "number_sections": true,
   "sideBar": true,
   "skip_h1_title": false,
   "title_cell": "Table of Contents",
   "title_sidebar": "Contents",
   "toc_cell": false,
   "toc_position": {},
   "toc_section_display": true,
   "toc_window_display": false
  },
  "varInspector": {
   "cols": {
    "lenName": 16,
    "lenType": 16,
    "lenVar": 40
   },
   "kernels_config": {
    "python": {
     "delete_cmd_postfix": "",
     "delete_cmd_prefix": "del ",
     "library": "var_list.py",
     "varRefreshCmd": "print(var_dic_list())"
    },
    "r": {
     "delete_cmd_postfix": ") ",
     "delete_cmd_prefix": "rm(",
     "library": "var_list.r",
     "varRefreshCmd": "cat(var_dic_list()) "
    }
   },
   "types_to_exclude": [
    "module",
    "function",
    "builtin_function_or_method",
    "instance",
    "_Feature"
   ],
   "window_display": false
  }
 },
 "nbformat": 4,
 "nbformat_minor": 2
}
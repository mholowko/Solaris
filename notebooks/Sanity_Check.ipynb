{
 "cells": [
  {
   "cell_type": "markdown",
   "metadata": {},
   "source": [
    "## Sanity Check for Bandit Sequence Design\n",
    "\n",
    "In this notebook, we show sanity chenck for bandit sequence design.   \n",
    "The RBS sequence is 20-base, and we devide it into three part: 7-base (Pre) + 6-base (Center) + 7-base (Post).  For the central part, we use spectrum kernel (l = 3), and for the other parts, we use dot product with one hot encoding. Then the kernel matrix of 20-based RBS is the sum of the three kernels, i.e. K(rbs_i, rbs_j) = k_dotpro (pre_i, pre_j) + k_spectrum (center_i, center_j) + k_dotpro (post_i, post_j). The reason of summing up the kernels is that the central part is the design part and the other parts are similar in terms different data points. "
   ]
  },
  {
   "cell_type": "code",
   "execution_count": 1,
   "metadata": {},
   "outputs": [],
   "source": [
    "# direct to proper path\n",
    "import os\n",
    "import sys\n",
    "module_path = os.path.abspath(os.path.join('..'))\n",
    "if module_path not in sys.path:\n",
    "    sys.path.append(module_path)\n",
    "    \n",
    "import numpy as np\n",
    "\n",
    "import pandas as pd\n",
    "import matplotlib.pyplot as plt\n",
    "import itertools\n",
    "from collections import defaultdict\n",
    "from sklearn.manifold import TSNE\n",
    "#import seaborn as sns\n",
    "from itertools import product\n",
    "import math\n",
    "\n",
    "from codes.embedding import Embedding\n",
    "from codes.environment import Rewards_env\n",
    "from codes.ucb import GPUCB, Random\n",
    "from codes.evaluations import evaluate, plot_eva\n",
    "from codes.regression import Regression\n",
    "from codes.kernels import spectrum_kernel\n",
    "from codes.kernels_pairwise import spectrum_kernel_pw, sum_onehot_spectrum_kernel_pw, mixed_spectrum_kernel_pw, WD_kernel_pw, WD_shift_kernel_pw\n",
    "\n",
    "from sklearn.gaussian_process import GaussianProcessRegressor\n",
    "from sklearn.gaussian_process.kernels import PairwiseKernel, DotProduct, RBF \n",
    "from sklearn.kernel_ridge import KernelRidge\n",
    "\n",
    "from ipywidgets import IntProgress\n",
    "from IPython.display import display\n",
    "import warnings\n",
    "%matplotlib inline"
   ]
  },
  {
   "cell_type": "code",
   "execution_count": 2,
   "metadata": {},
   "outputs": [
    {
     "data": {
      "text/html": [
       "<div>\n",
       "<style scoped>\n",
       "    .dataframe tbody tr th:only-of-type {\n",
       "        vertical-align: middle;\n",
       "    }\n",
       "\n",
       "    .dataframe tbody tr th {\n",
       "        vertical-align: top;\n",
       "    }\n",
       "\n",
       "    .dataframe thead th {\n",
       "        text-align: right;\n",
       "    }\n",
       "</style>\n",
       "<table border=\"1\" class=\"dataframe\">\n",
       "  <thead>\n",
       "    <tr style=\"text-align: right;\">\n",
       "      <th></th>\n",
       "      <th>A</th>\n",
       "      <th>B</th>\n",
       "      <th>C</th>\n",
       "      <th>D</th>\n",
       "    </tr>\n",
       "  </thead>\n",
       "  <tbody>\n",
       "    <tr>\n",
       "      <th>0</th>\n",
       "      <td>ACGATCTTAAGTAAGCGGGGAAAATAATG</td>\n",
       "      <td>TTAAGTAAGCGGGGAAAATA</td>\n",
       "      <td>57706</td>\n",
       "      <td>AGCGGG</td>\n",
       "    </tr>\n",
       "    <tr>\n",
       "      <th>1</th>\n",
       "      <td>ACGATCTTAAGTAGACGCGGAAAATAATG</td>\n",
       "      <td>TTAAGTAGACGCGGAAAATA</td>\n",
       "      <td>613</td>\n",
       "      <td>GACGCG</td>\n",
       "    </tr>\n",
       "    <tr>\n",
       "      <th>2</th>\n",
       "      <td>ACGATCTTAAGTAAGCGCGGAAAATAATG</td>\n",
       "      <td>TTAAGTAAGCGCGGAAAATA</td>\n",
       "      <td>5313</td>\n",
       "      <td>AGCGCG</td>\n",
       "    </tr>\n",
       "    <tr>\n",
       "      <th>3</th>\n",
       "      <td>ACGATCTTAAGTAAACGAGGAAAATAATG</td>\n",
       "      <td>TTAAGTAAACGAGGAAAATA</td>\n",
       "      <td>19594</td>\n",
       "      <td>AACGAG</td>\n",
       "    </tr>\n",
       "    <tr>\n",
       "      <th>4</th>\n",
       "      <td>ACGATCTTAAGTAGGCGAGGAAAATAATG</td>\n",
       "      <td>TTAAGTAGGCGAGGAAAATA</td>\n",
       "      <td>33626</td>\n",
       "      <td>GGCGAG</td>\n",
       "    </tr>\n",
       "  </tbody>\n",
       "</table>\n",
       "</div>"
      ],
      "text/plain": [
       "                               A                     B      C       D\n",
       "0  ACGATCTTAAGTAAGCGGGGAAAATAATG  TTAAGTAAGCGGGGAAAATA  57706  AGCGGG\n",
       "1  ACGATCTTAAGTAGACGCGGAAAATAATG  TTAAGTAGACGCGGAAAATA    613  GACGCG\n",
       "2  ACGATCTTAAGTAAGCGCGGAAAATAATG  TTAAGTAAGCGCGGAAAATA   5313  AGCGCG\n",
       "3  ACGATCTTAAGTAAACGAGGAAAATAATG  TTAAGTAAACGAGGAAAATA  19594  AACGAG\n",
       "4  ACGATCTTAAGTAGGCGAGGAAAATAATG  TTAAGTAGGCGAGGAAAATA  33626  GGCGAG"
      ]
     },
     "execution_count": 2,
     "metadata": {},
     "output_type": "execute_result"
    }
   ],
   "source": [
    "# Data downloaded from https://github.com/synbiochem/opt-mva\n",
    "# Paper https://pubs.acs.org/doi/abs/10.1021/acssynbio.8b00398\n",
    "\n",
    "# A: whole RBS sequence (len: 29)\n",
    "# B: extracted 20-base RBS seqeunce (A[7:27], len: 20), training features\n",
    "# C: TIR labels\n",
    "# D: the design part RBS (B[7:13], len: 6) \n",
    "\n",
    "Path = '../data/RBS_seqs.csv'\n",
    "\n",
    "df = pd.read_csv(Path)\n",
    "df.columns = ['A', 'B', 'C']\n",
    "df['D'] = df['B'].str[7:13]\n",
    "df.head()"
   ]
  },
  {
   "cell_type": "code",
   "execution_count": 3,
   "metadata": {},
   "outputs": [
    {
     "data": {
      "text/plain": [
       "(113, 4)"
      ]
     },
     "execution_count": 3,
     "metadata": {},
     "output_type": "execute_result"
    }
   ],
   "source": [
    "# drop the exact same record (same B and C)\n",
    "\n",
    "df = df.drop_duplicates(subset = ['B', 'C'])\n",
    "df.shape"
   ]
  },
  {
   "cell_type": "code",
   "execution_count": 4,
   "metadata": {},
   "outputs": [],
   "source": [
    "Log_flag = False # indicates whether take log label\n",
    "Norm_method = 'minmax' # indicates how to normalize label (one of 'mean', 'minmax', None)\n",
    "\n",
    "def normalize(df):\n",
    "    # take log FC -- possiblely provide Gaussain distribution?\n",
    "    if Log_flag:\n",
    "        df['C'] = np.log(df['C'])\n",
    "    if Norm_method == 'mean':\n",
    "        # mean normalization\n",
    "        df['C'] = (df['C'] - df['C'].mean())/df['C'].std()\n",
    "    elif Norm_method == 'minmax':\n",
    "        # min-max normalization \n",
    "        df['C'] = (df['C'] - df['C'].min())/(df['C'].max() - df['C'].min())\n",
    "    else:\n",
    "        assert Norm_method == None\n",
    "        \n",
    "    return df"
   ]
  },
  {
   "cell_type": "code",
   "execution_count": 5,
   "metadata": {},
   "outputs": [
    {
     "data": {
      "text/plain": [
       "(113, 2)"
      ]
     },
     "execution_count": 5,
     "metadata": {},
     "output_type": "execute_result"
    }
   ],
   "source": [
    "# data: num_data * 2, columns: [20-base RBS seq (B), TIR labels (C)]\n",
    "data = np.asarray(normalize(df)[['B', 'C']])\n",
    "data.shape"
   ]
  },
  {
   "cell_type": "code",
   "execution_count": 6,
   "metadata": {},
   "outputs": [
    {
     "data": {
      "text/plain": [
       "(113, 2)"
      ]
     },
     "execution_count": 6,
     "metadata": {},
     "output_type": "execute_result"
    }
   ],
   "source": [
    "# data6: num_data * 2, columns: [6-base RBS seq (D), TIR labels (C)]\n",
    "data6 = np.asarray(normalize(df)[['D', 'C']])\n",
    "data6.shape"
   ]
  },
  {
   "cell_type": "markdown",
   "metadata": {},
   "source": [
    "## Construct feature spaces\n",
    "\n",
    "We fix the part other the designing 6-base RBS, the 20-based RBS would be: 'TTTAAGA' + 6-base design + 'TATACAT'. The 6-base design has totally 4^6 = 4096 combinations."
   ]
  },
  {
   "cell_type": "code",
   "execution_count": 10,
   "metadata": {},
   "outputs": [],
   "source": [
    "# create all combos\n",
    "\n",
    "combos = [] # 20-base\n",
    "combos_6 = [] # 6-base\n",
    "labels = []\n",
    "char_sets = ['A', 'G', 'C', 'T']\n",
    "design_len = 6\n",
    "\n",
    "# to be changed\n",
    "pre_design = 'TTTAAGA'\n",
    "pos_design = 'TATACAT'\n",
    "\n",
    "for combo in product(char_sets, repeat= design_len):\n",
    "    combos_6.append(''.join(combo))\n",
    "    combo = pre_design + ''.join(combo) + pos_design\n",
    "    combos.append(combo)\n",
    "    labels.append(math.inf)\n",
    "    \n",
    "assert len(combos) == len(char_sets) ** design_len"
   ]
  },
  {
   "cell_type": "code",
   "execution_count": 11,
   "metadata": {},
   "outputs": [],
   "source": [
    "todesign_data = np.asarray(list(zip(combos, labels))) # 20-base\n",
    "todesign6_data = np.asarray(list(zip(combos_6, labels))) # 6-base"
   ]
  },
  {
   "cell_type": "markdown",
   "metadata": {},
   "source": [
    "## Setting"
   ]
  },
  {
   "cell_type": "code",
   "execution_count": 12,
   "metadata": {},
   "outputs": [],
   "source": [
    "embedding = 'label'\n",
    "# sum_spectrum_kernel_pw: spectrum kernels for [:7], [7:13], [13:] respectively\n",
    "kernel = [spectrum_kernel, sum_onehot_spectrum_kernel_pw]\n",
    "string_kernel_flag = True"
   ]
  },
  {
   "cell_type": "markdown",
   "metadata": {},
   "source": [
    "### 1. Check changing the parameters of kernels. \n",
    "\n",
    "Check whether changing the parameters of kernels by a small amount changes the recommendations dramatically.\n",
    "But since we use spectrum kernel for the main part, the only parameter is the l (the length of features) and we fixed it to 3. There is not much to test.\n",
    "\n",
    "### 2. Check whether permutating the data change the recommendations."
   ]
  },
  {
   "cell_type": "code",
   "execution_count": 14,
   "metadata": {},
   "outputs": [
    {
     "name": "stdout",
     "output_type": "stream",
     "text": [
      "[1684  916 3667 2382 2381 1940 2643 3076 2352 3822  546  819 3003 1911\n",
      " 3276 3549 2184 3091 2820 3844  772 1508 1476 1284 1364 1363 1359 1358\n",
      " 1357 1356 1334 1342 1341 1340 1335 1338 1339 1337 1329 1330 1331 1336\n",
      " 1332 1343 2724 4092 4093 2047 3071 2731 2729 2728 4094 1706 1023  682\n",
      " 3754 1328 2730 4095]\n"
     ]
    },
    {
     "data": {
      "image/png": "[encoded data removed]",
      "text/plain": [
       "<Figure size 432x288 with 1 Axes>"
      ]
     },
     "metadata": {
      "needs_background": "light"
     },
     "output_type": "display_data"
    }
   ],
   "source": [
    "num_rounds = 1\n",
    "num_exper = 1\n",
    "num_rec = 60\n",
    "\n",
    "my_env = Rewards_env(data, embedding)\n",
    "new_env = Rewards_env(todesign_data, embedding)\n",
    "if string_kernel_flag:\n",
    "    agent = GPUCB(new_env, num_rounds, init_list = my_env.rewards_dict, num_rec = num_rec,\n",
    "              model = GaussianProcessRegressor(kernel = PairwiseKernel(metric = kernel[-1])))\n",
    "else:\n",
    "    agent = GPUCB(new_env, num_rounds, init_list = my_env.rewards_dict, num_rec = num_rec,\n",
    "              model = GaussianProcessRegressor(kernel = kernel[-1]))\n",
    "rec_arms = agent.play(label_avaiable = False)"
   ]
  },
  {
   "cell_type": "code",
   "execution_count": 38,
   "metadata": {},
   "outputs": [
    {
     "data": {
      "text/plain": [
       "array([['GCCGGA', 'inf'],\n",
       "       ['ATCGGA', 'inf'],\n",
       "       ['TCGGAT', 'inf'],\n",
       "       ['CGGATC', 'inf'],\n",
       "       ['CGGATG', 'inf'],\n",
       "       ['GTCGGA', 'inf'],\n",
       "       ['CCGGAT', 'inf'],\n",
       "       ['TAAAGA', 'inf'],\n",
       "       ['CGATAA', 'inf'],\n",
       "       ['TCTCTC', 'inf'],\n",
       "       ['ACACAC', 'inf'],\n",
       "       ['ATATAT', 'inf'],\n",
       "       ['CTCTCT', 'inf'],\n",
       "       ['GTGTGT', 'inf'],\n",
       "       ['TATATA', 'inf'],\n",
       "       ['TGTGTG', 'inf'],\n",
       "       ['CACACA', 'inf'],\n",
       "       ['TAAGAT', 'inf'],\n",
       "       ['CTAAGA', 'inf'],\n",
       "       ['TTAAGA', 'inf'],\n",
       "       ['ATAAGA', 'inf'],\n",
       "       ['GGTCGA', 'inf'],\n",
       "       ['GGTAGA', 'inf'],\n",
       "       ['GGAAGA', 'inf'],\n",
       "       ['GGGGGA', 'inf'],\n",
       "       ['GGGGAT', 'inf'],\n",
       "       ['GGGATT', 'inf'],\n",
       "       ['GGGATC', 'inf'],\n",
       "       ['GGGATG', 'inf'],\n",
       "       ['GGGATA', 'inf'],\n",
       "       ['GGATGC', 'inf'],\n",
       "       ['GGATTC', 'inf'],\n",
       "       ['GGATTG', 'inf'],\n",
       "       ['GGATTA', 'inf'],\n",
       "       ['GGATGT', 'inf'],\n",
       "       ['GGATCC', 'inf'],\n",
       "       ['GGATCT', 'inf'],\n",
       "       ['GGATCG', 'inf'],\n",
       "       ['GGATAG', 'inf'],\n",
       "       ['GGATAC', 'inf'],\n",
       "       ['GGATAT', 'inf'],\n",
       "       ['GGATCA', 'inf'],\n",
       "       ['GGATGA', 'inf'],\n",
       "       ['GGATTT', 'inf'],\n",
       "       ['CCCCGA', 'inf'],\n",
       "       ['TTTTTA', 'inf'],\n",
       "       ['TTTTTG', 'inf'],\n",
       "       ['GTTTTT', 'inf'],\n",
       "       ['CTTTTT', 'inf'],\n",
       "       ['CCCCCT', 'inf'],\n",
       "       ['CCCCCG', 'inf'],\n",
       "       ['CCCCCA', 'inf'],\n",
       "       ['TTTTTC', 'inf'],\n",
       "       ['GCCCCC', 'inf'],\n",
       "       ['ATTTTT', 'inf'],\n",
       "       ['ACCCCC', 'inf'],\n",
       "       ['TCCCCC', 'inf'],\n",
       "       ['GGATAA', 'inf'],\n",
       "       ['CCCCCC', 'inf'],\n",
       "       ['TTTTTT', 'inf']], dtype='<U6')"
      ]
     },
     "execution_count": 38,
     "metadata": {},
     "output_type": "execute_result"
    }
   ],
   "source": [
    "todesign6_data[np.asarray(rec_arms)]"
   ]
  },
  {
   "cell_type": "code",
   "execution_count": 20,
   "metadata": {},
   "outputs": [],
   "source": [
    "from sklearn.utils import shuffle\n",
    "shuffled_df = shuffle(df)\n",
    "shuffled_df.reset_index(inplace=True, drop=True)"
   ]
  },
  {
   "cell_type": "code",
   "execution_count": 21,
   "metadata": {},
   "outputs": [
    {
     "data": {
      "text/html": [
       "<div>\n",
       "<style scoped>\n",
       "    .dataframe tbody tr th:only-of-type {\n",
       "        vertical-align: middle;\n",
       "    }\n",
       "\n",
       "    .dataframe tbody tr th {\n",
       "        vertical-align: top;\n",
       "    }\n",
       "\n",
       "    .dataframe thead th {\n",
       "        text-align: right;\n",
       "    }\n",
       "</style>\n",
       "<table border=\"1\" class=\"dataframe\">\n",
       "  <thead>\n",
       "    <tr style=\"text-align: right;\">\n",
       "      <th></th>\n",
       "      <th>A</th>\n",
       "      <th>B</th>\n",
       "      <th>C</th>\n",
       "      <th>D</th>\n",
       "    </tr>\n",
       "  </thead>\n",
       "  <tbody>\n",
       "    <tr>\n",
       "      <th>0</th>\n",
       "      <td>AGATCTTTTAAGGACGAAACGTACATATG</td>\n",
       "      <td>TTTAAGGACGAAACGTACAT</td>\n",
       "      <td>0.053733</td>\n",
       "      <td>ACGAAA</td>\n",
       "    </tr>\n",
       "    <tr>\n",
       "      <th>1</th>\n",
       "      <td>AAACTAAGCATCTAAGAGCGGTACTAATG</td>\n",
       "      <td>AGCATCTAAGAGCGGTACTA</td>\n",
       "      <td>0.022627</td>\n",
       "      <td>AAGAGC</td>\n",
       "    </tr>\n",
       "    <tr>\n",
       "      <th>2</th>\n",
       "      <td>GCGACAAAATATGAGGAGTACAAAAAATG</td>\n",
       "      <td>AAATATGAGGAGTACAAAAA</td>\n",
       "      <td>1.000000</td>\n",
       "      <td>AGGAGT</td>\n",
       "    </tr>\n",
       "    <tr>\n",
       "      <th>3</th>\n",
       "      <td>GCGACAAAATATGAGGCGTGCAAAAAATG</td>\n",
       "      <td>AAATATGAGGCGTGCAAAAA</td>\n",
       "      <td>0.025173</td>\n",
       "      <td>AGGCGT</td>\n",
       "    </tr>\n",
       "    <tr>\n",
       "      <th>4</th>\n",
       "      <td>ACGATCTTAAGTAGGCGGGGAAAATAATG</td>\n",
       "      <td>TTAAGTAGGCGGGGAAAATA</td>\n",
       "      <td>0.204115</td>\n",
       "      <td>GGCGGG</td>\n",
       "    </tr>\n",
       "  </tbody>\n",
       "</table>\n",
       "</div>"
      ],
      "text/plain": [
       "                               A                     B         C       D\n",
       "0  AGATCTTTTAAGGACGAAACGTACATATG  TTTAAGGACGAAACGTACAT  0.053733  ACGAAA\n",
       "1  AAACTAAGCATCTAAGAGCGGTACTAATG  AGCATCTAAGAGCGGTACTA  0.022627  AAGAGC\n",
       "2  GCGACAAAATATGAGGAGTACAAAAAATG  AAATATGAGGAGTACAAAAA  1.000000  AGGAGT\n",
       "3  GCGACAAAATATGAGGCGTGCAAAAAATG  AAATATGAGGCGTGCAAAAA  0.025173  AGGCGT\n",
       "4  ACGATCTTAAGTAGGCGGGGAAAATAATG  TTAAGTAGGCGGGGAAAATA  0.204115  GGCGGG"
      ]
     },
     "execution_count": 21,
     "metadata": {},
     "output_type": "execute_result"
    }
   ],
   "source": [
    "shuffled_df.head()"
   ]
  },
  {
   "cell_type": "code",
   "execution_count": 24,
   "metadata": {},
   "outputs": [],
   "source": [
    "# data: num_data * 2, columns: [20-base RBS seq (B), TIR labels (C)]\n",
    "shuffled_data = np.asarray(normalize(shuffled_df)[['B', 'C']])\n",
    "\n",
    "# data6: num_data * 2, columns: [6-base RBS seq (D), TIR labels (C)]\n",
    "shuffled_data6 = np.asarray(normalize(shuffled_df)[['D', 'C']])"
   ]
  },
  {
   "cell_type": "code",
   "execution_count": 25,
   "metadata": {},
   "outputs": [
    {
     "data": {
      "text/plain": [
       "array([['TTTAAGGACGAAACGTACAT', 0.05373333794168136],\n",
       "       ['AGCATCTAAGAGCGGTACTA', 0.022626988790193436],\n",
       "       ['AAATATGAGGAGTACAAAAA', 1.0],\n",
       "       ['AAATATGAGGCGTGCAAAAA', 0.025173101072593],\n",
       "       ['TTAAGTAGGCGGGGAAAATA', 0.2041152547840413],\n",
       "       ['TTTAAGGAAGAAACGTACAT', 0.011659120496779916],\n",
       "       ['TTTAAGGACGTAACGTACAT', 0.23393126648924525],\n",
       "       ['AACACGAGAGGAGGAATACG', 0.1321213378034309],\n",
       "       ['AACACGCGAGGAGGAATACG', 0.02720077420246777],\n",
       "       ['AGCATCTAAGGGGGGTACTA', 0.7918409198262653],\n",
       "       ['AACACGTGACGAGGCATACG', 0.09151027085565502],\n",
       "       ['AACACGTGACGAGGCATACG', 0.02720077420246777],\n",
       "       ['GCCAAATAGGGAGGAGGGCG', 0.7050426848235579],\n",
       "       ['AGCATCTAAGAGGGCTACTA', 0.012972499683176073],\n",
       "       ['AAATATGAGGCGTACAAAAA', 0.12141844952130786],\n",
       "       ['TTAAGTAGACGAGGAAAATA', 0.07444786230256109],\n",
       "       ['AACACGAGACGAGGCATACG', 0.47653774813073885],\n",
       "       ['AGCATCTAAGAGGGCTACTA', 0.05373333794168136],\n",
       "       ['TTTAAGGAAGAAACGTACAT', 0.05373333794168136],\n",
       "       ['TTTAAGGAAGTAACGTACAT', 0.4030345971727785],\n",
       "       ['GCCAAATTGGGAGGTGGGCG', 0.14418368875217458],\n",
       "       ['GCCAAATTGGGAGGTGGGCG', 0.14417216788211845],\n",
       "       ['TTTAAGGACGGAACGTACAT', 0.15528980748626137],\n",
       "       ['TTTAAGGAAGAAACGTACAT', 0.10049654949941819],\n",
       "       ['TTAAGTAAACGAGGAAAATA', 0.22353944169863707],\n",
       "       ['AACACGTGACGAGGAATACG', 0.8571872947845022],\n",
       "       ['TTTAAGGAAGGAACGTACAT', 0.011659120496779916],\n",
       "       ['TTAAGTAGGCGAGGAAAATA', 0.3852002903259254],\n",
       "       ['TTAAGTAGACGGGGAAAATA', 0.03861795642806945],\n",
       "       ['GCCAAATTGGGAGGAGGGCG', 0.24904664800285717],\n",
       "       ['TTTAAGGAGGTAACGTACAT', 0.05373333794168136],\n",
       "       ['GCCAAATTGGGAGGCGGGCG', 0.026762981140335717],\n",
       "       ['AACACGCGAGGAGGAATACG', 0.021267526123572852],\n",
       "       ['AAAGATGAGGAGTACAAAAA', 0.42397953893478035],\n",
       "       ['AGCATCTAAGGGCGCTACTA', 0.010472470881000933],\n",
       "       ['AACACGAGACGAGGAATACG', 0.1321213378034309],\n",
       "       ['AGCATCTAAGGGCGATACTA', 0.014101544948674523],\n",
       "       ['AGCATCTAAGGGGGCTACTA', 0.16253643475155244],\n",
       "       ['AACACGTGAGGAGGAATACG', 0.1321213378034309],\n",
       "       ['AACACGTGAGGAGGAATACG', 0.0638832244611113],\n",
       "       ['TTTAAGGACGTAACGTACAT', 0.06477033145543151],\n",
       "       ['AACACGAGAGGAGGAATACG', 0.09151027085565502],\n",
       "       ['AGCATCTAAGAGGGATACTA', 0.05373333794168136],\n",
       "       ['AACACGTGACGAGGAATACG', 0.09151027085565502],\n",
       "       ['TTTAAGGAAGAAACGTACAT', 0.06477033145543151],\n",
       "       ['AACACGTGACGAGGCATACG', 0.021267526123572852],\n",
       "       ['AACACGTGACGAGGAATACG', 0.021267526123572852],\n",
       "       ['AACACGTGACGAGGAATACG', 0.03807647553543243],\n",
       "       ['TTTAAGGAGGAAACGTACAT', 0.05373333794168136],\n",
       "       ['GCCAAATTGGGAGGAGGGCG', 0.2490812106130255],\n",
       "       ['AACACGCGACGAGGCATACG', 0.021267526123572852],\n",
       "       ['AAAGATGAGGCGTGCAAAAA', 0.011117639604142904],\n",
       "       ['AACACGCGACGAGGCATACG', 0.02720077420246777],\n",
       "       ['GCCAAATTGGGAGGAGGGCG', 0.24903512713280107],\n",
       "       ['GCCAAATTGGGAGGAGGGCG', 0.2490581688729133],\n",
       "       ['GCCAAATTGGGAGGAGGGCG', 0.24900056452263275],\n",
       "       ['TTTAAGGAAGAAACGTACAT', 0.6053871588382355],\n",
       "       ['TTAAGTAAACGCGGAAAATA', 0.015161464993836334],\n",
       "       ['TTAAGTAAACGGGGAAAATA', 0.14836576458254128],\n",
       "       ['GCCAAATAGGGAGGCGGGCG', 0.06591089759098608],\n",
       "       ['TTTAAGGACGGAACGTACAT', 0.6053871588382355],\n",
       "       ['GCCAAATTGGGAGGAGGGCG', 0.24901208539268885],\n",
       "       ['AGCATCTAAGAGCGCTACTA', 0.0],\n",
       "       ['AAAGATGAGGAGTGCAAAAA', 0.2820424198435466],\n",
       "       ['AACACGAGACGAGGAATACG', 0.021267526123572852],\n",
       "       ['AGCATCTAAGGGGGATACTA', 0.5786587403080681],\n",
       "       ['TTTAAGGAAGGAACGTACAT', 0.06477033145543151],\n",
       "       ['GCCAAATTGGGAGGTGGGCG', 0.1442182513623429],\n",
       "       ['AACACGAGACGAGGCATACG', 0.09151027085565502],\n",
       "       ['GCCAAATTGGGAGGAGGGCG', 0.2490696897429694],\n",
       "       ['TTAAGTAGGCGCGGAAAATA', 0.03346812751298978],\n",
       "       ['TTTAAGGAAGAAACGTACAT', 0.9088007926358599],\n",
       "       ['TTTAAGGAAGGAACGTACAT', 0.6053871588382355],\n",
       "       ['AACACGAGAGGAGGCATACG', 0.09151027085565502],\n",
       "       ['AGCATCTAAGGGCGGTACTA', 0.08771990460719593],\n",
       "       ['AACACGTGAGGAGGCATACG', 0.03807647553543243],\n",
       "       ['AACACGTGAGGAGGCATACG', 0.1321213378034309],\n",
       "       ['TTTAAGGAAGTAACGTACAT', 0.04246592702680906],\n",
       "       ['AGCATCTAAGAGGGGTACTA', 0.306397539142156],\n",
       "       ['TTTAAGGACGAAACGTACAT', 0.15528980748626137],\n",
       "       ['TTAAGTAGACGCGGAAAATA', 0.004861807163677001],\n",
       "       ['TTTAAGGAGGGAACGTACAT', 0.04246592702680906],\n",
       "       ['TTTAAGGAAGGAACGTACAT', 0.23393126648924525],\n",
       "       ['AGCATCTAAGAGCGATACTA', 0.005495455016762866],\n",
       "       ['GCCAAATTGGGAGGTGGGCG', 0.14419520962223067],\n",
       "       ['GCCAAATTGGGAGGAGGGCG', 0.24902360626274497],\n",
       "       ['TTTAAGGAGGAAACGTACAT', 0.10049654949941819],\n",
       "       ['TTAAGTAAGCGGGGAAAATA', 0.6626228412769732],\n",
       "       ['AAATATGAGGAGTGCAAAAA', 0.608682127674282],\n",
       "       ['AGCATCTAAGGGCGGTACTA', 0.010472470881000933],\n",
       "       ['AACACGCGACGAGGCATACG', 0.09151027085565502],\n",
       "       ['TTTAAGGACGGAACGTACAT', 0.4030345971727785],\n",
       "       ['AACACGAGACGAGGAATACG', 0.38007350315095795],\n",
       "       ['AACACGTGACGAGGCATACG', 0.03807647553543243],\n",
       "       ['GCCAAATTGGGAGGTGGGCG', 0.14420673049228677],\n",
       "       ['AACACGAGAGGAGGAATACG', 0.021267526123572852],\n",
       "       ['AAAGATGAGGCGTACAAAAA', 0.05156741437113331],\n",
       "       ['AACACGTGACGAGGAATACG', 0.02720077420246777],\n",
       "       ['TTTAAGGACGTAACGTACAT', 0.05373333794168136],\n",
       "       ['TTTAAGGAAGGAACGTACAT', 0.04246592702680906],\n",
       "       ['AACACGAGAGGAGGCATACG', 0.02720077420246777],\n",
       "       ['TTTAAGGAAGGAACGTACAT', 0.05373333794168136],\n",
       "       ['AACACGAGACGAGGCATACG', 0.0638832244611113],\n",
       "       ['GCCAAATAGGGAGGTGGGCG', 0.3420200693556377],\n",
       "       ['TTAAGTAAACGGGGAAAATA', 0.14835424371248518],\n",
       "       ['AACACGTGACGAGGAATACG', 0.38007350315095795],\n",
       "       ['TTTAAGGACGTAACGTACAT', 0.011659120496779916],\n",
       "       ['TTTAAGGACGAAACGTACAT', 0.06477033145543151],\n",
       "       ['TTAAGTAGGCGAGGAAAATA', 0.2041152547840413],\n",
       "       ['TTTAAGGACGGAACGTACAT', 0.10049654949941819],\n",
       "       ['TTTAAGGACGTAACGTACAT', 0.9088007926358599],\n",
       "       ['TTAAGTAAGCGCGGAAAATA', 0.059009896427378195],\n",
       "       ['GCCAAATAGGGAGGAGGGCG', 0.7050311639535017]], dtype=object)"
      ]
     },
     "execution_count": 25,
     "metadata": {},
     "output_type": "execute_result"
    }
   ],
   "source": [
    "shuffled_data"
   ]
  },
  {
   "cell_type": "code",
   "execution_count": 26,
   "metadata": {},
   "outputs": [
    {
     "name": "stdout",
     "output_type": "stream",
     "text": [
      "[1684  916 3667 2382 2381 1940 2643 3076 2352 3822  546  819 3003 1911\n",
      " 3276 3549 2184 3091 2820 3844  772 1508 1476 1284 1364 1363 1359 1358\n",
      " 1357 1356 1334 1342 1341 1340 1335 1338 1339 1337 1329 1330 1331 1336\n",
      " 1332 1343 2724 4092 4093 2047 3071 2731 2729 2728 4094 1706 1023  682\n",
      " 3754 1328 2730 4095]\n"
     ]
    },
    {
     "data": {
      "image/png": "[encoded data removed]",
      "text/plain": [
       "<Figure size 432x288 with 1 Axes>"
      ]
     },
     "metadata": {
      "needs_background": "light"
     },
     "output_type": "display_data"
    }
   ],
   "source": [
    "num_rounds = 1\n",
    "num_exper = 1\n",
    "num_rec = 60\n",
    "\n",
    "my_env = Rewards_env(shuffled_data, embedding)\n",
    "new_env = Rewards_env(todesign_data, embedding)\n",
    "if string_kernel_flag:\n",
    "    agent = GPUCB(new_env, num_rounds, init_list = my_env.rewards_dict, num_rec = num_rec,\n",
    "              model = GaussianProcessRegressor(kernel = PairwiseKernel(metric = kernel[-1])))\n",
    "else:\n",
    "    agent = GPUCB(new_env, num_rounds, init_list = my_env.rewards_dict, num_rec = num_rec,\n",
    "              model = GaussianProcessRegressor(kernel = kernel[-1]))\n",
    "rec_arms_with_shuffled_data = agent.play(label_avaiable = False)"
   ]
  },
  {
   "cell_type": "code",
   "execution_count": 27,
   "metadata": {},
   "outputs": [
    {
     "data": {
      "text/plain": [
       "True"
      ]
     },
     "execution_count": 27,
     "metadata": {},
     "output_type": "execute_result"
    }
   ],
   "source": [
    "set(rec_arms) == set(rec_arms_with_shuffled_data)"
   ]
  },
  {
   "cell_type": "markdown",
   "metadata": {},
   "source": [
    "#### Conclusion 2. \n",
    "From the above experiment, shuffling data does not change the recommendations. "
   ]
  },
  {
   "cell_type": "markdown",
   "metadata": {},
   "source": [
    "### 3. Check the kernel matrix of the Bandit Top60 vs 1by1 sequences. \n",
    "\n",
    "Since the designed bandit sequences use about 1/3 same pre- and post- sequences as the 1by1 sequences, it kind of cheat to test the similarities for the whole sequence. We provide the plot for both: 1) kernel matrix for 20-base bandit vs. 1by1; 2) kernel matrix for only 6-base central part for bandit vs. 1by1. "
   ]
  },
  {
   "cell_type": "markdown",
   "metadata": {},
   "source": [
    "#### 1) kernel matrix for 20-base bandit vs. 1by1"
   ]
  },
  {
   "cell_type": "code",
   "execution_count": 44,
   "metadata": {},
   "outputs": [
    {
     "data": {
      "text/plain": [
       "array(['TTTAAGAAGGAGATATACAT', 'CTTAAGAAGGAGATATACAT',\n",
       "       'GTTAAGAAGGAGATATACAT', 'ATTAAGAAGGAGATATACAT',\n",
       "       'TCTAAGAAGGAGATATACAT', 'TGTAAGAAGGAGATATACAT',\n",
       "       'TATAAGAAGGAGATATACAT', 'TTCAAGAAGGAGATATACAT',\n",
       "       'TTGAAGAAGGAGATATACAT', 'TTAAAGAAGGAGATATACAT',\n",
       "       'TTTCAGAAGGAGATATACAT', 'TTTGAGAAGGAGATATACAT',\n",
       "       'TTTTAGAAGGAGATATACAT', 'TTTACGAAGGAGATATACAT',\n",
       "       'TTTAGGAAGGAGATATACAT', 'TTTATGAAGGAGATATACAT',\n",
       "       'TTTAACAAGGAGATATACAT', 'TTTAAAAAGGAGATATACAT',\n",
       "       'TTTAATAAGGAGATATACAT', 'TTTAAGCAGGAGATATACAT',\n",
       "       'TTTAAGGAGGAGATATACAT', 'TTTAAGTAGGAGATATACAT',\n",
       "       'TTTAAGACGGAGATATACAT', 'TTTAAGAGGGAGATATACAT',\n",
       "       'TTTAAGATGGAGATATACAT', 'TTTAAGAACGAGATATACAT',\n",
       "       'TTTAAGAAAGAGATATACAT', 'TTTAAGAATGAGATATACAT',\n",
       "       'TTTAAGAAGCAGATATACAT', 'TTTAAGAAGAAGATATACAT',\n",
       "       'TTTAAGAAGTAGATATACAT', 'TTTAAGAAGGCGATATACAT',\n",
       "       'TTTAAGAAGGGGATATACAT', 'TTTAAGAAGGTGATATACAT',\n",
       "       'TTTAAGAAGGACATATACAT', 'TTTAAGAAGGAAATATACAT',\n",
       "       'TTTAAGAAGGATATATACAT', 'TTTAAGAAGGAGCTATACAT',\n",
       "       'TTTAAGAAGGAGGTATACAT', 'TTTAAGAAGGAGTTATACAT',\n",
       "       'TTTAAGAAGGAGACATACAT', 'TTTAAGAAGGAGAGATACAT',\n",
       "       'TTTAAGAAGGAGAAATACAT', 'TTTAAGAAGGAGATCTACAT',\n",
       "       'TTTAAGAAGGAGATGTACAT', 'TTTAAGAAGGAGATTTACAT',\n",
       "       'TTTAAGAAGGAGATACACAT', 'TTTAAGAAGGAGATAGACAT',\n",
       "       'TTTAAGAAGGAGATAAACAT', 'TTTAAGAAGGAGATATCCAT',\n",
       "       'TTTAAGAAGGAGATATGCAT', 'TTTAAGAAGGAGATATTCAT',\n",
       "       'TTTAAGAAGGAGATATAAAT', 'TTTAAGAAGGAGATATAGAT',\n",
       "       'TTTAAGAAGGAGATATATAT', 'TTTAAGAAGGAGATATACCT',\n",
       "       'TTTAAGAAGGAGATATACGT', 'TTTAAGAAGGAGATATACTT',\n",
       "       'TTTAAGAAGGAGATATACAC', 'TTTAAGAAGGAGATATACAG',\n",
       "       'TTTAAGAAGGAGATATACAA'], dtype=object)"
      ]
     },
     "execution_count": 44,
     "metadata": {},
     "output_type": "execute_result"
    }
   ],
   "source": [
    "rbs1by1seq = pd.read_csv('../data/1by1_recs.csv')\n",
    "rbs1by1 = np.asarray(rbs1by1seq['1by1'].str.upper())\n",
    "rbs1by1"
   ]
  },
  {
   "cell_type": "code",
   "execution_count": 49,
   "metadata": {},
   "outputs": [
    {
     "name": "stdout",
     "output_type": "stream",
     "text": [
      "['aaa', 'aac', 'aag', 'aat', 'aca', 'acc', 'acg', 'act', 'aga', 'agc', 'agg', 'agt', 'ata', 'atc', 'atg', 'att', 'caa', 'cac', 'cag', 'cat', 'cca', 'ccc', 'ccg', 'cct', 'cga', 'cgg', 'cgt', 'cta', 'ctc', 'ctt', 'gaa', 'gac', 'gag', 'gat', 'gca', 'gcc', 'gcg', 'gct', 'gga', 'ggc', 'ggg', 'ggt', 'gta', 'gtc', 'gtg', 'gtt', 'taa', 'tac', 'tag', 'tat', 'tca', 'tcc', 'tcg', 'tct', 'tga', 'tgc', 'tgg', 'tgt', 'tta', 'ttc', 'ttg', 'ttt']\n",
      "[[0.         0.         0.2236068  ... 0.         0.         0.2236068 ]\n",
      " [0.         0.         0.2236068  ... 0.         0.         0.2236068 ]\n",
      " [0.         0.         0.21320072 ... 0.         0.         0.21320072]\n",
      " ...\n",
      " [0.         0.         0.40824829 ... 0.         0.         0.20412415]\n",
      " [0.         0.         0.40824829 ... 0.         0.         0.20412415]\n",
      " [0.         0.         0.40824829 ... 0.         0.         0.20412415]]\n",
      "[[0.         0.         0.2236068  ... 0.         0.         0.2236068 ]\n",
      " [0.         0.         0.2236068  ... 0.         0.         0.2236068 ]\n",
      " [0.         0.         0.21320072 ... 0.         0.         0.21320072]\n",
      " ...\n",
      " [0.         0.         0.19611614 ... 0.         0.         0.19611614]\n",
      " [0.         0.         0.18257419 ... 0.         0.         0.18257419]\n",
      " [0.         0.         0.14142136 ... 0.         0.         0.84852814]]\n",
      "[[0.         0.         0.         ... 0.         0.         0.        ]\n",
      " [0.         0.         0.         ... 0.         0.         0.        ]\n",
      " [0.40824829 0.40824829 0.40824829 ... 0.40824829 0.40824829 0.40824829]\n",
      " ...\n",
      " [0.         0.         0.         ... 0.         0.         0.        ]\n",
      " [0.         0.         0.         ... 0.         0.         0.        ]\n",
      " [0.20412415 0.         0.         ... 0.20412415 0.20412415 0.20412415]]\n"
     ]
    },
    {
     "data": {
      "text/plain": [
       "Text(0.5, 1.0, 'kernel matrix for 20-base bandit vs. 1by1')"
      ]
     },
     "execution_count": 49,
     "metadata": {},
     "output_type": "execute_result"
    },
    {
     "data": {
      "image/png": "[encoded data removed]",
      "text/plain": [
       "<Figure size 432x288 with 2 Axes>"
      ]
     },
     "metadata": {
      "needs_background": "light"
     },
     "output_type": "display_data"
    }
   ],
   "source": [
    "rbs1by1_bandit_kernel = spectrum_kernel(todesign_data[np.asarray(rec_arms)][:,0], np.asarray(rbs1by1))\n",
    "plt.imshow(rbs1by1_bandit_kernel, cmap = 'hot', interpolation='nearest')\n",
    "#plt.imshow(sorted_new_kernel_matrix, cmap = 'hot')\n",
    "plt.colorbar()\n",
    "plt.title('kernel matrix for 20-base bandit vs. 1by1')"
   ]
  },
  {
   "cell_type": "markdown",
   "metadata": {},
   "source": [
    "#### 2) kernel matrix for only 6-base central part for bandit vs. 1by1. "
   ]
  },
  {
   "cell_type": "code",
   "execution_count": 46,
   "metadata": {},
   "outputs": [
    {
     "data": {
      "text/plain": [
       "array(['AGGAGA', 'AGGAGA', 'AGGAGA', 'AGGAGA', 'AGGAGA', 'AGGAGA',\n",
       "       'AGGAGA', 'AGGAGA', 'AGGAGA', 'AGGAGA', 'AGGAGA', 'AGGAGA',\n",
       "       'AGGAGA', 'AGGAGA', 'AGGAGA', 'AGGAGA', 'AGGAGA', 'AGGAGA',\n",
       "       'AGGAGA', 'AGGAGA', 'AGGAGA', 'AGGAGA', 'CGGAGA', 'GGGAGA',\n",
       "       'TGGAGA', 'ACGAGA', 'AAGAGA', 'ATGAGA', 'AGCAGA', 'AGAAGA',\n",
       "       'AGTAGA', 'AGGCGA', 'AGGGGA', 'AGGTGA', 'AGGACA', 'AGGAAA',\n",
       "       'AGGATA', 'AGGAGC', 'AGGAGG', 'AGGAGT', 'AGGAGA', 'AGGAGA',\n",
       "       'AGGAGA', 'AGGAGA', 'AGGAGA', 'AGGAGA', 'AGGAGA', 'AGGAGA',\n",
       "       'AGGAGA', 'AGGAGA', 'AGGAGA', 'AGGAGA', 'AGGAGA', 'AGGAGA',\n",
       "       'AGGAGA', 'AGGAGA', 'AGGAGA', 'AGGAGA', 'AGGAGA', 'AGGAGA',\n",
       "       'AGGAGA'], dtype=object)"
      ]
     },
     "execution_count": 46,
     "metadata": {},
     "output_type": "execute_result"
    }
   ],
   "source": [
    "rbs1by1_6 = np.asarray(rbs1by1seq['1by1'].str[7:13].str.upper())\n",
    "rbs1by1_6"
   ]
  },
  {
   "cell_type": "code",
   "execution_count": 50,
   "metadata": {},
   "outputs": [
    {
     "name": "stdout",
     "output_type": "stream",
     "text": [
      "['aaa', 'aag', 'aca', 'acc', 'acg', 'aga', 'agc', 'agg', 'agt', 'ata', 'atc', 'atg', 'att', 'cac', 'cag', 'cca', 'ccc', 'ccg', 'cct', 'cga', 'cgg', 'cta', 'ctc', 'ctt', 'gaa', 'gac', 'gag', 'gat', 'gca', 'gcc', 'gcg', 'gga', 'ggc', 'ggg', 'ggt', 'gta', 'gtc', 'gtg', 'gtt', 'taa', 'tac', 'tag', 'tat', 'tca', 'tcc', 'tcg', 'tct', 'tga', 'tgc', 'tgg', 'tgt', 'tta', 'ttc', 'ttg', 'ttt']\n",
      "[[0. 0. 0. ... 0. 0. 0.]\n",
      " [0. 0. 0. ... 0. 0. 0.]\n",
      " [0. 0. 0. ... 0. 0. 0.]\n",
      " ...\n",
      " [0. 0. 0. ... 0. 0. 0.]\n",
      " [0. 0. 0. ... 0. 0. 0.]\n",
      " [0. 0. 0. ... 0. 0. 0.]]\n",
      "[[0. 0. 0. ... 0. 0. 0.]\n",
      " [0. 0. 0. ... 0. 0. 0.]\n",
      " [0. 0. 0. ... 0. 0. 0.]\n",
      " ...\n",
      " [0. 0. 0. ... 0. 0. 0.]\n",
      " [0. 0. 0. ... 0. 0. 0.]\n",
      " [0. 0. 0. ... 0. 0. 1.]]\n",
      "[[0. 0. 0. ... 0. 0. 0.]\n",
      " [0. 0. 0. ... 0. 0. 0.]\n",
      " [0. 0. 0. ... 0. 0. 0.]\n",
      " ...\n",
      " [0. 0. 0. ... 0. 0. 0.]\n",
      " [0. 0. 0. ... 0. 0. 0.]\n",
      " [0. 0. 0. ... 0. 0. 0.]]\n"
     ]
    },
    {
     "data": {
      "text/plain": [
       "Text(0.5, 1.0, 'kernel matrix for 6-base bandit vs. 1by1')"
      ]
     },
     "execution_count": 50,
     "metadata": {},
     "output_type": "execute_result"
    },
    {
     "data": {
      "image/png": "[encoded data removed]",
      "text/plain": [
       "<Figure size 432x288 with 2 Axes>"
      ]
     },
     "metadata": {
      "needs_background": "light"
     },
     "output_type": "display_data"
    }
   ],
   "source": [
    "rbs1by1_bandit_kernel = spectrum_kernel(todesign6_data[np.asarray(rec_arms)][:,0], np.asarray(rbs1by1_6))\n",
    "plt.imshow(rbs1by1_bandit_kernel, cmap = 'hot', interpolation='nearest')\n",
    "#plt.imshow(sorted_new_kernel_matrix, cmap = 'hot')\n",
    "plt.colorbar()\n",
    "plt.title('kernel matrix for 6-base bandit vs. 1by1')"
   ]
  },
  {
   "cell_type": "markdown",
   "metadata": {},
   "source": [
    "#### Ps. Random recs vs. 1by1 seqs"
   ]
  },
  {
   "cell_type": "code",
   "execution_count": 55,
   "metadata": {},
   "outputs": [
    {
     "name": "stdout",
     "output_type": "stream",
     "text": [
      "['aaa', 'aac', 'aag', 'aat', 'aca', 'acc', 'acg', 'act', 'aga', 'agc', 'agg', 'agt', 'ata', 'atc', 'atg', 'att', 'caa', 'cac', 'cag', 'cat', 'cca', 'ccc', 'ccg', 'cct', 'cga', 'cgc', 'cgg', 'cgt', 'cta', 'ctc', 'ctg', 'ctt', 'gaa', 'gac', 'gag', 'gat', 'gca', 'gcc', 'gcg', 'gct', 'gga', 'ggc', 'ggg', 'ggt', 'gta', 'gtc', 'gtg', 'gtt', 'taa', 'tac', 'tag', 'tat', 'tca', 'tcc', 'tct', 'tga', 'tgc', 'tgg', 'tgt', 'tta', 'ttg', 'ttt']\n",
      "[[0.  0.  0.  ... 0.  0.5 0. ]\n",
      " [0.  0.  0.  ... 0.  0.  0. ]\n",
      " [0.  0.  0.5 ... 0.  0.  0. ]\n",
      " ...\n",
      " [0.  0.  0.  ... 0.  0.  0. ]\n",
      " [0.  0.  0.  ... 0.  0.  0. ]\n",
      " [0.  0.  0.  ... 0.  0.  0. ]]\n",
      "[[0.  0.  0.  ... 0.  0.5 0. ]\n",
      " [0.  0.  0.  ... 0.  0.  0. ]\n",
      " [0.  0.  0.5 ... 0.  0.  0. ]\n",
      " ...\n",
      " [0.  0.  0.  ... 0.  0.  0. ]\n",
      " [0.  0.  0.  ... 0.  0.  0. ]\n",
      " [0.  0.  0.  ... 0.  0.5 0. ]]\n",
      "[[0. 0. 0. ... 0. 0. 0.]\n",
      " [0. 0. 0. ... 0. 0. 0.]\n",
      " [0. 0. 0. ... 0. 0. 0.]\n",
      " ...\n",
      " [0. 0. 0. ... 0. 0. 0.]\n",
      " [0. 0. 0. ... 0. 0. 0.]\n",
      " [0. 0. 0. ... 0. 0. 0.]]\n"
     ]
    },
    {
     "data": {
      "text/plain": [
       "Text(0.5, 1.0, 'kernel matrix for 6-base Random vs. 1by1')"
      ]
     },
     "execution_count": 55,
     "metadata": {},
     "output_type": "execute_result"
    },
    {
     "data": {
      "image/png": "[encoded data removed]",
      "text/plain": [
       "<Figure size 432x288 with 2 Axes>"
      ]
     },
     "metadata": {
      "needs_background": "light"
     },
     "output_type": "display_data"
    }
   ],
   "source": [
    "random_recs = pd.read_csv('../data/random_recs.csv')\n",
    "random = np.asarray(random_recs['uniform'].append(random_recs['ppm']))\n",
    "\n",
    "random_rbs1by1_kernel = spectrum_kernel(random, np.asarray(rbs1by1_6))\n",
    "plt.imshow(random_rbs1by1_kernel, cmap = 'hot', interpolation='nearest')\n",
    "#plt.imshow(sorted_new_kernel_matrix, cmap = 'hot')\n",
    "plt.colorbar()\n",
    "plt.title('kernel matrix for 6-base Random vs. 1by1')"
   ]
  },
  {
   "cell_type": "markdown",
   "metadata": {},
   "source": [
    "#### Conclusion 3.\n",
    "As expected, similarities between 20-base sequences are high. For the 6-base comparison, we show two plots: bandit (y-axis) vs. 1by1 (x-axis); random (y-axis) vs. 1by1 (x-axis). The 1-30 random sequences are uniformly random, and 31-60 are random based on PPM. We can see the similarity of PPM random vs. 1by1 is generally higher than uniform random vs. 1by1. And the similarity of bandit vs. 1by1 is bewteen the above two random designs, which makes sense (bandit is desinged to recommend seqeucnes tends to have higher predictions or with high uncertainty).  "
   ]
  },
  {
   "cell_type": "markdown",
   "metadata": {},
   "source": [
    "### 4. Clustering the Top60 recommendations (we expect there are a few clusters)"
   ]
  },
  {
   "cell_type": "code",
   "execution_count": null,
   "metadata": {},
   "outputs": [],
   "source": []
  },
  {
   "cell_type": "code",
   "execution_count": null,
   "metadata": {},
   "outputs": [],
   "source": [
    "def jaccard_similarity(list1, list2):\n",
    "    intersection = len(list(set(list1).intersection(list2)))\n",
    "    union = (len(list1) + len(list2)) - intersection\n",
    "    return float(intersection) / union"
   ]
  }
 ],
 "metadata": {
  "kernelspec": {
   "display_name": "Python 3",
   "language": "python",
   "name": "python3"
  },
  "language_info": {
   "codemirror_mode": {
    "name": "ipython",
    "version": 3
   },
   "file_extension": ".py",
   "mimetype": "text/x-python",
   "name": "python",
   "nbconvert_exporter": "python",
   "pygments_lexer": "ipython3",
   "version": "3.7.3"
  }
 },
 "nbformat": 4,
 "nbformat_minor": 2
}

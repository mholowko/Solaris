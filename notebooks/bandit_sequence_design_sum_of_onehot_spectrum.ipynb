{
 "cells": [
  {
   "cell_type": "markdown",
   "metadata": {},
   "source": [
    "# Bandit Sequence Design\n",
    "\n",
    "Design 60 6-base RBS sequences based on the bandit recommendations."
   ]
  },
  {
   "cell_type": "code",
   "execution_count": 1,
   "metadata": {
    "collapsed": true
   },
   "outputs": [],
   "source": [
    "# direct to proper path\n",
    "import os\n",
    "import sys\n",
    "module_path = os.path.abspath(os.path.join('..'))\n",
    "if module_path not in sys.path:\n",
    "    sys.path.append(module_path)\n",
    "    \n",
    "import numpy as np\n",
    "\n",
    "import pandas as pd\n",
    "import matplotlib.pyplot as plt\n",
    "import itertools\n",
    "from collections import defaultdict\n",
    "from sklearn.manifold import TSNE\n",
    "#import seaborn as sns\n",
    "from itertools import product\n",
    "import math\n",
    "\n",
    "from codes.embedding import Embedding\n",
    "from codes.environment import Rewards_env\n",
    "from codes.ucb import GPUCB, Random\n",
    "from codes.evaluations import evaluate, plot_eva\n",
    "from codes.regression import Regression\n",
    "from codes.kernels import spectrum_kernel\n",
    "from codes.kernels_pairwise import spectrum_kernel_pw, sum_onehot_spectrum_kernel_pw, mixed_spectrum_kernel_pw, WD_kernel_pw, WD_shift_kernel_pw\n",
    "\n",
    "from sklearn.gaussian_process import GaussianProcessRegressor\n",
    "from sklearn.gaussian_process.kernels import PairwiseKernel, DotProduct, RBF \n",
    "from sklearn.kernel_ridge import KernelRidge\n",
    "\n",
    "from ipywidgets import IntProgress\n",
    "from IPython.display import display\n",
    "import warnings\n",
    "%matplotlib inline"
   ]
  },
  {
   "cell_type": "markdown",
   "metadata": {},
   "source": [
    "## Reading Dataset"
   ]
  },
  {
   "cell_type": "code",
   "execution_count": 2,
   "metadata": {
    "collapsed": false
   },
   "outputs": [
    {
     "data": {
      "text/html": [
       "<div>\n",
       "<style scoped>\n",
       "    .dataframe tbody tr th:only-of-type {\n",
       "        vertical-align: middle;\n",
       "    }\n",
       "\n",
       "    .dataframe tbody tr th {\n",
       "        vertical-align: top;\n",
       "    }\n",
       "\n",
       "    .dataframe thead th {\n",
       "        text-align: right;\n",
       "    }\n",
       "</style>\n",
       "<table border=\"1\" class=\"dataframe\">\n",
       "  <thead>\n",
       "    <tr style=\"text-align: right;\">\n",
       "      <th></th>\n",
       "      <th>A</th>\n",
       "      <th>B</th>\n",
       "      <th>C</th>\n",
       "      <th>D</th>\n",
       "    </tr>\n",
       "  </thead>\n",
       "  <tbody>\n",
       "    <tr>\n",
       "      <th>0</th>\n",
       "      <td>ACGATCTTAAGTAAGCGGGGAAAATAATG</td>\n",
       "      <td>TTAAGTAAGCGGGGAAAATA</td>\n",
       "      <td>57706</td>\n",
       "      <td>AGCGGG</td>\n",
       "    </tr>\n",
       "    <tr>\n",
       "      <th>1</th>\n",
       "      <td>ACGATCTTAAGTAGACGCGGAAAATAATG</td>\n",
       "      <td>TTAAGTAGACGCGGAAAATA</td>\n",
       "      <td>613</td>\n",
       "      <td>GACGCG</td>\n",
       "    </tr>\n",
       "    <tr>\n",
       "      <th>2</th>\n",
       "      <td>ACGATCTTAAGTAAGCGCGGAAAATAATG</td>\n",
       "      <td>TTAAGTAAGCGCGGAAAATA</td>\n",
       "      <td>5313</td>\n",
       "      <td>AGCGCG</td>\n",
       "    </tr>\n",
       "    <tr>\n",
       "      <th>3</th>\n",
       "      <td>ACGATCTTAAGTAAACGAGGAAAATAATG</td>\n",
       "      <td>TTAAGTAAACGAGGAAAATA</td>\n",
       "      <td>19594</td>\n",
       "      <td>AACGAG</td>\n",
       "    </tr>\n",
       "    <tr>\n",
       "      <th>4</th>\n",
       "      <td>ACGATCTTAAGTAGGCGAGGAAAATAATG</td>\n",
       "      <td>TTAAGTAGGCGAGGAAAATA</td>\n",
       "      <td>33626</td>\n",
       "      <td>GGCGAG</td>\n",
       "    </tr>\n",
       "  </tbody>\n",
       "</table>\n",
       "</div>"
      ],
      "text/plain": [
       "                               A                     B      C       D\n",
       "0  ACGATCTTAAGTAAGCGGGGAAAATAATG  TTAAGTAAGCGGGGAAAATA  57706  AGCGGG\n",
       "1  ACGATCTTAAGTAGACGCGGAAAATAATG  TTAAGTAGACGCGGAAAATA    613  GACGCG\n",
       "2  ACGATCTTAAGTAAGCGCGGAAAATAATG  TTAAGTAAGCGCGGAAAATA   5313  AGCGCG\n",
       "3  ACGATCTTAAGTAAACGAGGAAAATAATG  TTAAGTAAACGAGGAAAATA  19594  AACGAG\n",
       "4  ACGATCTTAAGTAGGCGAGGAAAATAATG  TTAAGTAGGCGAGGAAAATA  33626  GGCGAG"
      ]
     },
     "execution_count": 2,
     "metadata": {},
     "output_type": "execute_result"
    }
   ],
   "source": [
    "# Data downloaded from https://github.com/synbiochem/opt-mva\n",
    "# Paper https://pubs.acs.org/doi/abs/10.1021/acssynbio.8b00398\n",
    "\n",
    "# A: whole RBS sequence (len: 29)\n",
    "# B: extracted 20-base RBS seqeunce (A[7:27], len: 20), training features\n",
    "# C: TIR labels\n",
    "# D: the design part RBS (B[7:13], len: 6) \n",
    "\n",
    "Path = '../data/RBS_seqs.csv'\n",
    "\n",
    "df = pd.read_csv(Path)\n",
    "df.columns = ['A', 'B', 'C']\n",
    "df['D'] = df['B'].str[7:13]\n",
    "df.head()"
   ]
  },
  {
   "cell_type": "code",
   "execution_count": 3,
   "metadata": {
    "collapsed": false
   },
   "outputs": [
    {
     "data": {
      "text/plain": [
       "(113, 4)"
      ]
     },
     "execution_count": 3,
     "metadata": {},
     "output_type": "execute_result"
    }
   ],
   "source": [
    "# drop the exact same record (same B and C)\n",
    "\n",
    "df = df.drop_duplicates(subset = ['B', 'C'])\n",
    "df.shape"
   ]
  },
  {
   "cell_type": "code",
   "execution_count": 4,
   "metadata": {
    "collapsed": false
   },
   "outputs": [
    {
     "data": {
      "text/plain": [
       "(array([ 59.,  18.,  14.,   5.,   4.,   1.,   5.,   3.,   1.,   3.]),\n",
       " array([   191. ,   8870.9,  17550.8,  26230.7,  34910.6,  43590.5,\n",
       "         52270.4,  60950.3,  69630.2,  78310.1,  86990. ]),\n",
       " <a list of 10 Patch objects>)"
      ]
     },
     "execution_count": 4,
     "metadata": {},
     "output_type": "execute_result"
    },
    {
     "data": {
      "image/png": "[encoded data removed]",
      "text/plain": [
       "<matplotlib.figure.Figure at 0x11427e128>"
      ]
     },
     "metadata": {},
     "output_type": "display_data"
    }
   ],
   "source": [
    "plt.hist(df['C'])"
   ]
  },
  {
   "cell_type": "code",
   "execution_count": 5,
   "metadata": {
    "collapsed": true
   },
   "outputs": [],
   "source": [
    "Log_flag = False # indicates whether take log label\n",
    "Norm_method = 'minmax' # indicates how to normalize label (one of 'mean', 'minmax', None)\n",
    "\n",
    "def normalize(df):\n",
    "    # take log FC -- possiblely provide Gaussain distribution?\n",
    "    if Log_flag:\n",
    "        df['C'] = np.log(df['C'])\n",
    "    if Norm_method == 'mean':\n",
    "        # mean normalization\n",
    "        df['C'] = (df['C'] - df['C'].mean())/df['C'].std()\n",
    "    elif Norm_method == 'minmax':\n",
    "        # min-max normalization \n",
    "        df['C'] = (df['C'] - df['C'].min())/(df['C'].max() - df['C'].min())\n",
    "    else:\n",
    "        assert Norm_method == None\n",
    "        \n",
    "    return df"
   ]
  },
  {
   "cell_type": "code",
   "execution_count": 6,
   "metadata": {
    "collapsed": false
   },
   "outputs": [
    {
     "data": {
      "text/plain": [
       "(113, 2)"
      ]
     },
     "execution_count": 6,
     "metadata": {},
     "output_type": "execute_result"
    }
   ],
   "source": [
    "# data6: num_data * 2, columns: [6-base RBS seq (D), TIR labels (C)]\n",
    "data6 = np.asarray(normalize(df)[['D', 'C']])\n",
    "data6.shape"
   ]
  },
  {
   "cell_type": "code",
   "execution_count": 7,
   "metadata": {
    "collapsed": false
   },
   "outputs": [
    {
     "data": {
      "text/plain": [
       "(113, 2)"
      ]
     },
     "execution_count": 7,
     "metadata": {},
     "output_type": "execute_result"
    }
   ],
   "source": [
    "# data: num_data * 2, columns: [20-base RBS seq (B), TIR labels (C)]\n",
    "data = np.asarray(normalize(df)[['B', 'C']])\n",
    "data.shape"
   ]
  },
  {
   "cell_type": "code",
   "execution_count": 8,
   "metadata": {
    "collapsed": false
   },
   "outputs": [
    {
     "data": {
      "text/plain": [
       "(array([ 59.,  18.,  14.,   5.,   4.,   1.,   5.,   3.,   1.,   3.]),\n",
       " array([ 0. ,  0.1,  0.2,  0.3,  0.4,  0.5,  0.6,  0.7,  0.8,  0.9,  1. ]),\n",
       " <a list of 10 Patch objects>)"
      ]
     },
     "execution_count": 8,
     "metadata": {},
     "output_type": "execute_result"
    },
    {
     "data": {
      "image/png": "[encoded data removed]",
      "text/plain": [
       "<matplotlib.figure.Figure at 0x114330400>"
      ]
     },
     "metadata": {},
     "output_type": "display_data"
    }
   ],
   "source": [
    "plt.hist(data[:,1])"
   ]
  },
  {
   "cell_type": "markdown",
   "metadata": {},
   "source": [
    "## Construct feature spaces\n",
    "\n",
    "We fix the part other the designing 6-base RBS, the 20-based RBS would be: 'TTTAAGA' + 6-base design + 'TATACAT'. The 6-base design has totally 4^6 = 4096 combinations. "
   ]
  },
  {
   "cell_type": "code",
   "execution_count": 9,
   "metadata": {
    "collapsed": true
   },
   "outputs": [],
   "source": [
    "# create all combos\n",
    "\n",
    "combos = [] # 20-base\n",
    "combos_6 = [] # 6-base\n",
    "labels = []\n",
    "char_sets = ['A', 'G', 'C', 'T']\n",
    "design_len = 6\n",
    "\n",
    "# to be changed\n",
    "pre_design = 'TTTAAGA'\n",
    "pos_design = 'TATACAT'\n",
    "\n",
    "for combo in product(char_sets, repeat= design_len):\n",
    "    combos_6.append(''.join(combo))\n",
    "    combo = pre_design + ''.join(combo) + pos_design\n",
    "    combos.append(combo)\n",
    "    labels.append(math.inf)\n",
    "    \n",
    "assert len(combos) == len(char_sets) ** design_len"
   ]
  },
  {
   "cell_type": "code",
   "execution_count": 10,
   "metadata": {
    "collapsed": true
   },
   "outputs": [],
   "source": [
    "todesign_data = np.asarray(list(zip(combos, labels))) # 20-base\n",
    "todesign6_data = np.asarray(list(zip(combos_6, labels))) # 6-base"
   ]
  },
  {
   "cell_type": "markdown",
   "metadata": {},
   "source": [
    "## Setting\n"
   ]
  },
  {
   "cell_type": "code",
   "execution_count": 11,
   "metadata": {
    "collapsed": true
   },
   "outputs": [],
   "source": [
    "embedding = 'label'\n",
    "# sum_spectrum_kernel_pw: spectrum kernels for [:7], [7:13], [13:] respectively\n",
    "kernel = [spectrum_kernel, sum_onehot_spectrum_kernel_pw]\n",
    "string_kernel_flag = True"
   ]
  },
  {
   "cell_type": "markdown",
   "metadata": {},
   "source": [
    "## Recommendations with GPUCB"
   ]
  },
  {
   "cell_type": "code",
   "execution_count": 12,
   "metadata": {
    "collapsed": false
   },
   "outputs": [
    {
     "name": "stderr",
     "output_type": "stream",
     "text": [
      "/Library/Frameworks/Python.framework/Versions/3.6/lib/python3.6/site-packages/sklearn/utils/validation.py:429: DataConversionWarning: Data with input dtype int64 was converted to float64 by the normalize function.\n",
      "  warnings.warn(msg, _DataConversionWarning)\n"
     ]
    },
    {
     "name": "stdout",
     "output_type": "stream",
     "text": [
      "[2382 2381 2380 3732 1940 2383 3988 2964  660 1684  916 2643 3076 2352  546\n",
      " 3276 3003 1911  819 3549 3822 2184 2820  772 3091 3844 1508 1476 1284 1364\n",
      " 1363 1358 1359 1357 1356 1339 1343 1329 1340 1331 1330 1334 1335 1342 1337\n",
      " 1341 1338 1332 1336 2724 4093 4092 2047 3071 2731 2729 2728 4094 1706 1023\n",
      "  682 3754 1328 2730 4095]\n"
     ]
    },
    {
     "data": {
      "image/png": "[encoded data removed]",
      "text/plain": [
       "<matplotlib.figure.Figure at 0x114ac3f28>"
      ]
     },
     "metadata": {},
     "output_type": "display_data"
    }
   ],
   "source": [
    "num_rounds = 1\n",
    "num_exper = 1\n",
    "num_rec = 65\n",
    "\n",
    "my_env = Rewards_env(data, embedding)\n",
    "new_env = Rewards_env(todesign_data, embedding)\n",
    "if string_kernel_flag:\n",
    "    agent = GPUCB(new_env, num_rounds, init_list = my_env.rewards_dict, num_rec = num_rec,\n",
    "              model = GaussianProcessRegressor(kernel = PairwiseKernel(metric = kernel[-1])))\n",
    "else:\n",
    "    agent = GPUCB(new_env, num_rounds, init_list = my_env.rewards_dict, num_rec = num_rec,\n",
    "              model = GaussianProcessRegressor(kernel = kernel[-1]))\n",
    "rec_arms = agent.play(label_avaiable = False)"
   ]
  },
  {
   "cell_type": "markdown",
   "metadata": {},
   "source": [
    "### Convert to RBS seq"
   ]
  },
  {
   "cell_type": "code",
   "execution_count": 13,
   "metadata": {
    "collapsed": true
   },
   "outputs": [],
   "source": [
    "bandit20_recs = todesign_data[np.asarray(rec_arms[-60:]),0]"
   ]
  },
  {
   "cell_type": "code",
   "execution_count": 36,
   "metadata": {
    "collapsed": false
   },
   "outputs": [
    {
     "data": {
      "text/plain": [
       "array(['TTTAAGACGGATTTATACAT', 'TTTAAGATTCGGATATACAT',\n",
       "       'TTTAAGACTCGGATATACAT', 'TTTAAGAACCGGATATACAT',\n",
       "       'TTTAAGAGCCGGATATACAT', 'TTTAAGAATCGGATATACAT',\n",
       "       'TTTAAGACCGGATTATACAT', 'TTTAAGATAAAGATATACAT',\n",
       "       'TTTAAGACGATAATATACAT', 'TTTAAGAACACACTATACAT',\n",
       "       'TTTAAGATATATATATACAT', 'TTTAAGACTCTCTTATACAT',\n",
       "       'TTTAAGAGTGTGTTATACAT', 'TTTAAGAATATATTATACAT',\n",
       "       'TTTAAGATGTGTGTATACAT', 'TTTAAGATCTCTCTATACAT',\n",
       "       'TTTAAGACACACATATACAT', 'TTTAAGACTAAGATATACAT',\n",
       "       'TTTAAGAATAAGATATACAT', 'TTTAAGATAAGATTATACAT',\n",
       "       'TTTAAGATTAAGATATACAT', 'TTTAAGAGGTCGATATACAT',\n",
       "       'TTTAAGAGGTAGATATACAT', 'TTTAAGAGGAAGATATACAT',\n",
       "       'TTTAAGAGGGGGATATACAT', 'TTTAAGAGGGGATTATACAT',\n",
       "       'TTTAAGAGGGATCTATACAT', 'TTTAAGAGGGATTTATACAT',\n",
       "       'TTTAAGAGGGATGTATACAT', 'TTTAAGAGGGATATATACAT',\n",
       "       'TTTAAGAGGATCTTATACAT', 'TTTAAGAGGATTTTATACAT',\n",
       "       'TTTAAGAGGATAGTATACAT', 'TTTAAGAGGATTATATACAT',\n",
       "       'TTTAAGAGGATATTATACAT', 'TTTAAGAGGATACTATACAT',\n",
       "       'TTTAAGAGGATGCTATACAT', 'TTTAAGAGGATGTTATACAT',\n",
       "       'TTTAAGAGGATTCTATACAT', 'TTTAAGAGGATCGTATACAT',\n",
       "       'TTTAAGAGGATTGTATACAT', 'TTTAAGAGGATCCTATACAT',\n",
       "       'TTTAAGAGGATGATATACAT', 'TTTAAGAGGATCATATACAT',\n",
       "       'TTTAAGACCCCGATATACAT', 'TTTAAGATTTTTGTATACAT',\n",
       "       'TTTAAGATTTTTATATACAT', 'TTTAAGAGTTTTTTATACAT',\n",
       "       'TTTAAGACTTTTTTATACAT', 'TTTAAGACCCCCTTATACAT',\n",
       "       'TTTAAGACCCCCGTATACAT', 'TTTAAGACCCCCATATACAT',\n",
       "       'TTTAAGATTTTTCTATACAT', 'TTTAAGAGCCCCCTATACAT',\n",
       "       'TTTAAGAATTTTTTATACAT', 'TTTAAGAACCCCCTATACAT',\n",
       "       'TTTAAGATCCCCCTATACAT', 'TTTAAGAGGATAATATACAT',\n",
       "       'TTTAAGACCCCCCTATACAT', 'TTTAAGATTTTTTTATACAT'], \n",
       "      dtype='<U20')"
      ]
     },
     "execution_count": 36,
     "metadata": {},
     "output_type": "execute_result"
    }
   ],
   "source": [
    "bandit20_recs"
   ]
  },
  {
   "cell_type": "markdown",
   "metadata": {},
   "source": [
    "### Detect Repeated Recs"
   ]
  },
  {
   "cell_type": "code",
   "execution_count": 17,
   "metadata": {
    "collapsed": false
   },
   "outputs": [],
   "source": [
    "rbs1by1seq = pd.read_csv('../data/1by1_recs.csv')\n",
    "rbs1by1 = np.asarray(rbs1by1seq['1by1'].str.upper())"
   ]
  },
  {
   "cell_type": "code",
   "execution_count": 18,
   "metadata": {
    "collapsed": true
   },
   "outputs": [],
   "source": [
    "random_recs = pd.read_csv('../data/random_recs.csv')\n",
    "random = np.asarray(random_recs['uniform'].append(random_recs['ppm']))\n",
    "random_recs = []\n",
    "for i in random:\n",
    "    random_recs.append(pre_design + i + pos_design)"
   ]
  },
  {
   "cell_type": "code",
   "execution_count": 19,
   "metadata": {
    "collapsed": true
   },
   "outputs": [],
   "source": [
    "def common_member(a, b): \n",
    "    assert len(a[0]) == len(b[0]) \n",
    "      \n",
    "    a_set = set(a) \n",
    "    b_set = set(b) \n",
    "      \n",
    "    # check length  \n",
    "    if len(a_set.intersection(b_set)) > 0: \n",
    "        return(a_set.intersection(b_set))   \n",
    "    else: \n",
    "        return(\"no common elements\") "
   ]
  },
  {
   "cell_type": "code",
   "execution_count": 20,
   "metadata": {
    "collapsed": false
   },
   "outputs": [
    {
     "data": {
      "text/plain": [
       "'no common elements'"
      ]
     },
     "execution_count": 20,
     "metadata": {},
     "output_type": "execute_result"
    }
   ],
   "source": [
    "common_member(rbs1by1, bandit20_recs)"
   ]
  },
  {
   "cell_type": "code",
   "execution_count": 21,
   "metadata": {
    "collapsed": false
   },
   "outputs": [
    {
     "data": {
      "text/plain": [
       "'no common elements'"
      ]
     },
     "execution_count": 21,
     "metadata": {},
     "output_type": "execute_result"
    }
   ],
   "source": [
    "bandit_drop = common_member(random_recs, bandit20_recs)\n",
    "bandit_drop"
   ]
  },
  {
   "cell_type": "code",
   "execution_count": 22,
   "metadata": {
    "collapsed": true
   },
   "outputs": [],
   "source": [
    "if type(bandit_drop) is set:\n",
    "    bandit20_recs = list(bandit20_recs)\n",
    "    for i in bandit_drop:\n",
    "        print(i)\n",
    "        bandit20_recs.remove(i)\n",
    "        \n",
    "    bandit20_recs.extend(todesign_data[np.asarray(rec_arms[60: 60 + len(bandit_drop)]),0])\n",
    "    assert common_member(random_recs, bandit20_recs) == 'no common elements'\n",
    "    assert len(bandit20_recs) == 60"
   ]
  },
  {
   "cell_type": "markdown",
   "metadata": {},
   "source": [
    "### Write into csv file"
   ]
  },
  {
   "cell_type": "code",
   "execution_count": 23,
   "metadata": {
    "collapsed": true
   },
   "outputs": [],
   "source": [
    "recs = pd.DataFrame(bandit20_recs, columns = ['bandit'])\n",
    "recs.index += 1\n",
    "recs.to_csv('../data/bandit_recs.csv')"
   ]
  },
  {
   "cell_type": "markdown",
   "metadata": {},
   "source": [
    "#### Sanity test of idx consistency"
   ]
  },
  {
   "cell_type": "code",
   "execution_count": 24,
   "metadata": {
    "collapsed": false
   },
   "outputs": [
    {
     "name": "stdout",
     "output_type": "stream",
     "text": [
      "Recommned index is consistent of the todesign_data index.\n"
     ]
    }
   ],
   "source": [
    "label_seqs = np.asarray(new_env.arm_features)[np.asarray(rec_arms)]\n",
    "label_dict = {'0': 'A',\n",
    "              '1': 'C',\n",
    "              '2': 'G',\n",
    "              '3': 'T'}\n",
    "\n",
    "rbs_seqs = []\n",
    "\n",
    "for seq in label_seqs:\n",
    "    rbs_seq = []\n",
    "    for i in range(int(len(seq))):\n",
    "        start = i \n",
    "        end = start + 1\n",
    "        s = seq[start:end]\n",
    "        rbs_seq.append(label_dict[s])\n",
    "    rbs_seq = ''.join(rbs_seq)\n",
    "    rbs_seqs.append(rbs_seq)\n",
    "\n",
    "for i in range(len(rec_arms)):\n",
    "    assert rbs_seqs[i] == todesign_data[rec_arms[i], 0] \n",
    "    \n",
    "print('Recommned index is consistent of the todesign_data index.')"
   ]
  },
  {
   "cell_type": "markdown",
   "metadata": {},
   "source": [
    "### Plot kernel matrix "
   ]
  },
  {
   "cell_type": "code",
   "execution_count": 25,
   "metadata": {
    "collapsed": false
   },
   "outputs": [
    {
     "name": "stdout",
     "output_type": "stream",
     "text": [
      "[[ 0.          0.          0.         ...,  0.          0.          0.        ]\n",
      " [ 0.          0.          0.         ...,  0.          0.          0.        ]\n",
      " [ 0.          0.          0.         ...,  0.          0.          0.        ]\n",
      " ..., \n",
      " [ 0.          0.          0.         ...,  0.          0.31622777\n",
      "   0.9486833 ]\n",
      " [ 0.          0.          0.         ...,  0.31622777  0.          0.9486833 ]\n",
      " [ 0.          0.          0.         ...,  0.          0.          1.        ]]\n",
      "[[ 0.          0.          0.         ...,  0.          0.          0.        ]\n",
      " [ 0.          0.          0.         ...,  0.          0.          0.        ]\n",
      " [ 0.          0.          0.         ...,  0.          0.          0.        ]\n",
      " ..., \n",
      " [ 0.          0.          0.         ...,  0.          0.31622777  0.        ]\n",
      " [ 0.          0.          0.         ...,  0.31622777  0.          0.        ]\n",
      " [ 0.          0.          0.         ...,  0.9486833   0.9486833   1.        ]]\n"
     ]
    },
    {
     "name": "stderr",
     "output_type": "stream",
     "text": [
      "/Library/Frameworks/Python.framework/Versions/3.6/lib/python3.6/site-packages/sklearn/utils/validation.py:429: DataConversionWarning: Data with input dtype int64 was converted to float64 by the normalize function.\n",
      "  warnings.warn(msg, _DataConversionWarning)\n"
     ]
    }
   ],
   "source": [
    "# use 6-base seuqence for kernel matrix\n",
    "all_data = np.concatenate((data6, todesign6_data)) # both the observed and todeisign data\n",
    "all_env = Rewards_env(all_data, embedding)\n",
    "if len(kernel) == 1:\n",
    "    kernel_matrix = kernel[0].__call__(all_env.embedded)\n",
    "else: # string kernels\n",
    "    kernel_matrix = kernel[0](all_data[:,0])"
   ]
  },
  {
   "cell_type": "code",
   "execution_count": 26,
   "metadata": {
    "collapsed": false
   },
   "outputs": [
    {
     "data": {
      "text/plain": [
       "array([[ 1.        ,  0.25      ,  0.61237244, ...,  0.        ,\n",
       "         0.        ,  0.        ],\n",
       "       [ 0.25      ,  1.        ,  0.61237244, ...,  0.        ,\n",
       "         0.        ,  0.        ],\n",
       "       [ 0.61237244,  0.61237244,  1.        , ...,  0.        ,\n",
       "         0.        ,  0.        ],\n",
       "       ..., \n",
       "       [ 0.        ,  0.        ,  0.        , ...,  1.        ,\n",
       "         0.9       ,  0.9486833 ],\n",
       "       [ 0.        ,  0.        ,  0.        , ...,  0.9       ,\n",
       "         1.        ,  0.9486833 ],\n",
       "       [ 0.        ,  0.        ,  0.        , ...,  0.9486833 ,\n",
       "         0.9486833 ,  1.        ]])"
      ]
     },
     "execution_count": 26,
     "metadata": {},
     "output_type": "execute_result"
    }
   ],
   "source": [
    "kernel_matrix"
   ]
  },
  {
   "cell_type": "code",
   "execution_count": 27,
   "metadata": {
    "collapsed": false
   },
   "outputs": [
    {
     "data": {
      "text/plain": [
       "<matplotlib.text.Text at 0x11648e208>"
      ]
     },
     "execution_count": 27,
     "metadata": {},
     "output_type": "execute_result"
    },
    {
     "data": {
      "image/png": "[encoded data removed]",
      "text/plain": [
       "<matplotlib.figure.Figure at 0x115681860>"
      ]
     },
     "metadata": {},
     "output_type": "display_data"
    }
   ],
   "source": [
    "plt.imshow(kernel_matrix, cmap = 'hot', interpolation='nearest')\n",
    "#plt.imshow(sorted_new_kernel_matrix, cmap = 'hot')\n",
    "plt.colorbar()\n",
    "plt.title('spectrum kernel')\n",
    "#plt.savefig('../plots/dotproduct_sorted_kernel.png')"
   ]
  },
  {
   "cell_type": "code",
   "execution_count": 28,
   "metadata": {
    "collapsed": true
   },
   "outputs": [],
   "source": [
    "new_kernel_matrix = kernel_matrix[113:, 113:] # only the todesign feature spaces"
   ]
  },
  {
   "cell_type": "markdown",
   "metadata": {},
   "source": [
    "## Similarity Test\n",
    "\n",
    "We expect that for similar arms, the predictor gives similar predictions. The above plot cannot show the similarity relationship between arm. So we design several experiments to show the similarity between arms and corresponding predictions. \n",
    "\n",
    "#### The goals are two folds: \n",
    "1. Understand how well the predictor works by showing the predictions for arms with similarity information. A good predictor should be able to predict similar labels for similar arms.\n",
    "2. Explore the similarities of the recommended arms. If the top arms are similar to each other, then they are all from the same cluster, which is not a good way to suggest 60 arms. If they form 5-6 clusters, then this means you will see blocks in the kernel matrix, which is good.\n",
    "\n",
    "#### The ways to explore similarities:  \n",
    "\n",
    "A. sort the arm indexes in terms of the \n",
    "- A1) predictions (mu) \n",
    "- A2) the UCB (mu + sigma)\n",
    "- A3) the confidence width (sigma)  respectively, then sort the kernel matrix in the same order.\n",
    "\n",
    "Then we can analyze for similar scores (A1), whether the arms have high similarities. Furthermore, we can analyze the similarities for recommended arms (A2 with top 60). \n",
    "\n",
    "B. Using the distance (l2 norm) between every single point to the average one as x-axis, the difference between labels of every point to the averaged label as the y-axis. Then sorted the arm based on the distance of arms, then we expect the higher than the distance of arms, the higher the difference between labels.\n",
    "\n",
    "C. Using PCA to project the similarity matrix into one/two dimensions. Then use the weight as the x-axis and the corresponding label as the y-axis. Sorted based on the x-axis. Similarly, we expected the neighboring arms have similar labels.\n",
    "\n",
    "D. Calculate the determinant for the kernel matrix, which reflects the volume of arms. The lower the volume, the higher the similarities. "
   ]
  },
  {
   "cell_type": "markdown",
   "metadata": {},
   "source": [
    "### A. sorting by labels\n",
    "\n",
    "#### A1. sorting by mu"
   ]
  },
  {
   "cell_type": "code",
   "execution_count": 29,
   "metadata": {
    "collapsed": false
   },
   "outputs": [
    {
     "data": {
      "text/plain": [
       "<matplotlib.legend.Legend at 0x114ad2eb8>"
      ]
     },
     "execution_count": 29,
     "metadata": {},
     "output_type": "execute_result"
    },
    {
     "data": {
      "image/png": "[encoded data removed]",
      "text/plain": [
       "<matplotlib.figure.Figure at 0x1165168d0>"
      ]
     },
     "metadata": {},
     "output_type": "display_data"
    }
   ],
   "source": [
    "sorted_idx = np.asarray(sorted(range(len(agent.mu)), key=lambda k: (agent.mu)[k]))\n",
    "plt.plot(range(len(agent.mu))[::100], agent.mu[sorted_idx][::100], label = 'mu')\n",
    "plt.plot(range(len(agent.mu))[::100], (agent.mu + agent.sigma)[sorted_idx][::100], label = 'mu + sigma')\n",
    "plt.ylabel('label')\n",
    "#plt.xlim([3800,4096])\n",
    "plt.legend()"
   ]
  },
  {
   "cell_type": "code",
   "execution_count": 30,
   "metadata": {
    "collapsed": false
   },
   "outputs": [
    {
     "data": {
      "text/plain": [
       "<matplotlib.text.Text at 0x114676898>"
      ]
     },
     "execution_count": 30,
     "metadata": {},
     "output_type": "execute_result"
    },
    {
     "data": {
      "image/png": "[encoded data removed]",
      "text/plain": [
       "<matplotlib.figure.Figure at 0x1145b8828>"
      ]
     },
     "metadata": {},
     "output_type": "display_data"
    }
   ],
   "source": [
    "sorted_new_kernel_matrix = new_kernel_matrix[sorted_idx, :][:, sorted_idx]\n",
    "plt.imshow(sorted_new_kernel_matrix, cmap = 'hot')\n",
    "plt.colorbar()\n",
    "plt.title('spectrum sorted kernel')\n",
    "#plt.savefig('../plots/dotproduct_sorted_kernel.png')"
   ]
  },
  {
   "cell_type": "code",
   "execution_count": 31,
   "metadata": {
    "collapsed": false
   },
   "outputs": [
    {
     "data": {
      "text/plain": [
       "<matplotlib.text.Text at 0x116155dd8>"
      ]
     },
     "execution_count": 31,
     "metadata": {},
     "output_type": "execute_result"
    },
    {
     "data": {
      "image/png": "[encoded data removed]",
      "text/plain": [
       "<matplotlib.figure.Figure at 0x116030908>"
      ]
     },
     "metadata": {},
     "output_type": "display_data"
    }
   ],
   "source": [
    "plt.imshow(sorted_new_kernel_matrix[-60:, -60:], cmap = 'hot')\n",
    "plt.colorbar()\n",
    "plt.title('spectrum sorted kernel Top 60')\n",
    "#plt.savefig('../plots/dotproduct_sorted_kernel.png')"
   ]
  },
  {
   "cell_type": "markdown",
   "metadata": {},
   "source": [
    "#### A2. sorting by ucb (mu + sigma)"
   ]
  },
  {
   "cell_type": "code",
   "execution_count": 32,
   "metadata": {
    "collapsed": true
   },
   "outputs": [],
   "source": [
    "sorted_idx = np.asarray(sorted(range(len(agent.mu + agent.sigma)), key=lambda k: (agent.mu + agent.sigma)[k]))\n",
    "sorted_new_kernel_matrix = new_kernel_matrix[sorted_idx, :][:, sorted_idx]"
   ]
  },
  {
   "cell_type": "code",
   "execution_count": 33,
   "metadata": {
    "collapsed": false
   },
   "outputs": [
    {
     "data": {
      "text/plain": [
       "<matplotlib.legend.Legend at 0x13a977a90>"
      ]
     },
     "execution_count": 33,
     "metadata": {},
     "output_type": "execute_result"
    },
    {
     "data": {
      "image/png": "[encoded data removed]",
      "text/plain": [
       "<matplotlib.figure.Figure at 0x116258128>"
      ]
     },
     "metadata": {},
     "output_type": "display_data"
    }
   ],
   "source": [
    "plt.plot(range(len(agent.mu))[::100], agent.mu[sorted_idx][::100], label = 'mu')\n",
    "plt.plot(range(len(agent.mu))[::100], (agent.mu + agent.sigma)[sorted_idx][::100], label = 'mu + sigma')\n",
    "plt.ylabel('label')\n",
    "#plt.xlim([3800,4096])\n",
    "plt.legend()"
   ]
  },
  {
   "cell_type": "code",
   "execution_count": 34,
   "metadata": {
    "collapsed": false
   },
   "outputs": [
    {
     "data": {
      "text/plain": [
       "<matplotlib.text.Text at 0x13a9d15c0>"
      ]
     },
     "execution_count": 34,
     "metadata": {},
     "output_type": "execute_result"
    },
    {
     "data": {
      "image/png": "[encoded data removed]",
      "text/plain": [
       "<matplotlib.figure.Figure at 0x1161372b0>"
      ]
     },
     "metadata": {},
     "output_type": "display_data"
    }
   ],
   "source": [
    "#plt.imshow(kernel_matrix, cmap = 'hot', interpolation='nearest')\n",
    "plt.imshow(sorted_new_kernel_matrix[-60:,-60:], cmap = 'hot')\n",
    "plt.colorbar()\n",
    "plt.title('spectrum sorted rec kernel Top 60')\n",
    "#plt.savefig('../plots/dotproduct_sorted_rec_kernel.png')"
   ]
  },
  {
   "cell_type": "markdown",
   "metadata": {},
   "source": [
    "### B. Soring by distance to center one"
   ]
  },
  {
   "cell_type": "code",
   "execution_count": null,
   "metadata": {
    "collapsed": true
   },
   "outputs": [],
   "source": [
    "distances = []\n",
    "center = np.mean(kernel_matrix, axis = 0)\n",
    "for i, row in enumerate(kernel_matrix):\n",
    "    distance = np.linalg.norm(row - center) ** 2/ len(row)\n",
    "    distances.append(distance)"
   ]
  },
  {
   "cell_type": "code",
   "execution_count": null,
   "metadata": {
    "collapsed": true
   },
   "outputs": [],
   "source": [
    "sorted_idx = np.asarray(sorted(range(len(distances)), key=lambda k: (distances)[k]))\n",
    "\n",
    "sorted_distances = np.asarray(distances)[np.asarray(sorted_idx)]\n",
    "\n",
    "labels = list(data[:, 1])+ list(agent.mu)\n",
    "sorted_labels = np.asarray(labels)[np.asarray(sorted_idx)]"
   ]
  },
  {
   "cell_type": "code",
   "execution_count": null,
   "metadata": {
    "collapsed": false
   },
   "outputs": [],
   "source": [
    "plt.scatter(sorted_distances, abs(sorted_labels - np.mean(labels)), alpha = 0.5)\n",
    "plt.xlabel('sorted distances')\n",
    "plt.ylabel('|labels - mean|')"
   ]
  },
  {
   "cell_type": "markdown",
   "metadata": {},
   "source": [
    "#### A3. sorting by PCA weights"
   ]
  },
  {
   "cell_type": "code",
   "execution_count": null,
   "metadata": {
    "collapsed": false
   },
   "outputs": [],
   "source": [
    "from sklearn.decomposition import PCA\n",
    "\n",
    "pca = PCA(n_components = 1)\n",
    "embedded = pca.fit_transform(kernel_matrix)\n",
    "embedded.shape"
   ]
  },
  {
   "cell_type": "code",
   "execution_count": null,
   "metadata": {
    "collapsed": false
   },
   "outputs": [],
   "source": [
    "plt.scatter(embedded, labels, alpha = 0.5)\n",
    "plt.xlabel('embedded idx')\n",
    "plt.ylabel('labels')\n",
    "plt.title('Sort by PCA')"
   ]
  },
  {
   "cell_type": "markdown",
   "metadata": {},
   "source": [
    "#### A.4 Determinant"
   ]
  },
  {
   "cell_type": "code",
   "execution_count": null,
   "metadata": {
    "collapsed": false
   },
   "outputs": [],
   "source": [
    "np.linalg.det(kernel_matrix[-60:, -60:])"
   ]
  },
  {
   "cell_type": "markdown",
   "metadata": {},
   "source": [
    "### Save into file"
   ]
  },
  {
   "cell_type": "code",
   "execution_count": null,
   "metadata": {
    "collapsed": true
   },
   "outputs": [],
   "source": [
    "import pickle\n",
    "\n",
    "with open('sum_spectrum.pickle', 'wb') as handle:\n",
    "    pickle.dump((agent, kernel_matrix, embedded, all_data), handle, protocol=pickle.HIGHEST_PROTOCOL)"
   ]
  },
  {
   "cell_type": "code",
   "execution_count": null,
   "metadata": {
    "collapsed": true
   },
   "outputs": [],
   "source": []
  }
 ],
 "metadata": {
  "kernelspec": {
   "display_name": "Python 3",
   "language": "python",
   "name": "python3"
  },
  "language_info": {
   "codemirror_mode": {
    "name": "ipython",
    "version": 3
   },
   "file_extension": ".py",
   "mimetype": "text/x-python",
   "name": "python",
   "nbconvert_exporter": "python",
   "pygments_lexer": "ipython3",
   "version": "3.6.0"
  }
 },
 "nbformat": 4,
 "nbformat_minor": 2
}

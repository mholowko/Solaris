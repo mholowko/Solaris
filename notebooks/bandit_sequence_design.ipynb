{
 "cells": [
  {
   "cell_type": "markdown",
   "metadata": {},
   "source": [
    "# Bandit Sequence Design\n",
    "\n",
    "Design 60 6-base RBS sequences based on the bandit recommendations."
   ]
  },
  {
   "cell_type": "code",
   "execution_count": 1,
   "metadata": {},
   "outputs": [],
   "source": [
    "# direct to proper path\n",
    "import os\n",
    "import sys\n",
    "module_path = os.path.abspath(os.path.join('..'))\n",
    "if module_path not in sys.path:\n",
    "    sys.path.append(module_path)\n",
    "    \n",
    "import numpy as np\n",
    "\n",
    "import pandas as pd\n",
    "import matplotlib.pyplot as plt\n",
    "import itertools\n",
    "from collections import defaultdict\n",
    "\n",
    "from codes.embedding import Embedding\n",
    "from codes.environment import Rewards_env\n",
    "from codes.ucb import GPUCB, Random\n",
    "from codes.evaluations import evaluate, plot_eva\n",
    "from codes.regression import Regression\n",
    "from codes.kernels import spectrum_kernel\n",
    "from codes.kernels_pairwise import spectrum_kernel_pw, mixed_spectrum_kernel_pw, WD_kernel_pw, WD_shift_kernel_pw\n",
    "\n",
    "from sklearn.gaussian_process import GaussianProcessRegressor\n",
    "from sklearn.gaussian_process.kernels import PairwiseKernel, DotProduct, RBF \n",
    "from sklearn.kernel_ridge import KernelRidge\n",
    "\n",
    "from ipywidgets import IntProgress\n",
    "from IPython.display import display\n",
    "import warnings\n",
    "%matplotlib inline"
   ]
  },
  {
   "cell_type": "markdown",
   "metadata": {},
   "source": [
    "## Reading Dataset"
   ]
  },
  {
   "cell_type": "code",
   "execution_count": 2,
   "metadata": {},
   "outputs": [
    {
     "data": {
      "text/html": [
       "<div>\n",
       "<style scoped>\n",
       "    .dataframe tbody tr th:only-of-type {\n",
       "        vertical-align: middle;\n",
       "    }\n",
       "\n",
       "    .dataframe tbody tr th {\n",
       "        vertical-align: top;\n",
       "    }\n",
       "\n",
       "    .dataframe thead th {\n",
       "        text-align: right;\n",
       "    }\n",
       "</style>\n",
       "<table border=\"1\" class=\"dataframe\">\n",
       "  <thead>\n",
       "    <tr style=\"text-align: right;\">\n",
       "      <th></th>\n",
       "      <th>A</th>\n",
       "      <th>B</th>\n",
       "      <th>C</th>\n",
       "      <th>D</th>\n",
       "      <th>E</th>\n",
       "      <th>F</th>\n",
       "    </tr>\n",
       "  </thead>\n",
       "  <tbody>\n",
       "    <tr>\n",
       "      <th>0</th>\n",
       "      <td>ACGATCTTAAGTAAGCGGGGAAAATAATG</td>\n",
       "      <td>AAGTAAGCGGGGA</td>\n",
       "      <td>57706.0</td>\n",
       "      <td>NaN</td>\n",
       "      <td>AAGTAAGCGGGGA</td>\n",
       "      <td>57706.0</td>\n",
       "    </tr>\n",
       "    <tr>\n",
       "      <th>1</th>\n",
       "      <td>ACGATCTTAAGTAGACGCGGAAAATAATG</td>\n",
       "      <td>AAGTAGACGCGGA</td>\n",
       "      <td>613.0</td>\n",
       "      <td>NaN</td>\n",
       "      <td>AAGTAGACGCGGA</td>\n",
       "      <td>613.0</td>\n",
       "    </tr>\n",
       "    <tr>\n",
       "      <th>2</th>\n",
       "      <td>ACGATCTTAAGTAAGCGCGGAAAATAATG</td>\n",
       "      <td>AAGTAAGCGCGGA</td>\n",
       "      <td>5313.0</td>\n",
       "      <td>NaN</td>\n",
       "      <td>AAGTAAGCGCGGA</td>\n",
       "      <td>5313.0</td>\n",
       "    </tr>\n",
       "    <tr>\n",
       "      <th>3</th>\n",
       "      <td>ACGATCTTAAGTAAACGAGGAAAATAATG</td>\n",
       "      <td>AAGTAAACGAGGA</td>\n",
       "      <td>19594.0</td>\n",
       "      <td>NaN</td>\n",
       "      <td>AAGTAAACGAGGA</td>\n",
       "      <td>19594.0</td>\n",
       "    </tr>\n",
       "    <tr>\n",
       "      <th>4</th>\n",
       "      <td>ACGATCTTAAGTAGGCGAGGAAAATAATG</td>\n",
       "      <td>AAGTAGGCGAGGA</td>\n",
       "      <td>33626.0</td>\n",
       "      <td>NaN</td>\n",
       "      <td>AAGTAGGCGAGGA</td>\n",
       "      <td>33626.0</td>\n",
       "    </tr>\n",
       "  </tbody>\n",
       "</table>\n",
       "</div>"
      ],
      "text/plain": [
       "                               A              B        C   D              E  \\\n",
       "0  ACGATCTTAAGTAAGCGGGGAAAATAATG  AAGTAAGCGGGGA  57706.0 NaN  AAGTAAGCGGGGA   \n",
       "1  ACGATCTTAAGTAGACGCGGAAAATAATG  AAGTAGACGCGGA    613.0 NaN  AAGTAGACGCGGA   \n",
       "2  ACGATCTTAAGTAAGCGCGGAAAATAATG  AAGTAAGCGCGGA   5313.0 NaN  AAGTAAGCGCGGA   \n",
       "3  ACGATCTTAAGTAAACGAGGAAAATAATG  AAGTAAACGAGGA  19594.0 NaN  AAGTAAACGAGGA   \n",
       "4  ACGATCTTAAGTAGGCGAGGAAAATAATG  AAGTAGGCGAGGA  33626.0 NaN  AAGTAGGCGAGGA   \n",
       "\n",
       "         F  \n",
       "0  57706.0  \n",
       "1    613.0  \n",
       "2   5313.0  \n",
       "3  19594.0  \n",
       "4  33626.0  "
      ]
     },
     "execution_count": 2,
     "metadata": {},
     "output_type": "execute_result"
    }
   ],
   "source": [
    "# Data downloaded from https://github.com/synbiochem/opt-mva\n",
    "# Paper https://pubs.acs.org/doi/abs/10.1021/acssynbio.8b00398\n",
    "\n",
    "Path = '../data/RBS_list.xlsx'\n",
    "\n",
    "df = pd.read_excel(Path, sheet_name='Unique RBS')\n",
    "df.columns = ['A', 'B', 'C', 'D', 'E', 'F']\n",
    "df.head()"
   ]
  },
  {
   "cell_type": "code",
   "execution_count": 3,
   "metadata": {},
   "outputs": [
    {
     "data": {
      "text/plain": [
       "(113, 6)"
      ]
     },
     "execution_count": 3,
     "metadata": {},
     "output_type": "execute_result"
    }
   ],
   "source": [
    "df = df.drop_duplicates(subset = ['B', 'C'])\n",
    "df.shape"
   ]
  },
  {
   "cell_type": "code",
   "execution_count": 4,
   "metadata": {},
   "outputs": [],
   "source": [
    "Log_flag = False # indicates whether take log label\n",
    "Norm_method = 'minmax' # indicates how to normalize label (one of 'mean', 'minmax', None)\n",
    "\n",
    "def normalize(df):\n",
    "    # take log FC -- possiblely provide Gaussain distribution?\n",
    "    if Log_flag:\n",
    "        df['C'] = np.log(df['C'])\n",
    "    if Norm_method == 'mean':\n",
    "        # mean normalization\n",
    "        df['C'] = (df['C'] - df['C'].mean())/df['C'].std()\n",
    "    elif Norm_method == 'minmax':\n",
    "        # min-max normalization \n",
    "        df['C'] = (df['C'] - df['C'].min())/(df['C'].max() - df['C'].min())\n",
    "    else:\n",
    "        assert Norm_method == None\n",
    "        \n",
    "    return df"
   ]
  },
  {
   "cell_type": "code",
   "execution_count": 5,
   "metadata": {},
   "outputs": [
    {
     "data": {
      "text/plain": [
       "(113, 2)"
      ]
     },
     "execution_count": 5,
     "metadata": {},
     "output_type": "execute_result"
    }
   ],
   "source": [
    "data = np.asarray(normalize(df)[['B', 'C']])\n",
    "data.shape"
   ]
  },
  {
   "cell_type": "markdown",
   "metadata": {},
   "source": [
    "## Construct feature spaces\n",
    "\n",
    "would be 'AAGT' + 6-base + 'GGA' \n",
    "\n",
    "@Maciej: to determine the seq other than the 6-base."
   ]
  },
  {
   "cell_type": "code",
   "execution_count": 6,
   "metadata": {},
   "outputs": [],
   "source": [
    "# create all combos\n",
    "from itertools import product\n",
    "import math\n",
    "\n",
    "combos = []\n",
    "labels = []\n",
    "char_sets = ['A', 'G', 'C', 'T']\n",
    "design_len = 6\n",
    "\n",
    "# to be changed\n",
    "pre_design = 'AAGT'\n",
    "pos_design = 'GGA'\n",
    "\n",
    "for combo in product(char_sets, repeat= design_len):\n",
    "    combo = pre_design + ''.join(combo) + pos_design\n",
    "    combos.append(combo)\n",
    "    labels.append(math.inf)\n",
    "    \n",
    "assert len(combos) == len(char_sets) ** design_len"
   ]
  },
  {
   "cell_type": "code",
   "execution_count": 7,
   "metadata": {},
   "outputs": [],
   "source": [
    "todesign_data = np.asarray(list(zip(combos, labels)))"
   ]
  },
  {
   "cell_type": "markdown",
   "metadata": {},
   "source": [
    "## Recommendations with GPUCB"
   ]
  },
  {
   "cell_type": "code",
   "execution_count": 9,
   "metadata": {},
   "outputs": [
    {
     "name": "stdout",
     "output_type": "stream",
     "text": [
      "Cannot find idx for  0001100010000010001010000010001000011000100001000010\n",
      "Cannot find idx for  0001100010000010001010000010001000101000100001000010\n",
      "Cannot find idx for  0001100010000010001010000010001010001000100001000010\n",
      "Cannot find idx for  0001100010000010001010000100001000011000100001000010\n",
      "Cannot find idx for  0001100010000010001010000100001000101000100001000010\n",
      "Cannot find idx for  0001100010000010001010000100001010001000100001000010\n",
      "Cannot find idx for  0001100010000010001010001000001000011000100001000010\n",
      "Cannot find idx for  0001100010000010001010001000001000101000100001000010\n",
      "Cannot find idx for  0001100010000010001010001000001010001000100001000010\n",
      "Cannot find idx for  0100100000010100000110001000001000100010001000100010\n",
      "Cannot find idx for  0100100000010100000110001000001000100010001000100100\n",
      "Cannot find idx for  0100100000010100000110001000001000100010001000101000\n",
      "Cannot find idx for  0100100000010100000110001000001000100010010000100010\n",
      "Cannot find idx for  0100100000010100000110001000001000100010010000100100\n",
      "Cannot find idx for  0100100000010100000110001000001000100010010000101000\n",
      "Cannot find idx for  0100100000010100000110001000001010000010001000100010\n",
      "Cannot find idx for  0100100000010100000110001000001010000010001000100100\n",
      "Cannot find idx for  0100100000010100000110001000001010000010001000101000\n",
      "Cannot find idx for  0100100000010100000110001000001010000010010000100010\n",
      "Cannot find idx for  0100100000010100000110001000001010000010010000100100\n",
      "Cannot find idx for  0100100000010100000110001000001010000010010000101000\n",
      "Cannot find idx for  0100100001000010000100101000001000101000001000100100\n",
      "Cannot find idx for  0100100001000010000100101000001000101000001000101000\n",
      "Cannot find idx for  0100100001000010000100101000010000101000001000100100\n",
      "Cannot find idx for  0100100001000010000100101000010000101000001000101000\n",
      "Cannot find idx for  0100100001000010010000101000001000101000001000101000\n",
      "Cannot find idx for  0100100001000010010000101000010000101000001000100100\n",
      "Cannot find idx for  0100100001000010100000101000001000101000001000100100\n",
      "Cannot find idx for  0100100001000010100000101000001000101000001000101000\n",
      "Cannot find idx for  0100100001000010100000101000010000101000001000100100\n",
      "Cannot find idx for  0100100001000010100000101000010000101000001000101000\n",
      "Cannot find idx for  0100100010001000000100010010001000101000001000100001\n",
      "Cannot find idx for  0100100010001000000100010010001000101000001000100100\n",
      "Cannot find idx for  0100100010001000000100010010001000101000001000101000\n",
      "Cannot find idx for  0100100010001000000110000010001000101000001000100001\n",
      "Cannot find idx for  0100100010001000000110000010001000101000001000100100\n",
      "Cannot find idx for  0100100010001000000110000010001000101000001000101000\n",
      "Cannot find idx for  1000100000011000000100101000001000100100001000010010\n",
      "Cannot find idx for  1000100000011000000100101000001000100100001000011000\n",
      "Cannot find idx for  1000100000011000000100101000001000101000001000010010\n",
      "Cannot find idx for  1000100000011000000100101000001000101000001000011000\n",
      "Cannot find idx for  1000100000101000000100101000001000100100001000010010\n",
      "Cannot find idx for  1000100000101000000100101000001000100100001000011000\n",
      "Cannot find idx for  1000100000101000000100101000001000101000001000010010\n",
      "Cannot find idx for  1000100000101000000100101000001000101000001000011000\n",
      "60\n",
      "[1912 1864 1928 1976 1832 1539 1587 1659 1611 1339 1291  824  776 1844\n",
      " 1796 1723 1675 1560 1579 3848 3896 1801 1849  571  523 1543 1591 1596\n",
      " 1548 3643 3595 2568 2616 1784 1736 1536 1584 1608 1656 1288 1336 1672\n",
      " 1720  520  568 1851 1803 1576 1588 1540 3640 3592 1545 1593 1848 1800\n",
      " 1547 1595 1592 1544]\n"
     ]
    },
    {
     "name": "stderr",
     "output_type": "stream",
     "text": [
      "/home/mengyan/anaconda3/lib/python3.7/site-packages/sklearn/gaussian_process/gpr.py:346: UserWarning: Predicted variances smaller than 0. Setting those variances to 0.\n",
      "  warnings.warn(\"Predicted variances smaller than 0. \"\n"
     ]
    },
    {
     "data": {
      "image/png": "[encoded data removed]",
      "text/plain": [
       "<Figure size 432x288 with 1 Axes>"
      ]
     },
     "metadata": {
      "needs_background": "light"
     },
     "output_type": "display_data"
    }
   ],
   "source": [
    "num_rounds = 1\n",
    "num_exper = 1\n",
    "num_rec = 60\n",
    "\n",
    "my_env = Rewards_env(data, 'onehot')\n",
    "new_env = Rewards_env(todesign_data, 'onehot')\n",
    "agent = GPUCB(new_env, num_rounds, init_list = my_env.rewards_dict, num_rec = num_rec,\n",
    "              model = GaussianProcessRegressor(kernel = DotProduct()))\n",
    "rec_arms = agent.play(label_avaiable = False)"
   ]
  },
  {
   "cell_type": "markdown",
   "metadata": {},
   "source": [
    "## Convert to RBS seq"
   ]
  },
  {
   "cell_type": "code",
   "execution_count": 29,
   "metadata": {},
   "outputs": [],
   "source": [
    "onehot_seqs = np.asarray(new_env.arm_features)[np.asarray(rec_arms)]"
   ]
  },
  {
   "cell_type": "code",
   "execution_count": 31,
   "metadata": {},
   "outputs": [
    {
     "data": {
      "text/plain": [
       "['AAGTGAGACTGGA',\n",
       " 'AAGTGAGTCTGGA',\n",
       " 'AAGTGACTCTGGA',\n",
       " 'AAGTGACACTGGA',\n",
       " 'AAGTGATCCTGGA',\n",
       " 'AAGTGCTTTAGGA',\n",
       " 'AAGTGCTATAGGA',\n",
       " 'AAGTGCGACAGGA',\n",
       " 'AAGTGCGTCAGGA',\n",
       " 'AAGTGGTACAGGA',\n",
       " 'AAGTGGTTCAGGA',\n",
       " 'AAGTTATACTGGA',\n",
       " 'AAGTTATTCTGGA',\n",
       " 'AAGTGATAGTGGA',\n",
       " 'AAGTGATTGTGGA',\n",
       " 'AAGTGCCACAGGA',\n",
       " 'AAGTGCCTCAGGA',\n",
       " 'AAGTGCTGCTGGA',\n",
       " 'AAGTGCTCCAGGA',\n",
       " 'AAGTAATTCTGGA',\n",
       " 'AAGTAATACTGGA',\n",
       " 'AAGTGATTCGGGA',\n",
       " 'AAGTGATACGGGA',\n",
       " 'AAGTTCTACAGGA',\n",
       " 'AAGTTCTTCAGGA',\n",
       " 'AAGTGCTTGAGGA',\n",
       " 'AAGTGCTAGAGGA',\n",
       " 'AAGTGCTAATGGA',\n",
       " 'AAGTGCTTATGGA',\n",
       " 'AAGTACTACAGGA',\n",
       " 'AAGTACTTCAGGA',\n",
       " 'AAGTCCTTCTGGA',\n",
       " 'AAGTCCTACTGGA',\n",
       " 'AAGTGCAACTGGA',\n",
       " 'AAGTGCATCTGGA',\n",
       " 'AAGTGCTTTTGGA',\n",
       " 'AAGTGCTATTGGA',\n",
       " 'AAGTGCGTCTGGA',\n",
       " 'AAGTGCGACTGGA',\n",
       " 'AAGTGGTTCTGGA',\n",
       " 'AAGTGGTACTGGA',\n",
       " 'AAGTGCCTCTGGA',\n",
       " 'AAGTGCCACTGGA',\n",
       " 'AAGTTCTTCTGGA',\n",
       " 'AAGTTCTACTGGA',\n",
       " 'AAGTGATACAGGA',\n",
       " 'AAGTGATTCAGGA',\n",
       " 'AAGTGCTCCTGGA',\n",
       " 'AAGTGCTAGTGGA',\n",
       " 'AAGTGCTTGTGGA',\n",
       " 'AAGTACTACTGGA',\n",
       " 'AAGTACTTCTGGA',\n",
       " 'AAGTGCTTCGGGA',\n",
       " 'AAGTGCTACGGGA',\n",
       " 'AAGTGATACTGGA',\n",
       " 'AAGTGATTCTGGA',\n",
       " 'AAGTGCTTCAGGA',\n",
       " 'AAGTGCTACAGGA',\n",
       " 'AAGTGCTACTGGA',\n",
       " 'AAGTGCTTCTGGA']"
      ]
     },
     "execution_count": 31,
     "metadata": {},
     "output_type": "execute_result"
    }
   ],
   "source": [
    "onehot_dict = {'1000': 'A',\n",
    "               '0100': 'C',\n",
    "               '0010': 'G',\n",
    "               '0001': 'T'}\n",
    "\n",
    "rbs_seqs = []\n",
    "\n",
    "for seq in onehot_seqs:\n",
    "    rbs_seq = []\n",
    "    for i in range(int(len(seq)/4)):\n",
    "        start = i * 4\n",
    "        end = start + 4\n",
    "        s = seq[start:end]\n",
    "        rbs_seq.append(onehot_dict[s])\n",
    "    rbs_seq = ''.join(rbs_seq)\n",
    "    rbs_seqs.append(rbs_seq)\n",
    "    \n",
    "rbs_seqs"
   ]
  },
  {
   "cell_type": "code",
   "execution_count": null,
   "metadata": {},
   "outputs": [],
   "source": []
  }
 ],
 "metadata": {
  "kernelspec": {
   "display_name": "Python 3",
   "language": "python",
   "name": "python3"
  },
  "language_info": {
   "codemirror_mode": {
    "name": "ipython",
    "version": 3
   },
   "file_extension": ".py",
   "mimetype": "text/x-python",
   "name": "python",
   "nbconvert_exporter": "python",
   "pygments_lexer": "ipython3",
   "version": "3.7.3"
  }
 },
 "nbformat": 4,
 "nbformat_minor": 2
}

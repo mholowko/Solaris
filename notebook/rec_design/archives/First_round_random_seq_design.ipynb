{
 "cells": [
  {
   "cell_type": "markdown",
   "metadata": {},
   "source": [
    "# Random Sequence Design\n",
    "\n",
    "Design 60 6-base RBS sequences randomly with half A and half B:\n",
    "\n",
    "A) Uniformly random.  \n",
    "B) Make use of PPM frequency. \n",
    "\n",
    "Considering there would be some repeated sequences with the 61 Baseline designs and 60 bandit recommendations, we may need to design more than 60 RBS sequences (filter out)."
   ]
  },
  {
   "cell_type": "code",
   "execution_count": 1,
   "metadata": {},
   "outputs": [],
   "source": [
    "import os\n",
    "import sys\n",
    "module_path = os.path.abspath(os.path.join('..'))\n",
    "if module_path not in sys.path:\n",
    "    sys.path.append(module_path)\n",
    "\n",
    "import numpy as np\n",
    "import pandas as pd\n",
    "from itertools import product"
   ]
  },
  {
   "cell_type": "code",
   "execution_count": 2,
   "metadata": {},
   "outputs": [],
   "source": [
    "# create all combos\n",
    "\n",
    "combos = []\n",
    "char_sets = ['A', 'G', 'C', 'T']\n",
    "design_len = 6\n",
    "\n",
    "for combo in product(char_sets, repeat= design_len):\n",
    "    combo = ''.join(combo) \n",
    "    combos.append(combo)\n",
    "    \n",
    "assert len(combos) == len(char_sets) ** design_len"
   ]
  },
  {
   "cell_type": "code",
   "execution_count": 3,
   "metadata": {},
   "outputs": [],
   "source": [
    "# setting random seed \n",
    "# One possible idea of selecting the random seed: \n",
    "# by looking at the similarities of arms. \n",
    "# We want higher similaries among ppm generated arms comparing with the uniformly generated arms? \n",
    "\n",
    "np.random.seed(10)"
   ]
  },
  {
   "cell_type": "code",
   "execution_count": 4,
   "metadata": {},
   "outputs": [],
   "source": [
    "# common parts: 'TTTAAGA' + 6-base + 'TATACAT' \n",
    "pre_design = 'TTTAAGA'\n",
    "pos_design = 'TATACAT' "
   ]
  },
  {
   "cell_type": "markdown",
   "metadata": {},
   "source": [
    "## Detect Repeated Recs"
   ]
  },
  {
   "cell_type": "code",
   "execution_count": 5,
   "metadata": {},
   "outputs": [
    {
     "data": {
      "text/plain": [
       "array(['TTTAAGAAGGAGATATACAT', 'CTTAAGAAGGAGATATACAT',\n",
       "       'GTTAAGAAGGAGATATACAT', 'ATTAAGAAGGAGATATACAT',\n",
       "       'TCTAAGAAGGAGATATACAT', 'TGTAAGAAGGAGATATACAT',\n",
       "       'TATAAGAAGGAGATATACAT', 'TTCAAGAAGGAGATATACAT',\n",
       "       'TTGAAGAAGGAGATATACAT', 'TTAAAGAAGGAGATATACAT',\n",
       "       'TTTCAGAAGGAGATATACAT', 'TTTGAGAAGGAGATATACAT',\n",
       "       'TTTTAGAAGGAGATATACAT', 'TTTACGAAGGAGATATACAT',\n",
       "       'TTTAGGAAGGAGATATACAT', 'TTTATGAAGGAGATATACAT',\n",
       "       'TTTAACAAGGAGATATACAT', 'TTTAAAAAGGAGATATACAT',\n",
       "       'TTTAATAAGGAGATATACAT', 'TTTAAGCAGGAGATATACAT',\n",
       "       'TTTAAGGAGGAGATATACAT', 'TTTAAGTAGGAGATATACAT',\n",
       "       'TTTAAGACGGAGATATACAT', 'TTTAAGAGGGAGATATACAT',\n",
       "       'TTTAAGATGGAGATATACAT', 'TTTAAGAACGAGATATACAT',\n",
       "       'TTTAAGAAAGAGATATACAT', 'TTTAAGAATGAGATATACAT',\n",
       "       'TTTAAGAAGCAGATATACAT', 'TTTAAGAAGAAGATATACAT',\n",
       "       'TTTAAGAAGTAGATATACAT', 'TTTAAGAAGGCGATATACAT',\n",
       "       'TTTAAGAAGGGGATATACAT', 'TTTAAGAAGGTGATATACAT',\n",
       "       'TTTAAGAAGGACATATACAT', 'TTTAAGAAGGAAATATACAT',\n",
       "       'TTTAAGAAGGATATATACAT', 'TTTAAGAAGGAGCTATACAT',\n",
       "       'TTTAAGAAGGAGGTATACAT', 'TTTAAGAAGGAGTTATACAT',\n",
       "       'TTTAAGAAGGAGACATACAT', 'TTTAAGAAGGAGAGATACAT',\n",
       "       'TTTAAGAAGGAGAAATACAT', 'TTTAAGAAGGAGATCTACAT',\n",
       "       'TTTAAGAAGGAGATGTACAT', 'TTTAAGAAGGAGATTTACAT',\n",
       "       'TTTAAGAAGGAGATACACAT', 'TTTAAGAAGGAGATAGACAT',\n",
       "       'TTTAAGAAGGAGATAAACAT', 'TTTAAGAAGGAGATATCCAT',\n",
       "       'TTTAAGAAGGAGATATGCAT', 'TTTAAGAAGGAGATATTCAT',\n",
       "       'TTTAAGAAGGAGATATAAAT', 'TTTAAGAAGGAGATATAGAT',\n",
       "       'TTTAAGAAGGAGATATATAT', 'TTTAAGAAGGAGATATACCT',\n",
       "       'TTTAAGAAGGAGATATACGT', 'TTTAAGAAGGAGATATACTT',\n",
       "       'TTTAAGAAGGAGATATACAC', 'TTTAAGAAGGAGATATACAG',\n",
       "       'TTTAAGAAGGAGATATACAA'], dtype=object)"
      ]
     },
     "execution_count": 5,
     "metadata": {},
     "output_type": "execute_result"
    }
   ],
   "source": [
    "rbs1by1seq = pd.read_csv('../data/1by1_recs.csv')\n",
    "rbs1by1 = np.asarray(rbs1by1seq['1by1'].str.upper())\n",
    "rbs1by1"
   ]
  },
  {
   "cell_type": "code",
   "execution_count": 6,
   "metadata": {},
   "outputs": [],
   "source": [
    "def common_member(a, b): \n",
    "    assert len(a[0]) == len(b[0]) \n",
    "      \n",
    "    a_set = set(a) \n",
    "    b_set = set(b) \n",
    "      \n",
    "    # check length  \n",
    "    if len(a_set.intersection(b_set)) > 0: \n",
    "        return(a_set.intersection(b_set))   \n",
    "    else: \n",
    "        return(\"no common elements\") "
   ]
  },
  {
   "cell_type": "markdown",
   "metadata": {},
   "source": [
    "## Uniformly random"
   ]
  },
  {
   "cell_type": "code",
   "execution_count": 7,
   "metadata": {},
   "outputs": [
    {
     "data": {
      "text/plain": [
       "array(['GTTGAC', 'TACCTG', 'GAAGCG', 'GTATGC', 'TCACTT', 'GAAGCC',\n",
       "       'ATAGAA', 'TCTGAC', 'TAAGTA', 'GATAAA', 'GGTCAA', 'CGATCC',\n",
       "       'ACAGAC', 'GTTATA', 'GGAACA', 'CCCGAA', 'AATGTC', 'CGTACC',\n",
       "       'ACCGTG', 'GGACAC', 'ATCCCA', 'GAGCGA', 'ATATGC', 'CAACAT',\n",
       "       'GCTACA', 'GAAGAC', 'CTCCGT', 'TTACTA', 'CGAGAC', 'TAAAAG'],\n",
       "      dtype='<U6')"
      ]
     },
     "execution_count": 7,
     "metadata": {},
     "output_type": "execute_result"
    }
   ],
   "source": [
    "num_design_seq = 30\n",
    "\n",
    "uni_rec = np.random.choice(np.asarray(combos), num_design_seq, replace = False)\n",
    "\n",
    "uni20_rec = [pre_design + s + pos_design for s in uni_rec]\n",
    "\n",
    "uni_rec"
   ]
  },
  {
   "cell_type": "code",
   "execution_count": 8,
   "metadata": {},
   "outputs": [
    {
     "data": {
      "text/plain": [
       "'no common elements'"
      ]
     },
     "execution_count": 8,
     "metadata": {},
     "output_type": "execute_result"
    }
   ],
   "source": [
    "common_member(rbs1by1, uni20_rec)"
   ]
  },
  {
   "cell_type": "markdown",
   "metadata": {},
   "source": [
    "## Random with PPM\n",
    "\n",
    "Based on the Position Frequency Matrix (PFM) in Fig 5 a) in paper [Quantitative analysis of ribosome binding sites in E.coli.](https://www.ncbi.nlm.nih.gov/pubmed/8165145) (caluculated using 1055 E. coli RBS), we caluate the Position Probability Matrix (PPM) by normalising in terms each position (each column is an independent multinomial distribution). To avoid matrix entries having values of 0, we add pseudocount (0) for each letter of each position. \n",
    "\n",
    "Our design will be -13 to -8 pos of RBS. However, note the in table a) there is no data for position -13. We use the uniform frequency for -13. \n",
    "\n",
    "Discuss: PPM or PWM (position weight matrix)?\n",
    "The sequence score in PWM gives an indication of how different the sequence is from a random sequence. The score is bigger than 0 only when the probability of being a functional site is bigger than a random site. However, in this task, we do not want to lose all possible combinations which is relatively not common in natural. Since there is a chance those combinations can actually generate high level of proteins. "
   ]
  },
  {
   "cell_type": "code",
   "execution_count": 9,
   "metadata": {},
   "outputs": [
    {
     "data": {
      "text/html": [
       "<div>\n",
       "<style scoped>\n",
       "    .dataframe tbody tr th:only-of-type {\n",
       "        vertical-align: middle;\n",
       "    }\n",
       "\n",
       "    .dataframe tbody tr th {\n",
       "        vertical-align: top;\n",
       "    }\n",
       "\n",
       "    .dataframe thead th {\n",
       "        text-align: right;\n",
       "    }\n",
       "</style>\n",
       "<table border=\"1\" class=\"dataframe\">\n",
       "  <thead>\n",
       "    <tr style=\"text-align: right;\">\n",
       "      <th></th>\n",
       "      <th>-13</th>\n",
       "      <th>-12</th>\n",
       "      <th>-11</th>\n",
       "      <th>-10</th>\n",
       "      <th>-9</th>\n",
       "      <th>-8</th>\n",
       "    </tr>\n",
       "  </thead>\n",
       "  <tbody>\n",
       "    <tr>\n",
       "      <th>A</th>\n",
       "      <td>264</td>\n",
       "      <td>388</td>\n",
       "      <td>369</td>\n",
       "      <td>351</td>\n",
       "      <td>233</td>\n",
       "      <td>367</td>\n",
       "    </tr>\n",
       "    <tr>\n",
       "      <th>C</th>\n",
       "      <td>263</td>\n",
       "      <td>137</td>\n",
       "      <td>104</td>\n",
       "      <td>83</td>\n",
       "      <td>79</td>\n",
       "      <td>103</td>\n",
       "    </tr>\n",
       "    <tr>\n",
       "      <th>G</th>\n",
       "      <td>264</td>\n",
       "      <td>330</td>\n",
       "      <td>476</td>\n",
       "      <td>511</td>\n",
       "      <td>549</td>\n",
       "      <td>443</td>\n",
       "    </tr>\n",
       "    <tr>\n",
       "      <th>T</th>\n",
       "      <td>264</td>\n",
       "      <td>200</td>\n",
       "      <td>106</td>\n",
       "      <td>110</td>\n",
       "      <td>194</td>\n",
       "      <td>142</td>\n",
       "    </tr>\n",
       "  </tbody>\n",
       "</table>\n",
       "</div>"
      ],
      "text/plain": [
       "   -13  -12  -11  -10  -9   -8 \n",
       "A  264  388  369  351  233  367\n",
       "C  263  137  104   83   79  103\n",
       "G  264  330  476  511  549  443\n",
       "T  264  200  106  110  194  142"
      ]
     },
     "execution_count": 9,
     "metadata": {},
     "output_type": "execute_result"
    }
   ],
   "source": [
    "data = [['A', 264, 388, 369, 351, 233, 367], \n",
    "        ['C', 263, 137, 104, 83, 79, 103],\n",
    "        ['G', 264, 330, 476, 511, 549, 443],\n",
    "        ['T', 264, 200, 106, 110, 194, 142]]\n",
    "\n",
    "df = pd.DataFrame(data, columns = ['pos', -13, -12, -11, -10, -9, -8])\n",
    "df = df.set_index('pos')\n",
    "df.index.names = [None]\n",
    "\n",
    "df"
   ]
  },
  {
   "cell_type": "code",
   "execution_count": 10,
   "metadata": {},
   "outputs": [
    {
     "data": {
      "text/plain": [
       "-13    1055\n",
       "-12    1055\n",
       "-11    1055\n",
       "-10    1055\n",
       "-9     1055\n",
       "-8     1055\n",
       "dtype: int64"
      ]
     },
     "execution_count": 10,
     "metadata": {},
     "output_type": "execute_result"
    }
   ],
   "source": [
    "df.sum(axis = 0)"
   ]
  },
  {
   "cell_type": "code",
   "execution_count": 11,
   "metadata": {},
   "outputs": [
    {
     "data": {
      "text/html": [
       "<div>\n",
       "<style scoped>\n",
       "    .dataframe tbody tr th:only-of-type {\n",
       "        vertical-align: middle;\n",
       "    }\n",
       "\n",
       "    .dataframe tbody tr th {\n",
       "        vertical-align: top;\n",
       "    }\n",
       "\n",
       "    .dataframe thead th {\n",
       "        text-align: right;\n",
       "    }\n",
       "</style>\n",
       "<table border=\"1\" class=\"dataframe\">\n",
       "  <thead>\n",
       "    <tr style=\"text-align: right;\">\n",
       "      <th></th>\n",
       "      <th>-13</th>\n",
       "      <th>-12</th>\n",
       "      <th>-11</th>\n",
       "      <th>-10</th>\n",
       "      <th>-9</th>\n",
       "      <th>-8</th>\n",
       "    </tr>\n",
       "  </thead>\n",
       "  <tbody>\n",
       "    <tr>\n",
       "      <th>A</th>\n",
       "      <td>0.250237</td>\n",
       "      <td>0.367773</td>\n",
       "      <td>0.349763</td>\n",
       "      <td>0.332701</td>\n",
       "      <td>0.220853</td>\n",
       "      <td>0.347867</td>\n",
       "    </tr>\n",
       "    <tr>\n",
       "      <th>C</th>\n",
       "      <td>0.249289</td>\n",
       "      <td>0.129858</td>\n",
       "      <td>0.098578</td>\n",
       "      <td>0.078673</td>\n",
       "      <td>0.074882</td>\n",
       "      <td>0.097630</td>\n",
       "    </tr>\n",
       "    <tr>\n",
       "      <th>G</th>\n",
       "      <td>0.250237</td>\n",
       "      <td>0.312796</td>\n",
       "      <td>0.451185</td>\n",
       "      <td>0.484360</td>\n",
       "      <td>0.520379</td>\n",
       "      <td>0.419905</td>\n",
       "    </tr>\n",
       "    <tr>\n",
       "      <th>T</th>\n",
       "      <td>0.250237</td>\n",
       "      <td>0.189573</td>\n",
       "      <td>0.100474</td>\n",
       "      <td>0.104265</td>\n",
       "      <td>0.183886</td>\n",
       "      <td>0.134597</td>\n",
       "    </tr>\n",
       "  </tbody>\n",
       "</table>\n",
       "</div>"
      ],
      "text/plain": [
       "        -13       -12       -11       -10       -9        -8 \n",
       "A  0.250237  0.367773  0.349763  0.332701  0.220853  0.347867\n",
       "C  0.249289  0.129858  0.098578  0.078673  0.074882  0.097630\n",
       "G  0.250237  0.312796  0.451185  0.484360  0.520379  0.419905\n",
       "T  0.250237  0.189573  0.100474  0.104265  0.183886  0.134597"
      ]
     },
     "execution_count": 11,
     "metadata": {},
     "output_type": "execute_result"
    }
   ],
   "source": [
    "ppm = df/df.sum(axis = 0)\n",
    "ppm"
   ]
  },
  {
   "cell_type": "code",
   "execution_count": 12,
   "metadata": {},
   "outputs": [
    {
     "data": {
      "text/plain": [
       "['GAAAGA',\n",
       " 'CGGGGG',\n",
       " 'TGAGGG',\n",
       " 'CCGGGA',\n",
       " 'AAGGGT',\n",
       " 'CTGTAG',\n",
       " 'CTGACA',\n",
       " 'CGTGTG',\n",
       " 'GAGGGG',\n",
       " 'CTAGGA',\n",
       " 'ATTGGG',\n",
       " 'TACTGA',\n",
       " 'AGAGCG',\n",
       " 'AGGGGT',\n",
       " 'CTGGGG',\n",
       " 'CAAGCC',\n",
       " 'CAATTG',\n",
       " 'TATTTT',\n",
       " 'TCCGGC',\n",
       " 'TGGGAG',\n",
       " 'AAAGTG',\n",
       " 'CGGGAG',\n",
       " 'TAAGAG',\n",
       " 'TAAGGG',\n",
       " 'TAGTCT',\n",
       " 'AAGTAG',\n",
       " 'CTGGGG',\n",
       " 'CCACGC',\n",
       " 'GTAATG',\n",
       " 'CATTGA',\n",
       " 'TCCATA',\n",
       " 'GAGGGG']"
      ]
     },
     "execution_count": 12,
     "metadata": {},
     "output_type": "execute_result"
    }
   ],
   "source": [
    "ppm_rec = []\n",
    "num_design_seq = 32\n",
    "\n",
    "\n",
    "for r in range(num_design_seq): \n",
    "    rbs = ''\n",
    "    for i in ppm.columns:\n",
    "        rbs += np.random.choice(['A', 'C', 'G', 'T'], p = ppm[i].values)\n",
    "    ppm_rec.append(rbs)\n",
    "    \n",
    "ppm20_rec = [pre_design + s + pos_design for s in ppm_rec]\n",
    "\n",
    "ppm_rec"
   ]
  },
  {
   "cell_type": "code",
   "execution_count": 13,
   "metadata": {},
   "outputs": [
    {
     "data": {
      "text/plain": [
       "'no common elements'"
      ]
     },
     "execution_count": 13,
     "metadata": {},
     "output_type": "execute_result"
    }
   ],
   "source": [
    "common_member(rbs1by1, ppm20_rec)"
   ]
  },
  {
   "cell_type": "code",
   "execution_count": 14,
   "metadata": {},
   "outputs": [
    {
     "data": {
      "text/plain": [
       "'no common elements'"
      ]
     },
     "execution_count": 14,
     "metadata": {},
     "output_type": "execute_result"
    }
   ],
   "source": [
    "common_member(uni_rec, ppm_rec)"
   ]
  },
  {
   "cell_type": "markdown",
   "metadata": {},
   "source": [
    "## Write results into csv file"
   ]
  },
  {
   "cell_type": "code",
   "execution_count": 15,
   "metadata": {},
   "outputs": [],
   "source": [
    "recs = {'uniform': uni_rec, 'ppm': ppm_rec[:30]}\n",
    "recs = pd.DataFrame(recs, columns = ['uniform', 'ppm'])\n",
    "recs.index += 1\n",
    "recs.to_csv('../data/random_recs.csv')"
   ]
  },
  {
   "cell_type": "markdown",
   "metadata": {},
   "source": [
    "## Similarities of recommended arms"
   ]
  },
  {
   "cell_type": "code",
   "execution_count": 16,
   "metadata": {},
   "outputs": [],
   "source": [
    "from codes.kernels import spectrum_kernel\n",
    "import matplotlib.pyplot as plt"
   ]
  },
  {
   "cell_type": "code",
   "execution_count": 17,
   "metadata": {},
   "outputs": [
    {
     "name": "stdout",
     "output_type": "stream",
     "text": [
      "['aaa', 'aac', 'aag', 'aat', 'aca', 'acc', 'act', 'aga', 'agc', 'agt', 'ata', 'atc', 'atg', 'caa', 'cac', 'cag', 'cat', 'cca', 'ccc', 'ccg', 'cct', 'cga', 'cgt', 'cta', 'ctc', 'ctg', 'ctt', 'gaa', 'gac', 'gag', 'gat', 'gcc', 'gcg', 'gct', 'gga', 'ggt', 'gta', 'gtc', 'gtg', 'gtt', 'taa', 'tac', 'tag', 'tat', 'tca', 'tcc', 'tct', 'tga', 'tgc', 'tgt', 'tta', 'ttg']\n",
      "[[0.         0.         0.         ... 0.         0.         0.5       ]\n",
      " [0.         0.         0.         ... 0.         0.         0.        ]\n",
      " [0.         0.         0.5        ... 0.         0.         0.        ]\n",
      " ...\n",
      " [0.         0.         0.         ... 0.         0.5        0.        ]\n",
      " [0.         0.         0.         ... 0.         0.         0.        ]\n",
      " [0.81649658 0.         0.40824829 ... 0.         0.         0.        ]]\n",
      "[[0.         0.         0.         ... 0.         0.         0.5       ]\n",
      " [0.         0.         0.         ... 0.         0.         0.        ]\n",
      " [0.         0.         0.5        ... 0.         0.         0.        ]\n",
      " ...\n",
      " [0.         0.         0.         ... 0.         0.5        0.        ]\n",
      " [0.         0.         0.         ... 0.         0.         0.        ]\n",
      " [0.81649658 0.         0.40824829 ... 0.         0.         0.        ]]\n",
      "[[0.         0.         0.         ... 0.         0.         0.81649658]\n",
      " [0.         0.         0.         ... 0.         0.         0.        ]\n",
      " [0.         0.         0.5        ... 0.         0.         0.40824829]\n",
      " ...\n",
      " [0.         0.         0.         ... 0.         0.         0.        ]\n",
      " [0.         0.         0.         ... 0.5        0.         0.        ]\n",
      " [0.5        0.         0.         ... 0.         0.         0.        ]]\n"
     ]
    },
    {
     "data": {
      "text/plain": [
       "Text(0.5, 1.0, 'Uniform')"
      ]
     },
     "execution_count": 17,
     "metadata": {},
     "output_type": "execute_result"
    },
    {
     "data": {
      "image/png": "[encoded data removed]",
      "text/plain": [
       "<Figure size 432x288 with 2 Axes>"
      ]
     },
     "metadata": {
      "needs_background": "light"
     },
     "output_type": "display_data"
    }
   ],
   "source": [
    "kernel_matrix = spectrum_kernel(np.asarray(uni_rec))\n",
    "\n",
    "plt.imshow(kernel_matrix, cmap = 'hot', interpolation='nearest')\n",
    "#plt.imshow(sorted_new_kernel_matrix, cmap = 'hot')\n",
    "plt.colorbar()\n",
    "plt.title('Uniform')"
   ]
  },
  {
   "cell_type": "code",
   "execution_count": 18,
   "metadata": {},
   "outputs": [
    {
     "name": "stdout",
     "output_type": "stream",
     "text": [
      "['aaa', 'aag', 'aat', 'aca', 'acg', 'act', 'aga', 'agc', 'agg', 'agt', 'ata', 'atg', 'att', 'caa', 'cac', 'cat', 'cca', 'ccg', 'cgc', 'cgg', 'cgt', 'cta', 'ctg', 'gaa', 'gac', 'gag', 'gcc', 'gcg', 'gga', 'ggc', 'ggg', 'ggt', 'gta', 'gtc', 'gtg', 'taa', 'tac', 'tag', 'tat', 'tcc', 'tct', 'tga', 'tgg', 'tgt', 'ttg', 'ttt']\n",
      "[[0.5 0.5 0.  ... 0.  0.  0. ]\n",
      " [0.  0.  0.  ... 0.  0.  0. ]\n",
      " [0.  0.  0.  ... 0.  0.  0. ]\n",
      " ...\n",
      " [0.  0.  0.  ... 0.  0.5 0. ]\n",
      " [0.  0.  0.  ... 0.  0.  0. ]\n",
      " [0.  0.  0.  ... 0.  0.  0. ]]\n",
      "[[0.5 0.5 0.  ... 0.  0.  0. ]\n",
      " [0.  0.  0.  ... 0.  0.  0. ]\n",
      " [0.  0.  0.  ... 0.  0.  0. ]\n",
      " ...\n",
      " [0.  0.  0.  ... 0.  0.5 0. ]\n",
      " [0.  0.  0.  ... 0.  0.  0. ]\n",
      " [0.  0.  0.  ... 0.  0.  0. ]]\n",
      "[[0.5 0.  0.  ... 0.  0.  0. ]\n",
      " [0.5 0.  0.  ... 0.  0.  0. ]\n",
      " [0.  0.  0.  ... 0.  0.  0. ]\n",
      " ...\n",
      " [0.  0.  0.  ... 0.  0.  0. ]\n",
      " [0.  0.  0.  ... 0.5 0.  0. ]\n",
      " [0.  0.  0.  ... 0.  0.  0. ]]\n"
     ]
    },
    {
     "data": {
      "text/plain": [
       "Text(0.5, 1.0, 'PPM')"
      ]
     },
     "execution_count": 18,
     "metadata": {},
     "output_type": "execute_result"
    },
    {
     "data": {
      "image/png": "[encoded data removed]",
      "text/plain": [
       "<Figure size 432x288 with 2 Axes>"
      ]
     },
     "metadata": {
      "needs_background": "light"
     },
     "output_type": "display_data"
    }
   ],
   "source": [
    "kernel_matrix = spectrum_kernel(np.asarray(ppm_rec))\n",
    "\n",
    "plt.imshow(kernel_matrix, cmap = 'hot', interpolation='nearest')\n",
    "#plt.imshow(sorted_new_kernel_matrix, cmap = 'hot')\n",
    "plt.colorbar()\n",
    "plt.title('PPM')"
   ]
  },
  {
   "cell_type": "code",
   "execution_count": 19,
   "metadata": {},
   "outputs": [
    {
     "name": "stdout",
     "output_type": "stream",
     "text": [
      "['aaa', 'aac', 'aag', 'aat', 'aca', 'acc', 'acg', 'act', 'aga', 'agc', 'agg', 'agt', 'ata', 'atc', 'atg', 'att', 'caa', 'cac', 'cag', 'cat', 'cca', 'ccc', 'ccg', 'cct', 'cga', 'cgc', 'cgg', 'cgt', 'cta', 'ctc', 'ctg', 'ctt', 'gaa', 'gac', 'gag', 'gat', 'gcc', 'gcg', 'gct', 'gga', 'ggc', 'ggg', 'ggt', 'gta', 'gtc', 'gtg', 'gtt', 'taa', 'tac', 'tag', 'tat', 'tca', 'tcc', 'tct', 'tga', 'tgc', 'tgg', 'tgt', 'tta', 'ttg', 'ttt']\n",
      "[[0.  0.  0.  ... 0.  0.5 0. ]\n",
      " [0.  0.  0.  ... 0.  0.  0. ]\n",
      " [0.  0.  0.5 ... 0.  0.  0. ]\n",
      " ...\n",
      " [0.  0.  0.  ... 0.  0.5 0. ]\n",
      " [0.  0.  0.  ... 0.  0.  0. ]\n",
      " [0.  0.  0.  ... 0.  0.  0. ]]\n",
      "[[0.         0.         0.         ... 0.         0.5        0.        ]\n",
      " [0.         0.         0.         ... 0.         0.         0.        ]\n",
      " [0.         0.         0.5        ... 0.         0.         0.        ]\n",
      " ...\n",
      " [0.         0.         0.         ... 0.5        0.         0.        ]\n",
      " [0.         0.         0.         ... 0.         0.         0.        ]\n",
      " [0.81649658 0.         0.40824829 ... 0.         0.         0.        ]]\n",
      "[[0.5 0.  0.  ... 0.  0.  0. ]\n",
      " [0.  0.  0.  ... 0.  0.  0. ]\n",
      " [0.5 0.  0.  ... 0.  0.  0. ]\n",
      " ...\n",
      " [0.  0.  0.  ... 0.  0.  0. ]\n",
      " [0.  0.  0.  ... 0.5 0.  0. ]\n",
      " [0.  0.  0.  ... 0.  0.  0. ]]\n"
     ]
    },
    {
     "data": {
      "text/plain": [
       "Text(0.5, 1.0, 'Uniform vs. PPM')"
      ]
     },
     "execution_count": 19,
     "metadata": {},
     "output_type": "execute_result"
    },
    {
     "data": {
      "image/png": "[encoded data removed]",
      "text/plain": [
       "<Figure size 432x288 with 2 Axes>"
      ]
     },
     "metadata": {
      "needs_background": "light"
     },
     "output_type": "display_data"
    }
   ],
   "source": [
    "kernel_matrix = spectrum_kernel(np.asarray(uni_rec), np.asarray(ppm_rec))\n",
    "\n",
    "plt.imshow(kernel_matrix, cmap = 'hot', interpolation='nearest')\n",
    "#plt.imshow(sorted_new_kernel_matrix, cmap = 'hot')\n",
    "plt.colorbar()\n",
    "plt.title('Uniform vs. PPM')"
   ]
  },
  {
   "cell_type": "code",
   "execution_count": 21,
   "metadata": {},
   "outputs": [
    {
     "name": "stdout",
     "output_type": "stream",
     "text": [
      "['aaa', 'aac', 'aag', 'aat', 'aca', 'acg', 'act', 'aga', 'agc', 'agg', 'agt', 'ata', 'atg', 'att', 'caa', 'cac', 'cag', 'cat', 'cca', 'ccg', 'cgc', 'cgg', 'cgt', 'cta', 'ctg', 'ctt', 'gaa', 'gac', 'gag', 'gcc', 'gcg', 'gga', 'ggc', 'ggg', 'ggt', 'gta', 'gtc', 'gtg', 'gtt', 'taa', 'tac', 'tag', 'tat', 'tca', 'tcc', 'tct', 'tga', 'tgg', 'tgt', 'tta', 'ttc', 'ttg', 'ttt']\n",
      "[[0.5 0.  0.5 ... 0.  0.  0. ]\n",
      " [0.  0.  0.  ... 0.  0.  0. ]\n",
      " [0.  0.  0.  ... 0.  0.  0. ]\n",
      " ...\n",
      " [0.  0.  0.5 ... 0.  0.  0.5]\n",
      " [0.  0.  0.5 ... 0.  0.  0.5]\n",
      " [0.  0.  0.5 ... 0.  0.  0.5]]\n",
      "[[0.5 0.  0.5 ... 0.  0.  0. ]\n",
      " [0.  0.  0.  ... 0.  0.  0. ]\n",
      " [0.  0.  0.  ... 0.  0.  0. ]\n",
      " ...\n",
      " [0.  0.  0.  ... 0.  0.5 0. ]\n",
      " [0.  0.  0.  ... 0.  0.  0. ]\n",
      " [0.  0.  0.  ... 0.  0.  0. ]]\n",
      "[[0.  0.  0.  ... 0.  0.  0. ]\n",
      " [0.  0.  0.  ... 0.  0.  0. ]\n",
      " [0.5 0.5 0.5 ... 0.5 0.5 0.5]\n",
      " ...\n",
      " [0.  0.  0.  ... 0.  0.  0. ]\n",
      " [0.  0.  0.  ... 0.  0.  0. ]\n",
      " [0.5 0.  0.  ... 0.5 0.5 0.5]]\n"
     ]
    },
    {
     "data": {
      "text/plain": [
       "Text(0.5, 1.0, 'Uniform vs. PPM')"
      ]
     },
     "execution_count": 21,
     "metadata": {},
     "output_type": "execute_result"
    },
    {
     "data": {
      "image/png": "[encoded data removed]",
      "text/plain": [
       "<Figure size 432x288 with 2 Axes>"
      ]
     },
     "metadata": {
      "needs_background": "light"
     },
     "output_type": "display_data"
    }
   ],
   "source": [
    "kernel_matrix = spectrum_kernel(np.asarray(ppm_rec), np.asarray(rbs1by1))\n",
    "\n",
    "plt.imshow(kernel_matrix, cmap = 'hot', interpolation='nearest')\n",
    "#plt.imshow(sorted_new_kernel_matrix, cmap = 'hot')\n",
    "plt.colorbar()\n",
    "plt.title('Uniform vs. PPM')"
   ]
  },
  {
   "cell_type": "code",
   "execution_count": null,
   "metadata": {},
   "outputs": [],
   "source": []
  }
 ],
 "metadata": {
  "kernelspec": {
   "display_name": "Python 3",
   "language": "python",
   "name": "python3"
  },
  "language_info": {
   "codemirror_mode": {
    "name": "ipython",
    "version": 3
   },
   "file_extension": ".py",
   "mimetype": "text/x-python",
   "name": "python",
   "nbconvert_exporter": "python",
   "pygments_lexer": "ipython3",
   "version": "3.7.3"
  }
 },
 "nbformat": 4,
 "nbformat_minor": 2
}
